{
 "cells": [
  {
   "cell_type": "markdown",
   "metadata": {},
   "source": [
    "<table style=\"width:100%\">\n",
    "  <tr>\n",
    "    <th align=\"right\"><img src=\"img/dilogo.png\" style=\"float:left;height:90px\"></th>\n",
    "    <th align=\"center\">\n",
    "    <h1 align=\"center\">Laboratorio 2</h1>\n",
    "    <h2 align=\"center\">Profesor: Ricardo Ñanculef</h2>\n",
    "    <h3 align=\"center\">Ayudante: Gabriel Ortega</h3>\n",
    "    <h3 align=\"center\">Gabriel_Carmona;201773509-0;Nueva</h3>\n",
    "    <h3 align=\"center\">Jorge_Ludueña;201773507-4;Nueva</h3>\n",
    "    <h3 align=\"center\">Abril 2019</h3>\n",
    "    </th> \n",
    "    <th align=\"left\"><img src=\"img/usmlogo.png\" style=\"float:right;height:85px\"></th>\n",
    "  </tr>"
   ]
  },
  {
   "cell_type": "markdown",
   "metadata": {},
   "source": [
    "## Instrucciones\n",
    "\n",
    "La modalidad de trabajo será mediante el uso de jupyter notebook. El notebook debe ser desarrollado en parejas o individual. Este laboratorio debe ser entregado el día 3 de Mayo.\n",
    "\n",
    "La **modalidad de entrega será un archivo Apellido1_Apellido2_Lab2.zip** que contenga un notebook que incluya todas las preguntas con sus respectivas respuestas + un README que indique la forma correcta de ejecutar su notebook. El laboratorio puede ser trabajado tanto en lenguaje R como en lenguaje python (para los que usen python 2.X, absténganse a las consecuencias). Lea bien el enunciado.\n",
    "\n",
    "\n",
    "**Cualquier copia detectada implicará nota 0 en el laboratorio correspondiente y se notificará la situación al profesor.**\n"
   ]
  },
  {
   "cell_type": "code",
   "execution_count": 52,
   "metadata": {},
   "outputs": [],
   "source": [
    "from ipywidgets import interact \n",
    "import matplotlib.pyplot as plt\n",
    "import seaborn as sns\n",
    "import numpy as np\n",
    "import random\n",
    "import math\n",
    "import pandas as pd\n",
    "sns.set()\n",
    "%matplotlib inline \n"
   ]
  },
  {
   "cell_type": "markdown",
   "metadata": {},
   "source": [
    "---\n",
    "## 1. Retención de Clientes\n",
    "\n",
    "La fuga (*churn*, término en inglés) de clientes es algo que muchas empresas de hoy en día sufren, la fuga puede deberse a muchos factores, uno de estos podría ser alguna característica del servicio en sí que provee la empresa. En esta sección usted trabajará con un dataset de \"Telco\", una empresa de telecomunicaciones, donde verá varios datos relacionados al plan de los clientes, uno de estos campos siendo \"*Churn*\", si el cliente se fugó o no. \n",
    "\n",
    "El archivo a utilizar es \"churn.csv\" y para información extra puede referirse a [este enlace](https://www.kaggle.com/blastchar/telco-customer-churn)\n",
    "\n",
    ">a) Haga un análisis exploratorio **a su criterio** del dataset y extraiga 3 conclusiones acerca del conjunto de datos"
   ]
  },
  {
   "cell_type": "code",
   "execution_count": 53,
   "metadata": {},
   "outputs": [
    {
     "ename": "FileNotFoundError",
     "evalue": "[Errno 2] File b'churn.csv' does not exist: b'churn.csv'",
     "output_type": "error",
     "traceback": [
      "\u001b[0;31m---------------------------------------------------------------------------\u001b[0m",
      "\u001b[0;31mFileNotFoundError\u001b[0m                         Traceback (most recent call last)",
      "\u001b[0;32m<ipython-input-53-3b17fa42b627>\u001b[0m in \u001b[0;36m<module>\u001b[0;34m\u001b[0m\n\u001b[1;32m     47\u001b[0m \u001b[0;34m\u001b[0m\u001b[0m\n\u001b[1;32m     48\u001b[0m \u001b[0;34m\u001b[0m\u001b[0m\n\u001b[0;32m---> 49\u001b[0;31m \u001b[0mx\u001b[0m \u001b[0;34m=\u001b[0m \u001b[0mpd\u001b[0m\u001b[0;34m.\u001b[0m\u001b[0mread_csv\u001b[0m\u001b[0;34m(\u001b[0m\u001b[0;34m\"churn.csv\"\u001b[0m\u001b[0;34m)\u001b[0m\u001b[0;34m\u001b[0m\u001b[0m\n\u001b[0m",
      "\u001b[0;32m/usr/local/lib/python3.5/dist-packages/pandas/io/parsers.py\u001b[0m in \u001b[0;36mparser_f\u001b[0;34m(filepath_or_buffer, sep, delimiter, header, names, index_col, usecols, squeeze, prefix, mangle_dupe_cols, dtype, engine, converters, true_values, false_values, skipinitialspace, skiprows, skipfooter, nrows, na_values, keep_default_na, na_filter, verbose, skip_blank_lines, parse_dates, infer_datetime_format, keep_date_col, date_parser, dayfirst, iterator, chunksize, compression, thousands, decimal, lineterminator, quotechar, quoting, doublequote, escapechar, comment, encoding, dialect, tupleize_cols, error_bad_lines, warn_bad_lines, delim_whitespace, low_memory, memory_map, float_precision)\u001b[0m\n\u001b[1;32m    700\u001b[0m                     skip_blank_lines=skip_blank_lines)\n\u001b[1;32m    701\u001b[0m \u001b[0;34m\u001b[0m\u001b[0m\n\u001b[0;32m--> 702\u001b[0;31m         \u001b[0;32mreturn\u001b[0m \u001b[0m_read\u001b[0m\u001b[0;34m(\u001b[0m\u001b[0mfilepath_or_buffer\u001b[0m\u001b[0;34m,\u001b[0m \u001b[0mkwds\u001b[0m\u001b[0;34m)\u001b[0m\u001b[0;34m\u001b[0m\u001b[0m\n\u001b[0m\u001b[1;32m    703\u001b[0m \u001b[0;34m\u001b[0m\u001b[0m\n\u001b[1;32m    704\u001b[0m     \u001b[0mparser_f\u001b[0m\u001b[0;34m.\u001b[0m\u001b[0m__name__\u001b[0m \u001b[0;34m=\u001b[0m \u001b[0mname\u001b[0m\u001b[0;34m\u001b[0m\u001b[0m\n",
      "\u001b[0;32m/usr/local/lib/python3.5/dist-packages/pandas/io/parsers.py\u001b[0m in \u001b[0;36m_read\u001b[0;34m(filepath_or_buffer, kwds)\u001b[0m\n\u001b[1;32m    427\u001b[0m \u001b[0;34m\u001b[0m\u001b[0m\n\u001b[1;32m    428\u001b[0m     \u001b[0;31m# Create the parser.\u001b[0m\u001b[0;34m\u001b[0m\u001b[0;34m\u001b[0m\u001b[0m\n\u001b[0;32m--> 429\u001b[0;31m     \u001b[0mparser\u001b[0m \u001b[0;34m=\u001b[0m \u001b[0mTextFileReader\u001b[0m\u001b[0;34m(\u001b[0m\u001b[0mfilepath_or_buffer\u001b[0m\u001b[0;34m,\u001b[0m \u001b[0;34m**\u001b[0m\u001b[0mkwds\u001b[0m\u001b[0;34m)\u001b[0m\u001b[0;34m\u001b[0m\u001b[0m\n\u001b[0m\u001b[1;32m    430\u001b[0m \u001b[0;34m\u001b[0m\u001b[0m\n\u001b[1;32m    431\u001b[0m     \u001b[0;32mif\u001b[0m \u001b[0mchunksize\u001b[0m \u001b[0;32mor\u001b[0m \u001b[0miterator\u001b[0m\u001b[0;34m:\u001b[0m\u001b[0;34m\u001b[0m\u001b[0m\n",
      "\u001b[0;32m/usr/local/lib/python3.5/dist-packages/pandas/io/parsers.py\u001b[0m in \u001b[0;36m__init__\u001b[0;34m(self, f, engine, **kwds)\u001b[0m\n\u001b[1;32m    893\u001b[0m             \u001b[0mself\u001b[0m\u001b[0;34m.\u001b[0m\u001b[0moptions\u001b[0m\u001b[0;34m[\u001b[0m\u001b[0;34m'has_index_names'\u001b[0m\u001b[0;34m]\u001b[0m \u001b[0;34m=\u001b[0m \u001b[0mkwds\u001b[0m\u001b[0;34m[\u001b[0m\u001b[0;34m'has_index_names'\u001b[0m\u001b[0;34m]\u001b[0m\u001b[0;34m\u001b[0m\u001b[0m\n\u001b[1;32m    894\u001b[0m \u001b[0;34m\u001b[0m\u001b[0m\n\u001b[0;32m--> 895\u001b[0;31m         \u001b[0mself\u001b[0m\u001b[0;34m.\u001b[0m\u001b[0m_make_engine\u001b[0m\u001b[0;34m(\u001b[0m\u001b[0mself\u001b[0m\u001b[0;34m.\u001b[0m\u001b[0mengine\u001b[0m\u001b[0;34m)\u001b[0m\u001b[0;34m\u001b[0m\u001b[0m\n\u001b[0m\u001b[1;32m    896\u001b[0m \u001b[0;34m\u001b[0m\u001b[0m\n\u001b[1;32m    897\u001b[0m     \u001b[0;32mdef\u001b[0m \u001b[0mclose\u001b[0m\u001b[0;34m(\u001b[0m\u001b[0mself\u001b[0m\u001b[0;34m)\u001b[0m\u001b[0;34m:\u001b[0m\u001b[0;34m\u001b[0m\u001b[0m\n",
      "\u001b[0;32m/usr/local/lib/python3.5/dist-packages/pandas/io/parsers.py\u001b[0m in \u001b[0;36m_make_engine\u001b[0;34m(self, engine)\u001b[0m\n\u001b[1;32m   1120\u001b[0m     \u001b[0;32mdef\u001b[0m \u001b[0m_make_engine\u001b[0m\u001b[0;34m(\u001b[0m\u001b[0mself\u001b[0m\u001b[0;34m,\u001b[0m \u001b[0mengine\u001b[0m\u001b[0;34m=\u001b[0m\u001b[0;34m'c'\u001b[0m\u001b[0;34m)\u001b[0m\u001b[0;34m:\u001b[0m\u001b[0;34m\u001b[0m\u001b[0m\n\u001b[1;32m   1121\u001b[0m         \u001b[0;32mif\u001b[0m \u001b[0mengine\u001b[0m \u001b[0;34m==\u001b[0m \u001b[0;34m'c'\u001b[0m\u001b[0;34m:\u001b[0m\u001b[0;34m\u001b[0m\u001b[0m\n\u001b[0;32m-> 1122\u001b[0;31m             \u001b[0mself\u001b[0m\u001b[0;34m.\u001b[0m\u001b[0m_engine\u001b[0m \u001b[0;34m=\u001b[0m \u001b[0mCParserWrapper\u001b[0m\u001b[0;34m(\u001b[0m\u001b[0mself\u001b[0m\u001b[0;34m.\u001b[0m\u001b[0mf\u001b[0m\u001b[0;34m,\u001b[0m \u001b[0;34m**\u001b[0m\u001b[0mself\u001b[0m\u001b[0;34m.\u001b[0m\u001b[0moptions\u001b[0m\u001b[0;34m)\u001b[0m\u001b[0;34m\u001b[0m\u001b[0m\n\u001b[0m\u001b[1;32m   1123\u001b[0m         \u001b[0;32melse\u001b[0m\u001b[0;34m:\u001b[0m\u001b[0;34m\u001b[0m\u001b[0m\n\u001b[1;32m   1124\u001b[0m             \u001b[0;32mif\u001b[0m \u001b[0mengine\u001b[0m \u001b[0;34m==\u001b[0m \u001b[0;34m'python'\u001b[0m\u001b[0;34m:\u001b[0m\u001b[0;34m\u001b[0m\u001b[0m\n",
      "\u001b[0;32m/usr/local/lib/python3.5/dist-packages/pandas/io/parsers.py\u001b[0m in \u001b[0;36m__init__\u001b[0;34m(self, src, **kwds)\u001b[0m\n\u001b[1;32m   1851\u001b[0m         \u001b[0mkwds\u001b[0m\u001b[0;34m[\u001b[0m\u001b[0;34m'usecols'\u001b[0m\u001b[0;34m]\u001b[0m \u001b[0;34m=\u001b[0m \u001b[0mself\u001b[0m\u001b[0;34m.\u001b[0m\u001b[0musecols\u001b[0m\u001b[0;34m\u001b[0m\u001b[0m\n\u001b[1;32m   1852\u001b[0m \u001b[0;34m\u001b[0m\u001b[0m\n\u001b[0;32m-> 1853\u001b[0;31m         \u001b[0mself\u001b[0m\u001b[0;34m.\u001b[0m\u001b[0m_reader\u001b[0m \u001b[0;34m=\u001b[0m \u001b[0mparsers\u001b[0m\u001b[0;34m.\u001b[0m\u001b[0mTextReader\u001b[0m\u001b[0;34m(\u001b[0m\u001b[0msrc\u001b[0m\u001b[0;34m,\u001b[0m \u001b[0;34m**\u001b[0m\u001b[0mkwds\u001b[0m\u001b[0;34m)\u001b[0m\u001b[0;34m\u001b[0m\u001b[0m\n\u001b[0m\u001b[1;32m   1854\u001b[0m         \u001b[0mself\u001b[0m\u001b[0;34m.\u001b[0m\u001b[0munnamed_cols\u001b[0m \u001b[0;34m=\u001b[0m \u001b[0mself\u001b[0m\u001b[0;34m.\u001b[0m\u001b[0m_reader\u001b[0m\u001b[0;34m.\u001b[0m\u001b[0munnamed_cols\u001b[0m\u001b[0;34m\u001b[0m\u001b[0m\n\u001b[1;32m   1855\u001b[0m \u001b[0;34m\u001b[0m\u001b[0m\n",
      "\u001b[0;32mpandas/_libs/parsers.pyx\u001b[0m in \u001b[0;36mpandas._libs.parsers.TextReader.__cinit__\u001b[0;34m()\u001b[0m\n",
      "\u001b[0;32mpandas/_libs/parsers.pyx\u001b[0m in \u001b[0;36mpandas._libs.parsers.TextReader._setup_parser_source\u001b[0;34m()\u001b[0m\n",
      "\u001b[0;31mFileNotFoundError\u001b[0m: [Errno 2] File b'churn.csv' does not exist: b'churn.csv'"
     ]
    }
   ],
   "source": [
    "from ipywidgets import interact \n",
    "import matplotlib.pyplot as plt\n",
    "from matplotlib.patches import Rectangle\n",
    "import seaborn as sns\n",
    "import numpy as np\n",
    "import random\n",
    "import math\n",
    "import pandas as pd\n",
    "sns.set()\n",
    "%matplotlib inline \n",
    "\n",
    "\"\"\"\n",
    "#Función que permite mostrar el histograma de “Tenure by gender”, \n",
    "#de manera interactiva, variando los bins con los cual se presenta\n",
    "\"\"\"\n",
    "def plot_serie(a):\n",
    "    x = pd.read_csv(\"churn.csv\")\n",
    "    efe = x[(x.gender == \"Male\")]\n",
    "    ofo = x[(x.gender == \"Female\")]\n",
    "    ele = [efe.tenure.values.reshape(3555,1), ofo.tenure.values.reshape(3488,1)]\n",
    "    handles = [Rectangle((0,0),1,1,color=c,ec=\"k\") for c in [\"blue\", \"orange\"]]\n",
    "    labels= [\"Male\", \"Female\"]\n",
    "    _= plt.legend(handles, labels)\n",
    "    _= plt.hist(ele,a)\n",
    "    _= plt.title('Tenure by gender')\n",
    "    _= plt.xlabel('Months')\n",
    "    _= plt.ylabel('People')\n",
    "\n",
    "    \n",
    "\"\"\"\n",
    "#Función que permite mostrar el histograma de “Tenure per Internet Service”, \n",
    "#de manera interactiva, variando los bins con los cual se presenta\n",
    "\"\"\"\n",
    "def histo1(a):\n",
    "    x = pd.read_csv(\"churn.csv\")\n",
    "    efe = x[(x.gender == \"Male\")]\n",
    "    ofo = x[(x.gender == \"Female\")]\n",
    "    ele = [efe.tenure.values.reshape(3555,1), ofo.tenure.values.reshape(3488,1)]\n",
    "    _= plt.hist(ele,a)\n",
    "    handles = [Rectangle((0,0),1,1,color=c,ec=\"k\") for c in [\"blue\", \"orange\"]]\n",
    "    labels= [\"Fiber optic\", \"DLS\"]\n",
    "    plt.legend(handles, labels)\n",
    "    _= plt.title('Tenure per Internet Service')\n",
    "    _= plt.xlabel('Months')\n",
    "    _= plt.ylabel('People')\n",
    "\n",
    "\n",
    "\n",
    "x = pd.read_csv(\"churn.csv\")"
   ]
  },
  {
   "cell_type": "code",
   "execution_count": 54,
   "metadata": {},
   "outputs": [
    {
     "ename": "AttributeError",
     "evalue": "'int' object has no attribute 'InternetService'",
     "output_type": "error",
     "traceback": [
      "\u001b[0;31m---------------------------------------------------------------------------\u001b[0m",
      "\u001b[0;31mAttributeError\u001b[0m                            Traceback (most recent call last)",
      "\u001b[0;32m<ipython-input-54-7dfadccc3177>\u001b[0m in \u001b[0;36m<module>\u001b[0;34m\u001b[0m\n\u001b[0;32m----> 1\u001b[0;31m \u001b[0mefe\u001b[0m \u001b[0;34m=\u001b[0m \u001b[0mx\u001b[0m\u001b[0;34m[\u001b[0m\u001b[0;34m(\u001b[0m\u001b[0mx\u001b[0m\u001b[0;34m.\u001b[0m\u001b[0mInternetService\u001b[0m \u001b[0;34m==\u001b[0m \u001b[0;34m\"Fiber optic\"\u001b[0m\u001b[0;34m)\u001b[0m\u001b[0;34m]\u001b[0m\u001b[0;34m\u001b[0m\u001b[0m\n\u001b[0m\u001b[1;32m      2\u001b[0m \u001b[0mofo\u001b[0m \u001b[0;34m=\u001b[0m \u001b[0mx\u001b[0m\u001b[0;34m[\u001b[0m\u001b[0;34m(\u001b[0m\u001b[0mx\u001b[0m\u001b[0;34m.\u001b[0m\u001b[0mInternetService\u001b[0m \u001b[0;34m==\u001b[0m \u001b[0;34m\"DSL\"\u001b[0m\u001b[0;34m)\u001b[0m\u001b[0;34m]\u001b[0m\u001b[0;34m\u001b[0m\u001b[0m\n\u001b[1;32m      3\u001b[0m \u001b[0mele\u001b[0m \u001b[0;34m=\u001b[0m \u001b[0;34m[\u001b[0m\u001b[0mefe\u001b[0m\u001b[0;34m.\u001b[0m\u001b[0mMonthlyCharges\u001b[0m\u001b[0;34m.\u001b[0m\u001b[0mvalues\u001b[0m\u001b[0;34m.\u001b[0m\u001b[0mreshape\u001b[0m\u001b[0;34m(\u001b[0m\u001b[0;36m3096\u001b[0m\u001b[0;34m,\u001b[0m\u001b[0;36m1\u001b[0m\u001b[0;34m)\u001b[0m\u001b[0;34m,\u001b[0m \u001b[0mofo\u001b[0m\u001b[0;34m.\u001b[0m\u001b[0mMonthlyCharges\u001b[0m\u001b[0;34m.\u001b[0m\u001b[0mvalues\u001b[0m\u001b[0;34m.\u001b[0m\u001b[0mreshape\u001b[0m\u001b[0;34m(\u001b[0m\u001b[0;36m2421\u001b[0m\u001b[0;34m,\u001b[0m\u001b[0;36m1\u001b[0m\u001b[0;34m)\u001b[0m\u001b[0;34m]\u001b[0m\u001b[0;34m\u001b[0m\u001b[0m\n\u001b[1;32m      4\u001b[0m \u001b[0m_\u001b[0m\u001b[0;34m=\u001b[0m \u001b[0mplt\u001b[0m\u001b[0;34m.\u001b[0m\u001b[0mboxplot\u001b[0m\u001b[0;34m(\u001b[0m\u001b[0mele\u001b[0m\u001b[0;34m,\u001b[0m \u001b[0mlabels\u001b[0m\u001b[0;34m=\u001b[0m\u001b[0;34m[\u001b[0m\u001b[0;34m\"Fiber optic\"\u001b[0m\u001b[0;34m,\u001b[0m \u001b[0;34m\"DLS\"\u001b[0m\u001b[0;34m]\u001b[0m\u001b[0;34m)\u001b[0m\u001b[0;34m\u001b[0m\u001b[0m\n\u001b[1;32m      5\u001b[0m \u001b[0m_\u001b[0m\u001b[0;34m=\u001b[0m \u001b[0mplt\u001b[0m\u001b[0;34m.\u001b[0m\u001b[0mtitle\u001b[0m\u001b[0;34m(\u001b[0m\u001b[0;34m'Monthly cost per Internet Service'\u001b[0m\u001b[0;34m)\u001b[0m\u001b[0;34m\u001b[0m\u001b[0m\n",
      "\u001b[0;31mAttributeError\u001b[0m: 'int' object has no attribute 'InternetService'"
     ]
    }
   ],
   "source": [
    "efe = x[(x.InternetService == \"Fiber optic\")]\n",
    "ofo = x[(x.InternetService == \"DSL\")]\n",
    "ele = [efe.MonthlyCharges.values.reshape(3096,1), ofo.MonthlyCharges.values.reshape(2421,1)]\n",
    "_= plt.boxplot(ele, labels=[\"Fiber optic\", \"DLS\"])\n",
    "_= plt.title('Monthly cost per Internet Service')\n",
    "_= plt.xlabel('Internet Service')\n",
    "_= plt.ylabel('Monthly Cost')"
   ]
  },
  {
   "cell_type": "code",
   "execution_count": 55,
   "metadata": {},
   "outputs": [
    {
     "data": {
      "application/vnd.jupyter.widget-view+json": {
       "model_id": "989ec0d561b946eb9deef6b8f4696bae",
       "version_major": 2,
       "version_minor": 0
      },
      "text/plain": [
       "interactive(children=(IntSlider(value=10, description='a', max=20, min=1), Output()), _dom_classes=('widget-in…"
      ]
     },
     "metadata": {},
     "output_type": "display_data"
    },
    {
     "data": {
      "text/plain": [
       "<function __main__.histo1(a)>"
      ]
     },
     "execution_count": 55,
     "metadata": {},
     "output_type": "execute_result"
    }
   ],
   "source": [
    "interact(histo1,a=(1,20))"
   ]
  },
  {
   "cell_type": "code",
   "execution_count": 56,
   "metadata": {},
   "outputs": [
    {
     "data": {
      "application/vnd.jupyter.widget-view+json": {
       "model_id": "b4145fa6f5484b2f83c92aa07571462f",
       "version_major": 2,
       "version_minor": 0
      },
      "text/plain": [
       "interactive(children=(IntSlider(value=10, description='a', max=20, min=1), Output()), _dom_classes=('widget-in…"
      ]
     },
     "metadata": {},
     "output_type": "display_data"
    },
    {
     "data": {
      "text/plain": [
       "<function __main__.plot_serie(a)>"
      ]
     },
     "execution_count": 56,
     "metadata": {},
     "output_type": "execute_result"
    }
   ],
   "source": [
    "interact(plot_serie,a=(1,20))"
   ]
  },
  {
   "cell_type": "markdown",
   "metadata": {},
   "source": [
    "Del boxplot presentado se puede observar que la mediana del costo mensual de la fibra óptica, está por sobre la mediana del coste de el servicio de DSL, por lo cual extraemos del dataset, que la fibra óptica posee, en la mayoría de los casos, un coste mensual mayor, por lo cual se puede decir que es un servicio más caro.\n",
    "\n",
    "En base al histograma “Tenure per Internet Services”, se puede apreciar que la cantidad de meses que se queda una persona, tiende a ser entre 0 y 10, o 65 y 70. Es decir que la gente tiende a quedarse poco, o tiende a irse luego de un largo tiempo.\n",
    "\n",
    "Por último, observando el histograma “Tenure by gender”, se puede concluir que, el tiempo que tiene un hombre y una mujer, tiende a ser muy parecido, de lo cual se puede deducir que no importa el sexo de la persona, no afectará en gran medida a su decisión de quedarse o cambiarse."
   ]
  },
  {
   "cell_type": "markdown",
   "metadata": {},
   "source": [
    "Para las preguntas b.1), b.2), c), d), e)  se utiliza pandas para obtener la cantidad total de los datos que cumplen una restricción (ser mujer, hombre, tener fibra óptica, etc), y las cantidades que cumplen 2 restricciones al mismo tiempo (ser hombre y tener DSL, ser mujer y tener fibra óptica, etc). Con esto  datos y reglas de probabilidad condicional, se calculan las probabilidades requeridas, para responder las preguntas. En el caso de MonthlyChargess y tenure se utilizo su media."
   ]
  },
  {
   "cell_type": "markdown",
   "metadata": {},
   "source": [
    "> b.1) Determine la probabilidad de que: <ul>\n",
    "    <li>Un cliente sea mujer dado que tiene fibra óptica </li>\n",
    "    <li>Un cliente sea hombre dado que tiene fibra óptica</li>\n",
    "    <li>Un cliente sea mujer dado que no tiene fibra óptica</li>\n",
    "    <li>Un cliente sea hombre dado que no tiene fibra óptica</li>\n",
    "    </ul>\n",
    "    Además indique cuál/es de estos pares deben sumar 1 (Si es que algún par debe sumar esta cantidad). Justifique su respuesta.\n",
    "    "
   ]
  },
  {
   "cell_type": "code",
   "execution_count": 57,
   "metadata": {},
   "outputs": [
    {
     "ename": "AttributeError",
     "evalue": "'int' object has no attribute 'InternetService'",
     "output_type": "error",
     "traceback": [
      "\u001b[0;31m---------------------------------------------------------------------------\u001b[0m",
      "\u001b[0;31mAttributeError\u001b[0m                            Traceback (most recent call last)",
      "\u001b[0;32m<ipython-input-57-8af22a4004c5>\u001b[0m in \u001b[0;36m<module>\u001b[0;34m\u001b[0m\n\u001b[0;32m----> 1\u001b[0;31m \u001b[0mTotalfibra\u001b[0m \u001b[0;34m=\u001b[0m \u001b[0mlen\u001b[0m\u001b[0;34m(\u001b[0m\u001b[0mx\u001b[0m\u001b[0;34m[\u001b[0m\u001b[0mx\u001b[0m\u001b[0;34m.\u001b[0m\u001b[0mInternetService\u001b[0m \u001b[0;34m==\u001b[0m \u001b[0;34m\"Fiber optic\"\u001b[0m\u001b[0;34m]\u001b[0m\u001b[0;34m)\u001b[0m\u001b[0;34m\u001b[0m\u001b[0m\n\u001b[0m\u001b[1;32m      2\u001b[0m \u001b[0;34m\u001b[0m\u001b[0m\n\u001b[1;32m      3\u001b[0m \u001b[0mFemeninofibra\u001b[0m\u001b[0;34m=\u001b[0m \u001b[0mlen\u001b[0m\u001b[0;34m(\u001b[0m\u001b[0mx\u001b[0m\u001b[0;34m[\u001b[0m\u001b[0;34m(\u001b[0m\u001b[0mx\u001b[0m\u001b[0;34m.\u001b[0m\u001b[0mgender\u001b[0m \u001b[0;34m==\u001b[0m \u001b[0;34m\"Female\"\u001b[0m\u001b[0;34m)\u001b[0m \u001b[0;34m&\u001b[0m \u001b[0;34m(\u001b[0m\u001b[0mx\u001b[0m\u001b[0;34m.\u001b[0m\u001b[0mInternetService\u001b[0m \u001b[0;34m==\u001b[0m \u001b[0;34m\"Fiber optic\"\u001b[0m\u001b[0;34m)\u001b[0m\u001b[0;34m]\u001b[0m\u001b[0;34m)\u001b[0m\u001b[0;34m\u001b[0m\u001b[0m\n\u001b[1;32m      4\u001b[0m \u001b[0mMasculinofibra\u001b[0m \u001b[0;34m=\u001b[0m \u001b[0mlen\u001b[0m\u001b[0;34m(\u001b[0m\u001b[0mx\u001b[0m\u001b[0;34m[\u001b[0m\u001b[0;34m(\u001b[0m\u001b[0mx\u001b[0m\u001b[0;34m.\u001b[0m\u001b[0mgender\u001b[0m \u001b[0;34m==\u001b[0m \u001b[0;34m\"Male\"\u001b[0m\u001b[0;34m)\u001b[0m \u001b[0;34m&\u001b[0m \u001b[0;34m(\u001b[0m\u001b[0mx\u001b[0m\u001b[0;34m.\u001b[0m\u001b[0mInternetService\u001b[0m \u001b[0;34m==\u001b[0m \u001b[0;34m\"Fiber optic\"\u001b[0m\u001b[0;34m)\u001b[0m\u001b[0;34m]\u001b[0m\u001b[0;34m)\u001b[0m\u001b[0;34m\u001b[0m\u001b[0m\n\u001b[1;32m      5\u001b[0m \u001b[0;34m\u001b[0m\u001b[0m\n",
      "\u001b[0;31mAttributeError\u001b[0m: 'int' object has no attribute 'InternetService'"
     ]
    }
   ],
   "source": [
    "Totalfibra = len(x[x.InternetService == \"Fiber optic\"])\n",
    "\n",
    "Femeninofibra= len(x[(x.gender == \"Female\") & (x.InternetService == \"Fiber optic\")])\n",
    "Masculinofibra = len(x[(x.gender == \"Male\") & (x.InternetService == \"Fiber optic\")])\n",
    "\n",
    "Probfemeninofibra = Femeninofibra/Totalfibra\n",
    "Probmasculinofibra = Masculinofibra/Totalfibra\n",
    "\n",
    "\n",
    "\n",
    "print(\"La probabilidad de que un cliente sea mujer dado que tiene fibra óptica es: \\n\" +str(Probfemeninofibra)+\"\\n\")\n",
    "print(\"La probabilidad de que un cliente sea hombre dado que tiene fibra óptica es: \\n\" +str(Probmasculinofibra)+\"\\n\")"
   ]
  },
  {
   "cell_type": "code",
   "execution_count": 58,
   "metadata": {},
   "outputs": [
    {
     "ename": "AttributeError",
     "evalue": "'int' object has no attribute 'InternetService'",
     "output_type": "error",
     "traceback": [
      "\u001b[0;31m---------------------------------------------------------------------------\u001b[0m",
      "\u001b[0;31mAttributeError\u001b[0m                            Traceback (most recent call last)",
      "\u001b[0;32m<ipython-input-58-439b6635ac4a>\u001b[0m in \u001b[0;36m<module>\u001b[0;34m\u001b[0m\n\u001b[0;32m----> 1\u001b[0;31m \u001b[0mTotalnofibra\u001b[0m \u001b[0;34m=\u001b[0m \u001b[0mlen\u001b[0m\u001b[0;34m(\u001b[0m\u001b[0mx\u001b[0m\u001b[0;34m[\u001b[0m\u001b[0mx\u001b[0m\u001b[0;34m.\u001b[0m\u001b[0mInternetService\u001b[0m \u001b[0;34m!=\u001b[0m \u001b[0;34m\"Fiber optic\"\u001b[0m\u001b[0;34m]\u001b[0m\u001b[0;34m)\u001b[0m\u001b[0;34m\u001b[0m\u001b[0m\n\u001b[0m\u001b[1;32m      2\u001b[0m \u001b[0;34m\u001b[0m\u001b[0m\n\u001b[1;32m      3\u001b[0m \u001b[0mFemeninonofibra\u001b[0m \u001b[0;34m=\u001b[0m \u001b[0mlen\u001b[0m\u001b[0;34m(\u001b[0m\u001b[0mx\u001b[0m\u001b[0;34m[\u001b[0m\u001b[0;34m(\u001b[0m\u001b[0mx\u001b[0m\u001b[0;34m.\u001b[0m\u001b[0mgender\u001b[0m \u001b[0;34m==\u001b[0m \u001b[0;34m\"Female\"\u001b[0m\u001b[0;34m)\u001b[0m\u001b[0;34m&\u001b[0m \u001b[0;34m(\u001b[0m\u001b[0mx\u001b[0m\u001b[0;34m.\u001b[0m\u001b[0mInternetService\u001b[0m \u001b[0;34m!=\u001b[0m \u001b[0;34m\"Fiber optic\"\u001b[0m\u001b[0;34m)\u001b[0m\u001b[0;34m]\u001b[0m\u001b[0;34m)\u001b[0m\u001b[0;34m\u001b[0m\u001b[0m\n\u001b[1;32m      4\u001b[0m \u001b[0mMasculinonofibra\u001b[0m \u001b[0;34m=\u001b[0m \u001b[0mlen\u001b[0m\u001b[0;34m(\u001b[0m\u001b[0mx\u001b[0m\u001b[0;34m[\u001b[0m\u001b[0;34m(\u001b[0m\u001b[0mx\u001b[0m\u001b[0;34m.\u001b[0m\u001b[0mgender\u001b[0m \u001b[0;34m==\u001b[0m \u001b[0;34m\"Male\"\u001b[0m\u001b[0;34m)\u001b[0m\u001b[0;34m&\u001b[0m \u001b[0;34m(\u001b[0m\u001b[0mx\u001b[0m\u001b[0;34m.\u001b[0m\u001b[0mInternetService\u001b[0m \u001b[0;34m!=\u001b[0m \u001b[0;34m\"Fiber optic\"\u001b[0m\u001b[0;34m)\u001b[0m\u001b[0;34m]\u001b[0m\u001b[0;34m)\u001b[0m\u001b[0;34m\u001b[0m\u001b[0m\n\u001b[1;32m      5\u001b[0m \u001b[0;34m\u001b[0m\u001b[0m\n",
      "\u001b[0;31mAttributeError\u001b[0m: 'int' object has no attribute 'InternetService'"
     ]
    }
   ],
   "source": [
    "Totalnofibra = len(x[x.InternetService != \"Fiber optic\"])\n",
    "\n",
    "Femeninonofibra = len(x[(x.gender == \"Female\")& (x.InternetService != \"Fiber optic\")])\n",
    "Masculinonofibra = len(x[(x.gender == \"Male\")& (x.InternetService != \"Fiber optic\")])\n",
    "\n",
    "Probafemeninonofibra = Femeninonofibra/Totalnofibra\n",
    "Probamasculinonofibra = Masculinonofibra/Totalnofibra\n",
    "\n",
    "print(\"La probabilidad de que un cliente sea mujer dado que no tiene fibra óptica es: \\n\" +str(Probafemeninonofibra)+\"\\n\")\n",
    "print(\"La probabilidad de que un cliente sea hombre dado que no tiene fibra óptica es: \\n\" +str(Probamasculinonofibra)+\"\\n\")"
   ]
  },
  {
   "cell_type": "markdown",
   "metadata": {},
   "source": [
    "Las probabilidades que deben sumar  aproximadamente 1, en este caso deben ser la probabilidad de que un cliente sea mujer dado que tiene fibra óptica con probabilidad de que un cliente sea hombre dado que tiene fibra óptica. Por otro lado, la probabilidad de que sea mujer dado que no tiene fibra óptica sumado a la probabilidad de que sea hombre dado que no tiene fibra óptica."
   ]
  },
  {
   "cell_type": "markdown",
   "metadata": {},
   "source": [
    ">b.2) ¿Es posible concluir que si un cliente es hombre tiene más probabilidad de tener fibra óptica? ¿Y si es mujer? ¿Por qué?"
   ]
  },
  {
   "cell_type": "code",
   "execution_count": 59,
   "metadata": {},
   "outputs": [
    {
     "ename": "AttributeError",
     "evalue": "'int' object has no attribute 'gender'",
     "output_type": "error",
     "traceback": [
      "\u001b[0;31m---------------------------------------------------------------------------\u001b[0m",
      "\u001b[0;31mAttributeError\u001b[0m                            Traceback (most recent call last)",
      "\u001b[0;32m<ipython-input-59-c9c5de15fcdf>\u001b[0m in \u001b[0;36m<module>\u001b[0;34m\u001b[0m\n\u001b[0;32m----> 1\u001b[0;31m \u001b[0mTotalfemenino\u001b[0m \u001b[0;34m=\u001b[0m \u001b[0mlen\u001b[0m\u001b[0;34m(\u001b[0m\u001b[0mx\u001b[0m\u001b[0;34m[\u001b[0m\u001b[0mx\u001b[0m\u001b[0;34m.\u001b[0m\u001b[0mgender\u001b[0m \u001b[0;34m==\u001b[0m \u001b[0;34m\"Female\"\u001b[0m\u001b[0;34m]\u001b[0m\u001b[0;34m)\u001b[0m\u001b[0;34m\u001b[0m\u001b[0m\n\u001b[0m\u001b[1;32m      2\u001b[0m \u001b[0mTotalmasculino\u001b[0m \u001b[0;34m=\u001b[0m \u001b[0mlen\u001b[0m\u001b[0;34m(\u001b[0m\u001b[0mx\u001b[0m\u001b[0;34m[\u001b[0m\u001b[0mx\u001b[0m\u001b[0;34m.\u001b[0m\u001b[0mgender\u001b[0m \u001b[0;34m==\u001b[0m \u001b[0;34m\"Male\"\u001b[0m\u001b[0;34m]\u001b[0m\u001b[0;34m)\u001b[0m\u001b[0;34m\u001b[0m\u001b[0m\n\u001b[1;32m      3\u001b[0m \u001b[0;34m\u001b[0m\u001b[0m\n\u001b[1;32m      4\u001b[0m \u001b[0mProbafibramasculino\u001b[0m \u001b[0;34m=\u001b[0m \u001b[0mMasculinofibra\u001b[0m\u001b[0;34m/\u001b[0m\u001b[0mTotalmasculino\u001b[0m\u001b[0;34m\u001b[0m\u001b[0m\n\u001b[1;32m      5\u001b[0m \u001b[0mProbafibrafemenino\u001b[0m \u001b[0;34m=\u001b[0m \u001b[0mFemeninofibra\u001b[0m\u001b[0;34m/\u001b[0m\u001b[0mTotalfemenino\u001b[0m\u001b[0;34m\u001b[0m\u001b[0m\n",
      "\u001b[0;31mAttributeError\u001b[0m: 'int' object has no attribute 'gender'"
     ]
    }
   ],
   "source": [
    "Totalfemenino = len(x[x.gender == \"Female\"])\n",
    "Totalmasculino = len(x[x.gender == \"Male\"])\n",
    "\n",
    "Probafibramasculino = Masculinofibra/Totalmasculino\n",
    "Probafibrafemenino = Femeninofibra/Totalfemenino\n",
    "print(\"Probabilidad de que tenga fibra óptica dado que es hombre:\")\n",
    "print(Probafibramasculino)\n",
    "\n",
    "print()\n",
    "print(\"Probabilidad de que tenga fibra óptica dado que es mujer:\")\n",
    "print(Probafibrafemenino)"
   ]
  },
  {
   "cell_type": "code",
   "execution_count": 60,
   "metadata": {},
   "outputs": [
    {
     "name": "stdout",
     "output_type": "stream",
     "text": [
      "Cantidad de fibra optica que se encuentra bajo la media del costo mensual:\n"
     ]
    },
    {
     "ename": "AttributeError",
     "evalue": "'int' object has no attribute 'InternetService'",
     "output_type": "error",
     "traceback": [
      "\u001b[0;31m---------------------------------------------------------------------------\u001b[0m",
      "\u001b[0;31mAttributeError\u001b[0m                            Traceback (most recent call last)",
      "\u001b[0;32m<ipython-input-60-2413efeb53fd>\u001b[0m in \u001b[0;36m<module>\u001b[0;34m\u001b[0m\n\u001b[1;32m      1\u001b[0m \u001b[0mprint\u001b[0m\u001b[0;34m(\u001b[0m\u001b[0;34m\"Cantidad de fibra optica que se encuentra bajo la media del costo mensual:\"\u001b[0m\u001b[0;34m)\u001b[0m\u001b[0;34m\u001b[0m\u001b[0m\n\u001b[0;32m----> 2\u001b[0;31m \u001b[0mprint\u001b[0m\u001b[0;34m(\u001b[0m\u001b[0mlen\u001b[0m\u001b[0;34m(\u001b[0m\u001b[0mx\u001b[0m\u001b[0;34m[\u001b[0m\u001b[0;34m(\u001b[0m\u001b[0mx\u001b[0m\u001b[0;34m.\u001b[0m\u001b[0mInternetService\u001b[0m \u001b[0;34m==\u001b[0m \u001b[0;34m\"Fiber optic\"\u001b[0m\u001b[0;34m)\u001b[0m \u001b[0;34m&\u001b[0m \u001b[0;34m(\u001b[0m\u001b[0mx\u001b[0m\u001b[0;34m.\u001b[0m\u001b[0mMonthlyCharges\u001b[0m \u001b[0;34m<\u001b[0m \u001b[0;36m70.35\u001b[0m\u001b[0;34m)\u001b[0m\u001b[0;34m]\u001b[0m\u001b[0;34m)\u001b[0m\u001b[0;34m)\u001b[0m\u001b[0;34m\u001b[0m\u001b[0m\n\u001b[0m\u001b[1;32m      3\u001b[0m \u001b[0mprint\u001b[0m\u001b[0;34m(\u001b[0m\u001b[0;34m)\u001b[0m\u001b[0;34m\u001b[0m\u001b[0m\n\u001b[1;32m      4\u001b[0m \u001b[0;34m\u001b[0m\u001b[0m\n\u001b[1;32m      5\u001b[0m \u001b[0mprint\u001b[0m\u001b[0;34m(\u001b[0m\u001b[0;34m\"Cantidad de fibra optica que se encuentra sobre la media del costo mensual:\"\u001b[0m\u001b[0;34m)\u001b[0m\u001b[0;34m\u001b[0m\u001b[0m\n",
      "\u001b[0;31mAttributeError\u001b[0m: 'int' object has no attribute 'InternetService'"
     ]
    }
   ],
   "source": [
    "print(\"Cantidad de fibra optica que se encuentra bajo la media del costo mensual:\")\n",
    "print(len(x[(x.InternetService == \"Fiber optic\") & (x.MonthlyCharges < 70.35)]))\n",
    "print()\n",
    "\n",
    "print(\"Cantidad de fibra optica que se encuentra sobre la media del costo mensual:\")\n",
    "print(len(x[(x.InternetService == \"Fiber optic\") & (x.MonthlyCharges >= 70.35)]))\n",
    "print()\n",
    "\n",
    "print(\"Cantidad de DSL que se encuentra bajo la media del costo mensual:\")\n",
    "print(len(x[(x.InternetService == \"DSL\") & (x.MonthlyCharges < 70.35)]))\n",
    "print()\n",
    "\n",
    "print(\"Cantidad de DSL que se encuentra sobre la media del costo mensual:\")\n",
    "print(len(x[(x.InternetService == \"DSL\") & (x.MonthlyCharges >= 70.35)]))\n",
    "print()"
   ]
  },
  {
   "cell_type": "markdown",
   "metadata": {},
   "source": [
    "Considerando los cálculos obtenidos se tiene que la probabilidad que algún usuario tenga fibra óptica, dado que es hombre, es de aproximadamente 0.43, lo que nos dice que es menos probable que tenga fibra óptica, dado que es hombre. En el otro caso, la probabilidad de que tenga fibra óptica, dado que  es mujer, es de 0.45, lo que nos dice que es menos probable.\n",
    "\n",
    "Esto se puede deber a que el costo mensual de la fibra óptica, generalmente está sobre la mediana de este (2941 vs 155, dado por los cálculos), lo que hace más probable que, tanto hombre como mujer, prefieran DSL o simplemente no tener servicio de internet."
   ]
  },
  {
   "cell_type": "markdown",
   "metadata": {},
   "source": [
    ">c) Utilizando criterios de probabilidad condicional ¿Hay algún servicio de internet más propenso a la fuga?"
   ]
  },
  {
   "cell_type": "code",
   "execution_count": 61,
   "metadata": {},
   "outputs": [
    {
     "ename": "AttributeError",
     "evalue": "'int' object has no attribute 'InternetService'",
     "output_type": "error",
     "traceback": [
      "\u001b[0;31m---------------------------------------------------------------------------\u001b[0m",
      "\u001b[0;31mAttributeError\u001b[0m                            Traceback (most recent call last)",
      "\u001b[0;32m<ipython-input-61-6428c1350b61>\u001b[0m in \u001b[0;36m<module>\u001b[0;34m\u001b[0m\n\u001b[0;32m----> 1\u001b[0;31m \u001b[0mTotaldsl\u001b[0m \u001b[0;34m=\u001b[0m \u001b[0mlen\u001b[0m\u001b[0;34m(\u001b[0m\u001b[0mx\u001b[0m\u001b[0;34m[\u001b[0m\u001b[0mx\u001b[0m\u001b[0;34m.\u001b[0m\u001b[0mInternetService\u001b[0m \u001b[0;34m==\u001b[0m \u001b[0;34m\"DSL\"\u001b[0m\u001b[0;34m]\u001b[0m\u001b[0;34m)\u001b[0m\u001b[0;34m\u001b[0m\u001b[0m\n\u001b[0m\u001b[1;32m      2\u001b[0m \u001b[0mTotal\u001b[0m \u001b[0;34m=\u001b[0m \u001b[0mlen\u001b[0m\u001b[0;34m(\u001b[0m\u001b[0mx\u001b[0m\u001b[0;34m[\u001b[0m\u001b[0mx\u001b[0m\u001b[0;34m.\u001b[0m\u001b[0mInternetService\u001b[0m \u001b[0;34m!=\u001b[0m \u001b[0;34m\"No\"\u001b[0m\u001b[0;34m]\u001b[0m\u001b[0;34m)\u001b[0m\u001b[0;34m\u001b[0m\u001b[0m\n\u001b[1;32m      3\u001b[0m \u001b[0mTotalfugaservicios\u001b[0m\u001b[0;34m=\u001b[0m \u001b[0mlen\u001b[0m\u001b[0;34m(\u001b[0m\u001b[0mx\u001b[0m\u001b[0;34m[\u001b[0m\u001b[0;34m(\u001b[0m\u001b[0mx\u001b[0m\u001b[0;34m.\u001b[0m\u001b[0mChurn\u001b[0m\u001b[0;34m==\u001b[0m\u001b[0;34m\"Yes\"\u001b[0m\u001b[0;34m)\u001b[0m\u001b[0;34m&\u001b[0m\u001b[0;34m(\u001b[0m\u001b[0mx\u001b[0m\u001b[0;34m.\u001b[0m\u001b[0mInternetService\u001b[0m \u001b[0;34m!=\u001b[0m \u001b[0;34m\"No\"\u001b[0m\u001b[0;34m)\u001b[0m\u001b[0;34m]\u001b[0m\u001b[0;34m)\u001b[0m\u001b[0;34m\u001b[0m\u001b[0m\n\u001b[1;32m      4\u001b[0m \u001b[0mFugafibra\u001b[0m \u001b[0;34m=\u001b[0m \u001b[0mlen\u001b[0m\u001b[0;34m(\u001b[0m\u001b[0mx\u001b[0m\u001b[0;34m[\u001b[0m\u001b[0;34m(\u001b[0m\u001b[0mx\u001b[0m\u001b[0;34m.\u001b[0m\u001b[0mInternetService\u001b[0m \u001b[0;34m==\u001b[0m \u001b[0;34m\"Fiber optic\"\u001b[0m\u001b[0;34m)\u001b[0m\u001b[0;34m&\u001b[0m\u001b[0;34m(\u001b[0m\u001b[0mx\u001b[0m\u001b[0;34m.\u001b[0m\u001b[0mChurn\u001b[0m \u001b[0;34m==\u001b[0m \u001b[0;34m\"Yes\"\u001b[0m\u001b[0;34m)\u001b[0m\u001b[0;34m]\u001b[0m\u001b[0;34m)\u001b[0m\u001b[0;34m\u001b[0m\u001b[0m\n\u001b[1;32m      5\u001b[0m \u001b[0;34m\u001b[0m\u001b[0m\n",
      "\u001b[0;31mAttributeError\u001b[0m: 'int' object has no attribute 'InternetService'"
     ]
    }
   ],
   "source": [
    "Totaldsl = len(x[x.InternetService == \"DSL\"])\n",
    "Total = len(x[x.InternetService != \"No\"])\n",
    "Totalfugaservicios= len(x[(x.Churn==\"Yes\")&(x.InternetService != \"No\")])\n",
    "Fugafibra = len(x[(x.InternetService == \"Fiber optic\")&(x.Churn == \"Yes\")])\n",
    "\n",
    "print(\"Probabilidad de fuga dado que tiene fibra óptica:\")\n",
    "print(Fugafibra/Totalfibra)\n",
    "print()\n",
    "\n",
    "fugadsl = len(x[(x.InternetService == \"DSL\")&(x.Churn == \"Yes\")])\n",
    "\n",
    "print(\"Probabilidad de fuga dado que tiene DSL:\")\n",
    "print(fugadsl/Totaldsl)"
   ]
  },
  {
   "cell_type": "markdown",
   "metadata": {},
   "source": [
    "Como se puede apreciar en los cálculos, la probabilidad de que alguien se fugue dado que tiene fibra óptica, es de 0,42 aproximadamente, lo cual es mayor a la probabilidad de que se fugue dado que tiene DSL, el cual es 0.19 aproximadamente. Por lo cual se puede decir que la fibra óptica es más propensa a que alguien se fugue."
   ]
  },
  {
   "cell_type": "markdown",
   "metadata": {},
   "source": [
    ">d) Utilizando criterios de probabilidad condicional, ¿es el cargo mensual un buen predictor de la fuga? y ¿es la fuga un buen predictor del cargo mensual de un cliente?"
   ]
  },
  {
   "cell_type": "code",
   "execution_count": 62,
   "metadata": {},
   "outputs": [
    {
     "ename": "AttributeError",
     "evalue": "'int' object has no attribute 'Churn'",
     "output_type": "error",
     "traceback": [
      "\u001b[0;31m---------------------------------------------------------------------------\u001b[0m",
      "\u001b[0;31mAttributeError\u001b[0m                            Traceback (most recent call last)",
      "\u001b[0;32m<ipython-input-62-763c50788fe4>\u001b[0m in \u001b[0;36m<module>\u001b[0;34m\u001b[0m\n\u001b[0;32m----> 1\u001b[0;31m \u001b[0mTotalfuga\u001b[0m \u001b[0;34m=\u001b[0m \u001b[0mlen\u001b[0m\u001b[0;34m(\u001b[0m\u001b[0mx\u001b[0m\u001b[0;34m[\u001b[0m\u001b[0mx\u001b[0m\u001b[0;34m.\u001b[0m\u001b[0mChurn\u001b[0m \u001b[0;34m==\u001b[0m \u001b[0;34m\"Yes\"\u001b[0m\u001b[0;34m]\u001b[0m\u001b[0;34m)\u001b[0m\u001b[0;34m\u001b[0m\u001b[0m\n\u001b[0m\u001b[1;32m      2\u001b[0m \u001b[0;34m\u001b[0m\u001b[0m\n\u001b[1;32m      3\u001b[0m \u001b[0;34m\u001b[0m\u001b[0m\n\u001b[1;32m      4\u001b[0m \u001b[0mMensualsobremedia\u001b[0m \u001b[0;34m=\u001b[0m \u001b[0mlen\u001b[0m\u001b[0;34m(\u001b[0m\u001b[0mx\u001b[0m\u001b[0;34m[\u001b[0m\u001b[0mx\u001b[0m\u001b[0;34m.\u001b[0m\u001b[0mMonthlyCharges\u001b[0m \u001b[0;34m>=\u001b[0m \u001b[0;36m70.35\u001b[0m\u001b[0;34m]\u001b[0m\u001b[0;34m)\u001b[0m\u001b[0;34m\u001b[0m\u001b[0m\n\u001b[1;32m      5\u001b[0m \u001b[0mMensualbajomedia\u001b[0m \u001b[0;34m=\u001b[0m \u001b[0mlen\u001b[0m\u001b[0;34m(\u001b[0m\u001b[0mx\u001b[0m\u001b[0;34m[\u001b[0m\u001b[0mx\u001b[0m\u001b[0;34m.\u001b[0m\u001b[0mMonthlyCharges\u001b[0m \u001b[0;34m<\u001b[0m \u001b[0;36m70.35\u001b[0m\u001b[0;34m]\u001b[0m\u001b[0;34m)\u001b[0m\u001b[0;34m\u001b[0m\u001b[0m\n",
      "\u001b[0;31mAttributeError\u001b[0m: 'int' object has no attribute 'Churn'"
     ]
    }
   ],
   "source": [
    "Totalfuga = len(x[x.Churn == \"Yes\"])\n",
    "\n",
    "\n",
    "Mensualsobremedia = len(x[x.MonthlyCharges >= 70.35])\n",
    "Mensualbajomedia = len(x[x.MonthlyCharges < 70.35])\n",
    "\n",
    "Sobremediafuga = len(x[(x.MonthlyCharges >= 70.35)&(x.Churn == \"Yes\")])\n",
    "\n",
    "Bajomediafuga = len(x[(x.MonthlyCharges < 70.35)&(x.Churn == \"Yes\")])\n",
    "\n",
    "Condicionalfugasobre = Sobremediafuga/Mensualsobremedia\n",
    "Condicionalsobrefuga = Sobremediafuga/Totalfuga\n",
    "\n",
    "Condicionalfugabajo = Bajomediafuga/Mensualbajomedia\n",
    "Condicionalbajofuga = Bajomediafuga/Totalfuga\n",
    "\n",
    "print(\"Fuga dado que esta sobre la mediana de costo mensual: \" + str(Condicionalfugasobre))\n",
    "print(\"Estar sobre la mediana de costo mensual dado que se fugo: \" + str(Condicionalsobrefuga))\n",
    "\n",
    "print(\"\\n\")\n",
    "\n",
    "print(\"Fuga dado que esta bajo la mediana de costo mensual: \" + str(Condicionalfugabajo))\n",
    "print(\"Estar bajo la mediana de costo mensual dado que se fugo: \" + str(Condicionalbajofuga))"
   ]
  },
  {
   "cell_type": "markdown",
   "metadata": {},
   "source": [
    "En base a los cálculos, podemos observar que la única probabilidad mayor a 0,5, es la probabilidad de que esté sobre la mediana del costo mensual, dado que se fugó, por lo cual se puede concluir que el cargo mensual es un buen predictor de la fuga, si es que se utiliza la mediana de costo mensual como base. Sin embargo, el otro cálculo, fuga dado que está sobre la media, presenta una probabilidad muy baja, por lo cual podemos decir que la fuga no es un buen predictor del cargo mensual."
   ]
  },
  {
   "cell_type": "markdown",
   "metadata": {},
   "source": [
    ">e) Utilizando criterios de probabilidad condicional, ¿es el cargo mensual un buen predictor de la estadia de un cliente? y ¿es la estadia del cliente un buen predictor del cargo mensual de este?\n",
    "\n",
    "*Estadia*: tenure"
   ]
  },
  {
   "cell_type": "code",
   "execution_count": 63,
   "metadata": {},
   "outputs": [
    {
     "ename": "AttributeError",
     "evalue": "'int' object has no attribute 'tenure'",
     "output_type": "error",
     "traceback": [
      "\u001b[0;31m---------------------------------------------------------------------------\u001b[0m",
      "\u001b[0;31mAttributeError\u001b[0m                            Traceback (most recent call last)",
      "\u001b[0;32m<ipython-input-63-2f4a1df2d9f1>\u001b[0m in \u001b[0;36m<module>\u001b[0;34m\u001b[0m\n\u001b[0;32m----> 1\u001b[0;31m \u001b[0mSobretenure\u001b[0m \u001b[0;34m=\u001b[0m \u001b[0mlen\u001b[0m\u001b[0;34m(\u001b[0m\u001b[0mx\u001b[0m\u001b[0;34m[\u001b[0m\u001b[0mx\u001b[0m\u001b[0;34m.\u001b[0m\u001b[0mtenure\u001b[0m \u001b[0;34m>=\u001b[0m \u001b[0;36m29\u001b[0m\u001b[0;34m]\u001b[0m\u001b[0;34m)\u001b[0m\u001b[0;34m\u001b[0m\u001b[0m\n\u001b[0m\u001b[1;32m      2\u001b[0m \u001b[0mBajotenure\u001b[0m \u001b[0;34m=\u001b[0m \u001b[0mlen\u001b[0m\u001b[0;34m(\u001b[0m\u001b[0mx\u001b[0m\u001b[0;34m[\u001b[0m\u001b[0mx\u001b[0m\u001b[0;34m.\u001b[0m\u001b[0mtenure\u001b[0m \u001b[0;34m<\u001b[0m \u001b[0;36m29\u001b[0m\u001b[0;34m]\u001b[0m\u001b[0;34m)\u001b[0m\u001b[0;34m\u001b[0m\u001b[0m\n\u001b[1;32m      3\u001b[0m \u001b[0;34m\u001b[0m\u001b[0m\n\u001b[1;32m      4\u001b[0m \u001b[0mMensualsobremedia\u001b[0m \u001b[0;34m=\u001b[0m \u001b[0mlen\u001b[0m\u001b[0;34m(\u001b[0m\u001b[0mx\u001b[0m\u001b[0;34m[\u001b[0m\u001b[0mx\u001b[0m\u001b[0;34m.\u001b[0m\u001b[0mMonthlyCharges\u001b[0m \u001b[0;34m>=\u001b[0m \u001b[0;36m70.35\u001b[0m\u001b[0;34m]\u001b[0m\u001b[0;34m)\u001b[0m\u001b[0;34m\u001b[0m\u001b[0m\n\u001b[1;32m      5\u001b[0m \u001b[0mMensualbajomedia\u001b[0m \u001b[0;34m=\u001b[0m \u001b[0mlen\u001b[0m\u001b[0;34m(\u001b[0m\u001b[0mx\u001b[0m\u001b[0;34m[\u001b[0m\u001b[0mx\u001b[0m\u001b[0;34m.\u001b[0m\u001b[0mMonthlyCharges\u001b[0m \u001b[0;34m<\u001b[0m \u001b[0;36m70.35\u001b[0m\u001b[0;34m]\u001b[0m\u001b[0;34m)\u001b[0m\u001b[0;34m\u001b[0m\u001b[0m\n",
      "\u001b[0;31mAttributeError\u001b[0m: 'int' object has no attribute 'tenure'"
     ]
    }
   ],
   "source": [
    "Sobretenure = len(x[x.tenure >= 29])\n",
    "Bajotenure = len(x[x.tenure < 29])\n",
    "\n",
    "Mensualsobremedia = len(x[x.MonthlyCharges >= 70.35])\n",
    "Mensualbajomedia = len(x[x.MonthlyCharges < 70.35])\n",
    "\n",
    "Bajosobre = len(x[(x.MonthlyCharges < 70.35)&(x.tenure >= 29)])\n",
    "Bajobajo = len(x[(x.MonthlyCharges < 70.35)&(x.tenure < 29)])\n",
    "Sobrebajo = len(x[(x.MonthlyCharges >= 70.35)&(x.tenure < 29)])\n",
    "Sobresobre = len(x[(x.MonthlyCharges >= 70.35)&(x.tenure >= 29)])\n",
    "\n",
    "SStS = Sobresobre/Sobretenure\n",
    "BStS = Bajosobre/Sobretenure\n",
    "SBtB = Sobrebajo/Bajotenure\n",
    "BBtB = Bajobajo/Bajotenure\n",
    "SSmS = Sobresobre/Mensualsobremedia\n",
    "SBmS = Sobrebajo/Mensualsobremedia\n",
    "BSmB = Bajosobre/Mensualbajomedia\n",
    "BBmB = Bajobajo/Mensualbajomedia\n",
    "\n",
    "print(\"Probabilidad de estar sobre la media de coste mensual dado que la estadia esta sobre la media\")\n",
    "print(SStS)\n",
    "print()\n",
    "\n",
    "print(\"Probabilidad de estar bajo la media de coste mensual dado que la estadia esta sobre la media\")\n",
    "print(BStS)\n",
    "print()\n",
    "\n",
    "print(\"Probabilidad de estar sobre la media de coste mensual dado que la estadia esta bajo la media\")\n",
    "print(SBtB)\n",
    "print()\n",
    "\n",
    "print(\"Probabilidad de estar bajo la media de coste mensual dado que la estadia esta bajo la media\")\n",
    "print(BBtB)\n",
    "print()\n",
    "\n",
    "print(\"Probabilidad de estar sobre la media de estadia, dado que se esta sobre la media de coste mensual\")\n",
    "print(SSmS)\n",
    "print()\n",
    "\n",
    "print(\"Probabilidad de estar bajo la media de estadia, dado que se esta sobre la media de coste mensual\")\n",
    "print(SBmS)\n",
    "print()\n",
    "\n",
    "print(\"Probabilidad de estar sobre la media de estadia, dado que se esta bajo la media de coste mensual\")\n",
    "print(BSmB)\n",
    "print()\n",
    "\n",
    "print(\"Probabilidad de estar bajo la media de estadia, dado que se esta bajo la media de coste mensual\")\n",
    "print(BBmB)\n",
    "print()"
   ]
  },
  {
   "cell_type": "markdown",
   "metadata": {},
   "source": [
    "En base a las diferentes probabilidades calculadas, podemos observar que ninguna que se presenta se aleja de la probabilidad 0,5 por lo cual se puede concluir que ninguno de los dos datos es buen predictor del otro."
   ]
  },
  {
   "cell_type": "markdown",
   "metadata": {},
   "source": [
    "## 2. Máquina de Rube Goldberg\n",
    "\n",
    "Una máquina de Rube Goldberg es un artefacto extremadamente complejo que realiza una tarea fácil. Usted, en su tiempo libre, decidió construir uno de estos artefactos que consta de 5 etapas:\n",
    "\n",
    "<ol>\n",
    "    <li>Lanza una bolita que rueda por un riel con una probabilidad de $\\dfrac{2}{5}$ de caerse</li>\n",
    "    <li>Después de rodar por el riel cae en una catapulta que la lanza en la dirección correcta el $60\\%$ de las veces</li>\n",
    "    <li>Impacta contra una tela que le frena el impulso y la hace caer sobre el interruptor de un ventilador, el $80\\%$ de las veces es capaz de activar el ventilador</li>\n",
    "    <li>Cuando el ventilador se activa empuja un barco de juguete en una fuente con agua hasta el otro extremo de esta para empujar otra bolita, el barco llega con suficiente impulso con una probabilidad de $\\dfrac{6}{9}$</li>\n",
    "    <li>Esta bolita rueda por otro riel y cae sobre el control remoto que enciende su televisor, en un $30\\%$ de las veces logra encenderlo</li>\n",
    "</ol>\n",
    "\n",
    ">a) Usted quiere subir su máquina de Rube Goldberg a Youtube™, estime cuántas veces (en promedio) tendrá que poner en marcha su máquina hasta que resulte por primera vez en video. A su vez, haga un gráfico mostrando la probabilidad de no tener éxito en función del número de puestas en marcha de la máquina y comente."
   ]
  },
  {
   "cell_type": "markdown",
   "metadata": {},
   "source": [
    "En el siguiente código se realiza el experimento 10 veces de tal forma que cuando una bolita tenga éxito se deje de lanzar bolitas, y eso 10 veces. Para así ir sumando la cantidad de bolitas que fueron necesarias para que resulte por primera vez en video. y de ahí se sumaron el número de bolitas utilizadas para cada repetición y se dividió ese valor por 10."
   ]
  },
  {
   "cell_type": "code",
   "execution_count": 64,
   "metadata": {},
   "outputs": [
    {
     "name": "stdout",
     "output_type": "stream",
     "text": [
      "En promedio, se tendrá que ponder en marcha el experimento 14 veces\n"
     ]
    }
   ],
   "source": [
    "#Esta función lo que hace es realizar el experimento 10 veces, sumar la cantidad de bolitas utilizadas antes de que\n",
    "#La prueba haya sido realizada a la primera. De ahí ese valor se dividió por 10, que es la cantidad de veces que se \n",
    "#repitió el experimento.\n",
    "Prob = 3/5 * 3/5 * 4/5 * 2/3 * 3/10\n",
    "i = 0\n",
    "numero_de_intentos = 0\n",
    "j = 0\n",
    "while(j < 10):\n",
    "    i = 0\n",
    "    while(i < 100000):\n",
    "        boi = random.randint(1,3750)\n",
    "        i += 1\n",
    "        if(boi <= 216):\n",
    "            break\n",
    "    j += 1\n",
    "    numero_de_intentos += i\n",
    "\n",
    "if(numero_de_intentos != int(numero_de_intentos)):\n",
    "    numero_de_intentos += 1\n",
    "print(\"En promedio, se tendrá que ponder en marcha el experimento \" + str(int(numero_de_intentos/10)) + \" veces\")"
   ]
  },
  {
   "cell_type": "code",
   "execution_count": 65,
   "metadata": {},
   "outputs": [
    {
     "data": {
      "image/png": "[encoded data removed]",
      "text/plain": [
       "<Figure size 432x288 with 1 Axes>"
      ]
     },
     "metadata": {
      "needs_background": "light"
     },
     "output_type": "display_data"
    }
   ],
   "source": [
    "#Aquí se realiza el experimento para una diferente cantidad de bolitas, por lo que luego se calculo la probabilidad de\n",
    "#fallar para cada cantidad de bolitas y se graficó la probabilida de no funcionar en función de la cantidad de bolitas\n",
    "#utilizadas.\n",
    "j = 0\n",
    "achuntar = 0\n",
    "probabilidades_x = []\n",
    "probabilidades_y = []\n",
    "while(j < 100):\n",
    "    i = 0\n",
    "    while(i < 100+j*100):\n",
    "        x = random.randint(1,3750)\n",
    "        i += 1\n",
    "        if(x <= 216):\n",
    "            achuntar += 1\n",
    "    probabilidades_x.append(100+j*100)\n",
    "    probabilidades_y.append(1-achuntar/(100+j*100))\n",
    "    j += 1\n",
    "    achuntar = 0\n",
    "plt.plot(probabilidades_x, probabilidades_y)\n",
    "plt.xlabel(\"Número de puestas en marcha\")\n",
    "plt.ylabel(\"Probabilidad de fallar\")\n",
    "plt.show()"
   ]
  },
  {
   "cell_type": "markdown",
   "metadata": {},
   "source": [
    "Se puede visualizar en el gráfico que la probabilidad a medida que los números de lanzamientos van aumentando, la probabilidad de que la bolita falle se va a acercando entre los valores 0,945 y 0,940. Además que si el número de lanzamientos en pequeño, el valor de la probabilidad es bastante fluctuante."
   ]
  },
  {
   "cell_type": "markdown",
   "metadata": {},
   "source": [
    "> b) Si usted cuenta con 1000 bolitas, estime tanto téorica como empíricamente cuántas bolitas fallan en cada estapa. Compare sus resultados obtenidos.\n",
    "\n",
    "*Recuerde que habrá una cantidad de bolitas que no fallarán*"
   ]
  },
  {
   "cell_type": "markdown",
   "metadata": {},
   "source": [
    "En el siguiente código se calculan las cantidades de bolitas que fallan en cada una de las etapas, además de indicar cuantas las lograron."
   ]
  },
  {
   "cell_type": "code",
   "execution_count": 66,
   "metadata": {},
   "outputs": [
    {
     "name": "stdout",
     "output_type": "stream",
     "text": [
      "400 bolitas no pudieron pasar la primera etapa\n",
      "240 bolitas no pudieron pasar la segunda etapa\n",
      "72 bolitas no pudieron pasar la tercera etapa\n",
      "96 bolitas no pudieron pasar la cuarta etapa\n",
      "134 bolitas no pudieron pasar la quinta etapa\n",
      "58 bolitas pudieron pasar todas las etapas\n"
     ]
    }
   ],
   "source": [
    "e1 = 1000*2/5\n",
    "e2 = (1000-e1)*2/5\n",
    "e3 = (1000-e1-e2)*1/5\n",
    "e4 = (1000-e1-e2-e3)*1/3\n",
    "e5 = (1000-e1-e2-e3-e4)*7/10\n",
    "\n",
    "\n",
    "print(str(int(e1)) + \" bolitas no pudieron pasar la primera etapa\")\n",
    "print(str(int(e2)) + \" bolitas no pudieron pasar la segunda etapa\")\n",
    "print(str(int(e3)) + \" bolitas no pudieron pasar la tercera etapa\")\n",
    "print(str(int(e4)) + \" bolitas no pudieron pasar la cuarta etapa\")\n",
    "print(str(int(e5)) + \" bolitas no pudieron pasar la quinta etapa\")\n",
    "print(str(int(1000-(e1+e2+e3+e4+e5))+1) + \" bolitas pudieron pasar todas las etapas\")"
   ]
  },
  {
   "cell_type": "markdown",
   "metadata": {},
   "source": [
    "En el siguiente código, se realiza empíricamente el cálculo de la probabilidad de fallo haciendo el lanzamiento de las bolitas utilizando la función random para simular las probabilidades. Ahora, si es que la bolita falla en una etapa se agrega a las bolitas que fallan en esa etapa y se pasa a la siguiente bolita."
   ]
  },
  {
   "cell_type": "code",
   "execution_count": 67,
   "metadata": {},
   "outputs": [
    {
     "name": "stdout",
     "output_type": "stream",
     "text": [
      "385 bolitas que fallaron en la primera etapa\n",
      "246 bolitas que fallaron en la segunda etapa\n",
      "72 bolitas que fallaron en la tercera etapa\n",
      "95 bolitas que fallaron en la cuarta etapa\n",
      "139 bolitas que fallaron en la quinta etapa\n",
      "63 bolitas que pasaron todas las etapas\n"
     ]
    }
   ],
   "source": [
    "n = 0\n",
    "e12 = 0\n",
    "e22 = 0\n",
    "e32 = 0\n",
    "e42 = 0\n",
    "e52 = 0\n",
    "lologro = 0\n",
    "while(n < 1000):\n",
    "    x = random.randint(0,4)\n",
    "    if(x < 2):\n",
    "        e12 += 1\n",
    "    else:\n",
    "        x = random.randint(0,4)\n",
    "        if(x < 2):\n",
    "            e22 += 1\n",
    "        else:\n",
    "            x = random.randint(0,4)\n",
    "            if(x < 1):\n",
    "                e32 +=1\n",
    "            else:\n",
    "                x = random.randint(0,2)\n",
    "                if(x < 1):\n",
    "                    e42 += 1\n",
    "                else:\n",
    "                    x = random.randint(0,9)\n",
    "                    if(x < 7):\n",
    "                        e52 += 1\n",
    "                    else:\n",
    "                        lologro += 1\n",
    "    n+=1\n",
    "print(str(e12) + \" bolitas que fallaron en la primera etapa\")\n",
    "print(str(e22) + \" bolitas que fallaron en la segunda etapa\")\n",
    "print(str(e32) + \" bolitas que fallaron en la tercera etapa\")\n",
    "print(str(e42) + \" bolitas que fallaron en la cuarta etapa\")\n",
    "print(str(e52) + \" bolitas que fallaron en la quinta etapa\")\n",
    "print(str(lologro) + \" bolitas que pasaron todas las etapas\")"
   ]
  },
  {
   "cell_type": "markdown",
   "metadata": {},
   "source": [
    "Se puede observar de los resultados obtenidos que los resultados se acercan a los valores teóricos mostrados anteriormente, solo que con que cierta diferencia, la cual depende harto del azar realizado. Pero se ve la cercanía entre el resultado teórico y resultado empírico."
   ]
  },
  {
   "cell_type": "markdown",
   "metadata": {},
   "source": [
    "> c) Determine la función de probabilidad que rige este fenómeno según todos los estados posibles de la bolita"
   ]
  },
  {
   "cell_type": "markdown",
   "metadata": {},
   "source": [
    "La función de probabilidad que rige este fenómeno según todos los estados posibles de la bolita es una función $f(x)$, tal que x es el estado en cual para la bola. Donde si x es 1 es que falló en el estado 1, si x es 2 es que falló en el estado 2, si x es 3 es que falló en el estado 3, si x es 4 es que falló en el estado 4, si x es 5 es que falló en el estado 5 y si x es 6 entonces la bolita logró hacer el circuito."
   ]
  },
  {
   "cell_type": "code",
   "execution_count": 68,
   "metadata": {},
   "outputs": [
    {
     "name": "stdout",
     "output_type": "stream",
     "text": [
      "f(1) = 0.4\n",
      "f(2) = 0.24\n",
      "f(3) = 0.072\n",
      "f(4) = 0.096\n",
      "f(5) = 0.1344\n",
      "f(6) = 0.0576\n"
     ]
    }
   ],
   "source": [
    "estado1 = 2/5\n",
    "estado2 = (3*2)/(5*5)\n",
    "estado3 = (3*3*1)/(5*5*5)\n",
    "estado4 = (3*3*4*1)/(5*5*5*3)\n",
    "estado5 = (3*3*4*2*7)/(5*5*5*3*10)\n",
    "print(\"f(1) = \" + str(estado1))\n",
    "print(\"f(2) = \" + str(estado2))\n",
    "print(\"f(3) = \" + str(estado3))\n",
    "print(\"f(4) = \" + str(estado4))\n",
    "print(\"f(5) = \" + str(estado5))\n",
    "print(\"f(6) = \" + str(Prob))"
   ]
  },
  {
   "cell_type": "markdown",
   "metadata": {},
   "source": [
    ">d) Genere 1000 valores aleatorios que sigan la función de probabilidad que encontró en c), haga un histograma y compare con lo obtenido en b)"
   ]
  },
  {
   "cell_type": "markdown",
   "metadata": {},
   "source": [
    "En el siguiente código se realiza el experimento con 1000 bolitas utilizando la función de probabilidad anterior mostrada."
   ]
  },
  {
   "cell_type": "code",
   "execution_count": 69,
   "metadata": {},
   "outputs": [
    {
     "name": "stdout",
     "output_type": "stream",
     "text": [
      "415 bolitas que fallaron en la etapa 1\n",
      "247 bolitas que fallaron en la etapa 2\n",
      "75 bolitas que fallaron en la etapa 3\n",
      "93 bolitas que fallaron en la etapa 4\n",
      "125 bolitas que fallaron en la etapa 5\n",
      "45 bolitas que lograron pasar todas las etapas\n"
     ]
    },
    {
     "data": {
      "image/png": "[encoded data removed]",
      "text/plain": [
       "<Figure size 432x288 with 1 Axes>"
      ]
     },
     "metadata": {
      "needs_background": "light"
     },
     "output_type": "display_data"
    }
   ],
   "source": [
    "i = 0\n",
    "e1 = 0\n",
    "e2 = 0\n",
    "e3 = 0\n",
    "e4 = 0\n",
    "e5 = 0\n",
    "f = 0\n",
    "l = []\n",
    "while(i < 1000):\n",
    "    x = random.random()\n",
    "    if(x <= estado1):\n",
    "        e1 += 1\n",
    "        l.append(1)\n",
    "    elif(estado1 < x <= estado1 + estado2):\n",
    "        e2 += 1\n",
    "        l.append(2)\n",
    "    elif(estado1 + estado2 < x <= estado1 + estado2 + estado3):\n",
    "        e3 += 1\n",
    "        l.append(3)\n",
    "    elif(estado1 + estado2 + estado3 < x <= estado1 + estado2 + estado3 + estado4):\n",
    "        e4 += 1\n",
    "        l.append(4)\n",
    "    elif(estado1 + estado2 + estado3 + estado4 < x <= estado1 + estado2 + estado3 + estado4 + estado5):\n",
    "        e5 += 1\n",
    "        l.append(5)\n",
    "    else:\n",
    "        f += 1\n",
    "        l.append(6)\n",
    "    i+=1\n",
    "print(str(e1) +  \" bolitas que fallaron en la etapa 1\")\n",
    "print(str(e2) +  \" bolitas que fallaron en la etapa 2\")\n",
    "print(str(e3) +  \" bolitas que fallaron en la etapa 3\")\n",
    "print(str(e4) +  \" bolitas que fallaron en la etapa 4\")\n",
    "print(str(e5) +  \" bolitas que fallaron en la etapa 5\")\n",
    "print(str(f) + \" bolitas que lograron pasar todas las etapas\")\n",
    "l.sort()\n",
    "plt.hist(l,bins=[1,2,3,4,5,6,7])\n",
    "plt.xlabel(\"Estado en que queda la bolita\")\n",
    "plt.ylabel(\"Cantidad de bolitas\")\n",
    "plt.show()"
   ]
  },
  {
   "cell_type": "markdown",
   "metadata": {},
   "source": [
    "Nota: En el gráfico que las bolitas que están entre n y n+1 significa que la bolita se cayó en el estado n.\n",
    "Por ejemplo entre los x 1 y 2 son las bolas que se cayeron en el estado 1.\n",
    "\n",
    "Se puede observar que los valores obtenidos, utilizando la función de probabilidad mostrada en la pregunta c, son bastante cercanos a los obtenidos en la pregunta b, por lo que la función de probabilidad estaría bien creada.\n",
    "\n",
    "Además observando el histograma se ve como la mayoría de las bolitas fallan en el estado 1 y el estado 2, luego en el estado 3 y 4 son cercanos entre ellos, pero la cantidad de bolitas fallidas aumentan en el estado 5, y finalmente que la cantidad de bolitas que logran realizar todo el circuito es bastante baja a la cantidad de bolitas lanzadas, aproximadamente 0,05 bolitas logran hacer el circuito."
   ]
  },
  {
   "cell_type": "markdown",
   "metadata": {},
   "source": [
    "## 3. Perritos Enfermos\n",
    "\n",
    "Usted trabaja en un refugio de animales que se especializa en recibir perros, además de contar con el equipo necesario para tratar con enfermedades que estos puedan presentar. Viendo las noticias se enteró que un virus sumamente peligroso para los perros se está expandiendo rápidamente por la zona y sospecha que algunos de los perros bajo su cuidado pueden estar infectados pero, no presentan un síntoma de momento. Para suerte suya este virus tiene cura hace tiempo y cuenta con el equipo para analizar muestras de saliva para detectar qué perro está infectado con el virus o no.\n",
    "\n",
    "Usted tiene 500 perros, para no hacer la prueba 1 a 1 ha decidido juntar muestras de saliva en grupos de $K$ perros (con $K$ siendo un divisor de 500), y en caso de que el examen arroje positivo hará la prueba 1 a 1 del grupo. Asuma que 8 perros están infectados, pero usted no sabe esto a priori.\n",
    "\n",
    ">a) ¿Es posible determinar **teóricamente** un $K$ tal que la cantidad de veces que se realiza la prueba sea la menor posible? De ser así, encuentre dicho K. ¿Qué distribución es comparable a este fenómeno?"
   ]
  },
  {
   "cell_type": "markdown",
   "metadata": {},
   "source": [
    "Si separo los perros en grupos de K perros, eso significa que tendre $\\dfrac{500}{K}$ grupos.\n",
    "\n",
    "Ahora bien, como no conosco la cantidad de perros enfermos, entonces tendré que si o si realizar la prueba, por lo menos, $\\dfrac{500}{K}$.\n",
    "\n",
    "Luego, si por cada grupo en que la prueba salga positivo, realizare K veces la prueba.\n",
    "\n",
    "Por lo que nos queda la siguiente función $f(K) = \\dfrac{500}{K} + R*K$, donde R representa la cantidad de veces que la prueba salio positiva.\n",
    "\n",
    "Ahora, para obtener un K mínimo teórico, procedemos a derivar la función anterior.\n",
    "\n",
    "$f'(K) = -\\dfrac{500}{K²} + R = 0$\n",
    "\n",
    "$\\dfrac{500}{K²} = R$\n",
    "\n",
    "$K = \\sqrt{\\dfrac{500}{R}}$\n",
    "\n",
    "Para terminar, este problema lo podemos asemejar a la distribución hipergeométrica, ya que se realizan pruebas a un grupo de K perros de un población original de 500 perros, lo cual describe básicamente la estructura de la distribución hipergeométrica, sólo que añadiendo el hecho de que si ya revisó un grupo no los devuelve y la población cambia. Pero si no describe la distribución antes mencionada."
   ]
  },
  {
   "cell_type": "markdown",
   "metadata": {},
   "source": [
    ">b) Encuentre **empíricamente** un valor de $K$ que minimice la cantidad de veces que se realiza la prueba y compare con el obtenido en b)"
   ]
  },
  {
   "cell_type": "markdown",
   "metadata": {},
   "source": [
    "En el siguiente código, se realiza la creación de una población de 500 perros donde 8 están infectados, y luego se revisa todos los k posibles que se puedan tomar (divisores de 500) y luego se calcula la cantidad de revisiones que se realizan."
   ]
  },
  {
   "cell_type": "code",
   "execution_count": 70,
   "metadata": {},
   "outputs": [
    {
     "name": "stdout",
     "output_type": "stream",
     "text": [
      "Se obtuvo que el K que minizaba la cantidad de veces que se realizará la prueba es 10\n",
      "Con este K, en esta simulación se realizaron 130 pruebas\n",
      "La cantidad de grupos revisados fue 8\n"
     ]
    }
   ],
   "source": [
    "perros = []\n",
    "i = 0\n",
    "while(i < 500):\n",
    "    perros.append(0)\n",
    "    i += 1\n",
    "j = 0\n",
    "yainfectados = []\n",
    "while(j < 8):\n",
    "    x = random.randint(0,499)\n",
    "    if x not in yainfectados:\n",
    "        perros[x] = 1\n",
    "        yainfectados.append(x)\n",
    "        j += 1\n",
    "k = 1\n",
    "k_menor = 0\n",
    "menor = 5000\n",
    "while(1):\n",
    "    numero_rev = 0\n",
    "    xd = 0\n",
    "    if(500/k == int(500/k)):\n",
    "        j = 0\n",
    "        while(j < 500/k):\n",
    "            grupos = []\n",
    "            i = 0\n",
    "            while(i < k):\n",
    "                grupos.append(perros[j*k+i])\n",
    "                i += 1\n",
    "            numero_rev += 1\n",
    "            if(1 in grupos):\n",
    "                xd += 1\n",
    "                numero_rev += k\n",
    "            j += 1\n",
    "        if(numero_rev < menor):\n",
    "            menor = numero_rev\n",
    "            k_menor = k\n",
    "            xd_menor = xd\n",
    "            \n",
    "    k += 1\n",
    "    if(k == 500):\n",
    "        break\n",
    "    \n",
    "print(\"Se obtuvo que el K que minizaba la cantidad de veces que se realizará la prueba es \" + str(k_menor))\n",
    "print(\"Con este K, en esta simulación se realizaron \" + str(menor) + \" pruebas\")\n",
    "print(\"La cantidad de grupos revisados fue \" + str(xd_menor))"
   ]
  },
  {
   "cell_type": "markdown",
   "metadata": {},
   "source": [
    "Ahora comparando esto con lo obtenido en la pregunta a se observa que aproximadamente el valor de K teórico con los valores mostrados anteriormente, daría un valor cercano a un K = 10.\n",
    "Obviamente, el valor obtenido teóricamente en la pregunta a sería más que nada una estimación, ya que no puedo tener 0,1 perritos, pero la idea general está ahí."
   ]
  },
  {
   "cell_type": "markdown",
   "metadata": {},
   "source": [
    ">c) Ahora usted conoce la cantidad de perros infectados, realice el mismo experimento que en b) y compare sus resultados. ¿A qué se debe esta diferencia? "
   ]
  },
  {
   "cell_type": "markdown",
   "metadata": {},
   "source": [
    "En el siguiente código, se realizá la misma lógica de la pregunta anterior, con el simple cambio que cuando uno encuentre los 8 perros enfermos se parará el experimento."
   ]
  },
  {
   "cell_type": "code",
   "execution_count": 71,
   "metadata": {},
   "outputs": [
    {
     "name": "stdout",
     "output_type": "stream",
     "text": [
      "Se obtuvo que el K que minizaba la cantidad de veces que se realizará la prueba es 10\n",
      "Con este K, en esta simulación se realizaron 112 pruebas\n"
     ]
    }
   ],
   "source": [
    "perros = []\n",
    "i = 0\n",
    "while(i < 500):\n",
    "    perros.append(0)\n",
    "    i += 1\n",
    "j = 0\n",
    "yainfectados = []\n",
    "while(j < 8):\n",
    "    x = random.randint(0,499)\n",
    "    if x not in yainfectados:\n",
    "        perros[x] = 1\n",
    "        yainfectados.append(x)\n",
    "    j += 1\n",
    "k = 1\n",
    "menor_k = 1293823\n",
    "numero_intentos_menor = 10123912\n",
    "while(1):\n",
    "    numeros_intentos = 0\n",
    "    perritos_encontrado = 0\n",
    "    if(500/k == int(500/k)):\n",
    "        j = 0\n",
    "        while(j < 500/k):\n",
    "            i = 0\n",
    "            grupos = []\n",
    "            while(i < k):\n",
    "                grupos.append(perros[j*k+i])\n",
    "                i += 1\n",
    "            numeros_intentos += 1\n",
    "            if(1 in grupos):\n",
    "                i = 0\n",
    "                while(i < k):\n",
    "                    if(grupos[i] == 1):\n",
    "                        perritos_encontrado += 1\n",
    "                    numeros_intentos += 1\n",
    "                    if(perritos_encontrado == 8):\n",
    "                        break\n",
    "                    i += 1\n",
    "            if(perritos_encontrado == 8):\n",
    "                break\n",
    "            j += 1\n",
    "        if(numeros_intentos < numero_intentos_menor):\n",
    "            numero_intentos_menor = numeros_intentos\n",
    "            menor_k = k\n",
    "    if(k == 500):\n",
    "        break\n",
    "    k += 1\n",
    "print(\"Se obtuvo que el K que minizaba la cantidad de veces que se realizará la prueba es \" + str(menor_k))\n",
    "print(\"Con este K, en esta simulación se realizaron \" + str(numero_intentos_menor) + \" pruebas\")\n",
    "                        "
   ]
  },
  {
   "cell_type": "markdown",
   "metadata": {},
   "source": [
    "Comparando los resultados aquí obtenidos junto a los resultados de la pregunta b, se puede observar que de todas maneras el K que minimiza la cantidad de pruebas a realizar seguirá siendo 10, ya que de toda maneras esa será la forma más eficiente, pero la cantidad de revisiones que se realizarán serán menor a la cantidad anterior, ya que si uno encuentra los 8 perros infectados no tiene para que seguir revisando, ya que sabe que hay 8 no más ni menos.\n"
   ]
  },
  {
   "cell_type": "markdown",
   "metadata": {},
   "source": [
    "## Reglas del Juego y Comentarios \n",
    "\n",
    "+ Errores ortográficos, de redacción y oraciones ambiguas descontarán parte de su puntaje.\n",
    "+ Dudas solamente hasta el día 27 de Abril a las 15hrs.\n",
    "+ Dudas **principalmente** vía moodle, evite otro tipo de medio ya que su duda podría ser la de otro.\n",
    "+ Cada día de atraso descuenta 25 puntos de la nota final con un máximo de dos días de retraso (después es 0).\n",
    "+ La versión de R que se usará para revisar es 3.5.3\n",
    "+ La versión de Python que se usará para revisar es 3.6.8\n",
    "+ Use cualquier librería que estime conveniente, si requiere de instalación explicitarlo en el README (y bien explicitado).\n",
    "+ Código comentado para facilitar entendimiento.\n",
    "+ Sea formal y claro con su respuesta, **explique su procedimiento y luego responda.** \n",
    "+ Defina bien las secciones de su notebook, el orden siempre es bueno :) [Tips para usar Markdown](https://github.com/adam-p/markdown-here/wiki/Markdown-Cheatsheet)"
   ]
  }
 ],
 "metadata": {
  "kernelspec": {
   "display_name": "Python 3",
   "language": "python",
   "name": "python3"
  },
  "language_info": {
   "codemirror_mode": {
    "name": "ipython",
    "version": 3
   },
   "file_extension": ".py",
   "mimetype": "text/x-python",
   "name": "python",
   "nbconvert_exporter": "python",
   "pygments_lexer": "ipython3",
   "version": "3.5.2"
  },
  "widgets": {
   "state": {
    "2a78db5e20b94f1591e66e09734efd84": {
     "views": [
      {
       "cell_index": 3
      }
     ]
    }
   },
   "version": "1.2.0"
  }
 },
 "nbformat": 4,
 "nbformat_minor": 2
}
