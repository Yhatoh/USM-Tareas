{
 "cells": [
  {
   "cell_type": "markdown",
   "metadata": {},
   "source": [
    "<table style=\"width:100%\">\n",
    "  <tr>\n",
    "    <th align=\"right\"><img src=\"img/dilogo.png\" style=\"float:left;height:90px\"></th>\n",
    "    <th align=\"center\">\n",
    "    <h1 align=\"center\">Laboratorio 2</h1>\n",
    "    <h2 align=\"center\">Profesor: Ricardo Ñanculef</h2>\n",
    "    <h3 align=\"center\">Ayudante: Gabriel Ortega</h3>\n",
    "    <h3 align=\"center\">Gabriel_Carmona;201773509-0;Nueva</h3>\n",
    "    <h3 align=\"center\">Jorge_Ludueña;201773507-4;Nueva</h3>\n",
    "    <h3 align=\"center\">Abril 2019</h3>\n",
    "    </th> \n",
    "    <th align=\"left\"><img src=\"img/usmlogo.png\" style=\"float:right;height:85px\"></th>\n",
    "  </tr>"
   ]
  },
  {
   "cell_type": "markdown",
   "metadata": {},
   "source": [
    "## Instrucciones\n",
    "\n",
    "La modalidad de trabajo será mediante el uso de jupyter notebook. El notebook debe ser desarrollado en parejas o individual. Este laboratorio debe ser entregado el día 3 de Mayo.\n",
    "\n",
    "La **modalidad de entrega será un archivo Apellido1_Apellido2_Lab2.zip** que contenga un notebook que incluya todas las preguntas con sus respectivas respuestas + un README que indique la forma correcta de ejecutar su notebook. El laboratorio puede ser trabajado tanto en lenguaje R como en lenguaje python (para los que usen python 2.X, absténganse a las consecuencias). Lea bien el enunciado.\n",
    "\n",
    "\n",
    "**Cualquier copia detectada implicará nota 0 en el laboratorio correspondiente y se notificará la situación al profesor.**\n"
   ]
  },
  {
   "cell_type": "markdown",
   "metadata": {},
   "source": [
    "---\n",
    "**Esto es solo una sugerencia y no tendrá ningún impacto en su nota**\n",
    "\n",
    "## Tip para Gráficos (Python)\n",
    "\n",
    "Puede hacer sus gráficos un poco más estilosos utilizando la libreria seaborn\n",
    "\n",
    "```python\n",
    "import matplotlib.pyplot as plt\n",
    "import seaborn as sns\n",
    "sns.set()\n",
    "%matplotlib inline #con esto no es necesario hacer plt.show()\n",
    "```\n",
    "\n",
    "El uso es igual que un gráfico de matplotlib, solo que ```sns.set()``` hace que se cargue la visualización de seaborn encima. [Informacion sobre seaborn.set()](https://seaborn.pydata.org/generated/seaborn.set.html)\n",
    "\n",
    "## Tip para Gráficos (R)\n",
    "\n",
    "Puede hacer sus gráficos un poco más estilosos utilizando la libreria [ggplot2](https://www.statmethods.net/advgraphs/ggplot2.html)\n",
    "\n",
    "\n",
    "## Interactive Widgets\n",
    "\n",
    "Si usted está trabajando en python puede hacer una widget interactiva que varíe los parámetros de una función, como se puede ver en el siguiente fragmento de código (debe ejecutarlo)."
   ]
  },
  {
   "cell_type": "code",
   "execution_count": 72,
   "metadata": {},
   "outputs": [],
   "source": [
    "from ipywidgets import interact \n",
    "import matplotlib.pyplot as plt\n",
    "import seaborn as sns\n",
    "import numpy as np\n",
    "import random\n",
    "import math\n",
    "import pandas as pd\n",
    "sns.set()\n",
    "%matplotlib inline \n",
    "\n",
    "def plot_serie(x):\n",
    "    values = np.arange(1,x,0.5)**2\n",
    "    values2 = np.arange(1,x,0.5)**3\n",
    "    plt.xlabel(\"X\")\n",
    "    plt.ylabel(\"Y\")\n",
    "    plt.plot(values/values2)\n",
    "        \n",
    "\n",
    "interact(plot_serie,x=(2,20))"
   ]
  },
  {
   "cell_type": "markdown",
   "metadata": {},
   "source": [
    "---\n",
    "## 1. Retención de Clientes\n",
    "\n",
    "La fuga (*churn*, término en inglés) de clientes es algo que muchas empresas de hoy en día sufren, la fuga puede deberse a muchos factores, uno de estos podría ser alguna característica del servicio en sí que provee la empresa. En esta sección usted trabajará con un dataset de \"Telco\", una empresa de telecomunicaciones, donde verá varios datos relacionados al plan de los clientes, uno de estos campos siendo \"*Churn*\", si el cliente se fugó o no. \n",
    "\n",
    "El archivo a utilizar es \"churn.csv\" y para información extra puede referirse a [este enlace](https://www.kaggle.com/blastchar/telco-customer-churn)\n",
    "\n",
    ">a) Haga un análisis exploratorio **a su criterio** del dataset y extraiga 3 conclusiones acerca del conjunto de datos"
   ]
  },
  {
   "cell_type": "code",
   "execution_count": 37,
   "metadata": {},
   "outputs": [],
   "source": [
    "from ipywidgets import interact \n",
    "import matplotlib.pyplot as plt\n",
    "from matplotlib.patches import Rectangle\n",
    "import seaborn as sns\n",
    "import numpy as np\n",
    "import random\n",
    "import math\n",
    "import pandas as pd\n",
    "sns.set()\n",
    "%matplotlib inline \n",
    "\n",
    "\"\"\"\"\n",
    "Función que permite mostrar el histograma de “Tenure by gender”, \n",
    "de manera interactiva, variando los bins con los cual se presenta\n",
    "\"\"\"\"\n",
    "def plot_serie(a):\n",
    "    x = pd.read_csv(\"churn.csv\")\n",
    "    efe = x[(x.gender == \"Male\")]\n",
    "    ofo = x[(x.gender == \"Female\")]\n",
    "    ele = [efe.tenure.values.reshape(3555,1), ofo.tenure.values.reshape(3488,1)]\n",
    "    handles = [Rectangle((0,0),1,1,color=c,ec=\"k\") for c in [\"blue\", \"green\"]]\n",
    "    labels= [\"Male\", \"Female\"]\n",
    "    _= plt.legend(handles, labels)\n",
    "    _= plt.hist(ele,a)\n",
    "    _= plt.title('Tenure by gender')\n",
    "    _= plt.xlabel('Months')\n",
    "    _= plt.ylabel('People')\n",
    "\n",
    "    \n",
    "\"\"\"\"\n",
    "Función que permite mostrar el histograma de “Tenure per Internet Service”, \n",
    "de manera interactiva, variando los bins con los cual se presenta\n",
    "\"\"\"\"\n",
    "def histo1(a):\n",
    "    x = pd.read_csv(\"churn.csv\")\n",
    "    efe = x[(x.gender == \"Male\")]\n",
    "    ofo = x[(x.gender == \"Female\")]\n",
    "    ele = [efe.tenure.values.reshape(3555,1), ofo.tenure.values.reshape(3488,1)]\n",
    "    _= plt.hist(ele,a)\n",
    "    handles = [Rectangle((0,0),1,1,color=c,ec=\"k\") for c in [\"blue\", \"green\"]]\n",
    "    labels= [\"Fiber optic\", \"DLS\"]\n",
    "    plt.legend(handles, labels)\n",
    "    _= plt.title('Tenure per Internet Service')\n",
    "    _= plt.xlabel('Months')\n",
    "    _= plt.ylabel('People')\n",
    "\n",
    "\n",
    "\n",
    "x = pd.read_csv(\"churn.csv\")"
   ]
  },
  {
   "cell_type": "code",
   "execution_count": 38,
   "metadata": {},
   "outputs": [
    {
     "data": {
      "image/png": "[encoded data removed]",
      "text/plain": [
       "<Figure size 432x288 with 1 Axes>"
      ]
     },
     "metadata": {},
     "output_type": "display_data"
    }
   ],
   "source": [
    "efe = x[(x.InternetService == \"Fiber optic\")]\n",
    "ofo = x[(x.InternetService == \"DSL\")]\n",
    "ele = [efe.MonthlyCharges.values.reshape(3096,1), ofo.MonthlyCharges.values.reshape(2421,1)]\n",
    "_= plt.boxplot(ele, labels=[\"Fiber optic\", \"DLS\"])\n",
    "_= plt.title('Monthly cost per Internet Service')\n",
    "_= plt.xlabel('Internet Service')\n",
    "_= plt.ylabel('Monthly Cost')\n"
   ]
  },
  {
   "cell_type": "code",
   "execution_count": 76,
   "metadata": {},
   "outputs": [
    {
     "data": {
      "image/png": "[encoded data removed]",
      "text/plain": [
       "<Figure size 432x288 with 1 Axes>"
      ]
     },
     "metadata": {},
     "output_type": "display_data"
    }
   ],
   "source": [
    "interact(histo1,a=(1,20))"
   ]
  },
  {
   "cell_type": "code",
   "execution_count": 77,
   "metadata": {},
   "outputs": [
    {
     "data": {
      "image/png": "[encoded data removed]",
      "text/plain": [
       "<Figure size 432x288 with 1 Axes>"
      ]
     },
     "metadata": {},
     "output_type": "display_data"
    }
   ],
   "source": [
    "interact(plot_serie,a=(1,20))"
   ]
  },
  {
   "cell_type": "markdown",
   "metadata": {},
   "source": [
    "Del boxplot presentado se puede observar que la mediana del costo mensual de la fibra óptica, está por sobre la mediana del coste de el servicio de DSL, por lo cual extraemos del dataset, que la fibra óptica posee, en la mayoría de los casos, un coste mensual mayor, por lo cual se puede decir que es un servicio más caro.\n",
    "\n",
    "En base al histograma “Tenure per Internet Services”, se puede apreciar que la cantidad de meses que se queda una persona, tiende a ser entre 0 y 10, o 65 y 70. Es decir que la gente tiende a quedarse poco, o tiende a irse luego de un largo tiempo.\n",
    "\n",
    "Por último, observando el histograma “Tenure by gender”, se puede concluir que, el tiempo que tiene un hombre y una mujer, tiende a ser muy parecido, de lo cual se puede deducir que no importa el sexo de la persona, no afectará en gran medida a su decisión de quedarse o cambiarse."
   ]
  },
  {
   "cell_type": "code",
   "execution_count": 83,
   "metadata": {},
   "outputs": [
    {
     "data": {
      "text/html": [
       "<div>\n",
       "<table border=\"1\" class=\"dataframe\">\n",
       "  <thead>\n",
       "    <tr style=\"text-align: right;\">\n",
       "      <th></th>\n",
       "      <th>SeniorCitizen</th>\n",
       "      <th>tenure</th>\n",
       "      <th>MonthlyCharges</th>\n",
       "    </tr>\n",
       "  </thead>\n",
       "  <tbody>\n",
       "    <tr>\n",
       "      <th>count</th>\n",
       "      <td>7043.000000</td>\n",
       "      <td>7043.000000</td>\n",
       "      <td>7043.000000</td>\n",
       "    </tr>\n",
       "    <tr>\n",
       "      <th>mean</th>\n",
       "      <td>0.162147</td>\n",
       "      <td>32.371149</td>\n",
       "      <td>64.761692</td>\n",
       "    </tr>\n",
       "    <tr>\n",
       "      <th>std</th>\n",
       "      <td>0.368612</td>\n",
       "      <td>24.559481</td>\n",
       "      <td>30.090047</td>\n",
       "    </tr>\n",
       "    <tr>\n",
       "      <th>min</th>\n",
       "      <td>0.000000</td>\n",
       "      <td>0.000000</td>\n",
       "      <td>18.250000</td>\n",
       "    </tr>\n",
       "    <tr>\n",
       "      <th>25%</th>\n",
       "      <td>0.000000</td>\n",
       "      <td>9.000000</td>\n",
       "      <td>35.500000</td>\n",
       "    </tr>\n",
       "    <tr>\n",
       "      <th>50%</th>\n",
       "      <td>0.000000</td>\n",
       "      <td>29.000000</td>\n",
       "      <td>70.350000</td>\n",
       "    </tr>\n",
       "    <tr>\n",
       "      <th>75%</th>\n",
       "      <td>0.000000</td>\n",
       "      <td>55.000000</td>\n",
       "      <td>89.850000</td>\n",
       "    </tr>\n",
       "    <tr>\n",
       "      <th>max</th>\n",
       "      <td>1.000000</td>\n",
       "      <td>72.000000</td>\n",
       "      <td>118.750000</td>\n",
       "    </tr>\n",
       "  </tbody>\n",
       "</table>\n",
       "</div>"
      ],
      "text/plain": [
       "       SeniorCitizen       tenure  MonthlyCharges\n",
       "count    7043.000000  7043.000000     7043.000000\n",
       "mean        0.162147    32.371149       64.761692\n",
       "std         0.368612    24.559481       30.090047\n",
       "min         0.000000     0.000000       18.250000\n",
       "25%         0.000000     9.000000       35.500000\n",
       "50%         0.000000    29.000000       70.350000\n",
       "75%         0.000000    55.000000       89.850000\n",
       "max         1.000000    72.000000      118.750000"
      ]
     },
     "execution_count": 83,
     "metadata": {},
     "output_type": "execute_result"
    }
   ],
   "source": [
    "x.describe()"
   ]
  },
  {
   "cell_type": "markdown",
   "metadata": {},
   "source": [
    "> b.1) Determine la probabilidad de que: <ul>\n",
    "    <li>Un cliente sea mujer dado que tiene fibra óptica </li>\n",
    "    <li>Un cliente sea hombre dado que tiene fibra óptica</li>\n",
    "    <li>Un cliente sea mujer dado que no tiene fibra óptica</li>\n",
    "    <li>Un cliente sea hombre dado que no tiene fibra óptica</li>\n",
    "    </ul>\n",
    "    Además indique cuál/es de estos pares deben sumar 1 (Si es que algún par debe sumar esta cantidad). Justifique su respuesta.\n",
    "    "
   ]
  },
  {
   "cell_type": "markdown",
   "metadata": {},
   "source": [
    "Mediante pandas, se obtiene la cantidad total de los datos que cumplen una restricción (ser mujer, hombre, tener fibra óptica, etc), y las cantidades que cumplen 2 restricciones al mismo tiempo (ser hombre y tener DSL, ser mujer y tener fibra óptica, etc). Con esto  datos y reglas de probabilidad condicional, se calculan las probabilidades requeridas."
   ]
  },
  {
   "cell_type": "code",
   "execution_count": 40,
   "metadata": {},
   "outputs": [
    {
     "name": "stdout",
     "output_type": "stream",
     "text": [
      "La probabilidad de que un cliente sea mujer dado que tiene fibra óptica es: \n",
      "0.5016149870801033\n",
      "\n",
      "La probabilidad de que un cliente sea hombre dado que tiene fibra óptica es: \n",
      "0.4983850129198966\n",
      "\n"
     ]
    }
   ],
   "source": [
    "\n",
    "\n",
    "Totalfibra = len(x[x.InternetService == \"Fiber optic\"])\n",
    "\n",
    "Femeninofibra= len(x[(x.gender == \"Female\") & (x.InternetService == \"Fiber optic\")])\n",
    "Masculinofibra = len(x[(x.gender == \"Male\") & (x.InternetService == \"Fiber optic\")])\n",
    "\n",
    "Probfemeninofibra = Femeninofibra/Totalfibra\n",
    "Probmasculinofibra = Masculinofibra/Totalfibra\n",
    "\n",
    "\n",
    "\n",
    "print(\"La probabilidad de que un cliente sea mujer dado que tiene fibra óptica es: \\n\" +str(Probfemeninofibra)+\"\\n\")\n",
    "print(\"La probabilidad de que un cliente sea hombre dado que tiene fibra óptica es: \\n\" +str(Probmasculinofibra)+\"\\n\")\n"
   ]
  },
  {
   "cell_type": "code",
   "execution_count": 41,
   "metadata": {},
   "outputs": [
    {
     "name": "stdout",
     "output_type": "stream",
     "text": [
      "La probabilidad de que un cliente sea mujer dado que no tiene fibra óptica es: \n",
      "0.49024575627058525\n",
      "\n",
      "La probabilidad de que un cliente sea hombre dado que no tiene fibra óptica es: \n",
      "0.5097542437294147\n",
      "\n"
     ]
    }
   ],
   "source": [
    "Totalnofibra = len(x[x.InternetService != \"Fiber optic\"])\n",
    "\n",
    "Femeninonofibra = len(x[(x.gender == \"Female\")& (x.InternetService != \"Fiber optic\")])\n",
    "Masculinonofibra = len(x[(x.gender == \"Male\")& (x.InternetService != \"Fiber optic\")])\n",
    "\n",
    "Probafemeninonofibra = Femeninonofibra/Totalnofibra\n",
    "Probamasculinonofibra = Masculinonofibra/Totalnofibra\n",
    "\n",
    "print(\"La probabilidad de que un cliente sea mujer dado que no tiene fibra óptica es: \\n\" +str(Probafemeninonofibra)+\"\\n\")\n",
    "print(\"La probabilidad de que un cliente sea hombre dado que no tiene fibra óptica es: \\n\" +str(Probamasculinonofibra)+\"\\n\")"
   ]
  },
  {
   "cell_type": "markdown",
   "metadata": {},
   "source": [
    "Las probabilidades que deben sumar  aproximadamente 1, en este caso deben ser la probabilidad de que un cliente sea mujer dado que tiene fibra óptica con probabilidad de que un cliente sea hombre dado que tiene fibra óptica. Por otro lado, la probabilidad de que sea mujer dado que no tiene fibra óptica sumado a la probabilidad de que sea hombre dado que no tiene fibra óptica"
   ]
  },
  {
   "cell_type": "markdown",
   "metadata": {},
   "source": [
    ">b.2) ¿Es posible concluir que si un cliente es hombre tiene más probabilidad de tener fibra óptica? ¿Y si es mujer? ¿Por qué?"
   ]
  },
  {
   "cell_type": "code",
   "execution_count": 78,
   "metadata": {},
   "outputs": [
    {
     "name": "stdout",
     "output_type": "stream",
     "text": [
      "Probabilidad de que tenga fibra optica dado que es hombre:\n",
      "0.4340365682137834\n",
      "\n",
      "Probabilidad de que tenga fibra optica dado que es mujer:\n",
      "0.4452408256880734\n"
     ]
    }
   ],
   "source": [
    "Totalfemenino = len(x[x.gender == \"Female\"])\n",
    "Totalmasculino = len(x[x.gender == \"Male\"])\n",
    "\n",
    "Probafibramasculino = Masculinofibra/Totalmasculino\n",
    "Probafibrafemenino = Femeninofibra/Totalfemenino\n",
    "print(\"Probabilidad de que tenga fibra óptica dado que es hombre:\")\n",
    "print(Probafibramasculino)\n",
    "\n",
    "print()\n",
    "print(\"Probabilidad de que tenga fibra óptica dado que es mujer:\")\n",
    "print(Probafibrafemenino)"
   ]
  },
  {
   "cell_type": "code",
   "execution_count": 26,
   "metadata": {},
   "outputs": [
    {
     "name": "stdout",
     "output_type": "stream",
     "text": [
      "Cantidad de fibra optica que se encuentra bajo la media del costo mensual\n",
      "155\n",
      "\n",
      "Cantidad de fibra optica que se encuentra sobre la media del costo mensual\n",
      "2941\n",
      "\n",
      "Cantidad de DSL que se encuentra bajo la media del costo mensual\n",
      "1838\n",
      "\n",
      "Cantidad de DSL que se encuentra sobre la media del costo mensual\n",
      "583\n",
      "\n"
     ]
    }
   ],
   "source": [
    "print(\"Cantidad de fibra optica que se encuentra bajo la media del costo mensual:\")\n",
    "print(len(x[(x.InternetService == \"Fiber optic\") & (x.MonthlyCharges < 70.35)]))\n",
    "print()\n",
    "\n",
    "print(\"Cantidad de fibra optica que se encuentra sobre la media del costo mensual:\")\n",
    "print(len(x[(x.InternetService == \"Fiber optic\") & (x.MonthlyCharges >= 70.35)]))\n",
    "print()\n",
    "\n",
    "print(\"Cantidad de DSL que se encuentra bajo la media del costo mensual:\")\n",
    "print(len(x[(x.InternetService == \"DSL\") & (x.MonthlyCharges < 70.35)]))\n",
    "print()\n",
    "\n",
    "print(\"Cantidad de DSL que se encuentra sobre la media del costo mensual:\")\n",
    "print(len(x[(x.InternetService == \"DSL\") & (x.MonthlyCharges >= 70.35)]))\n",
    "print()\n"
   ]
  },
  {
   "cell_type": "markdown",
   "metadata": {},
   "source": [
    "Considerando los cálculos obtenidos se tiene que la probabilidad que algún usuario tenga fibra óptica, dado que es hombre, es de aproximadamente 0.43, lo que nos dice que es menos probable que tenga fibra óptica, dado que es hombre. En el otro caso, la probabilidad de que tenga fibra óptica, dado que  es mujer, es de 0.45, lo que nos dice que es menos probable.\n",
    "\n",
    "Esto se puede deber a que el costo mensual de la fibra óptica, generalmente está sobre la mediana de este (2941 vs 155, dado por los cálculos), lo que hace más probable que, tanto hombre como mujer, prefieran DSL o simplemente no tener servicio de internet.\n"
   ]
  },
  {
   "cell_type": "markdown",
   "metadata": {},
   "source": [
    ">c) Utilizando criterios de probabilidad condicional ¿Hay algún servicio de internet más propenso a la fuga?"
   ]
  },
  {
   "cell_type": "code",
   "execution_count": 81,
   "metadata": {
    "scrolled": true
   },
   "outputs": [
    {
     "name": "stdout",
     "output_type": "stream",
     "text": [
      "Probabilidad de fuga dado que tiene fibra óptica\n",
      "0.4189276485788114\n",
      "\n",
      "Probabilidad de fuga dado que tiene DSL\n",
      "0.1895910780669145\n"
     ]
    }
   ],
   "source": [
    "Totaldsl = len(x[x.InternetService == \"DSL\"])\n",
    "Total = len(x[x.InternetService != \"No\"])\n",
    "Totalfugaservicios= len(x[(x.Churn==\"Yes\")&(x.InternetService != \"No\")])\n",
    "Fugafibra = len(x[(x.InternetService == \"Fiber optic\")&(x.Churn == \"Yes\")])\n",
    "\n",
    "print(\"Probabilidad de fuga dado que tiene fibra óptica:\")\n",
    "print(Fugafibra/Totalfibra)\n",
    "print()\n",
    "\n",
    "fugadsl = len(x[(x.InternetService == \"DSL\")&(x.Churn == \"Yes\")])\n",
    "\n",
    "print(\"Probabilidad de fuga dado que tiene DSL:\")\n",
    "print(fugadsl/Totaldsl)\n"
   ]
  },
  {
   "cell_type": "markdown",
   "metadata": {},
   "source": [
    "Como se puede apreciar en los cálculos, la probabilidad de que alguien se fugue dado que tiene fibra óptica, es de 0,42 aproximadamente, lo cual es mayor a la probabilidad de que se fugue dado que tiene DSL, el cual es 0.19 aproximadamente. Por lo cual se puede decir que la fibra óptica es más propensa a que alguien se fugue."
   ]
  },
  {
   "cell_type": "markdown",
   "metadata": {},
   "source": [
    ">d) Utilizando criterios de probabilidad condicional, ¿es el cargo mensual un buen predictor de la fuga? y ¿es la fuga un buen predictor del cargo mensual de un cliente?"
   ]
  },
  {
   "cell_type": "code",
   "execution_count": 90,
   "metadata": {},
   "outputs": [
    {
     "name": "stdout",
     "output_type": "stream",
     "text": [
      "Fuga dado que esta sobre la mediana de costo mensual: 0.351305334846765\n",
      "Estar sobre la mediana de costo mensual dado que se fugo: 0.6623863028357411\n",
      "\n",
      "\n",
      "Fuga dado que esta bajo la mediana de costo mensual: 0.17931230463199774\n",
      "Estar bajo la mediana de costo mensual dado que se fugo: 0.337613697164259\n"
     ]
    }
   ],
   "source": [
    "Totalfuga = len(x[x.Churn == \"Yes\"])\n",
    "\n",
    "\n",
    "Mensualsobremedia = len(x[x.MonthlyCharges >= 70.35])\n",
    "Mensualbajomedia = len(x[x.MonthlyCharges < 70.35])\n",
    "\n",
    "Sobremediafuga = len(x[(x.MonthlyCharges >= 70.35)&(x.Churn == \"Yes\")])\n",
    "\n",
    "Bajomediafuga = len(x[(x.MonthlyCharges < 70.35)&(x.Churn == \"Yes\")])\n",
    "\n",
    "Condicionalfugasobre = Sobremediafuga/Mensualsobremedia\n",
    "Condicionalsobrefuga = Sobremediafuga/Totalfuga\n",
    "\n",
    "Condicionalfugabajo = Bajomediafuga/Mensualbajomedia\n",
    "Condicionalbajofuga = Bajomediafuga/Totalfuga\n",
    "\n",
    "print(\"Fuga dado que esta sobre la mediana de costo mensual: \" + str(Condicionalfugasobre))\n",
    "print(\"Estar sobre la mediana de costo mensual dado que se fugo: \" + str(Condicionalsobrefuga))\n",
    "\n",
    "print(\"\\n\")\n",
    "\n",
    "print(\"Fuga dado que esta bajo la mediana de costo mensual: \" + str(Condicionalfugabajo))\n",
    "print(\"Estar bajo la mediana de costo mensual dado que se fugo: \" + str(Condicionalbajofuga))"
   ]
  },
  {
   "cell_type": "markdown",
   "metadata": {
    "collapsed": true
   },
   "source": [
    "En base a los cálculos, podemos observar que la única probabilidad mayor a 0,5, es la probabilidad de que esté sobre la mediana del costo mensual, dado que se fugó, por lo cual se puede concluir que el cargo mensual es un buen predictor de la fuga, si es que se utiliza la mediana de costo mensual como base. Sin embargo, el otro cálculo, fuga dado que está sobre la media, presenta una probabilidad muy baja, por lo cual podemos decir que la fuga no es un buen predictor del cargo mensual."
   ]
  },
  {
   "cell_type": "markdown",
   "metadata": {},
   "source": [
    ">e) Utilizando criterios de probabilidad condicional, ¿es el cargo mensual un buen predictor de la estadia de un cliente? y ¿es la estadia del cliente un buen predictor del cargo mensual de este?\n",
    "\n",
    "*Estadia*: tenure"
   ]
  },
  {
   "cell_type": "code",
   "execution_count": 89,
   "metadata": {},
   "outputs": [
    {
     "name": "stdout",
     "output_type": "stream",
     "text": [
      "0.5860124083474337\n",
      "0.4077834179357022\n",
      "0.41398759165256627\n",
      "0.5783981951494642\n",
      "0.5942236202459251\n",
      "0.4134972833857592\n",
      "0.41978839004861307\n",
      "0.5865027166142408\n",
      "0.5896708286038592\n",
      "0.4103291713961407\n",
      "0.41657207718501704\n",
      "0.5820090805902384\n",
      "0.5905086672350099\n",
      "0.41091219096334186\n",
      "0.4171639670360898\n",
      "0.5828360329639102\n"
     ]
    }
   ],
   "source": [
    "Sobretenure = len(x[x.tenure >= 29])\n",
    "Bajotenure = len(x[x.tenure < 29])\n",
    "\n",
    "Mensualsobremedia = len(x[x.MonthlyCharges >= 70.35])\n",
    "Mensualbajomedia = len(x[x.MonthlyCharges < 70.35])\n",
    "\n",
    "Bajosobre = len(x[(x.MonthlyCharges < 70.35)&(x.tenure >= 29)])\n",
    "Bajobajo = len(x[(x.MonthlyCharges < 70.35)&(x.tenure < 29)])\n",
    "Sobrebajo = len(x[(x.MonthlyCharges >= 70.35)&(x.tenure < 29)])\n",
    "Sobresobre = len(x[(x.MonthlyCharges >= 70.35)&(x.tenure >= 29)])\n",
    "\n",
    "SStS = Sobresobre/Sobretenure\n",
    "SBtS = Sobrebajo/Sobretenure\n",
    "BStS = Bajosobre/Sobretenure\n",
    "BBtS = Bajobajo/Sobretenure\n",
    "SStB = Sobresobre/Bajotenure\n",
    "SBtB = Sobrebajo/Bajotenure\n",
    "BStB = Bajosobre/Bajotenure\n",
    "BBtB = Bajobajo/Bajotenure\n",
    "SSmS = Sobresobre/Mensualsobremedia\n",
    "SBmS = Sobrebajo/Mensualsobremedia\n",
    "BSmS = Bajosobre/Mensualsobremedia\n",
    "BBmS = Bajobajo/Mensualsobremedia\n",
    "SSmB = Sobresobre/Mensualbajomedia\n",
    "SBmB = Sobrebajo/Mensualbajomedia\n",
    "BSmB = Bajosobre/Mensualbajomedia\n",
    "BBmB = Bajobajo/Mensualbajomedia\n",
    "\n",
    "\n",
    "\n",
    "print(SStS)\n",
    "print(SBtS)\n",
    "print(BStS)\n",
    "print(BBtS)\n",
    "print(SStB)\n",
    "print(SBtB)\n",
    "print(BStB)\n",
    "print(BBtB)\n",
    "print(SSmS)\n",
    "print(SBmS)\n",
    "print(BSmS)\n",
    "print(BBmS)\n",
    "print(SSmB)\n",
    "print(SBmB)\n",
    "print(BSmB)\n",
    "print(BBmB)\n",
    "\n",
    "\n"
   ]
  },
  {
   "cell_type": "markdown",
   "metadata": {},
   "source": [
    "En base a las diferentes probabilidades calculadas, podemos observar que ninguna presenta se aleja de la probabilidad 0,5 por lo cual se puede concluir que ninguno de los dos datos es buen predictor del otro."
   ]
  },
  {
   "cell_type": "markdown",
   "metadata": {},
   "source": [
    "## 2. Máquina de Rube Goldberg\n",
    "\n",
    "Una máquina de Rube Goldberg es un artefacto extremadamente complejo que realiza una tarea fácil. Usted, en su tiempo libre, decidió construir uno de estos artefactos que consta de 5 etapas:\n",
    "\n",
    "<ol>\n",
    "    <li>Lanza una bolita que rueda por un riel con una probabilidad de $\\dfrac{2}{5}$ de caerse</li>\n",
    "    <li>Después de rodar por el riel cae en una catapulta que la lanza en la dirección correcta el $60\\%$ de las veces</li>\n",
    "    <li>Impacta contra una tela que le frena el impulso y la hace caer sobre el interruptor de un ventilador, el $80\\%$ de las veces es capaz de activar el ventilador</li>\n",
    "    <li>Cuando el ventilador se activa empuja un barco de juguete en una fuente con agua hasta el otro extremo de esta para empujar otra bolita, el barco llega con suficiente impulso con una probabilidad de $\\dfrac{6}{9}$</li>\n",
    "    <li>Esta bolita rueda por otro riel y cae sobre el control remoto que enciende su televisor, en un $30\\%$ de las veces logra encenderlo</li>\n",
    "</ol>\n",
    "\n",
    ">a) Usted quiere subir su máquina de Rube Goldberg a Youtube™, estime cuántas veces (en promedio) tendrá que poner en marcha su máquina hasta que resulte por primera vez en video. A su vez, haga un gráfico mostrando la probabilidad de no tener éxito en función del número de puestas en marcha de la máquina y comente."
   ]
  },
  {
   "cell_type": "code",
   "execution_count": 10,
   "metadata": {},
   "outputs": [
    {
     "name": "stdout",
     "output_type": "stream",
     "text": [
      "216/3750\n",
      "13.4\n"
     ]
    },
    {
     "data": {
      "text/plain": [
       "<matplotlib.collections.PathCollection at 0x7f1c8b0208d0>"
      ]
     },
     "execution_count": 10,
     "metadata": {},
     "output_type": "execute_result"
    },
    {
     "data": {
      "image/png": "[encoded data removed]",
      "text/plain": [
       "<Figure size 432x288 with 1 Axes>"
      ]
     },
     "metadata": {},
     "output_type": "display_data"
    }
   ],
   "source": [
    "Prob = 3/5 * 3/5 * 4/5 * 2/3 * 3/10\n",
    "n = 5*5*5*3*10\n",
    "n1 = 3*3*4*2*3\n",
    "print(str(n1) + \"/\" + str(n))\n",
    "i = 0\n",
    "bien = 0\n",
    "numero_de_intentos = 0\n",
    "j = 0\n",
    "probabilidades_x = []\n",
    "probabilidades_y = []\n",
    "while(j < 10):\n",
    "    i = 0\n",
    "    while(i < 100000):\n",
    "        boi = random.randint(1,3750)\n",
    "        i += 1\n",
    "        if(boi <= 216):\n",
    "            break\n",
    "    j += 1\n",
    "    numero_de_intentos += i\n",
    "    \n",
    "print(numero_de_intentos/10)\n",
    "\n",
    "j = 0\n",
    "xd = 0\n",
    "while(j < 100):\n",
    "    i = 0\n",
    "    while(i < 100+j*100):\n",
    "        boi = random.randint(1,3750)\n",
    "        i += 1\n",
    "        if(boi <= 216):\n",
    "            xd += 1\n",
    "    probabilidades_x.append(100+j*100)\n",
    "    probabilidades_y.append(1-xd/(100+j*100))\n",
    "    j += 1\n",
    "    xd = 0\n",
    "plt.scatter(probabilidades_x, probabilidades_y)"
   ]
  },
  {
   "cell_type": "markdown",
   "metadata": {},
   "source": [
    "> b) Si usted cuenta con 1000 bolitas, estime tanto téorica como empíricamente cuántas bolitas fallan en cada estapa. Compare sus resultados obtenidos.\n",
    "\n",
    "*Recuerde que habrá una cantidad de bolitas que no fallarán*"
   ]
  },
  {
   "cell_type": "code",
   "execution_count": 11,
   "metadata": {},
   "outputs": [
    {
     "name": "stdout",
     "output_type": "stream",
     "text": [
      "400.0\n",
      "240.0\n",
      "72.0\n",
      "96.0\n",
      "134.4\n",
      "57.60000000000002\n",
      "\n",
      "\n",
      "1000\n",
      "389\n",
      "239\n",
      "69\n",
      "102\n",
      "135\n",
      "66\n"
     ]
    }
   ],
   "source": [
    "p = 1000*2/5\n",
    "pa= (1000-p)*2/5\n",
    "pap= (1000-p-pa)*1/5\n",
    "papa= (1000-p-pa-pap)*1/3\n",
    "papap= (1000-p-pa-pap-papa)*7/10\n",
    "\n",
    "\n",
    "print(p)\n",
    "print(pa)\n",
    "print(pap)\n",
    "print(papa)\n",
    "print(papap)\n",
    "print(1000-(p+pa+pap+papa+papap))\n",
    "print(\"\\n\")\n",
    "n = 0\n",
    "p2 = 0\n",
    "pa2 = 0\n",
    "pap2 = 0\n",
    "papa2 = 0\n",
    "papap2 = 0\n",
    "lologre = 0\n",
    "while(n < 1000):\n",
    "    x = random.randint(0,4)\n",
    "    if(x < 2):\n",
    "        p2 += 1\n",
    "    else:\n",
    "        x = random.randint(0,4)\n",
    "        if(x < 2):\n",
    "            pa2 += 1\n",
    "        else:\n",
    "            x = random.randint(0,4)\n",
    "            if(x < 1):\n",
    "                pap2 +=1\n",
    "            else:\n",
    "                x = random.randint(0,2)\n",
    "                if(x < 1):\n",
    "                    papa2 += 1\n",
    "                else:\n",
    "                    x = random.randint(0,9)\n",
    "                    if(x < 7):\n",
    "                        papap2 += 1\n",
    "                    else:\n",
    "                        lologre += 1\n",
    "    n+=1\n",
    "print(n)\n",
    "print(p2)\n",
    "print(pa2)\n",
    "print(pap2)\n",
    "print(papa2)\n",
    "print(papap2)\n",
    "print(lologre)"
   ]
  },
  {
   "cell_type": "markdown",
   "metadata": {},
   "source": [
    "> c) Determine la función de probabilidad que rige este fenómeno según todos los estados posibles de la bolita"
   ]
  },
  {
   "cell_type": "code",
   "execution_count": 12,
   "metadata": {},
   "outputs": [
    {
     "name": "stdout",
     "output_type": "stream",
     "text": [
      "0.4\n",
      "0.24\n",
      "0.072\n",
      "0.096\n",
      "0.1344\n",
      "0.0576\n"
     ]
    }
   ],
   "source": [
    "estado1 = 2/5\n",
    "estado2 = (3*2)/(5*5)\n",
    "estado3 = (3*3*1)/(5*5*5)\n",
    "estado4 = (3*3*4*1)/(5*5*5*3)\n",
    "estado5 = (3*3*4*2*7)/(5*5*5*3*10)\n",
    "print(estado1)\n",
    "print(estado2)\n",
    "print(estado3)\n",
    "print(estado4)\n",
    "print(estado5)\n",
    "print(Prob)\n",
    "\n",
    "\n"
   ]
  },
  {
   "cell_type": "markdown",
   "metadata": {},
   "source": [
    ">d) Genere 1000 valores aleatorios que sigan la función de probabilidad que encontró en c), haga un histograma y compare con lo obtenido en b)"
   ]
  },
  {
   "cell_type": "code",
   "execution_count": 13,
   "metadata": {},
   "outputs": [
    {
     "name": "stdout",
     "output_type": "stream",
     "text": [
      "390\n",
      "260\n",
      "77\n",
      "81\n",
      "130\n",
      "62\n"
     ]
    },
    {
     "data": {
      "image/png": "[encoded data removed]",
      "text/plain": [
       "<Figure size 432x288 with 1 Axes>"
      ]
     },
     "metadata": {},
     "output_type": "display_data"
    }
   ],
   "source": [
    "i = 0\n",
    "e1 = 0\n",
    "e2 = 0\n",
    "e3 = 0\n",
    "e4 = 0\n",
    "e5 = 0\n",
    "f = 0\n",
    "l = []\n",
    "while(i < 1000):\n",
    "    x = random.random()\n",
    "    if(x <= estado1):\n",
    "        e1 += 1\n",
    "        l.append(\"Estado 1\")\n",
    "    elif(estado1 < x <= estado1 + estado2):\n",
    "        e2 += 1\n",
    "        l.append(\"Estado 2\")\n",
    "    elif(estado1 + estado2 < x <= estado1 + estado2 + estado3):\n",
    "        e3 += 1\n",
    "        l.append(\"Estado 3\")\n",
    "    elif(estado1 + estado2 + estado3 < x <= estado1 + estado2 + estado3 + estado4):\n",
    "        e4 += 1\n",
    "        l.append(\"Estado 4\")\n",
    "    elif(estado1 + estado2 + estado3 + estado4 < x <= estado1 + estado2 + estado3 + estado4 + estado5):\n",
    "        e5 += 1\n",
    "        l.append(\"Estado 5\")\n",
    "    else:\n",
    "        l.append(\"Lo logro\")\n",
    "        f += 1\n",
    "    i+=1\n",
    "l.sort()\n",
    "print(e1)\n",
    "print(e2)\n",
    "print(e3)\n",
    "print(e4)\n",
    "print(e5)\n",
    "print(f)\n",
    "\n",
    "data = np.array(l)\n",
    "plt.hist(data)\n",
    "plt.show()"
   ]
  },
  {
   "cell_type": "markdown",
   "metadata": {},
   "source": [
    "## 3. Perritos Enfermos\n",
    "\n",
    "Usted trabaja en un refugio de animales que se especializa en recibir perros, además de contar con el equipo necesario para tratar con enfermedades que estos puedan presentar. Viendo las noticias se enteró que un virus sumamente peligroso para los perros se está expandiendo rápidamente por la zona y sospecha que algunos de los perros bajo su cuidado pueden estar infectados pero, no presentan un síntoma de momento. Para suerte suya este virus tiene cura hace tiempo y cuenta con el equipo para analizar muestras de saliva para detectar qué perro está infectado con el virus o no.\n",
    "\n",
    "Usted tiene 500 perros, para no hacer la prueba 1 a 1 ha decidido juntar muestras de saliva en grupos de $K$ perros (con $K$ siendo un divisor de 500), y en caso de que el examen arroje positivo hará la prueba 1 a 1 del grupo. Asuma que 8 perros están infectados, pero usted no sabe esto a priori.\n",
    "\n",
    ">a) ¿Es posible determinar **teóricamente** un $K$ tal que la cantidad de veces que se realiza la prueba sea la menor posible? De ser así, encuentre dicho K. ¿Qué distribución es comparable a este fenómeno?"
   ]
  },
  {
   "cell_type": "markdown",
   "metadata": {},
   "source": [
    "Si separo los perros en grupos de K perros, eso significa que tendre $\\dfrac{500}{K}$ grupos.\n",
    "\n",
    "Ahora bien, como no conosco la cantidad de perros enfermos, entonces tendré que si o si realizar la prueba, por lo menos, $\\dfrac{500}{K}$.\n",
    "\n",
    "Luego, si por cada grupo en que la prueba salga positivo, realizare K veces la prueba.\n",
    "\n",
    "Por lo que nos queda la siguiente función $f(K) = \\dfrac{500}{K} + R*K$, donde R representa la cantidad de veces que la prueba salio positiva.\n",
    "\n",
    "Ahora, para obtener un K mínimo teórico, procedemos a derivar la función anterior.\n",
    "\n",
    "$f'(K) = -\\dfrac{500}{K²} + R = 0$\n",
    "\n",
    "$\\dfrac{500}{K²} = R$\n",
    "\n",
    "$K = \\sqrt{\\dfrac{500}{R}}$\n",
    "\n",
    "Para terminar, este problema lo podemos asemejar a la distribución hipergeométrica, ya que se realizan pruebas a un grupo de K perros de un población original de 500 perros, lo cual describe basicamente la estructura de la distribución hipergeométrica."
   ]
  },
  {
   "cell_type": "markdown",
   "metadata": {},
   "source": [
    ">b) Encuentre **empíricamente** un valor de $K$ que minimice la cantidad de veces que se realiza la prueba y compare con el obtenido en b)"
   ]
  },
  {
   "cell_type": "code",
   "execution_count": null,
   "metadata": {
    "collapsed": true
   },
   "outputs": [],
   "source": []
  },
  {
   "cell_type": "markdown",
   "metadata": {},
   "source": [
    ">c) Ahora usted conoce la cantidad de perros infectados, realice el mismo experimento que en b) y compare sus resultados. ¿A qué se debe esta diferencia? "
   ]
  },
  {
   "cell_type": "code",
   "execution_count": null,
   "metadata": {
    "collapsed": true
   },
   "outputs": [],
   "source": []
  },
  {
   "cell_type": "markdown",
   "metadata": {},
   "source": [
    "## Reglas del Juego y Comentarios \n",
    "\n",
    "+ Errores ortográficos, de redacción y oraciones ambiguas descontarán parte de su puntaje.\n",
    "+ Dudas solamente hasta el día 27 de Abril a las 15hrs.\n",
    "+ Dudas **principalmente** vía moodle, evite otro tipo de medio ya que su duda podría ser la de otro.\n",
    "+ Cada día de atraso descuenta 25 puntos de la nota final con un máximo de dos días de retraso (después es 0).\n",
    "+ La versión de R que se usará para revisar es 3.5.3\n",
    "+ La versión de Python que se usará para revisar es 3.6.8\n",
    "+ Use cualquier librería que estime conveniente, si requiere de instalación explicitarlo en el README (y bien explicitado).\n",
    "+ Código comentado para facilitar entendimiento.\n",
    "+ Sea formal y claro con su respuesta, **explique su procedimiento y luego responda.** \n",
    "+ Defina bien las secciones de su notebook, el orden siempre es bueno :) [Tips para usar Markdown](https://github.com/adam-p/markdown-here/wiki/Markdown-Cheatsheet)"
   ]
  }
 ],
 "metadata": {
  "kernelspec": {
   "display_name": "Python 3",
   "language": "python",
   "name": "python3"
  },
  "language_info": {
   "codemirror_mode": {
    "name": "ipython",
    "version": 3
   },
   "file_extension": ".py",
   "mimetype": "text/x-python",
   "name": "python",
   "nbconvert_exporter": "python",
   "pygments_lexer": "ipython3",
   "version": "3.5.2"
  },
  "widgets": {
   "state": {
    "a9404ecd6e6a48de8bbadcc80a8966f2": {
     "views": [
      {
       "cell_index": 8
      }
     ]
    },
    "b532cacbe2be4cc7bf044afff07a2688": {
     "views": [
      {
       "cell_index": 7
      }
     ]
    }
   },
   "version": "1.2.0"
  }
 },
 "nbformat": 4,
 "nbformat_minor": 2
}
