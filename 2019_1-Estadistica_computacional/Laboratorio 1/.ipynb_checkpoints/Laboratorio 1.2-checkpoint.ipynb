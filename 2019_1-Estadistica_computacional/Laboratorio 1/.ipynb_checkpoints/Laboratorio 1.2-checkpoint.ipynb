{
 "cells": [
  {
   "cell_type": "markdown",
   "metadata": {},
   "source": [
    "<img src=\"img/usmlogo.png\" style=\"float:right;height:85px\"> <img src=\"img/dilogo.png\" style=\"float:left;height:90px\">\n",
    "<center>\n",
    "    <h1> Laboratorio 1 </h1>\n",
    "    <h2> Profesor: Ricardo Ñanculef </h2>\n",
    "    <h3> Ayudante: Gabriel Ortega </h3>\n",
    "    <h4> Alumno ; Rol ; Malla </h4>\n",
    "    <h4> Alumno2 ; Rol ; Malla </h4>\n",
    "</center>\n",
    "<p>\n",
    "<center><h4>Marzo 2019</h4></center>\n",
    "</p>"
   ]
  },
  {
   "cell_type": "markdown",
   "metadata": {},
   "source": [
    "## Instrucciones\n",
    "\n",
    "\n",
    "La modalidad de trabajo será mediante el uso de jupyter notebook. El notebook debe ser desarrollado en parejas o individual. Este laboratorio debe ser entregado el día 5 de abril.\n",
    "\n",
    "La **modalidad de entrega será un archivo Apellido1_Apellido2_Lab1.zip** que contenga un notebook que incluya todas las preguntas con sus respectivas respuestas + un README que indique la forma correcta de ejecutar su notebook. Este notebook presenta ciertas preguntas marcadas con **O:** que indican que para los alumnos de malla nueva es opcional, pero obligatoria para los alumnos de malla vieja. En el caso de haber una pareja con un integrante de malla nueva y uno de malla vieja, se considera malla vieja. El laboratorio puede ser trabajado tanto en lenguaje R como en lenguaje python (para los que usen python 2.X, absténganse a las consecuencias). Lea bien el enunciado.\n",
    "\n",
    "\n",
    "**Cualquier copia detectada implicará reprobación del laboratorio con nota 0 (lo que implica reprobar el ramo con nota 0) además de la notificación correspondiente al Profesor.** \n",
    "\n",
    "**Puntos bonus para todos:** Debido a que a veces hay preguntas que les piden una conclusión utilizando ciertos elementos, si lo desea, puede agregar elementos extra para hacer una mejor conclusión o concluir algo más que tenga sentido con lo anterior; estos gráficos pueden otorgar puntos bonus dependiendo de su calidad y del comentario que lo acompañe (con un máximo de 3 puntos bonus por pregunta, no acumulables si alcanza la nota máxima)"
   ]
  },
  {
   "cell_type": "markdown",
   "metadata": {},
   "source": [
    "## 1. Sarcasmo en Reddit (30p)\n",
    "\n",
    "Reddit es una página web muy conocida que, en simples palabras, es una compilación de muchos foros llamados \"subreddits\", en esta sección trabajará con un dataset que contiene una compilación de comentarios realizados por usuarios en distintos subreddits, los que vienen con una indicación de si el comentario es sarcástico o no.\n",
    "[Fuente](https://www.kaggle.com/sherinclaudia/sarcastic-comments-on-reddit)\n",
    "\n",
    ">a) **O:** Cargue los datos y resuma brevemente que contiene el dataset "
   ]
  },
  {
   "cell_type": "code",
   "execution_count": null,
   "metadata": {},
   "outputs": [],
   "source": []
  },
  {
   "cell_type": "markdown",
   "metadata": {},
   "source": [
    ">b) ¿Existe algún subreddit donde los comentarios no sarcásticos predominen? ¿Y alguno donde predominen los comentarios sarcásticos? \n"
   ]
  },
  {
   "cell_type": "code",
   "execution_count": 2,
   "metadata": {},
   "outputs": [
    {
     "name": "stdout",
     "output_type": "stream",
     "text": [
      "La cantidad de subreddits donde predomina el sarcasmo son 3823\n",
      "La cantidad de subreddits donde no predomina el sarcasmo son 9813\n",
      "La cantidad de subreddits donde ninguno de los predomina son 1242\n"
     ]
    }
   ],
   "source": [
    "import pandas as pd\n",
    "import numpy as np\n",
    "import csv\n",
    "import matplotlib as mpl \n",
    "import matplotlib.pyplot as plt\n",
    "from array import array\n",
    "%matplotlib inline\n",
    "\n",
    "pregunta1 = {}\n",
    "pregunta2 = {}\n",
    "s = []\n",
    "n = []\n",
    "k = 0\n",
    "with open(\"reddit.csv\") as File:\n",
    "    reader = csv.reader(File)\n",
    "    for row in reader:\n",
    "        if (k == 0):\n",
    "            k = 1\n",
    "        else:\n",
    "            if (row[3] not in pregunta1.keys()):\n",
    "                pregunta1[row[3]] = 0\n",
    "                pregunta2[row[3]] = [0,0]\n",
    "            if(row[0] == '0'):\n",
    "                pregunta1[row[3]] += 1\n",
    "                pregunta2[row[3]][0] += 1\n",
    "                n.append([int(row[7].split(\"-\")[0]),int(row[7].split(\"-\")[1])]) \n",
    "            else:\n",
    "                pregunta1[row[3]] -= 1\n",
    "                pregunta2[row[3]][1] += 1\n",
    "                s.append([int(row[7].split(\"-\")[0]),int(row[7].split(\"-\")[1])])\n",
    "sar = 0\n",
    "nosar = 0\n",
    "neutral = 0\n",
    "for a in pregunta1.values():\n",
    "    if(a > 0):\n",
    "        nosar += 1\n",
    "    elif(a < 0):\n",
    "        sar += 1\n",
    "    else:\n",
    "        neutral += 1\n",
    "print(\"La cantidad de subreddits donde predomina el sarcasmo son \" + str(sar))\n",
    "print(\"La cantidad de subreddits donde no predomina el sarcasmo son \" + str(nosar))\n",
    "print(\"La cantidad de subreddits donde ninguno de los predomina son \" + str(neutral))"
   ]
  },
  {
   "cell_type": "markdown",
   "metadata": {},
   "source": [
    ">c) Realice un top 10 con los subreddits que más se repiten en la etiqueta sin sarcasmo y un top 10 de los que más se repiten en la etiqueta con sarcasmo. ¿Existen similitudes/diferencias en ambas listas? ¿A qué se puede deber esto?"
   ]
  },
  {
   "cell_type": "code",
   "execution_count": 3,
   "metadata": {},
   "outputs": [
    {
     "name": "stdout",
     "output_type": "stream",
     "text": [
      "TOP 10 sin sarcasmo\n",
      "1 AskReddit\n",
      "2 politics\n",
      "3 funny\n",
      "4 leagueoflegends\n",
      "5 worldnews\n",
      "6 pics\n",
      "7 pcmasterrace\n",
      "8 nfl\n",
      "9 news\n",
      "10 nba\n",
      " \n",
      "TOP 10 con sarcasmo\n",
      "1 AskReddit\n",
      "2 politics\n",
      "3 worldnews\n",
      "4 leagueoflegends\n",
      "5 pcmasterrace\n",
      "6 news\n",
      "7 funny\n",
      "8 pics\n",
      "9 todayilearned\n",
      "10 GlobalOffensive\n"
     ]
    }
   ],
   "source": [
    "sinsarcasmo = []\n",
    "consarcasmo = []\n",
    "for x,y in pregunta2.items():\n",
    "    sinsarcasmo.append((y[0],x))\n",
    "    consarcasmo.append((y[1],x))\n",
    "sinsarcasmo.sort()\n",
    "sinsarcasmo.reverse()\n",
    "consarcasmo.sort()\n",
    "consarcasmo.reverse()\n",
    "i = 0\n",
    "print(\"TOP 10 sin sarcasmo\")\n",
    "while (i<10):\n",
    "    i+=1\n",
    "    print (str(i) + \" \" + sinsarcasmo[i-1][1])\n",
    "print(\" \")\n",
    "print(\"TOP 10 con sarcasmo\")\n",
    "i = 0\n",
    "while (i<10):\n",
    "    i+=1\n",
    "    print (str(i) + \" \" + consarcasmo[i-1][1])"
   ]
  },
  {
   "cell_type": "markdown",
   "metadata": {},
   "source": [
    ">d) Construya una línea de tiempo (use la columna que estime más conveniente como eje de tiempo) y coloree los datos según su etiqueta de sarcasmo, comente lo que observa.\n",
    "\n",
    "*Consejo: puede agrupar comentarios y contar el total que se registra en ese momento del tiempo en vez de graficar cada comentario en la línea.*"
   ]
  },
  {
   "cell_type": "code",
   "execution_count": 4,
   "metadata": {
    "scrolled": true
   },
   "outputs": [
    {
     "data": {
      "image/png": "[encoded data removed]",
      "text/plain": [
       "<Figure size 2880x360 with 1 Axes>"
      ]
     },
     "metadata": {
      "needs_background": "light"
     },
     "output_type": "display_data"
    },
    {
     "name": "stdout",
     "output_type": "stream",
     "text": [
      "{(2016, 1): 47339, (2014, 1): 12415, (2011, 1): 1361, (2015, 4): 34705, (2012, 10): 4753, (2015, 7): 40914, (2009, 7): 279, (2013, 7): 9479, (2011, 4): 1523, (2009, 1): 200, (2016, 4): 53597, (2014, 4): 15175, (2012, 4): 3185, (2012, 7): 4030, (2015, 10): 43047, (2013, 4): 8230, (2009, 10): 385, (2010, 1): 527, (2009, 4): 217, (2011, 7): 1984, (2013, 10): 10636, (2016, 7): 58399, (2013, 1): 5857, (2011, 10): 2078, (2014, 10): 24508, (2016, 10): 63454, (2010, 10): 1057, (2010, 7): 793, (2012, 1): 2629, (2015, 1): 30641, (2014, 7): 21415, (2010, 4): 601}\n",
      "\n",
      "\n",
      "{(2016, 1): 47593, (2014, 1): 11452, (2011, 1): 1018, (2015, 4): 31600, (2012, 10): 4210, (2015, 7): 37499, (2009, 7): 228, (2013, 7): 7953, (2011, 4): 1221, (2009, 1): 100, (2016, 4): 55673, (2014, 4): 13582, (2012, 4): 2754, (2012, 7): 3547, (2015, 10): 41527, (2013, 4): 6800, (2009, 10): 302, (2010, 1): 378, (2009, 4): 143, (2011, 7): 1665, (2013, 10): 9387, (2016, 7): 65658, (2013, 1): 5225, (2011, 10): 1875, (2014, 10): 21136, (2016, 10): 83986, (2010, 10): 775, (2010, 7): 602, (2012, 1): 2204, (2015, 1): 26934, (2014, 7): 17839, (2010, 4): 547}\n"
     ]
    }
   ],
   "source": [
    "s.sort()\n",
    "n.sort()\n",
    "count = 0\n",
    "month = 0\n",
    "dic= {}\n",
    "\n",
    "\n",
    "\n",
    "for a in s:\n",
    "    if month == 0:\n",
    "        cot = (a[0],a[1])\n",
    "        dic[cot] = 1\n",
    "        month = a[1]\n",
    "    elif count < 3:\n",
    "        if month != a[1]:\n",
    "            count +=1\n",
    "            month = a[1]\n",
    "        dic[cot] += 1\n",
    "    else:  \n",
    "        count = 0\n",
    "        cot = (a[0], a[1])\n",
    "        dic[cot] = 1\n",
    "\n",
    "\n",
    "count = 0\n",
    "month = 0\n",
    "dicn= {}\n",
    "\n",
    "for b in n:\n",
    "    if month == 0:\n",
    "        cot = (b[0],b[1])\n",
    "        dicn[cot] = 1\n",
    "        month = b[1]\n",
    "    elif count < 3:\n",
    "        if month != b[1]:\n",
    "            count +=1\n",
    "            month = b[1]\n",
    "        dicn[cot] += 1\n",
    "    else:  \n",
    "        count = 0\n",
    "        cot = (b[0], b[1])\n",
    "        dicn[cot] = 1\n",
    "date = []\n",
    "point =[]\n",
    "for k,v in dic.items():\n",
    "    date.append(str(k[0]) + \"-\" +str(k[1]))\n",
    "    point.append(v)\n",
    "\n",
    "daten = []\n",
    "pointn = []\n",
    "\n",
    "for k,v in dicn.items():\n",
    "    pointn.append(v)\n",
    " \n",
    "\n",
    "\n",
    "plt.figure(figsize=(40,5))\n",
    "plt.scatter(date,point)\n",
    "plt.scatter(date,pointn)\n",
    "plt.show()\n",
    "\n",
    "print(dic)\n",
    "print(\"\\n\")\n",
    "print(dicn)\n",
    "\n",
    "#print(dic)\n",
    "#print(\"\\n\")\n",
    "#print(dicn)\n",
    "\n"
   ]
  },
  {
   "cell_type": "markdown",
   "metadata": {},
   "source": [
    ">e) Haga un histograma y boxplot de los puntajes de comentarios sarcásticos y no sarcásticos, comparelos y concluya a partir de lo que observa, puede agregar otro tipo de gráficos si desea para apoyar su conclusión."
   ]
  },
  {
   "cell_type": "code",
   "execution_count": 8,
   "metadata": {},
   "outputs": [
    {
     "data": {
      "image/png": "[encoded data removed]",
      "text/plain": [
       "<Figure size 432x288 with 1 Axes>"
      ]
     },
     "metadata": {
      "needs_background": "light"
     },
     "output_type": "display_data"
    },
    {
     "data": {
      "text/plain": [
       "{'boxes': [<matplotlib.lines.Line2D at 0x7fd6b1002e80>,\n",
       "  <matplotlib.lines.Line2D at 0x7fd6b100d3c8>],\n",
       " 'caps': [<matplotlib.lines.Line2D at 0x7fd6b10086a0>,\n",
       "  <matplotlib.lines.Line2D at 0x7fd6b10089e8>,\n",
       "  <matplotlib.lines.Line2D at 0x7fd6b100ddd8>,\n",
       "  <matplotlib.lines.Line2D at 0x7fd6b1017160>],\n",
       " 'fliers': [<matplotlib.lines.Line2D at 0x7fd6b100d0b8>,\n",
       "  <matplotlib.lines.Line2D at 0x7fd6b10177f0>],\n",
       " 'means': [],\n",
       " 'medians': [<matplotlib.lines.Line2D at 0x7fd6b1008d30>,\n",
       "  <matplotlib.lines.Line2D at 0x7fd6b10174a8>],\n",
       " 'whiskers': [<matplotlib.lines.Line2D at 0x7fd6b1002fd0>,\n",
       "  <matplotlib.lines.Line2D at 0x7fd6b1008358>,\n",
       "  <matplotlib.lines.Line2D at 0x7fd6b100d748>,\n",
       "  <matplotlib.lines.Line2D at 0x7fd6b100da90>]}"
      ]
     },
     "execution_count": 8,
     "metadata": {},
     "output_type": "execute_result"
    },
    {
     "data": {
      "image/png": "[encoded data removed]",
      "text/plain": [
       "<Figure size 432x288 with 1 Axes>"
      ]
     },
     "metadata": {
      "needs_background": "light"
     },
     "output_type": "display_data"
    }
   ],
   "source": [
    "lista1 = []\n",
    "lista2 = []\n",
    "with open(\"reddit.csv\") as  File:\n",
    "    reader = csv.reader(File) \n",
    "    lista_sar = []\n",
    "    lista_nosar = []\n",
    "    k = 0\n",
    "    for row in reader:\n",
    "        if(k == 0):\n",
    "            k = 1\n",
    "        else:\n",
    "            if(-20<int(row[4])<20):\n",
    "                if(row[0] == '0'):\n",
    "                    lista1.append(int(row[4]))\n",
    "                else:\n",
    "                    lista2.append(int(row[4]))\n",
    "\n",
    "data = np.asarray(lista1)\n",
    "data2 = np.asarray(lista2)\n",
    "datamaximo = [data,data2]\n",
    "plt.hist(datamaximo)\n",
    "plt.show()\n",
    "fig1, ax1 = plt.subplots()\n",
    "ax1.set_title('Sarcamo vs No sarcasmo')\n",
    "ax1.boxplot(datamaximo, labels=[\"No sarcasmo\",\"Sarcasmo\"])"
   ]
  },
  {
   "cell_type": "markdown",
   "metadata": {},
   "source": [
    "## 2. Simulaciones \n",
    "\n",
    "Una de las gracias de tener una máquina con alta capacidad de cómputo es el poder realizar simulaciones. Las simulaciones nos permiten recrear experimentos que requieren una gran cantidad de datos, por ejemplo, lanzar un dado 10000 veces y determinar las probabilidades de cada resultado posible.\n",
    "\n",
    "\n",
    "### 2.1 Lanzamiento de Agujas (30p)\n",
    "\n",
    "Imagine que tiene un puñado de agujas ($n$ agujas) y las lanza al aire, estas agujas caen aleatoriamente dentro de un espacio de 20x20 unidades (asuma que la aguja puede quedar con una parte afuera y otra adentro si cae en alguno de los bordes/cerca de un borde de este espacio), este espacio tiene líneas horizontales cada 1 unidad en el eje Y, obviando los bordes inferior y superior de este espacio, usted está interesado en determinar la probabilidad de que una aguja atraviese cualquiera de estas líneas horizontales, para ello ha decidido simular este experimento utilizando el centroide de la aguja (posición donde cae) y el ángulo medido respecto a la horizontal que atraviesa el centroide $\\alpha$ (ver imagen)\n",
    "\n",
    "<img src=\"img/aguja.png\" style=\"float:center;height:100px\">\n",
    "\n",
    "El largo de la aguja es el mismo que la separación entre las lineas horizontales (1 unidad)\n",
    "\n",
    "\n",
    "Calcule la probabilidad utilizando $n =10,100,1000,10000,100000$ agujas\n",
    "\n",
    "Puntos bonus por :\n",
    "* (5) Probar con tamaños distintos del espacio y concluir comparando con los otros casos\n",
    "* (5) Añadir 1 gráfico por cada $n$ donde se vea el espacio y las agujas después de caer, recuerde hacer un comentario respecto al gráfico, no solo incluirlo."
   ]
  },
  {
   "cell_type": "code",
   "execution_count": 38,
   "metadata": {},
   "outputs": [
    {
     "name": "stdout",
     "output_type": "stream",
     "text": [
      "5972\n",
      "3.348961821835231\n"
     ]
    }
   ],
   "source": [
    "import random\n",
    "import math\n",
    "n1 = 10\n",
    "n2 = 100\n",
    "n3 = 1000\n",
    "n4 = 10000\n",
    "n5 = 100000\n",
    "i = 0\n",
    "cant = 0\n",
    "while(i < n4):\n",
    "    pos_x = random.random()*20\n",
    "    pos_y = random.random()*20\n",
    "    ang = random.randint(0,180)\n",
    "    y1 = pos_y+math.sin(math.radians(ang))*0.5\n",
    "    y2 = pos_y-math.sin(math.radians(ang))*0.5\n",
    "    x1 = pos_x+math.cos(math.radians(ang))*0.5\n",
    "    x2 = pos_x-math.cos(math.radians(ang))*0.5\n",
    "    if(0 <= x1 <= 20 and 0 <= x2 <= 20 and 0 <= y1 <= 20 and 0 <= y2 <=20):\n",
    "        if(y1 > int(pos_y)+1):\n",
    "            cant+=1\n",
    "        elif(y2 < int(pos_y)):\n",
    "            cant+=1\n",
    "    else:\n",
    "        if(ang <= 90):\n",
    "            if(y1 > 20 and x1 <= 20):\n",
    "                hipo = (y1-20)/math.sin(math.radians(ang))\n",
    "                x_aux = hipo*math.cos(math.radians(ang))\n",
    "                y1 = 20\n",
    "                x1 = x1-x_aux\n",
    "            elif(y2 < 0 and 0 <= x2):\n",
    "                hipo = (0-y2)/math.sin(math.radians(ang))\n",
    "                x_aux = hipo*math.cos(math.radians(ang))\n",
    "                y2 = 0\n",
    "                x2 = x2+x_aux\n",
    "            elif(x1 > 20 and y1 <= 20):\n",
    "                hipo = (x1-20)/math.cos(math.radians(ang))\n",
    "                y_aux = hipo*math.sin(math.radians(ang))\n",
    "                y1 = y1-y_aux\n",
    "                x1 = 20\n",
    "            elif(x2 < 0 and y2 >= 0):\n",
    "                hipo = (0-x2)/math.cos(math.radians(ang))\n",
    "                y_aux = hipo*math.sin(math.radians(ang))\n",
    "                y2 = y2+y_aux\n",
    "                x2 = 0\n",
    "            elif(x1 > 20 and y1 > 20):\n",
    "                y1 = y1-(y1-20)\n",
    "                x1 = x1-(x1-20)\n",
    "            elif(x2 < 0 and y2 < 0):\n",
    "                y1 = y1+(0-y1)\n",
    "        else:\n",
    "            if(y1 > 20 and x1 <= 20):\n",
    "                hipo = (y1-20)/math.sin(math.radians(180-ang))\n",
    "                x_aux = hipo*math.cos(math.radians(180-ang))\n",
    "                y1 = 20\n",
    "                x1 = x1+x_aux\n",
    "            elif(y2 < 0 and 0 <= x2):\n",
    "                hipo = (0-y2)/math.sin(math.radians(180-ang))\n",
    "                x_aux = hipo*math.cos(math.radians(180-ang))\n",
    "                y2 = 20\n",
    "                x2 = x2-x_aux\n",
    "            elif(x1 > 20 and y1 <= 20):\n",
    "                hipo = (x1-20)/math.cos(math.radians(180-ang))\n",
    "                y_aux = hipo*math.sin(math.radians(180-ang))\n",
    "                y1 = y1+y_aux\n",
    "                x1 = 20\n",
    "            elif(x2 < 0 and y2 >= 0):\n",
    "                hipo = (0-x2)/math.cos(math.radians(180-ang))\n",
    "                y_aux = hipo*math.sin(math.radians(180-ang))\n",
    "                y2 = y2-y_aux\n",
    "                x2 = 0\n",
    "        if(y1 > int(pos_y)+1):\n",
    "            cant+=1\n",
    "        elif(y2 < int(pos_y)):\n",
    "            cant+=1\n",
    "    i+=1\n",
    "print(cant)\n",
    "print(2*n4/cant)"
   ]
  },
  {
   "cell_type": "markdown",
   "metadata": {},
   "source": [
    "### 2.2 Cadenas de Markov (40p)\n",
    "\n",
    "Las cadenas de markov son un modelo estocástico para describir una secuencia de sucesos donde la probabilidad de ir a un estado siguiente depende solamente del estado actual, esto se puede modelar de la siguiente forma:\n",
    "\n",
    "$$ S_{n+1} = S_{n}\\cdot P$$\n",
    "\n",
    "Donde $P$ se conoce como matriz de transición y $S_{i}$ las matrices de estado ($S_{0}$ es conocida). Una cadena de markov se dice regular si su matriz de transición es regular, esto quiere decir que alguna potencia de $P$ tiene todas sus entradas positivas (para este caso 0 no es positivo).\n",
    "\n",
    "Si se tiene una cadena de markov regular, en algún momento de la secuencia se encontrará una matriz de estado tal que:\n",
    "\n",
    "$$ S_{f} \\cdot P = S_{f}$$ \n",
    "\n",
    "A esta matriz $S_{f}$ se le conoce como matriz estacionaria.\n",
    "\n",
    "Si desea profundizar más:\n",
    "- [MC 1](https://www.youtube.com/watch?v=uvYTGEZQTEs)\n",
    "- [MC 2](https://www.youtube.com/watch?v=jtHBfLtMq4U)\n",
    "- [MC 3](https://www.youtube.com/watch?v=P8DuuiINAo4&t)\n",
    "- [MC 4](https://www.youtube.com/watch?v=31X-M4okAI0)\n",
    "- [MC 5](https://www.youtube.com/watch?v=-kwnnNSGFMc)\n",
    "\n",
    "\n",
    "**Enunciado**\n",
    "\n",
    "Tres compañías de comida rápida están compitiendo por el primer lugar en la supremacía de comida rápida. \n",
    "\n",
    "* Si un cliente originalmente es fiel a \"Sansafood\" tiene un $65\\%$ de probabilidad de quedarse fiel a esta, un $20\\%$ de cambiarse a \"LDS ltda\" y un $15\\%$ de cambiarse a \"Wenzi's\".\n",
    "\n",
    "* Si un cliente originalmente es fiel a \"LDS ltda\" tiene un $40\\%$ de probabilidad de quedarse fiel a esta, un $30\\%$ de cambiarse a \"Sansafood\" y un $30\\%$ de cambiarse a \"Wenzi's\".\n",
    "\n",
    "* Si un cliente originalmente es fiel a \"Wenzi's\" tiene un $70\\%$ de probabilidad de quedarse fiel a esta, un $10\\%$ de cambiarse a \"Sansafood\" y un $20\\%$ de cambiarse a \"LDS ltda\".\n",
    "\n",
    "En un comienzo 200 clientes pertenecen a \"Sansafood\", 180 a \"LDS ltda\" y 20 a \"Wenzi's\".\n",
    "\n",
    ">a) Identifique la matriz de transición y la matriz de estado inicial"
   ]
  },
  {
   "cell_type": "markdown",
   "metadata": {},
   "source": [
    "Matriz Transición"
   ]
  },
  {
   "cell_type": "code",
   "execution_count": 13,
   "metadata": {},
   "outputs": [
    {
     "name": "stdout",
     "output_type": "stream",
     "text": [
      "   S    L    W\n",
      "S 0.65 0.2 0.15\n",
      "L 0.3  0.4 0.3\n",
      "W 0.1  0.2 0.7\n"
     ]
    }
   ],
   "source": [
    "p = np.array([[0.65,0.20,0.15],[0.30,0.40,0.30],[0.1,0.2,0.7]])\n",
    "print(\"   S    L    W\")\n",
    "print(\"S \"+str(p[0][0])+\" \"+str(p[0][1])+\" \"+str(p[0][2]))\n",
    "print(\"L \"+str(p[1][0])+\"  \"+str(p[1][1])+\" \"+str(p[1][2]))\n",
    "print(\"W \"+str(p[2][0])+\"  \"+str(p[2][1])+\" \"+str(p[2][2]))"
   ]
  },
  {
   "cell_type": "markdown",
   "metadata": {},
   "source": [
    "Matriz de estado inicial"
   ]
  },
  {
   "cell_type": "code",
   "execution_count": 14,
   "metadata": {},
   "outputs": [
    {
     "name": "stdout",
     "output_type": "stream",
     "text": [
      "S 0.5\n",
      "L 0.45\n",
      "W 0.05\n"
     ]
    }
   ],
   "source": [
    "s = np.array([[0.5,0.45,0.05]])\n",
    "print(\"S \" + str(s[0][0]))\n",
    "print(\"L \" + str(s[0][1]))\n",
    "print(\"W \" + str(s[0][2]))"
   ]
  },
  {
   "cell_type": "markdown",
   "metadata": {},
   "source": [
    ">**O:** b) Haga un diagrama de transición "
   ]
  },
  {
   "cell_type": "code",
   "execution_count": null,
   "metadata": {},
   "outputs": [],
   "source": []
  },
  {
   "cell_type": "markdown",
   "metadata": {},
   "source": [
    ">**O:** c) ¿Este problema es un caso de una cadena de markov regular? ¿Por qué?"
   ]
  },
  {
   "cell_type": "code",
   "execution_count": null,
   "metadata": {},
   "outputs": [],
   "source": []
  },
  {
   "cell_type": "markdown",
   "metadata": {},
   "source": [
    ">d) ¿Existirá la matriz estacionaria en este caso? Si su respuesta es sí, obténgala."
   ]
  },
  {
   "cell_type": "markdown",
   "metadata": {},
   "source": [
    "Matriz Estacionaria"
   ]
  },
  {
   "cell_type": "code",
   "execution_count": 15,
   "metadata": {},
   "outputs": [
    {
     "name": "stdout",
     "output_type": "stream",
     "text": [
      "[[0.33333333 0.25       0.41666667]]\n"
     ]
    }
   ],
   "source": [
    "while(1):\n",
    "    s_trans = s.dot(p)\n",
    "    if((s_trans == s).all()):\n",
    "        break\n",
    "    else:\n",
    "        s = s_trans\n",
    "print(s_trans)"
   ]
  },
  {
   "cell_type": "markdown",
   "metadata": {},
   "source": [
    ">e) Después de pasado mucho tiempo. ¿Quién tendrá una mayor cantidad de clientes? Asuma que la matriz de transición será válida por todo este periodo arbitrario de tiempo y no llegarán ni saldrán más clientes del mundo de comida rápida. **No realice esta simulación como una multiplicación de matrices**, use las probabilidades y las cantidades dadas. Compare con d) "
   ]
  },
  {
   "cell_type": "code",
   "execution_count": null,
   "metadata": {},
   "outputs": [],
   "source": [
    "  "
   ]
  },
  {
   "cell_type": "markdown",
   "metadata": {},
   "source": [
    "## Reglas del Juego y Comentarios \n",
    "\n",
    "+ Errores ortográficos, de redacción y oraciones ambiguas descontarán parte de su puntaje.\n",
    "+ Dudas solamente hasta el  día 31 de Marzo a las 23hrs.\n",
    "+ Dudas **principalmente** vía moodle, evite otro tipo de medio ya que su duda podría ser la de otro.\n",
    "+ Cada día de atraso descuenta 25 puntos de la nota final con un máximo de dos días de retraso (después es 0).\n",
    "+ La versión de R que se usará para revisar es 3.5.2\n",
    "+ La versión de Python que se usará para revisar es 3.6.8\n",
    "+ Los alumnos malla nueva que decidan responder las preguntas opcionales (obviando algún bonus para todos) tendrán 1 punto bonus por pregunta correctamente respondida, con un máximo de nota 100.\n",
    "+ Use cualquier librería que estime conveniente, si requiere de instalación explicitarlo en el README (y bien explicitado).\n",
    "+ Código comentado para facilitar entendimiento.\n",
    "+ Sea formal y claro con su respuesta, explique su procedimiento y luego responda. \n",
    "+ Defina bien las secciones de su notebook, el orden siempre es bueno :) [Tips para usar Markdown](https://github.com/adam-p/markdown-here/wiki/Markdown-Cheatsheet)"
   ]
  }
 ],
 "metadata": {
  "kernelspec": {
   "display_name": "Python 3",
   "language": "python",
   "name": "python3"
  },
  "language_info": {
   "codemirror_mode": {
    "name": "ipython",
    "version": 3
   },
   "file_extension": ".py",
   "mimetype": "text/x-python",
   "name": "python",
   "nbconvert_exporter": "python",
   "pygments_lexer": "ipython3",
   "version": "3.5.2"
  }
 },
 "nbformat": 4,
 "nbformat_minor": 2
}
