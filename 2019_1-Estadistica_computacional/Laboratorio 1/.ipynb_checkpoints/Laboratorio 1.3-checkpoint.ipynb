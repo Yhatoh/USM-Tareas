{
 "cells": [
  {
   "cell_type": "markdown",
   "metadata": {},
   "source": [
    "<img src=\"img/usmlogo.png\" style=\"float:right;height:85px\"> <img src=\"img/dilogo.png\" style=\"float:left;height:90px\">\n",
    "<center>\n",
    "    <h1> Laboratorio 1 </h1>\n",
    "    <h2> Profesor: Ricardo Ñanculef </h2>\n",
    "    <h3> Ayudante: Gabriel Ortega </h3>\n",
    "    <h4> Gabriel Carmona; 201773509-0 ; Malla Nueva </h4>\n",
    "    <h4> Jorge Ludueña ; 201773507-4 ; Malla Nueva </h4>\n",
    "</center>\n",
    "<p>\n",
    "<center><h4>Marzo 2019</h4></center>\n",
    "</p>"
   ]
  },
  {
   "cell_type": "markdown",
   "metadata": {},
   "source": [
    "## Instrucciones\n",
    "\n",
    "\n",
    "La modalidad de trabajo será mediante el uso de jupyter notebook. El notebook debe ser desarrollado en parejas o individual. Este laboratorio debe ser entregado el día 5 de abril.\n",
    "\n",
    "La **modalidad de entrega será un archivo Apellido1_Apellido2_Lab1.zip** que contenga un notebook que incluya todas las preguntas con sus respectivas respuestas + un README que indique la forma correcta de ejecutar su notebook. Este notebook presenta ciertas preguntas marcadas con **O:** que indican que para los alumnos de malla nueva es opcional, pero obligatoria para los alumnos de malla vieja. En el caso de haber una pareja con un integrante de malla nueva y uno de malla vieja, se considera malla vieja. El laboratorio puede ser trabajado tanto en lenguaje R como en lenguaje python (para los que usen python 2.X, absténganse a las consecuencias). Lea bien el enunciado.\n",
    "\n",
    "\n",
    "**Cualquier copia detectada implicará reprobación del laboratorio con nota 0 (lo que implica reprobar el ramo con nota 0) además de la notificación correspondiente al Profesor.** \n",
    "\n",
    "**Puntos bonus para todos:** Debido a que a veces hay preguntas que les piden una conclusión utilizando ciertos elementos, si lo desea, puede agregar elementos extra para hacer una mejor conclusión o concluir algo más que tenga sentido con lo anterior; estos gráficos pueden otorgar puntos bonus dependiendo de su calidad y del comentario que lo acompañe (con un máximo de 3 puntos bonus por pregunta, no acumulables si alcanza la nota máxima)"
   ]
  },
  {
   "cell_type": "markdown",
   "metadata": {},
   "source": [
    "## Librerias importadas."
   ]
  },
  {
   "cell_type": "code",
   "execution_count": 144,
   "metadata": {},
   "outputs": [],
   "source": [
    "import numpy as np\n",
    "import csv\n",
    "import matplotlib as mpl \n",
    "import matplotlib.pyplot as plt\n",
    "from array import array\n",
    "import random\n",
    "import math"
   ]
  },
  {
   "cell_type": "markdown",
   "metadata": {},
   "source": [
    "## 1. Sarcasmo en Reddit (30p)\n",
    "\n",
    "Reddit es una página web muy conocida que, en simples palabras, es una compilación de muchos foros llamados \"subreddits\", en esta sección trabajará con un dataset que contiene una compilación de comentarios realizados por usuarios en distintos subreddits, los que vienen con una indicación de si el comentario es sarcástico o no.\n",
    "[Fuente](https://www.kaggle.com/sherinclaudia/sarcastic-comments-on-reddit)"
   ]
  },
  {
   "cell_type": "markdown",
   "metadata": {},
   "source": [
    "Se recopilan los datos de distinta manera para las distintas preguntas"
   ]
  },
  {
   "cell_type": "code",
   "execution_count": 145,
   "metadata": {},
   "outputs": [],
   "source": [
    "pregunta1 = {}\n",
    "pregunta2 = {}\n",
    "s = []\n",
    "n = []\n",
    "k = 0\n",
    "with open(\"reddit.csv\") as File:\n",
    "    reader = csv.reader(File)\n",
    "    for row in reader:\n",
    "        if (k == 0):\n",
    "            k = 1\n",
    "        else:\n",
    "            if (row[3] not in pregunta1.keys()):\n",
    "                pregunta1[row[3]] = 0\n",
    "                pregunta2[row[3]] = [0,0]\n",
    "            if(row[0] == '0'):\n",
    "                pregunta1[row[3]] += 1\n",
    "                pregunta2[row[3]][0] += 1\n",
    "                n.append([int(row[7].split(\"-\")[0]),int(row[7].split(\"-\")[1])]) \n",
    "            else:\n",
    "                pregunta1[row[3]] -= 1\n",
    "                pregunta2[row[3]][1] += 1\n",
    "                s.append([int(row[7].split(\"-\")[0]),int(row[7].split(\"-\")[1])])"
   ]
  },
  {
   "cell_type": "markdown",
   "metadata": {},
   "source": [
    ">a) **O:** Cargue los datos y resuma brevemente que contiene el dataset "
   ]
  },
  {
   "cell_type": "markdown",
   "metadata": {},
   "source": [
    "El data set contiene comentarios pertenecientes a la pagina web reddit, las celdas contienen, si el respectivo comentario es sarcástico o no, definido por un 1 o un 0 respectivamente , el contenido del comentario, el usuario, el subreddit en el cual se originó, el puntaje del comentario, el año y mes de publicación, fecha exacta con hora de publicación y el comentario que se comento"
   ]
  },
  {
   "cell_type": "markdown",
   "metadata": {},
   "source": [
    ">b) ¿Existe algún subreddit donde los comentarios no sarcásticos predominen? ¿Y alguno donde predominen los comentarios sarcásticos? \n"
   ]
  },
  {
   "cell_type": "markdown",
   "metadata": {},
   "source": [
    "El siguiente programa calcula la cantidad de subreddits en el cual predomina el sarcasmo, el no sarcasmo, o que no predomina ninguno."
   ]
  },
  {
   "cell_type": "code",
   "execution_count": 146,
   "metadata": {},
   "outputs": [
    {
     "name": "stdout",
     "output_type": "stream",
     "text": [
      "La cantidad de subreddits donde predomina el sarcasmo son 3823\n",
      "La cantidad de subreddits donde no predomina el sarcasmo son 9813\n",
      "La cantidad de subreddits donde ninguno de los predomina son 1242\n"
     ]
    }
   ],
   "source": [
    "sar = 0\n",
    "nosar = 0\n",
    "neutral = 0\n",
    "for a in pregunta1.values():\n",
    "    if(a > 0):\n",
    "        nosar += 1\n",
    "    elif(a < 0):\n",
    "        sar += 1\n",
    "    else:\n",
    "        neutral += 1\n",
    "\n",
    "print(\"La cantidad de subreddits donde predomina el sarcasmo son \" + str(sar))\n",
    "print(\"La cantidad de subreddits donde no predomina el sarcasmo son \" + str(nosar))\n",
    "print(\"La cantidad de subreddits donde ninguno de los predomina son \" + str(neutral))"
   ]
  },
  {
   "cell_type": "markdown",
   "metadata": {},
   "source": [
    ">c) Realice un top 10 con los subreddits que más se repiten en la etiqueta sin sarcasmo y un top 10 de los que más se repiten en la etiqueta con sarcasmo. ¿Existen similitudes/diferencias en ambas listas? ¿A qué se puede deber esto?"
   ]
  },
  {
   "cell_type": "markdown",
   "metadata": {},
   "source": [
    "En el siguiente programa se busca los 10 subreddits que poseen más comentarios sarcásticos y los 10 subreddits que poseen más comentarios no sarcásticos."
   ]
  },
  {
   "cell_type": "code",
   "execution_count": 147,
   "metadata": {},
   "outputs": [
    {
     "name": "stdout",
     "output_type": "stream",
     "text": [
      "TOP 10 sin sarcasmo\n",
      "1 AskReddit\n",
      "2 politics\n",
      "3 funny\n",
      "4 leagueoflegends\n",
      "5 worldnews\n",
      "6 pics\n",
      "7 pcmasterrace\n",
      "8 nfl\n",
      "9 news\n",
      "10 nba\n",
      " \n",
      "TOP 10 con sarcasmo\n",
      "1 AskReddit\n",
      "2 politics\n",
      "3 worldnews\n",
      "4 leagueoflegends\n",
      "5 pcmasterrace\n",
      "6 news\n",
      "7 funny\n",
      "8 pics\n",
      "9 todayilearned\n",
      "10 GlobalOffensive\n"
     ]
    }
   ],
   "source": [
    "sinsarcasmo = []\n",
    "consarcasmo = []\n",
    "for x,y in pregunta2.items():\n",
    "    sinsarcasmo.append((y[0],x))\n",
    "    consarcasmo.append((y[1],x))\n",
    "sinsarcasmo.sort()\n",
    "sinsarcasmo.reverse()\n",
    "consarcasmo.sort()\n",
    "consarcasmo.reverse()\n",
    "i = 0\n",
    "print(\"TOP 10 sin sarcasmo\")\n",
    "while (i<10):\n",
    "    i+=1\n",
    "    print (str(i) + \" \" + sinsarcasmo[i-1][1])\n",
    "print(\" \")\n",
    "print(\"TOP 10 con sarcasmo\")\n",
    "i = 0\n",
    "while (i<10):\n",
    "    i+=1\n",
    "    print (str(i) + \" \" + consarcasmo[i-1][1])"
   ]
  },
  {
   "cell_type": "markdown",
   "metadata": {},
   "source": [
    "Efectivamente existen subreddits que estan en ambos TOP 10, tanto no sarcástico como sarcástico. Esto se debe a que los subreddits que se presentan, son bastante populares, esto junto a que en estos se puede hablar tanto temas serios, como temas burlescos, por lo cual puede haber tanto comentarios sarcásticos como no sarcásticos."
   ]
  },
  {
   "cell_type": "markdown",
   "metadata": {},
   "source": [
    ">d) Construya una línea de tiempo (use la columna que estime más conveniente como eje de tiempo) y coloree los datos según su etiqueta de sarcasmo, comente lo que observa.\n",
    "\n",
    "*Consejo: puede agrupar comentarios y contar el total que se registra en ese momento del tiempo en vez de graficar cada comentario en la línea.*"
   ]
  },
  {
   "cell_type": "code",
   "execution_count": 148,
   "metadata": {
    "scrolled": true
   },
   "outputs": [
    {
     "data": {
      "image/png": "[encoded data removed]",
      "text/plain": [
       "<Figure size 2880x360 with 1 Axes>"
      ]
     },
     "metadata": {
      "needs_background": "light"
     },
     "output_type": "display_data"
    }
   ],
   "source": [
    "#Se calcula la cantidad de comentarios por mes, y los agrupa los valores cada 4 meses\n",
    "\n",
    "s.sort()\n",
    "n.sort()\n",
    "count = 0\n",
    "month = 0\n",
    "dic= {}\n",
    "sep = 4 #Con este valor se cambia la cantidad de meses agrupados\n",
    "\n",
    "\n",
    "for a in s:\n",
    "    if month == 0:\n",
    "        cot = (a[0],a[1])\n",
    "        dic[cot] = 1\n",
    "        month = a[1]\n",
    "    elif count < sep:\n",
    "        if month != a[1]:\n",
    "            count +=1\n",
    "            month = a[1]\n",
    "        dic[cot] += 1\n",
    "    else:  \n",
    "        count = 0\n",
    "        cot = (a[0], a[1])\n",
    "        dic[cot] = 1\n",
    "\n",
    "\n",
    "count = 0\n",
    "month = 0\n",
    "dicn= {}\n",
    "\n",
    "for b in n:\n",
    "    if month == 0:\n",
    "        cot = (b[0],b[1])\n",
    "        dicn[cot] = 1\n",
    "        month = b[1]\n",
    "    elif count < sep:\n",
    "        if month != b[1]:\n",
    "            count +=1\n",
    "            month = b[1]\n",
    "        dicn[cot] += 1\n",
    "    else:  \n",
    "        count = 0\n",
    "        cot = (b[0], b[1])\n",
    "        dicn[cot] = 1\n",
    "date = []\n",
    "point =[]\n",
    "for k,v in dic.items():\n",
    "    date.append([k[0],k[1],v])\n",
    "\n",
    "daten = []\n",
    "for k,v in dicn.items():\n",
    "    daten.append([k[0],k[1],v])\n",
    "date.sort()\n",
    "daten.sort()\n",
    "fecha = []\n",
    "point = []\n",
    "fechant = []\n",
    "pointn = []\n",
    "\n",
    "for a,b,c in date:\n",
    "    fecha.append(str(a)+\"-\"+str(b))\n",
    "    point.append(c)\n",
    "\n",
    "for a,b,c in daten:\n",
    "    fechant.append(str(a)+\"-\" +str(b))\n",
    "    pointn.append(c)\n",
    "\n",
    "plt.figure(figsize=(40,5))\n",
    "plt.scatter(fecha,point)\n",
    "plt.scatter(fechant,pointn)\n",
    "plt.show()\n",
    "\n",
    "\n",
    "\n"
   ]
  },
  {
   "cell_type": "markdown",
   "metadata": {},
   "source": [
    "Se puede observar que tanto comentarios no sarcásticos, como sarcásticos, fuerno en un aumento relativamente parecidos a lo largo del tiempo, esto puede deberse a que la popularidad de reddit fuen en aumento a lo largo del tiempo, siendo más popular a fines del año 2016."
   ]
  },
  {
   "cell_type": "markdown",
   "metadata": {},
   "source": [
    ">e) Haga un histograma y boxplot de los puntajes de comentarios sarcásticos y no sarcásticos, comparelos y concluya a partir de lo que observa, puede agregar otro tipo de gráficos si desea para apoyar su conclusión."
   ]
  },
  {
   "cell_type": "code",
   "execution_count": 149,
   "metadata": {},
   "outputs": [
    {
     "data": {
      "image/png": "[encoded data removed]",
      "text/plain": [
       "<Figure size 432x288 with 1 Axes>"
      ]
     },
     "metadata": {
      "needs_background": "light"
     },
     "output_type": "display_data"
    },
    {
     "data": {
      "text/plain": [
       "{'boxes': [<matplotlib.lines.Line2D at 0x7fdd9594bb00>,\n",
       "  <matplotlib.lines.Line2D at 0x7fdd9a63b048>],\n",
       " 'caps': [<matplotlib.lines.Line2D at 0x7fdd992e2320>,\n",
       "  <matplotlib.lines.Line2D at 0x7fdd992e2668>,\n",
       "  <matplotlib.lines.Line2D at 0x7fdd9a63ba58>,\n",
       "  <matplotlib.lines.Line2D at 0x7fdd9a63bda0>],\n",
       " 'fliers': [<matplotlib.lines.Line2D at 0x7fdd992e2cf8>,\n",
       "  <matplotlib.lines.Line2D at 0x7fdd97ad0470>],\n",
       " 'means': [],\n",
       " 'medians': [<matplotlib.lines.Line2D at 0x7fdd992e29b0>,\n",
       "  <matplotlib.lines.Line2D at 0x7fdd97ad0128>],\n",
       " 'whiskers': [<matplotlib.lines.Line2D at 0x7fdd9594bc50>,\n",
       "  <matplotlib.lines.Line2D at 0x7fdd9594bf98>,\n",
       "  <matplotlib.lines.Line2D at 0x7fdd9a63b3c8>,\n",
       "  <matplotlib.lines.Line2D at 0x7fdd9a63b710>]}"
      ]
     },
     "execution_count": 149,
     "metadata": {},
     "output_type": "execute_result"
    },
    {
     "data": {
      "image/png": "[encoded data removed]",
      "text/plain": [
       "<Figure size 432x288 with 1 Axes>"
      ]
     },
     "metadata": {
      "needs_background": "light"
     },
     "output_type": "display_data"
    }
   ],
   "source": [
    "#Recopila los datos y los grafica en un boxplot y en un histograma\n",
    "\n",
    "lista1 = []\n",
    "lista2 = []\n",
    "with open(\"reddit.csv\") as  File:\n",
    "    reader = csv.reader(File) \n",
    "    lista_sar = []\n",
    "    lista_nosar = []\n",
    "    k = 0\n",
    "    for row in reader:\n",
    "        if(k == 0):\n",
    "            k = 1\n",
    "        else:\n",
    "            if(-20<int(row[4])<20):\n",
    "                if(row[0] == '0'):\n",
    "                    lista1.append(int(row[4]))\n",
    "                else:\n",
    "                    lista2.append(int(row[4]))\n",
    "\n",
    "data = np.asarray(lista1)\n",
    "data2 = np.asarray(lista2)\n",
    "datamaximo = [data,data2]\n",
    "plt.hist(datamaximo)\n",
    "plt.show()\n",
    "fig1, ax1 = plt.subplots()\n",
    "ax1.set_title('Sarcamo vs No sarcasmo')\n",
    "ax1.boxplot(datamaximo, labels=[\"No sarcasmo\",\"Sarcasmo\"])"
   ]
  },
  {
   "cell_type": "markdown",
   "metadata": {},
   "source": [
    "Al comparar los boxplot se puede observar que de los comentarios sarcásticos y no sarcásticos, no presentan una predominancia el uno sobre el otro, ya que las medianas son cercanas entre ellas. Ahora bien, gracias al histograma y también las cajas del boxplot, se observa que los puntajes de los comentarios sarcásticos y no sarcásticos además de ser parecidos se oncentran en el mismo rango, que es entre 0 y 5 más o menos. "
   ]
  },
  {
   "cell_type": "markdown",
   "metadata": {},
   "source": [
    "## 2. Simulaciones \n",
    "\n",
    "Una de las gracias de tener una máquina con alta capacidad de cómputo es el poder realizar simulaciones. Las simulaciones nos permiten recrear experimentos que requieren una gran cantidad de datos, por ejemplo, lanzar un dado 10000 veces y determinar las probabilidades de cada resultado posible.\n",
    "\n",
    "\n",
    "### 2.1 Lanzamiento de Agujas (30p)\n",
    "\n",
    "Imagine que tiene un puñado de agujas ($n$ agujas) y las lanza al aire, estas agujas caen aleatoriamente dentro de un espacio de 20x20 unidades (asuma que la aguja puede quedar con una parte afuera y otra adentro si cae en alguno de los bordes/cerca de un borde de este espacio), este espacio tiene líneas horizontales cada 1 unidad en el eje Y, obviando los bordes inferior y superior de este espacio, usted está interesado en determinar la probabilidad de que una aguja atraviese cualquiera de estas líneas horizontales, para ello ha decidido simular este experimento utilizando el centroide de la aguja (posición donde cae) y el ángulo medido respecto a la horizontal que atraviesa el centroide $\\alpha$ (ver imagen)\n",
    "\n",
    "<img src=\"img/aguja.png\" style=\"float:center;height:100px\">\n",
    "\n",
    "El largo de la aguja es el mismo que la separación entre las lineas horizontales (1 unidad)\n",
    "\n",
    "\n",
    "Calcule la probabilidad utilizando $n =10,100,1000,10000,100000$ agujas\n",
    "\n",
    "Puntos bonus por :\n",
    "* (5) Probar con tamaños distintos del espacio y concluir comparando con los otros casos\n",
    "* (5) Añadir 1 gráfico por cada $n$ donde se vea el espacio y las agujas después de caer, recuerde hacer un comentario respecto al gráfico, no solo incluirlo."
   ]
  },
  {
   "cell_type": "markdown",
   "metadata": {},
   "source": [
    "En esta parte realizamos las coordenadas del centroide n veces, para luego tirar un ángulo al azar entre 0 y 180.\n",
    "Para así verificar si es que cortan las linas horizontales del espacio asumiendo que el centroide siempre cae adentro.\n",
    "Esto mismo se realizó para todos los otros casos."
   ]
  },
  {
   "cell_type": "code",
   "execution_count": 150,
   "metadata": {},
   "outputs": [],
   "source": [
    "n1 = 10\n",
    "n2 = 100\n",
    "n3 = 1000\n",
    "n4 = 10000\n",
    "n5 = 100000"
   ]
  },
  {
   "cell_type": "code",
   "execution_count": 151,
   "metadata": {},
   "outputs": [
    {
     "name": "stdout",
     "output_type": "stream",
     "text": [
      "La probabilidad para 10 agujas es 0.6\n",
      "La probabilidad para 100 agujas es 0.69\n",
      "La probabilidad para 1000 agujas es 0.63\n",
      "La probabilidad para 10000 agujas es 0.6434\n",
      "La probabilidad para 100000 agujas es 0.63674\n"
     ]
    }
   ],
   "source": [
    "for x in [n1,n2,n3,n4,n5]:\n",
    "    cant = 0\n",
    "    i = 0\n",
    "    while(i < x):\n",
    "        pos_x = random.random()*20\n",
    "        pos_y = random.random()*20\n",
    "        ang = random.randint(0,180)\n",
    "        y1 = pos_y+math.sin(math.radians(ang))*0.5\n",
    "        y2 = pos_y-math.sin(math.radians(ang))*0.5\n",
    "        x1 = pos_x+math.cos(math.radians(ang))*0.5\n",
    "        x2 = pos_x-math.cos(math.radians(ang))*0.5\n",
    "        if(y1 > int(pos_y)+1):\n",
    "            cant+=1\n",
    "        elif(y2 < int(pos_y)):\n",
    "            cant+=1\n",
    "        i+=1\n",
    "    print(\"La probabilidad para \" + str(x)+ \" agujas es \" + str(float(cant/x)))"
   ]
  },
  {
   "cell_type": "markdown",
   "metadata": {},
   "source": [
    "En el siguiente código se probará con otros espacios para observar que sucede con la probabilidad.\n",
    "\n",
    "El siguiente será un espacio de 40x40."
   ]
  },
  {
   "cell_type": "code",
   "execution_count": 152,
   "metadata": {},
   "outputs": [
    {
     "name": "stdout",
     "output_type": "stream",
     "text": [
      "La probabilidad para 10 agujas es 0.7\n",
      "La probabilidad para 100 agujas es 0.64\n",
      "La probabilidad para 1000 agujas es 0.65\n",
      "La probabilidad para 10000 agujas es 0.6335\n",
      "La probabilidad para 100000 agujas es 0.63319\n"
     ]
    }
   ],
   "source": [
    "for x in [n1,n2,n3,n4,n5]:\n",
    "    cant = 0\n",
    "    i = 0\n",
    "    while(i < x):\n",
    "        pos_x = random.random()*40\n",
    "        pos_y = random.random()*40\n",
    "        ang = random.randint(0,180)\n",
    "        y1 = pos_y+math.sin(math.radians(ang))*0.5\n",
    "        y2 = pos_y-math.sin(math.radians(ang))*0.5\n",
    "        x1 = pos_x+math.cos(math.radians(ang))*0.5\n",
    "        x2 = pos_x-math.cos(math.radians(ang))*0.5\n",
    "        if(y1 > int(pos_y)+1):\n",
    "            cant+=1\n",
    "        elif(y2 < int(pos_y)):\n",
    "            cant+=1\n",
    "        i+=1\n",
    "    print(\"La probabilidad para \" + str(x)+ \" agujas es \" + str(float(cant/x)))"
   ]
  },
  {
   "cell_type": "markdown",
   "metadata": {},
   "source": [
    "Otro espacio utilizado será de 80x80."
   ]
  },
  {
   "cell_type": "code",
   "execution_count": 153,
   "metadata": {},
   "outputs": [
    {
     "name": "stdout",
     "output_type": "stream",
     "text": [
      "La probabilidad para 10 agujas es 0.6\n",
      "La probabilidad para 100 agujas es 0.61\n",
      "La probabilidad para 1000 agujas es 0.607\n",
      "La probabilidad para 10000 agujas es 0.6352\n",
      "La probabilidad para 100000 agujas es 0.63303\n"
     ]
    }
   ],
   "source": [
    "for x in [n1,n2,n3,n4,n5]:\n",
    "    cant = 0\n",
    "    i = 0\n",
    "    while(i < x):\n",
    "        pos_x = random.random()*80\n",
    "        pos_y = random.random()*80\n",
    "        ang = random.randint(0,180)\n",
    "        y1 = pos_y+math.sin(math.radians(ang))*0.5\n",
    "        y2 = pos_y-math.sin(math.radians(ang))*0.5\n",
    "        x1 = pos_x+math.cos(math.radians(ang))*0.5\n",
    "        x2 = pos_x-math.cos(math.radians(ang))*0.5\n",
    "        if(y1 > int(pos_y)+1):\n",
    "            cant+=1\n",
    "        elif(y2 < int(pos_y)):\n",
    "            cant+=1\n",
    "        i+=1\n",
    "    print(\"La probabilidad para \" + str(x)+ \" agujas es \" + str(float(cant/x)))"
   ]
  },
  {
   "cell_type": "markdown",
   "metadata": {},
   "source": [
    "Despues de utilizar dos espacios distintos al pedido, se puede observar la probabilidad entre más agujas se lancen, más parecidos serán los valores entre los diferentes espacio. Esto quiere decir que independiente del tamaño del espacio utilizado, la probabilidad será cercana en todos los espacios."
   ]
  },
  {
   "cell_type": "markdown",
   "metadata": {},
   "source": [
    "### 2.2 Cadenas de Markov (40p)\n",
    "\n",
    "Las cadenas de markov son un modelo estocástico para describir una secuencia de sucesos donde la probabilidad de ir a un estado siguiente depende solamente del estado actual, esto se puede modelar de la siguiente forma:\n",
    "\n",
    "$$ S_{n+1} = S_{n}\\cdot P$$\n",
    "\n",
    "Donde $P$ se conoce como matriz de transición y $S_{i}$ las matrices de estado ($S_{0}$ es conocida). Una cadena de markov se dice regular si su matriz de transición es regular, esto quiere decir que alguna potencia de $P$ tiene todas sus entradas positivas (para este caso 0 no es positivo).\n",
    "\n",
    "Si se tiene una cadena de markov regular, en algún momento de la secuencia se encontrará una matriz de estado tal que:\n",
    "\n",
    "$$ S_{f} \\cdot P = S_{f}$$ \n",
    "\n",
    "A esta matriz $S_{f}$ se le conoce como matriz estacionaria.\n",
    "\n",
    "Si desea profundizar más:\n",
    "- [MC 1](https://www.youtube.com/watch?v=uvYTGEZQTEs)\n",
    "- [MC 2](https://www.youtube.com/watch?v=jtHBfLtMq4U)\n",
    "- [MC 3](https://www.youtube.com/watch?v=P8DuuiINAo4&t)\n",
    "- [MC 4](https://www.youtube.com/watch?v=31X-M4okAI0)\n",
    "- [MC 5](https://www.youtube.com/watch?v=-kwnnNSGFMc)\n",
    "\n",
    "\n",
    "**Enunciado**\n",
    "\n",
    "Tres compañías de comida rápida están compitiendo por el primer lugar en la supremacía de comida rápida. \n",
    "\n",
    "* Si un cliente originalmente es fiel a \"Sansafood\" tiene un $65\\%$ de probabilidad de quedarse fiel a esta, un $20\\%$ de cambiarse a \"LDS ltda\" y un $15\\%$ de cambiarse a \"Wenzi's\".\n",
    "\n",
    "* Si un cliente originalmente es fiel a \"LDS ltda\" tiene un $40\\%$ de probabilidad de quedarse fiel a esta, un $30\\%$ de cambiarse a \"Sansafood\" y un $30\\%$ de cambiarse a \"Wenzi's\".\n",
    "\n",
    "* Si un cliente originalmente es fiel a \"Wenzi's\" tiene un $70\\%$ de probabilidad de quedarse fiel a esta, un $10\\%$ de cambiarse a \"Sansafood\" y un $20\\%$ de cambiarse a \"LDS ltda\".\n",
    "\n",
    "En un comienzo 200 clientes pertenecen a \"Sansafood\", 180 a \"LDS ltda\" y 20 a \"Wenzi's\".\n",
    "\n",
    ">a) Identifique la matriz de transición y la matriz de estado inicial"
   ]
  },
  {
   "cell_type": "markdown",
   "metadata": {},
   "source": [
    "Para este problema se utilizó una nomenclatura para acortar los nombres de la compañia:\n",
    "    * S equivale a Sansafood\n",
    "    * L equivale a LDS ltda\n",
    "    * W equivale a Wenzi's\n",
    "Matriz Transición"
   ]
  },
  {
   "cell_type": "code",
   "execution_count": 154,
   "metadata": {},
   "outputs": [
    {
     "name": "stdout",
     "output_type": "stream",
     "text": [
      "   S    L    W\n",
      "S 0.65 0.2 0.15\n",
      "L 0.3  0.4 0.3\n",
      "W 0.1  0.2 0.7\n"
     ]
    }
   ],
   "source": [
    "#Se creo la matriz de transición\n",
    "p = np.array([[0.65,0.20,0.15],[0.30,0.40,0.30],[0.1,0.2,0.7]])\n",
    "print(\"   S    L    W\")\n",
    "print(\"S \"+str(p[0][0])+\" \"+str(p[0][1])+\" \"+str(p[0][2]))\n",
    "print(\"L \"+str(p[1][0])+\"  \"+str(p[1][1])+\" \"+str(p[1][2]))\n",
    "print(\"W \"+str(p[2][0])+\"  \"+str(p[2][1])+\" \"+str(p[2][2]))"
   ]
  },
  {
   "cell_type": "markdown",
   "metadata": {},
   "source": [
    "Matriz de estado inicial"
   ]
  },
  {
   "cell_type": "code",
   "execution_count": 155,
   "metadata": {},
   "outputs": [
    {
     "name": "stdout",
     "output_type": "stream",
     "text": [
      "S 0.5\n",
      "L 0.45\n",
      "W 0.05\n"
     ]
    }
   ],
   "source": [
    "s = np.array([[0.5,0.45,0.05]])\n",
    "print(\"S \" + str(s[0][0]))\n",
    "print(\"L \" + str(s[0][1]))\n",
    "print(\"W \" + str(s[0][2]))"
   ]
  },
  {
   "cell_type": "markdown",
   "metadata": {},
   "source": [
    ">**O:** b) Haga un diagrama de transición "
   ]
  },
  {
   "cell_type": "markdown",
   "metadata": {},
   "source": [
    "<img src=\"img/diagrama.png\" style=\"float:left;height:180px\">"
   ]
  },
  {
   "cell_type": "markdown",
   "metadata": {},
   "source": [
    ">**O:** c) ¿Este problema es un caso de una cadena de markov regular? ¿Por qué?"
   ]
  },
  {
   "cell_type": "code",
   "execution_count": null,
   "metadata": {},
   "outputs": [],
   "source": []
  },
  {
   "cell_type": "markdown",
   "metadata": {},
   "source": [
    ">d) ¿Existirá la matriz estacionaria en este caso? Si su respuesta es sí, obténgala."
   ]
  },
  {
   "cell_type": "markdown",
   "metadata": {},
   "source": [
    "Sí, existirá la matriz estacionaria, ya que este problema es un caso de una cadena de markov regular.\n",
    "Matriz Estacionaria"
   ]
  },
  {
   "cell_type": "code",
   "execution_count": 156,
   "metadata": {},
   "outputs": [
    {
     "name": "stdout",
     "output_type": "stream",
     "text": [
      "    S          L           W\n",
      "[[0.33333333 0.25       0.41666667]]\n"
     ]
    }
   ],
   "source": [
    "#En esta parte, lo que se hace en aplicar la formula antes descrita hasta que la matriz de estado no cambia \n",
    "#entre el paso n y el paso n+1\n",
    "while(1):\n",
    "    s_trans = s.dot(p)\n",
    "    if((s_trans == s).all()):\n",
    "        break\n",
    "    else:\n",
    "        s = s_trans\n",
    "print(\"    S          L           W\")\n",
    "print(s_trans)"
   ]
  },
  {
   "cell_type": "markdown",
   "metadata": {},
   "source": [
    ">e) Después de pasado mucho tiempo. ¿Quién tendrá una mayor cantidad de clientes? Asuma que la matriz de transición será válida por todo este periodo arbitrario de tiempo y no llegarán ni saldrán más clientes del mundo de comida rápida. **No realice esta simulación como una multiplicación de matrices**, use las probabilidades y las cantidades dadas. Compare con d) "
   ]
  },
  {
   "cell_type": "markdown",
   "metadata": {},
   "source": [
    "Aquí basicamente se va cambiando las poblaciones con ayuda de la matriz de estado en cada estado hasta que la matriz de estado sea igual entre el paso n y el paso n+1"
   ]
  },
  {
   "cell_type": "code",
   "execution_count": 157,
   "metadata": {},
   "outputs": [
    {
     "name": "stdout",
     "output_type": "stream",
     "text": [
      "Tiempo 1\n",
      "Clientes Sansafood 186\n",
      "Clientes LDS ltda 116\n",
      "Clientes Wenzi's 98.00000000000001\n",
      "\n",
      "Tiempo 2\n",
      "Clientes Sansafood 166\n",
      "Clientes LDS ltda 103\n",
      "Clientes Wenzi's 131.3\n",
      "\n",
      "Tiempo 3\n",
      "Clientes Sansafood 152\n",
      "Clientes LDS ltda 101\n",
      "Clientes Wenzi's 148\n",
      "\n",
      "Tiempo 4\n",
      "Clientes Sansafood 144\n",
      "Clientes LDS ltda 100\n",
      "Clientes Wenzi's 156.32825000000003\n",
      "\n",
      "Tiempo 5\n",
      "Clientes Sansafood 139\n",
      "Clientes LDS ltda 100\n",
      "Clientes Wenzi's 161\n",
      "\n",
      "Tiempo 6\n",
      "Clientes Sansafood 136\n",
      "Clientes LDS ltda 100\n",
      "Clientes Wenzi's 164\n",
      "\n",
      "Tiempo 7\n",
      "Clientes Sansafood 135\n",
      "Clientes LDS ltda 100\n",
      "Clientes Wenzi's 165\n",
      "\n",
      "Tiempo 8\n",
      "Clientes Sansafood 134\n",
      "Clientes LDS ltda 100\n",
      "Clientes Wenzi's 166\n",
      "\n",
      "Tiempo 9\n",
      "Clientes Sansafood 134\n",
      "Clientes LDS ltda 100\n",
      "Clientes Wenzi's 166.14909362960938\n",
      "\n",
      "Tiempo 10\n",
      "Clientes Sansafood 134\n",
      "Clientes LDS ltda 100\n",
      "Clientes Wenzi's 166.38200764028517\n",
      "\n",
      "Tiempo 11\n",
      "Clientes Sansafood 133\n",
      "Clientes LDS ltda 100\n",
      "Clientes Wenzi's 167\n",
      "\n",
      "Tiempo 12\n",
      "Clientes Sansafood 133\n",
      "Clientes LDS ltda 100\n",
      "Clientes Wenzi's 167\n",
      "\n",
      "Tiempo 13\n",
      "Clientes Sansafood 133\n",
      "Clientes LDS ltda 100\n",
      "Clientes Wenzi's 167\n",
      "\n",
      "Tiempo 14\n",
      "Clientes Sansafood 133\n",
      "Clientes LDS ltda 100\n",
      "Clientes Wenzi's 167\n",
      "\n",
      "Tiempo 15\n",
      "Clientes Sansafood 133\n",
      "Clientes LDS ltda 100\n",
      "Clientes Wenzi's 167\n",
      "\n",
      "Tiempo 16\n",
      "Clientes Sansafood 133\n",
      "Clientes LDS ltda 100\n",
      "Clientes Wenzi's 167\n",
      "\n",
      "Tiempo 17\n",
      "Clientes Sansafood 133\n",
      "Clientes LDS ltda 100\n",
      "Clientes Wenzi's 167\n",
      "\n",
      "Tiempo 18\n",
      "Clientes Sansafood 133\n",
      "Clientes LDS ltda 100\n",
      "Clientes Wenzi's 167\n",
      "\n",
      "Tiempo 19\n",
      "Clientes Sansafood 133\n",
      "Clientes LDS ltda 100\n",
      "Clientes Wenzi's 167\n",
      "\n",
      "Tiempo 20\n",
      "Clientes Sansafood 133\n",
      "Clientes LDS ltda 100\n",
      "Clientes Wenzi's 167\n",
      "\n",
      "Tiempo 21\n",
      "Clientes Sansafood 133\n",
      "Clientes LDS ltda 100\n",
      "Clientes Wenzi's 167\n",
      "\n",
      "Tiempo 22\n",
      "Clientes Sansafood 133\n",
      "Clientes LDS ltda 100\n",
      "Clientes Wenzi's 167\n",
      "\n",
      "Tiempo 23\n",
      "Clientes Sansafood 133\n",
      "Clientes LDS ltda 100\n",
      "Clientes Wenzi's 167\n",
      "\n",
      "Tiempo 24\n",
      "Clientes Sansafood 133\n",
      "Clientes LDS ltda 100\n",
      "Clientes Wenzi's 167\n",
      "\n",
      "Tiempo 25\n",
      "Clientes Sansafood 133\n",
      "Clientes LDS ltda 100\n",
      "Clientes Wenzi's 167\n",
      "\n",
      "Tiempo 26\n",
      "Clientes Sansafood 133\n",
      "Clientes LDS ltda 100\n",
      "Clientes Wenzi's 167\n",
      "\n",
      "Tiempo 27\n",
      "Clientes Sansafood 133\n",
      "Clientes LDS ltda 100\n",
      "Clientes Wenzi's 167\n",
      "\n",
      "Tiempo 28\n",
      "Clientes Sansafood 133\n",
      "Clientes LDS ltda 100\n",
      "Clientes Wenzi's 167\n",
      "\n",
      "Tiempo 29\n",
      "Clientes Sansafood 133\n",
      "Clientes LDS ltda 100\n",
      "Clientes Wenzi's 167\n",
      "\n",
      "Tiempo 30\n",
      "Clientes Sansafood 133\n",
      "Clientes LDS ltda 100\n",
      "Clientes Wenzi's 167\n",
      "\n",
      "Tiempo 31\n",
      "Clientes Sansafood 133\n",
      "Clientes LDS ltda 100\n",
      "Clientes Wenzi's 167\n",
      "\n",
      "Tiempo 32\n",
      "Clientes Sansafood 133\n",
      "Clientes LDS ltda 100\n",
      "Clientes Wenzi's 167\n",
      "\n",
      "Tiempo 33\n",
      "Clientes Sansafood 133\n",
      "Clientes LDS ltda 100\n",
      "Clientes Wenzi's 167\n",
      "\n",
      "Tiempo 34\n",
      "Clientes Sansafood 133\n",
      "Clientes LDS ltda 100\n",
      "Clientes Wenzi's 167\n",
      "\n",
      "Tiempo 35\n",
      "Clientes Sansafood 133\n",
      "Clientes LDS ltda 100\n",
      "Clientes Wenzi's 167\n",
      "\n",
      "Tiempo 36\n",
      "Clientes Sansafood 133\n",
      "Clientes LDS ltda 100\n",
      "Clientes Wenzi's 167\n",
      "\n",
      "Tiempo 37\n",
      "Clientes Sansafood 133\n",
      "Clientes LDS ltda 100\n",
      "Clientes Wenzi's 167\n",
      "\n",
      "Tiempo 38\n",
      "Clientes Sansafood 133\n",
      "Clientes LDS ltda 100\n",
      "Clientes Wenzi's 167\n",
      "\n",
      "Tiempo 39\n",
      "Clientes Sansafood 133\n",
      "Clientes LDS ltda 100\n",
      "Clientes Wenzi's 167\n",
      "\n",
      "Tiempo 40\n",
      "Clientes Sansafood 133\n",
      "Clientes LDS ltda 100\n",
      "Clientes Wenzi's 167\n",
      "\n",
      "Tiempo 41\n",
      "Clientes Sansafood 133\n",
      "Clientes LDS ltda 100\n",
      "Clientes Wenzi's 167\n",
      "\n",
      "Tiempo 42\n",
      "Clientes Sansafood 133\n",
      "Clientes LDS ltda 100\n",
      "Clientes Wenzi's 167\n",
      "\n",
      "Tiempo 43\n",
      "Clientes Sansafood 133\n",
      "Clientes LDS ltda 100\n",
      "Clientes Wenzi's 167\n",
      "\n",
      "Tiempo 44\n",
      "Clientes Sansafood 133\n",
      "Clientes LDS ltda 100\n",
      "Clientes Wenzi's 167\n",
      "\n",
      "Tiempo 45\n",
      "Clientes Sansafood 133\n",
      "Clientes LDS ltda 100\n",
      "Clientes Wenzi's 167\n",
      "\n",
      "Tiempo 46\n",
      "Clientes Sansafood 133\n",
      "Clientes LDS ltda 100\n",
      "Clientes Wenzi's 167\n",
      "\n",
      "Tiempo 47\n",
      "Clientes Sansafood 133\n",
      "Clientes LDS ltda 100\n",
      "Clientes Wenzi's 167\n",
      "\n",
      "Tiempo 48\n",
      "Clientes Sansafood 133\n",
      "Clientes LDS ltda 100\n",
      "Clientes Wenzi's 167\n",
      "\n",
      "Tiempo 49\n",
      "Clientes Sansafood 133\n",
      "Clientes LDS ltda 100\n",
      "Clientes Wenzi's 167\n",
      "\n",
      "Tiempo 50\n",
      "Clientes Sansafood 133\n",
      "Clientes LDS ltda 100\n",
      "Clientes Wenzi's 167\n",
      "\n",
      "Tiempo 51\n",
      "Clientes Sansafood 133\n",
      "Clientes LDS ltda 100\n",
      "Clientes Wenzi's 167\n",
      "\n",
      "Tiempo 52\n",
      "Clientes Sansafood 133\n",
      "Clientes LDS ltda 100\n",
      "Clientes Wenzi's 167\n",
      "\n",
      "Tiempo 53\n",
      "Clientes Sansafood 133\n",
      "Clientes LDS ltda 100\n",
      "Clientes Wenzi's 167\n",
      "\n",
      "Tiempo 54\n",
      "Clientes Sansafood 133\n",
      "Clientes LDS ltda 100\n",
      "Clientes Wenzi's 167\n",
      "\n",
      "Tiempo 55\n",
      "Clientes Sansafood 133\n",
      "Clientes LDS ltda 100\n",
      "Clientes Wenzi's 167\n",
      "\n",
      "Tiempo 56\n",
      "Clientes Sansafood 133\n",
      "Clientes LDS ltda 100\n",
      "Clientes Wenzi's 167\n",
      "\n",
      "Tiempo 57\n",
      "Clientes Sansafood 133\n",
      "Clientes LDS ltda 100\n",
      "Clientes Wenzi's 167\n",
      "\n",
      "Tiempo 58\n",
      "Clientes Sansafood 133\n",
      "Clientes LDS ltda 100\n",
      "Clientes Wenzi's 167\n",
      "\n",
      "Tiempo 59\n",
      "Clientes Sansafood 133\n",
      "Clientes LDS ltda 100\n",
      "Clientes Wenzi's 167\n",
      "\n",
      "Tiempo 60\n",
      "Clientes Sansafood 133\n",
      "Clientes LDS ltda 100\n",
      "Clientes Wenzi's 167\n",
      "\n",
      "Tiempo 61\n",
      "Clientes Sansafood 133\n",
      "Clientes LDS ltda 100\n",
      "Clientes Wenzi's 167\n",
      "\n",
      "Tiempo 62\n",
      "Clientes Sansafood 133\n",
      "Clientes LDS ltda 100\n",
      "Clientes Wenzi's 167\n",
      "\n"
     ]
    }
   ],
   "source": [
    "p = np.array([[0.65,0.20,0.15],[0.30,0.40,0.30],[0.1,0.2,0.7]])\n",
    "s = np.array([[0.5,0.45,0.05]])\n",
    "i = 0\n",
    "while(1):\n",
    "    i+=1\n",
    "    s_trans = s.dot(p)\n",
    "    print(\"Tiempo \" + str(i))\n",
    "    clientes_S = s_trans[0][0]*400 \n",
    "    clientes_W = s_trans[0][2]*400\n",
    "    clientes_L = s_trans[0][1]*400\n",
    "    if(clientes_S >= float(int(clientes_S)) +0.5):\n",
    "        clientes_S = int(clientes_S) + 1\n",
    "    else:\n",
    "        clientes_S = int(clientes_S)\n",
    "    if(clientes_L>= float(int(clientes_L)) +0.5):\n",
    "        clientes_L = int(clientes_L) + 1\n",
    "    else:\n",
    "        clientes_L = int(clientes_L)\n",
    "    if(clientes_W >= float(int(clientes_W)) +0.5):\n",
    "        clientes_W = int(clientes_W) + 1\n",
    "    else:\n",
    "        clientes_L = int(clientes_L)\n",
    "    print(\"Clientes Sansafood \" + str(clientes_S))\n",
    "    print(\"Clientes LDS ltda \" + str(clientes_L))\n",
    "    print(\"Clientes Wenzi's \" + str(clientes_W))\n",
    "    print(\"\")\n",
    "    if((s_trans == s).all()):\n",
    "        break\n",
    "    else:\n",
    "        s = s_trans"
   ]
  },
  {
   "cell_type": "markdown",
   "metadata": {},
   "source": [
    "Se puede observar con lo anterior calculado y mostrado que al final la compañia Wenzi's tendrá la mayor cantidad de clientes en un tiempo muy largo. "
   ]
  },
  {
   "cell_type": "markdown",
   "metadata": {},
   "source": [
    "## Reglas del Juego y Comentarios \n",
    "\n",
    "+ Errores ortográficos, de redacción y oraciones ambiguas descontarán parte de su puntaje.\n",
    "+ Dudas solamente hasta el  día 31 de Marzo a las 23hrs.\n",
    "+ Dudas **principalmente** vía moodle, evite otro tipo de medio ya que su duda podría ser la de otro.\n",
    "+ Cada día de atraso descuenta 25 puntos de la nota final con un máximo de dos días de retraso (después es 0).\n",
    "+ La versión de R que se usará para revisar es 3.5.2\n",
    "+ La versión de Python que se usará para revisar es 3.6.8\n",
    "+ Los alumnos malla nueva que decidan responder las preguntas opcionales (obviando algún bonus para todos) tendrán 1 punto bonus por pregunta correctamente respondida, con un máximo de nota 100.\n",
    "+ Use cualquier librería que estime conveniente, si requiere de instalación explicitarlo en el README (y bien explicitado).\n",
    "+ Código comentado para facilitar entendimiento.\n",
    "+ Sea formal y claro con su respuesta, explique su procedimiento y luego responda. \n",
    "+ Defina bien las secciones de su notebook, el orden siempre es bueno :) [Tips para usar Markdown](https://github.com/adam-p/markdown-here/wiki/Markdown-Cheatsheet)"
   ]
  }
 ],
 "metadata": {
  "kernelspec": {
   "display_name": "Python 3",
   "language": "python",
   "name": "python3"
  },
  "language_info": {
   "codemirror_mode": {
    "name": "ipython",
    "version": 3
   },
   "file_extension": ".py",
   "mimetype": "text/x-python",
   "name": "python",
   "nbconvert_exporter": "python",
   "pygments_lexer": "ipython3",
   "version": "3.5.2"
  }
 },
 "nbformat": 4,
 "nbformat_minor": 2
}
