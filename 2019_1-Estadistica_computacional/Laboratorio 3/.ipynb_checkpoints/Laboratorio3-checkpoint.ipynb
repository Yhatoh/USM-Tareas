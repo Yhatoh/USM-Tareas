{
 "cells": [
  {
   "cell_type": "markdown",
   "metadata": {},
   "source": [
    "<table style=\"width:100%\">\n",
    "  <tr>\n",
    "    <th align=\"right\"><img src=\"img/dilogo.png\" style=\"float:left;height:90px\"></th>\n",
    "    <th align=\"center\">\n",
    "    <h1 align=\"center\">Laboratorio 3</h1>\n",
    "    <h2 align=\"center\">Profesor: Ricardo Ñanculef</h2>\n",
    "    <h3 align=\"center\">Ayudante: Gabriel Ortega</h3>\n",
    "    <h3 align=\"center\">Alumno1;rol;malla</h3>\n",
    "    <h3 align=\"center\">Alumno2;rol;malla</h3>\n",
    "    <h3 align=\"center\">Mayo 2019</h3>\n",
    "    </th> \n",
    "    <th align=\"left\"><img src=\"img/usmlogo.png\" style=\"float:right;height:85px\"></th>\n",
    "  </tr>"
   ]
  },
  {
   "cell_type": "markdown",
   "metadata": {},
   "source": [
    "## Instrucciones\n",
    "\n",
    "La modalidad de trabajo será mediante el uso de jupyter notebook. El notebook debe ser desarrollado en parejas o individual. Este laboratorio debe ser entregado el día *cuando se baje el paro hay fecha*.\n",
    "\n",
    "La **modalidad de entrega será un archivo Apellido1_Apellido2_Lab3.zip** que contenga un notebook que incluya todas las preguntas con sus respectivas respuestas + un README que indique la forma correcta de ejecutar su notebook. El laboratorio puede ser trabajado tanto en lenguaje R como en lenguaje python (para los que usen python 2.X, absténganse a las consecuencias). Lea bien el enunciado.\n",
    "\n",
    "\n",
    "**Cualquier copia detectada implicará nota 0 en el laboratorio correspondiente y se notificará la situación al profesor.**\n",
    "\n",
    "## Tips V.2\n",
    "\n",
    "A la hora de trabajar con números o procesos aleatorios a veces es importante poder replicar lo que usted realiza (pensando en un trabajo que se mostrará a la comunidad científica), para esto se tiene que, para generar la misma secuencia de números aleatorios, se debe pasar una *semilla* al generador de éstos. \n",
    "\n",
    "**R**\n",
    "```R\n",
    "set.seed(numero)\n",
    "```\n",
    "\n",
    "**Python**\n",
    "```python\n",
    "numpy.random.seed(numero) #libreria numpy \n",
    "random.seed(numero) #libreria random\n",
    "#O de otra libreria que pueda utilizar para generar números aleatorios\n",
    "```\n",
    "\n",
    "Si desea puede aplicar esto en su laboratorio para que se pueda reproducir exactamente lo mismo que usted obtuvo."
   ]
  },
  {
   "cell_type": "code",
   "execution_count": 2,
   "metadata": {},
   "outputs": [
    {
     "name": "stdout",
     "output_type": "stream",
     "text": [
      "Obteniendo el mismo número siempre\n",
      "138\n",
      "138\n",
      "138\n",
      "138\n",
      "138\n",
      "138\n",
      "138\n",
      "138\n",
      "138\n",
      "138\n",
      "Obteniendo la mismas secuencia \n",
      "138\n",
      "583\n",
      "868\n",
      "822\n",
      "783\n",
      "65\n",
      "262\n",
      "121\n",
      "508\n",
      "780\n"
     ]
    }
   ],
   "source": [
    "## Ejemplo Python \n",
    "import random \n",
    "\n",
    "print(\"Obteniendo el mismo número siempre\")\n",
    "for i in range(10):\n",
    "    random.seed(1)\n",
    "    resultado = random.randint(1,1000)\n",
    "    print(resultado)\n",
    "\n",
    "print(\"Obteniendo la mismas secuencia \") #Correr múltiples veces para ver esto \n",
    "random.seed(1)\n",
    "for i in range(10):\n",
    "    resultado = random.randint(1,1000)\n",
    "    print(resultado)"
   ]
  },
  {
   "cell_type": "code",
   "execution_count": 3,
   "metadata": {},
   "outputs": [],
   "source": [
    "%matplotlib inline\n",
    "\n",
    "import matplotlib.pyplot as plt\n",
    "import numpy as np \n",
    "from scipy import stats \n",
    "import seaborn as sns\n",
    "import pandas as pd\n",
    "import math"
   ]
  },
  {
   "cell_type": "markdown",
   "metadata": {},
   "source": [
    "## 1. LDA (40p)\n",
    "\n",
    "Es de mucho interés hoy en día el hecho de poder construir un clasificador que pueda inferir reglas a partir de los datos para poder predecir a futuro, en esta sección trabajará con una versión simplificada del dataset del titanic (data_titanic.csv), la que contiene 3 columnas:\n",
    "\n",
    "* Age: la edad del pasajero\n",
    "* Fare: el precio del boleto\n",
    "* Survived: si sobrevivió a la tragedia o no\n",
    "\n",
    "(Si, estamos en el ámbito multivariado ahora)\n",
    "\n",
    "El clasificador, en breves palabras, intenta maximizar $P(Y=survived|X=age,fare)$ asumiendo que los datos ($X$) provienen de una distribución Gaussiana Multivariada. Se espera que usted sea capaz de obtener los máximos verosímiles de los parámetros de esta distribución para poder construir su clasificador **a mano**.\n",
    "\n",
    ">a) Construya un clasificador LDA que permita distinguir si un pasajero sobrevive o no dado su edad y precio del ticket. *Recomendación: Puede separar una cantidad pequeña de datos para utilizarlos para probar su clasificador, es muy importante que si hace esto, estos datos no sean utilizados en la construcción del clasificador* \n",
    "\n",
    "Cualquier uso de las funciones provistas por los lenguajes que implementen LDA implica puntaje 0 en esta sección **sin excepción**.\n",
    "\n",
    "Esta pregunta es un poco extensa por lo que se recomienda leer bien el material provisto (mas abajo) y los libros guías del curso. No es necesario que responda todo de una, puede ir por partes, es más, esto es recomendable porque así puede ir ganando puntaje y no jugarse todo en un \"funciona/no funciona\" recuerde explicar bien su razonamiento.\n",
    "\n",
    "Si se complica mucho intente el caso univariado primero (fare vs survived ó age vs survived), si solamente presenta el univariado podrá optar a solamente 10 puntos del total (siempre y cuando esté bien).\n",
    "\n",
    "Material que podría resultar útil:\n",
    "* [Video](https://www.youtube.com/watch?v=azXCzI57Yfc)\n",
    "* [Articulo LDA](https://towardsdatascience.com/classification-part-2-linear-discriminant-analysis-ea60c45b9ee5)\n",
    "* [Explicacion matematica de sklearn](https://scikit-learn.org/stable/modules/lda_qda.html#lda-qda)\n",
    "* Libros Guía indicados en el Syllabus(verosimilitud)\n"
   ]
  },
  {
   "cell_type": "code",
   "execution_count": null,
   "metadata": {},
   "outputs": [],
   "source": []
  },
  {
   "cell_type": "markdown",
   "metadata": {},
   "source": [
    "## 2. Teorema de la Función Inversa (10p)\n",
    "\n",
    "El teorema de la función inversa permite generar variables aleatorias continuas con una función de distribución $F(x)$ a partir de la inversa $F^{-1}(x)$. Donde los valores generados en la función inversa están regidos por una distribución uniforme $u \\sim U(0,1)$. \n",
    "\n",
    "En esta sección se trabajará con la distribución Weibull, cuya función de densidad de probabilidad está dada por:\n",
    "\n",
    "\\begin{aligned}\n",
    "Weibull(\\alpha,\\beta) = \\frac{\\alpha}{\\beta^{\\alpha}}x^{\\alpha -1}\\cdot exp \\left( \\frac{-x}{\\beta}\\right)^{\\alpha}\n",
    "\\end{aligned}\n",
    "\n",
    "Para trabajar el teorema de la función inversa siga los siguientes pasos:\n",
    "\n",
    "1. Identificar la función que defina a la variable aleatoria.\n",
    "2. De dicha función calcular la función de densidad acumulada. Explique en breves palabras como obtenerla y si es invertible o no (Lo de invertible hace referencia a esta función de densidad acumulada Weibull en particular y no olvide mencionar cual es la función de densidad acumulada Weibull).\n",
    "3. De la función de densidad acumulada despejar la variable X. La distribución Weibull a trabajar tiene parámetros $\\alpha = 10$ y $\\beta = 3$\n",
    "4. Generar 10000 valores que siguen la distribución $u \\sim U(0,1)$ y utilícelos como argumento en la función inversa encontrada\n",
    "5. Genere una distribución weibull de tamaño 10000 con los mismos $\\alpha$ y $\\beta$ que la trabajada. Y haga un gráfico de la densidad de dichos valores. \n",
    "6. Concluya respecto a lo que observa en ambas gráficas."
   ]
  },
  {
   "cell_type": "markdown",
   "metadata": {},
   "source": [
    "2)Integrando la ecuacion presentada, desde 0 a una variable, se obtiene las ecuacion de densidad acumulada la cual es:\n",
    "\n",
    "\\begin{aligned}\n",
    "F(t;\\alpha,\\beta) = 1-exp \\left( -\\left( \\frac{x}{\\beta}\\right)^{\\alpha}\\right)\n",
    "\\end{aligned}\n",
    "\n",
    "La cual tiene inversa, para un dominion con los x >= 0 y un Recorrido entre 0 y 1 inclusivo. Dicha inversa equivale a:\n",
    "\n",
    "\\begin{aligned}\n",
    "F^{-1}(x;\\alpha,\\beta) = -\\beta \\cdot \\left( ln \\left( 1-x \\right) \\right)^{\\frac{1}{\\alpha}}\n",
    "\\end{aligned}\n",
    "\n",
    "Utilizando los valores a tabajar se obtiene:\n",
    "\n",
    "\\begin{aligned}\n",
    "F^{-1}(x) = -3 \\cdot \\left( ln \\left( 1-x \\right) \\right)^{\\frac{1}{10}}\n",
    "\\end{aligned}"
   ]
  },
  {
   "cell_type": "code",
   "execution_count": 25,
   "metadata": {
    "scrolled": true
   },
   "outputs": [
    {
     "data": {
      "text/plain": [
       "<matplotlib.axes._subplots.AxesSubplot at 0x209c9528320>"
      ]
     },
     "execution_count": 25,
     "metadata": {},
     "output_type": "execute_result"
    },
    {
     "data": {
      "image/png": "[encoded data removed]",
      "text/plain": [
       "<Figure size 432x288 with 1 Axes>"
      ]
     },
     "metadata": {
      "needs_background": "light"
     },
     "output_type": "display_data"
    }
   ],
   "source": [
    "\"\"\"##\n",
    "# Utilizando stats.uniform.rvs, se generan los valores que siguen la distribución uniforme.\n",
    "# Se insertan los datos la funcion inve(x), la cual calcula la expresión antes presentada,\n",
    "# con la cual se obtiene la distribución de Weibull\n",
    "# Luego, con numpy.random.weibull, se genera directamente una distribución de weibull\n",
    "# Por ultimo, utilizando pandas y seaborn, se grafican dichas distribuciones\n",
    "\"\"\"\n",
    "\n",
    "def inve(x):\n",
    "    return (3*(math.log(1/(1-x)))**(0.1))\n",
    "\n",
    "np.random.seed(2)\n",
    "apa = stats.uniform.rvs(size=10000)\n",
    "np.random.seed(10)\n",
    "epe = np.random.weibull(a=10,size=10000)*3\n",
    "l=[]\n",
    "for i in apa:\n",
    "    l.append(inve(i))\n",
    "\n",
    "    \n",
    "df= pd.DataFrame({'Valor generado':l})\n",
    "ax= df.plot.kde()\n",
    "\n",
    "sns.distplot(l, hist=False, kde=True, \n",
    "             bins=30, color = 'blue', \n",
    "             hist_kws={'edgecolor':'black'},\n",
    "             kde_kws={'linewidth': 4})"
   ]
  },
  {
   "cell_type": "code",
   "execution_count": 5,
   "metadata": {},
   "outputs": [
    {
     "data": {
      "text/plain": [
       "<matplotlib.axes._subplots.AxesSubplot at 0x209c7973e10>"
      ]
     },
     "execution_count": 5,
     "metadata": {},
     "output_type": "execute_result"
    },
    {
     "data": {
      "image/png": "[encoded data removed]",
      "text/plain": [
       "<Figure size 432x288 with 1 Axes>"
      ]
     },
     "metadata": {
      "needs_background": "light"
     },
     "output_type": "display_data"
    }
   ],
   "source": [
    "df= pd.DataFrame({'x':epe})\n",
    "ax= df.plot.kde()\n",
    "\n",
    "sns.distplot(epe, hist=False, kde=True, \n",
    "             bins=30, color = 'darkblue', \n",
    "             hist_kws={'edgecolor':'red'},\n",
    "             kde_kws={'linewidth': 4})\n",
    "\n",
    "#sns.distplot(epe, hist=False, kde=True, \n",
    "#             bins=30, color = 'darkblue', \n",
    "#             hist_kws={'edgecolor':'red'},\n",
    "#             kde_kws={'linewidth': 4})"
   ]
  },
  {
   "cell_type": "markdown",
   "metadata": {},
   "source": [
    "Se puede observar que ambos gráficos de densidad poseen un gran parentesco, por lo cual podemos concluir que la función acumulada inversa de Weibull, con valores que siguen la distribución normal, efectivamente se genera una distribución de Weibull."
   ]
  },
  {
   "cell_type": "markdown",
   "metadata": {},
   "source": [
    "## 3. Teorema del Límite Central (30p)\n",
    "\n",
    "El teorema del límite central es uno de los postulados más importantes de estadística. En esta sección se procederá a comprobarlo en su forma clásica. \n",
    "\n",
    "Sea $x_{1},x_{2},....,x_{n}$ una muestra aleatoria de tamaño $n$ IID extraidas de una distribución con valor esperado $\\mu$ y varianza finita $\\sigma^{2}$. Si calculamos la media muestral: \n",
    "\n",
    "$$ \\bar{X}_{n} = \\frac{\\sum x_{i}}{n}$$\n",
    "\n",
    "Y repetimos este proceso una gran cantidad de veces $(P)$ tendremos una distribución de las medias de las muestras (*Sample mean distribution*). El TLC establece que, si el número de repeticiones es lo suficientemente grande: \n",
    "\n",
    "$$ \\bar{X} \\sim N\\left(\\mu,\\sqrt{\\frac{\\sigma^{2}}{n}}\\right)$$ \n",
    "\n",
    "En esta sección se trabajará con la siguiente distribución y se demostrará lo que enuncia el TLC.\n",
    "\n",
    "| Valor | Probabilidad |\n",
    "|:-----:|:------------:|\n",
    "|   1   |      0.1     |\n",
    "|   2   |      0.2     |\n",
    "|   5   |     0.05     |\n",
    "|   6   |     0.05     |\n",
    "|   7   |      0.2     |\n",
    "|   9   |     0.10     |\n",
    "|   10  |     0.05     |\n",
    "|   11  |     0.2      |\n",
    "|   12  |     0.05     |\n",
    "\n",
    ">a) Determine el valor esperado y la varianza **TEÓRICOS**"
   ]
  },
  {
   "cell_type": "markdown",
   "metadata": {},
   "source": [
    "El valor esperado de esta distribución corresponde a realizar el siguiente calculo:\n",
    "\n",
    "$E[X] = 1*0.1+2*0.2+5*0.05+6*0.05+7*0.2+9*0.1+10*0.05+11*0.2+12*0.05$\n",
    "    \n",
    "Lo cual se obtiene que $E[X] = 6.65$.\n",
    "\n",
    "Ahora bien la varianza a determinar corresponderá a lo siguiente:\n",
    "\n",
    "$V[X] = E[X^{2}] - E[X]^{2}$\n",
    "\n",
    "Lo cual realizando los calculo se obtiene que $V[X] = 14.02$"
   ]
  },
  {
   "cell_type": "code",
   "execution_count": 6,
   "metadata": {},
   "outputs": [
    {
     "name": "stdout",
     "output_type": "stream",
     "text": [
      "6.65\n",
      "58.25000000000001\n",
      "14.027500000000003\n"
     ]
    }
   ],
   "source": [
    "print(1*0.1+2*0.2+5*0.05+6*0.05+7*0.2+9*0.1+10*0.05+11*0.2+12*0.05)\n",
    "print(1*1*0.1+2*2*0.2+5*5*0.05+6*6*0.05+7*7*0.2+9*9*0.1+10*10*0.05+11*11*0.2+12*12*0.05)\n",
    "print(1*1*0.1+2*2*0.2+5*5*0.05+6*6*0.05+7*7*0.2+9*9*0.1+10*10*0.05+11*11*0.2+12*12*0.05-6.65*6.65)"
   ]
  },
  {
   "cell_type": "markdown",
   "metadata": {},
   "source": [
    ">b) Con $P = 10,1000$ calcule la media de muestras de tamaño : $n \\in[2,10,30,100,1000]$ compare los resultados obtenidos para los dos $P$ dados. Presente los datos en una tabla ordenada con columnas: $n,\\;P=10,\\;P=1000$ Comente, ¿qué parece influir mas, la cantidad de repeticiones, el tamaño de la muestra o ambas?"
   ]
  },
  {
   "cell_type": "code",
   "execution_count": 7,
   "metadata": {},
   "outputs": [],
   "source": [
    "def nani():\n",
    "    random.seed(2)\n",
    "    x = random.random()\n",
    "    if(0 <= x < 0.1):\n",
    "        return 1\n",
    "    elif(0.1 <= x < 0.3):\n",
    "        return 2\n",
    "    elif(0.3 <= x < 0.35):\n",
    "        return 5\n",
    "    elif(0.35 <= x < 0.4):\n",
    "        return 6\n",
    "    elif(0.4 <= x < 0.6):\n",
    "        return 7\n",
    "    elif(0.6 <= x < 0.7):\n",
    "        return 9\n",
    "    elif(0.7 <= x < 0.75):\n",
    "        return 10\n",
    "    elif(0.75 <= x < 0.95):\n",
    "        return 11\n",
    "    elif(0.95 <= x <= 1):\n",
    "        return 12\n",
    "    "
   ]
  },
  {
   "cell_type": "code",
   "execution_count": 8,
   "metadata": {},
   "outputs": [],
   "source": [
    "p_10 = []\n",
    "p_1000 = []\n",
    "p_1000_2 = []\n",
    "p_1000_30 = []\n",
    "p_1000_1000 = []\n",
    "random.seed(2)\n",
    "for i in [2,10,30,100,1000]:\n",
    "    mega_prom = 0\n",
    "    for j in range(10):\n",
    "        suma = 0\n",
    "        for k in range(i):\n",
    "            suma += nani()\n",
    "        mega_prom += suma/i\n",
    "    mega_prom = mega_prom/10\n",
    "    p_10.append(mega_prom)\n",
    "    mega_prom = 0\n",
    "    for j in range(1000):\n",
    "        suma = 0\n",
    "        for k in range(i):\n",
    "            suma += nani()\n",
    "        if(i == 2):\n",
    "            p_1000_2.append(suma/i)\n",
    "        elif(i == 30):\n",
    "            p_1000_30.append(suma/i)\n",
    "        elif(i == 1000):\n",
    "            p_1000_1000.append(suma/i)\n",
    "        mega_prom += suma/i\n",
    "    mega_prom = mega_prom/1000\n",
    "    p_1000.append(mega_prom)"
   ]
  },
  {
   "cell_type": "code",
   "execution_count": 9,
   "metadata": {},
   "outputs": [
    {
     "name": "stdout",
     "output_type": "stream",
     "text": [
      "[12.0, 12.0, 12.0, 12.0, 12.0]\n",
      "[12.0, 12.0, 12.0, 12.0, 12.0]\n"
     ]
    }
   ],
   "source": [
    "print(p_10)\n",
    "print(p_1000)"
   ]
  },
  {
   "cell_type": "markdown",
   "metadata": {},
   "source": [
    ">c) Con lo obtenido en b) haga un histograma para las muestras de tamaño 2, 30 y 1000 de P = 1000. Comente lo que observa y concluya. ¿Se cumple lo que enuncia el teorema del límite central?"
   ]
  },
  {
   "cell_type": "code",
   "execution_count": 10,
   "metadata": {},
   "outputs": [
    {
     "data": {
      "image/png": "[encoded data removed]",
      "text/plain": [
       "<Figure size 432x288 with 1 Axes>"
      ]
     },
     "metadata": {
      "needs_background": "light"
     },
     "output_type": "display_data"
    },
    {
     "data": {
      "image/png": "[encoded data removed]",
      "text/plain": [
       "<Figure size 432x288 with 1 Axes>"
      ]
     },
     "metadata": {
      "needs_background": "light"
     },
     "output_type": "display_data"
    },
    {
     "data": {
      "image/png": "[encoded data removed]",
      "text/plain": [
       "<Figure size 432x288 with 1 Axes>"
      ]
     },
     "metadata": {
      "needs_background": "light"
     },
     "output_type": "display_data"
    }
   ],
   "source": [
    "plt.hist(p_1000_2)\n",
    "plt.show()\n",
    "plt.hist(p_1000_30)\n",
    "plt.show()\n",
    "plt.hist(p_1000_1000)\n",
    "plt.show()"
   ]
  },
  {
   "cell_type": "markdown",
   "metadata": {},
   "source": [
    "## 4. Ley de los Grande Números (20p)\n",
    "\n",
    "En estadística, la ley de los grandes números engloba teoremas que describen el comportamiento del promedio de una distribución de variables aleatorias. La ley de los grandes números dice que, en pocas palabras, a medida que se aumenta el tamaño muestral el promedio de la distribución de variables aleatorias converge al promedio de la población completa.\n",
    "\n",
    "Un estudio realizado en el casino de la universidad MSU, indica que el tiempo de espera en la cola del casino para obtener su almuerzo puede modelarse como una distribución Exponencial con parámetro: $\\lambda = 0.1$\n",
    "\n",
    ">a) **Utilizando las funciones provistas por los lenguajes** calcule la probabilida **teórica** de que un alumno espere menos de 10 minutos, exactamente 20 minutos y más de 50 minutos."
   ]
  },
  {
   "cell_type": "code",
   "execution_count": 11,
   "metadata": {},
   "outputs": [
    {
     "name": "stdout",
     "output_type": "stream",
     "text": [
      "La probabilidad de que espere menos de 10 minutos es de: 0.6321205588285577\n",
      "\n",
      "La probabilidad de que espere exactamente 20 segundos, es 0, debido a que la distribucion exponenencial es continua\n",
      "\n",
      "La probabilidad de que espere mas de 50 minutos es de : 0.006737946999085476\n"
     ]
    }
   ],
   "source": [
    "\"\"\"\n",
    "# Utilizando stats.expon.cdf se calcula la probabilidad acumulada\n",
    "\"\"\"\n",
    "\n",
    "print(\"La probabilidad de que espere menos de 10 minutos es de: \"+ str(stats.expon.cdf(10,scale= 1/0.1)))\n",
    "print()\n",
    "print(\"La probabilidad de que espere exactamente 20 segundos, es 0, debido a que la distribucion exponenencial es continua\")\n",
    "print()\n",
    "print(\"La probabilidad de que espere mas de 50 minutos es de : \"+str(1-stats.expon.cdf(50,scale= 1/0.1)))"
   ]
  },
  {
   "cell_type": "markdown",
   "metadata": {},
   "source": [
    ">b) Ahora genere 3 muestras de dicha distribución exponencial, con tamaños n = 5, 100, 300, 10000. Para cada una de estas muestras determine las mismas probabilidades calculadas en a) de manera empírica, comente sus resultados."
   ]
  },
  {
   "cell_type": "code",
   "execution_count": 43,
   "metadata": {
    "scrolled": true
   },
   "outputs": [
    {
     "name": "stdout",
     "output_type": "stream",
     "text": [
      "Muestra 1:\n",
      "\n",
      "Tamaño 5\n",
      "Probabilidad de x > 10: 0.2\n",
      "Probabilidad de x = 20: 0.0\n",
      "Probabilidad de x < 20: 0.0\n",
      "\n",
      "Tamaño 100\n",
      "Probabilidad de x > 10: 0.72\n",
      "Probabilidad de x = 20: 0.0\n",
      "Probabilidad de x < 20: 0.0\n",
      "\n",
      "Tamaño 300\n",
      "Probabilidad de x > 10: 0.63\n",
      "Probabilidad de x = 20: 0.0\n",
      "Probabilidad de x < 20: 0.016666666666666666\n",
      "\n",
      "Tamaño 10000\n",
      "Probabilidad de x > 10: 0.6332\n",
      "Probabilidad de x = 20: 0.0\n",
      "Probabilidad de x < 20: 0.0065\n",
      "\n",
      "Muestra 2:\n",
      "\n",
      "Tamaño 5\n",
      "Probabilidad de x > 10: 1.0\n",
      "Probabilidad de x = 20: 0.0\n",
      "Probabilidad de x < 20: 0.0\n",
      "\n",
      "Tamaño 100\n",
      "Probabilidad de x > 10: 0.66\n",
      "Probabilidad de x = 20: 0.0\n",
      "Probabilidad de x < 20: 0.0\n",
      "\n",
      "Tamaño 300\n",
      "Probabilidad de x > 10: 0.6533333333333333\n",
      "Probabilidad de x = 20: 0.0\n",
      "Probabilidad de x < 20: 0.0033333333333333335\n",
      "\n",
      "Tamaño 10000\n",
      "Probabilidad de x > 10: 0.6249\n",
      "Probabilidad de x = 20: 0.0\n",
      "Probabilidad de x < 20: 0.0068\n",
      "\n",
      "Muestra 3:\n",
      "\n",
      "Tamaño 5\n",
      "Probabilidad de x > 10: 0.8\n",
      "Probabilidad de x = 20: 0.0\n",
      "Probabilidad de x < 20: 0.0\n",
      "\n",
      "Tamaño 100\n",
      "Probabilidad de x > 10: 0.65\n",
      "Probabilidad de x = 20: 0.0\n",
      "Probabilidad de x < 20: 0.01\n",
      "\n",
      "Tamaño 300\n",
      "Probabilidad de x > 10: 0.6533333333333333\n",
      "Probabilidad de x = 20: 0.0\n",
      "Probabilidad de x < 20: 0.0\n",
      "\n",
      "Tamaño 10000\n",
      "Probabilidad de x > 10: 0.6352\n",
      "Probabilidad de x = 20: 0.0\n",
      "Probabilidad de x < 20: 0.0078\n",
      "\n"
     ]
    }
   ],
   "source": [
    "\"\"\"\n",
    "# Utilizando stats.expon.rvs se generan varias distribuciones de distinto tamaño.\n",
    "# Luego se filtran los valores, segun si cumplen o no una de las 3 posibilidades.\n",
    "\"\"\"\n",
    "\n",
    "def empir(n):\n",
    "    \n",
    "    random.seed(1782)\n",
    "    n1 = stats.expon.rvs(scale=1/0.1, size=n)\n",
    "\n",
    "    l1 = []\n",
    "    l2 = []\n",
    "    l3 = []\n",
    "\n",
    "\n",
    "    for i in n1:\n",
    "        if i < 10:\n",
    "            l1.append(i)\n",
    "        elif i == 20:\n",
    "            l2.append(i)\n",
    "        elif i > 50:\n",
    "            l3.append(i)\n",
    "\n",
    "    prob1 = len(l1)/len(n1) \n",
    "    prob2 = len(l2)/len(n1)\n",
    "    prob3 = len(l3)/len(n1)\n",
    "    \n",
    "    a = [prob1,prob2,prob3]\n",
    "    return (a,n1)\n",
    "\n",
    "d = {}\n",
    "\n",
    "probs= [\"Probabilidad de x > 10\",\"Probabilidad de x = 20\",\"Probabilidad de x < 20\"]\n",
    "\n",
    "for j in list(range(3)):\n",
    "    q,n = empir(5)\n",
    "    d[(j+1,5)] = n\n",
    "    e,n = empir(100)\n",
    "    d[(j+1,100)] = n\n",
    "    w,n = empir(300)\n",
    "    d[(j+1,300)] = n\n",
    "    r,n = empir(10000)\n",
    "    d[(j+1,10000)] = n\n",
    "    print(\"Muestra \"+ str(j+1)+\":\")\n",
    "    print()\n",
    "    \n",
    "    print(\"Tamaño 5\")\n",
    "    de=0\n",
    "    for i in q:\n",
    "        print(probs[de]+\": \"+str(i))\n",
    "        de+=1\n",
    "    print()\n",
    "    \n",
    "    de=0\n",
    "    print(\"Tamaño 100\")\n",
    "    for i in e:\n",
    "        print(probs[de]+\": \"+str(i))\n",
    "        de+=1\n",
    "    print()\n",
    "\n",
    "    de=0\n",
    "    print(\"Tamaño 300\")\n",
    "    for i in w:\n",
    "        print(probs[de]+\": \"+str(i))\n",
    "        de+=1\n",
    "    print()\n",
    "\n",
    "    de=0\n",
    "    print(\"Tamaño 10000\")\n",
    "    for i in r:\n",
    "        print(probs[de]+\": \"+str(i))\n",
    "        de+=1\n",
    "    print()\n"
   ]
  },
  {
   "cell_type": "markdown",
   "metadata": {},
   "source": [
    "Se puede observar que a medida que aumenta la cantidad de datos, aumenta la precisión, acercándose más al valor teórico además se aprecia que efectivamente la probabilidad de que se obtenga exactamente 20 es muy cercana a 0 (por no decir 0)."
   ]
  },
  {
   "cell_type": "markdown",
   "metadata": {},
   "source": [
    ">c) ¿Cuál debería ser la media **teórica** de todas estas distribuciones? ¿Y cuál es la empírica? ¿Si difieren o son iguales a qué se debe esto?"
   ]
  },
  {
   "cell_type": "code",
   "execution_count": 44,
   "metadata": {},
   "outputs": [
    {
     "name": "stdout",
     "output_type": "stream",
     "text": [
      "Media teórica: 10.0\n",
      "\n",
      "Media empírica de la primera muestra y n = 5: 13.929722365647285\n",
      "Media empírica de la primera muestra y de n = 100: 9.269516159056005\n",
      "Media empírica de la primera muestra y de n = 300: 10.535633839017963\n",
      "Media empírica de la primera muestra y de n = 10000: 9.94346779701718\n",
      "\n",
      "\n",
      "Media empírica de la segunda muestra y n = 5: 5.018678917920394\n",
      "Media empírica de la segunda muestra y de n = 100: 9.552258672008392\n",
      "Media empírica de la segunda muestra y de n = 300: 9.252547332843047\n",
      "Media empírica de la segunda muestra y de n = 10000: 10.183756033224666\n",
      "\n",
      "\n",
      "Media empírica de la tercera muestra y n = 5: 5.67429167214518\n",
      "Media empírica de la tercera muestra y de n = 100: 9.597385859831107\n",
      "Media empírica de la tercera muestra y de n = 300: 9.376843230863328\n",
      "Media empírica de la tercera muestra y de n = 10000: 10.036711784268437\n"
     ]
    }
   ],
   "source": [
    "print(\"Media teórica: \"+ str(stats.expon.mean(scale = 1/0.1)))\n",
    "\n",
    "print()\n",
    "print\n",
    "\n",
    "print(\"Media empírica de la primera muestra y n = 5: \" + str(sum(d[(1,5)])/len(d[(1,5)])))\n",
    "print(\"Media empírica de la primera muestra y de n = 100: \" + str(sum(d[(1,100)])/len(d[(1,100)])))\n",
    "print(\"Media empírica de la primera muestra y de n = 300: \" + str(sum(d[(1,300)])/len(d[(1,300)])))\n",
    "print(\"Media empírica de la primera muestra y de n = 10000: \" + str(sum(d[(1,10000)])/len(d[(1,10000)])))\n",
    "\n",
    "print()\n",
    "print()\n",
    "\n",
    "print(\"Media empírica de la segunda muestra y n = 5: \" + str(sum(d[(2,5)])/len(d[(2,5)])))\n",
    "print(\"Media empírica de la segunda muestra y de n = 100: \" + str(sum(d[(2,100)])/len(d[(2,100)])))\n",
    "print(\"Media empírica de la segunda muestra y de n = 300: \" + str(sum(d[(2,300)])/len(d[(2,300)])))\n",
    "print(\"Media empírica de la segunda muestra y de n = 10000: \" + str(sum(d[(2,10000)])/len(d[(2,10000)])))\n",
    "\n",
    "print()\n",
    "print()\n",
    "\n",
    "print(\"Media empírica de la tercera muestra y n = 5: \" + str(sum(d[(3,5)])/len(d[(3,5)])))\n",
    "print(\"Media empírica de la tercera muestra y de n = 100: \" + str(sum(d[(3,100)])/len(d[(3,100)])))\n",
    "print(\"Media empírica de la tercera muestra y de n = 300: \" + str(sum(d[(3,300)])/len(d[(3,300)])))\n",
    "print(\"Media empírica de la tercera muestra y de n = 10000: \" + str(sum(d[(3,10000)])/len(d[(3,10000)])))"
   ]
  },
  {
   "cell_type": "markdown",
   "metadata": {},
   "source": [
    "Los valores no son exactamente el  valor teórico, sin embargo, mientras más datos se tienen, más cerca se encuentra el valor empírico del teórico (en la mayoría de los casos). Esto sucede debido a que los datos son al azar computacional, por lo cual existe la probabilidad de que no sigan exactamente la distribución exponencial. Otro factor es que como lo dice la ley de los grandes números, se podrían tener aún más datos, para mejorar la precisión. "
   ]
  },
  {
   "cell_type": "markdown",
   "metadata": {},
   "source": [
    ">d) Genere **un** gráfico de 4 boxplot (1 de cada distribución) y compárelos. Comente lo que observa y concluya respecto a la ley de los grandes números."
   ]
  },
  {
   "cell_type": "code",
   "execution_count": 41,
   "metadata": {},
   "outputs": [
    {
     "data": {
      "image/png": "[encoded data removed]",
      "text/plain": [
       "<Figure size 432x288 with 1 Axes>"
      ]
     },
     "metadata": {
      "needs_background": "light"
     },
     "output_type": "display_data"
    }
   ],
   "source": [
    "\"\"\"\n",
    "# Utilizando matplotlib.pyplot.boxplot, se generan y muestran los boxplot de la primera\n",
    "# muestra generada.\n",
    "\"\"\"\n",
    "fig1, ax1 = plt.subplots()\n",
    "ax1.set_title('Distribucion exponencial')\n",
    "\n",
    "ax1.boxplot([d[(1,5)],d[(1,100)],d[(1,300)],d[(1,10000)]],labels=[\"5\",\"100\",\"300\",\"10000\"])\n",
    "ax1.set_xlabel(\"Tamaño de muestra\")\n",
    "ax1.set_ylabel(\"Frecuencia\")\n",
    "plt.show()\n",
    "\n",
    "\n",
    "\n"
   ]
  },
  {
   "cell_type": "markdown",
   "metadata": {},
   "source": [
    "## Reglas del Juego y Comentarios \n",
    "\n",
    "+ Errores ortográficos, de redacción y oraciones ambiguas descontarán parte de su puntaje.\n",
    "+ Dudas solamente hasta el día *anunciado post_paro*\n",
    "+ Dudas **principalmente** vía moodle, evite otro tipo de medio ya que su duda podría ser la de otro.\n",
    "+ Cada día de atraso descuenta 25 puntos de la nota final con un máximo de dos días de retraso (después es 0).\n",
    "+ La versión de R que se usará para revisar es 3.5.3\n",
    "+ La versión de Python que se usará para revisar es 3.6.8\n",
    "+ Use cualquier librería que estime conveniente, si requiere de instalación explicitarlo en el README (y bien explicitado).\n",
    "+ Código comentado para facilitar entendimiento.\n",
    "+ Sea formal y claro con su respuesta, **explique su procedimiento y luego responda.** \n",
    "+ Defina bien las secciones de su notebook, el orden siempre es bueno :) [Tips para usar Markdown](https://github.com/adam-p/markdown-here/wiki/Markdown-Cheatsheet)\n",
    "\n",
    "\n",
    "## Meme \n",
    "\n",
    "Si se dividen el trabajo del lab, que no quede así:\n",
    "\n",
    "<img src=\"img/trabajo.png\">\n",
    "\n"
   ]
  }
 ],
 "metadata": {
  "kernelspec": {
   "display_name": "Python 3",
   "language": "python",
   "name": "python3"
  },
  "language_info": {
   "codemirror_mode": {
    "name": "ipython",
    "version": 3
   },
   "file_extension": ".py",
   "mimetype": "text/x-python",
   "name": "python",
   "nbconvert_exporter": "python",
   "pygments_lexer": "ipython3",
   "version": "3.7.1"
  }
 },
 "nbformat": 4,
 "nbformat_minor": 2
}
