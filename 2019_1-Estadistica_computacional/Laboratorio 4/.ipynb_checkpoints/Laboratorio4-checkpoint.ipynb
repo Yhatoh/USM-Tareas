{
 "cells": [
  {
   "cell_type": "markdown",
   "metadata": {},
   "source": [
    "<table style=\"width:100%\">\n",
    "  <tr>\n",
    "    <th align=\"right\"><img src=\"img/dilogo.png\" style=\"float:left;height:90px\"></th>\n",
    "    <th align=\"center\">\n",
    "    <h1 align=\"center\">Laboratorio 4</h1>\n",
    "    <h2 align=\"center\">Profesor: Ricardo Ñanculef</h2>\n",
    "    <h3 align=\"center\">Ayudante: Gabriel Ortega</h3>\n",
    "    <h3 align=\"center\">Alumno1;rol;malla</h3>\n",
    "    <h3 align=\"center\">Alumno2;rol;malla</h3>\n",
    "    <h3 align=\"center\">Julio 2019</h3>\n",
    "    </th> \n",
    "    <th align=\"left\"><img src=\"img/usmlogo.png\" style=\"float:right;height:85px\"></th>\n",
    "  </tr>"
   ]
  },
  {
   "cell_type": "markdown",
   "metadata": {},
   "source": [
    "## Instrucciones\n",
    "\n",
    "La modalidad de trabajo será mediante el uso de jupyter notebook. El notebook debe ser desarrollado en parejas o individual. Este laboratorio debe ser entregado el día *cuando se baje el paro hay fecha*.\n",
    "\n",
    "La **modalidad de entrega será un archivo Apellido1_Apellido2_Lab4.zip** que contenga un notebook que incluya todas las preguntas con sus respectivas respuestas + un README que indique la forma correcta de ejecutar su notebook. El laboratorio puede ser trabajado tanto en lenguaje R como en lenguaje python (para los que usen python 2.X, absténganse a las consecuencias). Lea bien el enunciado.\n",
    "\n",
    "\n",
    "**Cualquier copia detectada implicará nota 0 en el laboratorio correspondiente y se notificará la situación al profesor.**\n",
    "\n",
    "## Consideración\n",
    "\n",
    ">En este laboratorio se evaluará el uso correcto de una semilla para replicar sus ejecuciones y observar los mismos resultados, el no cumplimiento de esto implica un descuento de 10 puntos en su nota."
   ]
  },
  {

   "cell_type": "code",
   "execution_count": 6,

   "metadata": {},
   "outputs": [],
   "source": [
    "import pandas as pd\n",
    "import numpy as np\n",
    "import random\n",
    "from scipy import stats"
   ]
  },
  {

   "cell_type": "markdown",
   "metadata": {},
   "source": [
    "## 1. Test de Hipótesis (25p)\n",
    "\n",
    "Muchos procesos estadísticos utilizados asumen la normalidad de los datos para poder trabajar, la normalidad de los datos simplifica el trabajo en muchos casos, pero, ¿es posible asumir siempre esta normalidad?, como la respuesta es claramente \"no\" en esta sección trabajará el [Test de hipótesis de Shapiro-Wilks](http://riotorto.users.sourceforge.net/R/noparam_shapiro/) cuya utilidad es poder determinar si un conjunto de datos sigue una distribución normal o no. (Queda propuesto para el estudiante investigar más sobre este test)\n",
    "\n",
    "Recordando el trabajo realizado en el laboratorio anterior, respecto al teorema del límite central, utilizaremos la misma distribución dada para trabajar con este test de hipótesis \n",
    "\n",
    "| Valor | Probabilidad |\n",
    "|:-----:|:------------:|\n",
    "|   1   |      0.1     |\n",
    "|   2   |      0.2     |\n",
    "|   5   |     0.05     |\n",
    "|   6   |     0.05     |\n",
    "|   7   |      0.2     |\n",
    "|   9   |     0.10     |\n",
    "|   10  |     0.05     |\n",
    "|   11  |     0.2      |\n",
    "|   12  |     0.05     |\n",
    "\n",
    "Se trabajará con 3 muestras:\n",
    "\n",
    "* Una muestra de tamaño 1000 de la población original (distribución dada)\n",
    "* La distribución de 1000 medias de muestras de tamaño 12 \n",
    "* La distribución de 1000 medias de muestras de tamaño 120\n",
    "\n",
    ">a) A priori ¿Qué muestra/s esperaría usted que siguieran una distribución normal? ¿Cuáles no? Responda utilizando el teorema del límite central. (Independiente de lo que obtenga en b), el puntaje se dará según la justificación que se de)"
   ]
  },
  {
   "cell_type": "markdown",
   "metadata": {},
   "source": [
    "Utilizando el teorema del límite central, se esperaría que la segunda y tercera muestra siguieran una distribución normal, debido a que se repite el proceso una gran cantidad de veces sacando las medias de muestras, en este caso 1000 veces.\n",
    "Luego utilizando el mismo argumento se esperaría que la primera muestra no siguiera una distribución normal, debido a que esta muestra seguira la distribución la cual no se ve que sea una distribución normal, añadiendo que son valores discretos."
   ]
  },
  {
   "cell_type": "markdown",
   "metadata": {},
   "source": [
    ">b) Realice el test de hipótesis de shapiro-wilk **utilizando las funciones provistas por los lenguajes** y comente las muestras que cumplen con la normalidad de datos y las que no bajo un nivel de significancia del 1% y 5%. Compare los resultados que obtiene con cada nivel de significancia para cada muestra y comente."
   ]
  },
  {
   "cell_type": "code",
   "execution_count": 7,
   "metadata": {},
   "outputs": [],
   "source": []
   "source": [
    "def nani():\n",
    "    x = random.random()\n",
    "    if(0 <= x < 0.1):\n",
    "        return 1\n",
    "    elif(0.1 <= x < 0.3):\n",
    "        return 2\n",
    "    elif(0.3 <= x < 0.35):\n",
    "        return 5\n",
    "    elif(0.35 <= x < 0.4):\n",
    "        return 6\n",
    "    elif(0.4 <= x < 0.6):\n",
    "        return 7\n",
    "    elif(0.6 <= x < 0.7):\n",
    "        return 9\n",
    "    elif(0.7 <= x < 0.75):\n",
    "        return 10\n",
    "    elif(0.75 <= x < 0.95):\n",
    "        return 11\n",
    "    elif(0.95 <= x <= 1):\n",
    "        return 12"
   ]
  },
  {
   "cell_type": "code",
   "execution_count": 9,
   "metadata": {},
   "outputs": [
    {
     "name": "stdout",
     "output_type": "stream",
     "text": [
      "(0.8789129853248596, 3.423181394334905e-27)\n",
      "(0.9979047179222107, 0.2450060397386551)\n",
      "(0.9986093044281006, 0.6272978186607361)\n"
     ]
    }
   ],
   "source": [
    "muestra_1 = []\n",
    "muestra_2 = []\n",
    "muestra_3 = []\n",
    "i = 0\n",
    "random.seed(1)\n",
    "while(i < 1000):\n",
    "    muestra_1.append(nani())\n",
    "    j = 0\n",
    "    suma = 0\n",
    "    while(j < 12):\n",
    "        suma = suma + nani()\n",
    "        j+=1\n",
    "    muestra_2.append(suma/12)\n",
    "    j = 0\n",
    "    suma = 0\n",
    "    while(j < 120):\n",
    "        suma = suma + nani()\n",
    "        j+=1\n",
    "    muestra_3.append(suma/120)\n",
    "    i+=1\n",
    "print(stats.shapiro(muestra_1))\n",
    "print(stats.shapiro(muestra_2))\n",
    "print(stats.shapiro(muestra_3))"
   ]

  },
  {
   "cell_type": "markdown",
   "metadata": {},
   "source": [
    ">c) ¿Qué sucede a medida que el nivel de significancia se acerca a 0? ¿Qué puede concluir acerca del nivel de significancia que se utiliza?"
   ]
  },
  {
   "cell_type": "code",
   "execution_count": null,
   "metadata": {},
   "outputs": [],
   "source": []
  },
  {
   "cell_type": "markdown",
   "metadata": {},
   "source": [
    "## 2. Bootstrap e Intervalos de Confianza (30p) \n",
    "\n",
    "Suponga que tiene una muestra  <b>M</b> de una población <b>P</b> y esta muestra <b>M</b> es de tamaño <b>N</b>. Queremos obtener algún estimador $ \\theta $ de <b>P</b> a partir de <b>M</b> ya sea la media, varianza, o alguna otra función que interese, obviamente este estimador tendrá un error asociado ya que no es el estimador de la población. Uno de los métodos para determinar intervalos de confianza es el método bootstrap que permite trabajar solamente con una muestra de la población.\n",
    "\n",
    "Podemos entender bootstrap de la siguiente manera: Suponga que tenemos en una bolsa papelitos con cada elemento de la muestra <b>M</b>, sacamos un papelito, <b>lo volvemos a guardar en la bolsa</b> y repetimos este proceso <b>N</b> veces hasta tener una muestra $M^{1*}$ y sobre esta muestra de la muestra aplicamos la función que queremos conocer (media, varianza, etc) teniendo un estimador $ \\theta ^{1*} $ . Luego repetimos este proceso <b>B</b> veces y terminamos con un conjunto de <b>B</b> estimadores. \n",
    "\n",
    "En esta sección trabajará con una muestra de una población $N\\sim (50,20)$ muestra.csv\n",
    "\n",
    "[Método Bootstrap](https://www.youtube.com/watch?v=ZCXg64l9R_4)\n",
    "\n",
    ">*Construir intervalos de confianza bootstrap queda pendiente para el estudiante* \n",
    "\n",
    "Nos interesará probar la construcción de un intervalo de confianza para la media y desviación estándar utilizando solamente la muestra de esta población. \n",
    "\n",
    ">a) Utilizando el método bootstrap **a mano** (no funciones de los lenguajes) construya 1000 intervalos de confianza para la media y la desviación estándar, luego grafique cada intervalo y el valor teórico de la media/varianza y concluya respecto a lo que observa. Haga este proceso para un nivel de significancia de 85%, 95% y 99%, comente lo que observe y concluya. \n",
    "\n",
    "*PD: La ausencia de conclusión respecto a los distintos niveles de significancia implica 0 puntos en la pregunta*\n",
    "\n",
    "> **Hint:** Puede contrastar lo obtenido con lo esperado"
   ]
  },
  {
   "cell_type": "code",
   "execution_count": 55,
   "metadata": {},
   "outputs": [
    {
     "name": "stdout",
     "output_type": "stream",
     "text": [
      "183.14812940476205\n",
      "194.04800514722945\n",
      "219.8094813203021\n",
      "xd\n"
     ]
    }
   ],
   "source": [
    "data = pd.read_csv(\"muestra.csv\")\n",
    "\n",
    "\n",
    "d1 = {}\n",
    "for b in list(range(2000)):\n",
    "    l = []\n",
    "    np.random.seed(b)\n",
    "    a = np.random.randint(99, size = 100)\n",
    "    for i in a: \n",
    "        l.append(data[\"valor\"][i])\n",
    "    d1[b] = l\n",
    "    a+=1\n",
    "medias = {}\n",
    "for k,v in d.items():\n",
    "    medias[k]= sum(v)/len(v)\n",
    "\n",
    "    \n",
    "d2 = {}\n",
    "for b in list(range(2000,4000)):\n",
    "    l = []\n",
    "    np.random.seed(b)\n",
    "    a = np.random.randint(99, size = 100)\n",
    "    for i in a: \n",
    "        l.append(data[\"valor\"][i])\n",
    "    d2[b-2000] = l\n",
    "    a+=1\n",
    "des = {}\n",
    "for k,v in d2.items():\n",
    "    mn = sum(v)/len(v) \n",
    "    suma = 0\n",
    "    for i in v:\n",
    "        suma = suma + (i-mn)*(i-mn)\n",
    "    des[k]= suma**0.5\n",
    "print(des[0])\n",
    "print(des[1])\n",
    "print(des[2])\n"
   ]
  },
  {
   "cell_type": "markdown",
   "metadata": {},
   "source": [
    "## 3. Regresión Lineal (45p)\n",
    "\n",
    "Uno de los aspectos más importantes de estadística es el análisis de la relación entre dos variables, uno de los modelos más simples para esto es la *Regresión Lineal Simple* donde se estudia una relación lineal entre la variable dependiente e independiente, esto no tiene por qué solamente ser univariado (X e Y) si no que puede ser también multivariado donde se tiene un vector de variables independientes que determinan a una variable de interés.\n",
    "\n",
    "La regresión lineal simple de mínimos cuadrados es un modelo para representar una relación lineal entre dos variables mediante la ecuación: $Y = a\\cdot X + b + \\epsilon$. Este será el modelo que se trabajará en esta sección.\n",
    "\n",
    "Se trabajará con LRData.csv \n",
    "\n",
    ">a) Construya un modelo de regresión lineal donde X sea la variable independiente y la columna \"Valor\" la variable dependiente, luego calcule el MSE (mean standard error) de su modelo \n",
    "\n",
    "$$ MSE = \\frac{\\sum \\left(\\hat{Y_{i}}- Y_{i}\\right)^{2}}{n} $$\n",
    "\n",
    "$$\\hat{Y}: \\; prediccion$$\n",
    "\n",
    "$$Y: \\; valor\\, verdadero$$"
   ]
  },
  {
   "cell_type": "code",
   "execution_count": null,
   "metadata": {},
   "outputs": [],
   "source": []
  },
  {
   "cell_type": "markdown",
   "metadata": {},
   "source": [
    ">b) Construya un scatterplot donde grafique tanto los valores predichos por el modelo como los valores originales de la variable independiente en función de X. Al observar el gráfico ¿cree que sería posible mejorar el MSE obtenido en a)?"
   ]
  },
  {
   "cell_type": "code",
   "execution_count": null,
   "metadata": {},
   "outputs": [],
   "source": []
  },
  {
   "cell_type": "markdown",
   "metadata": {},
   "source": [
    ">c) Si en b) respondió que no, saltese esta pregunta, caso contrario, implemente su solución, verifique el MSE disminuye y vuelva a graficar los valores."
   ]
  },
  {
   "cell_type": "code",
   "execution_count": null,
   "metadata": {},
   "outputs": [],
   "source": []
  },
  {
   "cell_type": "markdown",
   "metadata": {},
   "source": [
    ">d) Utilizando su solución propuesta en c) calcule un intervalo de confianza con un nivel de 90%, 95% y 99% de confiabilidad cuando X = 749"
   ]
  },
  {
   "cell_type": "code",
   "execution_count": null,
   "metadata": {},
   "outputs": [],
   "source": []
  },
  {
   "cell_type": "markdown",
   "metadata": {},
   "source": [
    ">e) Comente como se debería implementar la solución dada en c) utilizando el método bootstrap y luego proceda a implementarla, compare ambos modelos resultantes y comente respecto al desempeño de éstos. Puede mencionar otros aspectos también (complejidad, implementación, etc)."
   ]
  },
  {
   "cell_type": "code",
   "execution_count": null,
   "metadata": {},
   "outputs": [],
   "source": []
  },
  {
   "cell_type": "markdown",
   "metadata": {},
   "source": [
    "## Reglas del Juego y Comentarios \n",
    "\n",
    "+ Errores ortográficos, de redacción y oraciones ambiguas descontarán parte de su puntaje.\n",
    "+ Dudas solamente hasta el día 25 de julio.\n",
    "+ Dudas **principalmente** vía moodle, evite otro tipo de medio ya que su duda podría ser la de otro.\n",
    "+ Cada día de atraso descuenta 25 puntos de la nota final con un máximo de dos días de retraso (después es 0).\n",
    "+ La versión de R que se usará para revisar es 3.5.3\n",
    "+ La versión de Python que se usará para revisar es 3.6.8\n",
    "+ Use cualquier librería que estime conveniente, si requiere de instalación explicitarlo en el README (y bien explicitado).\n",
    "+ Código comentado para facilitar entendimiento.\n",
    "+ Sea formal y claro con su respuesta, **explique su procedimiento y luego responda.** \n",
    "+ Defina bien las secciones de su notebook, el orden siempre es bueno :) [Tips para usar Markdown](https://github.com/adam-p/markdown-here/wiki/Markdown-Cheatsheet)\n",
    "\n",
    "\n",
    "## Meme \n",
    "\n",
    "Si se dividen el trabajo del lab, que no quede así:\n",
    "\n",
    "<img src=\"img/trabajo.png\">\n",
    "\n"
   ]
  }
 ],
 "metadata": {
  "kernelspec": {
   "display_name": "Python 3",
   "language": "python",
   "name": "python3"
  },
  "language_info": {
   "codemirror_mode": {
    "name": "ipython",
    "version": 3
   },
   "file_extension": ".py",
   "mimetype": "text/x-python",
   "name": "python",
   "nbconvert_exporter": "python",
   "pygments_lexer": "ipython3",
   "version": "3.6.7"
  }
 },
 "nbformat": 4,
 "nbformat_minor": 2
}
