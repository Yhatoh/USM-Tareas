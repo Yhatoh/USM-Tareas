{
 "cells": [
  {
   "cell_type": "markdown",
   "metadata": {
    "colab_type": "text",
    "id": "qimgVFB3r58e"
   },
   "source": [
    "# INF-285 / ILI-285\n",
    "## Desafío 1, v1.01\n",
    "### SCT 2020-1"
   ]
  },
  {
   "cell_type": "markdown",
   "metadata": {},
   "source": [
    "Gabriel Carmona 201773509-0"
   ]
  },
  {
   "cell_type": "markdown",
   "metadata": {
    "colab_type": "text",
    "id": "_pik3saquHQa"
   },
   "source": [
    "# Introducción\n",
    "\n",
    "En el siguiente desafío estudiaremos el comportamiento de $2$ algoritmos para obtener el punto fijo $r$ de funciones $g(x)$, es decir, $r=g(r)$.\n",
    "Es importante destacar que el punto fijo de una función no es lo mismo que la raíz de una función, sin embargo sí están muy relacionados.\n",
    "Solo a modo de recordatorio, la raíz de una función $f(x)$ es encontrar un $\\hat{x}$ tal que $f(\\hat{x})=0$.\n",
    "\n",
    "## Iteración de Punto Fijo\n",
    "\n",
    "El algoritmo llamado Iteración de Punto Fijo (IPF o *FPI*, *Fixed Point Iteration* del inglés) se define de la siguiente forma:\n",
    "\\begin{align*}\n",
    "  x_0 &= \\text{\"Initial guess''},\\\\\n",
    "  x_{i+1} &= g(x_i), \\quad i\\in {1,2,3,\\dots}.\n",
    "\\end{align*}\n",
    "\n",
    "El cual puede o no puede converger a su punto fijo $r=g(r)$ dependiendo del comportamiento de $g(x)$ entorno al punto fijo $r$.\n",
    "En el caso de que la iteración de punto fijo diverja, uno debiera buscar otra forma de encontrar el punto fijo, la otra manera se explica a continuación.\n",
    "\n",
    "## Método de la Bisección\n",
    "\n",
    "En el caso de que la iteración de punto fijo diverja o simplemente converja muy lento, podemos usar convenientemente el Método de la Bisección.\n",
    "Para poder utilizar el Método de la Bisección, debemos adaptarlo, dado que es un algoritmo diseñado para buscar raíces de una función, no puntos fijos de una función.\n",
    "La adaptación consiste en escribir convenientemente la búsqueda de un punto fijo como la búsqueda de una raíz de la siguiente forma,\n",
    "\\begin{equation}\n",
    "  f(x) = x - g(x),\n",
    "\\end{equation}\n",
    "\n",
    "donde podemos comprobar que si evaluamos la función $f(x)$ en el punto fijo de $g(x)$ obtenemos la equivalencia,\n",
    "\\begin{equation}\n",
    "  f(r) = r - g(r)=0.\n",
    "\\end{equation}\n",
    "\n",
    "Por lo tanto, ¡hemos exitosamente conectado un problema de punto fijo con un problema de búsqueda de ceros!\n",
    "\n",
    "**De esta forma ambos métodos podrían ser útiles si necesitamos encontrar puntos fijos de funciones**.\n",
    "\n",
    "Comentario: ¿Puede visualizar ahora el como utilizar búsqueda de puntos fijos para encontrar raíces de funciones?"
   ]
  },
  {
   "cell_type": "markdown",
   "metadata": {},
   "source": [
    "Gabriel: Siiii, se puede visualizar mejor :D"
   ]
  },
  {
   "cell_type": "markdown",
   "metadata": {
    "colab_type": "text",
    "id": "eEBrFbq50kES"
   },
   "source": [
    "# Ejercicio\n"
   ]
  },
  {
   "cell_type": "code",
   "execution_count": 7,
   "metadata": {
    "colab": {},
    "colab_type": "code",
    "id": "qGeqEAB2mNug"
   },
   "outputs": [],
   "source": [
    "# Bibliotecas necesarias\n",
    "import numpy as np\n",
    "import matplotlib.pyplot as plt"
   ]
  },
  {
   "cell_type": "markdown",
   "metadata": {
    "colab_type": "text",
    "id": "qluMnQPHy_OI"
   },
   "source": [
    "Se solicita implementar una rutina ```obtener_punto_fijo``` que reciba la función $g(x)$, un intervalo $[a, b]$ y un ```n_iter```, que indica el máximo número de iteraciones que pueden utilizar los métodos de bisección y punto fijo.\n",
    "Notar que los métodos deben retornar la secuencia de soluciones obtenidas hasta que se logra la convergencia, es necesario que cuando se logre el punto fijo no se retorne una secuencia de valores repetidos, si no que se trunque el vector de salida hasta donde empezó a repetirse el valor respectivo, de otra forma se estará dividiendo por $0$ en la explicación incluida más adelante.\n",
    "\n",
    "El retorno de la rutina debe ser la mejor solución aproximada ```x_sol```, y una estructura del tipo \n",
    "```[('biseccion', tasa_bisección), ('punto fijo', tasa_punto_fijo)]```, donde se reporta el algoritmo (en el orden solicitado) y la tasa de convergencia respectiva.\n",
    "Por lo tanto la firma de la función debería quedar como:\n",
    "```python\n",
    "  def obtener_punto_fijo(g, a, b, n_iter):\n",
    "    # Su algoritmo...\n",
    "\n",
    "    resultado = [('biseccion', tasa_biseccion), ('punto fijo', tasa_punto_fijo)]\n",
    "    x_sol = ...\n",
    "    return x_sol, resultado\n",
    "```\n",
    "\n",
    "La idea es que su algoritmo permita retornar la solución asociada al método con mejor *tasa de convergencia*."
   ]
  },
  {
   "cell_type": "markdown",
   "metadata": {
    "colab_type": "text",
    "id": "VtpyCvWM00H0"
   },
   "source": [
    "Para que pueda calcular la *tasa de convergencia* se pone a disposición la función ```obtener_tasa(ratio)```, que recibe un arreglo con los cocientes de la estimación numérica de los errores en cada iteración. Los cuales deben ser obtenidos de la siguiente forma:\n",
    "\\begin{equation}\n",
    "  ratio_i = \\frac{|x_{i+1} - x_i|}{|x_i - x_{i-1}|}\n",
    "\\end{equation}"
   ]
  },
  {
   "cell_type": "code",
   "execution_count": 8,
   "metadata": {
    "colab": {},
    "colab_type": "code",
    "id": "gMnDnwQ-H0KW"
   },
   "outputs": [],
   "source": [
    "def obtener_tasa(ratio):\n",
    "    hist, bin_edges = np.histogram(ratio, bins=10000)\n",
    "    k = np.argmax(hist)\n",
    "    return np.round((bin_edges[k] + bin_edges[k+1]) / 2, 5)"
   ]
  },
  {
   "cell_type": "markdown",
   "metadata": {
    "colab_type": "text",
    "id": "ow0jA-pR2TNe"
   },
   "source": [
    "Además, para que pueda probar el funcionamiento de su procedimiento, se ponen a disposición las siguientes funciones y los intevalos donde debe buscar el punto fijo:"
   ]
  },
  {
   "cell_type": "code",
   "execution_count": 9,
   "metadata": {
    "colab": {},
    "colab_type": "code",
    "id": "hMuaMxSdmSIR"
   },
   "outputs": [],
   "source": [
    "g1 = lambda x: np.cos(x) # Intervalo: [0, 1]\n",
    "g2 = lambda x: 3 / (x-2) # Intervalo: [-3, 0]\n",
    "g3 = lambda x: (x + 10.) ** (1 / 4) # Intervalo: [0, 2]\n",
    "g4 = lambda x: 3 + 2 * np.sin(x) # Intervalo: [-5, 5]\n",
    "g5 = lambda x: np.cos(x) / np.exp(x) # Intervalo: [0, 4]\n",
    "g6 = lambda x: (np.exp(x) + x ** 3 + 4 * x ** 2 + 2 * x + 2) / (x ** 2 + 3 * x - 3) # Intervalo: [-1, 0]\n",
    "g7 = lambda x: np.exp((np.exp(-x) / 3)) # Intervalo: [0, 2]\n",
    "g8 = lambda x: -0.5 * x + 3 / 2 # Intervalo: [0, 1]\n",
    "g9 = lambda x: (x ** 3 - 5) / 2 # Intervalo: [2, 3]\n",
    "g10 = lambda x: -1 + 1.5 * x # Intervalo: [0,10]\n",
    "g11 = lambda x: 0.7 + 1.7 * x # Intervalo: [-10,10]\n"
   ]
  },
  {
   "cell_type": "markdown",
   "metadata": {
    "colab_type": "text",
    "id": "InfGOnZqKDIF"
   },
   "source": [
    "Se incluye a continuación el enunciado de la función que usted debe entregar:"
   ]
  },
  {
   "cell_type": "markdown",
   "metadata": {},
   "source": [
    "CONSIDERE el caso que f(a) * f(b) sea positivo\n",
    "\n",
    "RECUERDE no incluir valores repetidos al final de la secuencia del arreglo de salida para no tener errores igual a 0\n",
    "  \n",
    "x = 0 # Calcular los valores de x para cada iteracion"
   ]
  },
  {
   "cell_type": "code",
   "execution_count": 15,
   "metadata": {
    "colab": {},
    "colab_type": "code",
    "id": "Gn06N_slnCa0"
   },
   "outputs": [],
   "source": [
    "def bisection(f, a, b, n_iter):\n",
    "    if f(a) * f(b) > 0:\n",
    "        return []\n",
    "    losC = []\n",
    "    for i in range(n_iter):\n",
    "        c = (a + b) / 2\n",
    "        losC.append(c)\n",
    "        g_fc = f(c)\n",
    "        if abs(g_fc - c) <= 1e-16:\n",
    "            break\n",
    "        elif len(losC) != 1 and (abs(g_fc - c) <= 1e-16 or c == losC[len(losC) - 2]):\n",
    "            break\n",
    "        if f(b) * f(c) < 0:\n",
    "            a = c\n",
    "        else:\n",
    "            b = c\n",
    "    return losC"
   ]
  },
  {
   "cell_type": "markdown",
   "metadata": {},
   "source": [
    "CONSIDERE que el metodo puede no converger\n",
    "  \n",
    "RECUERDE no incluir valores repetidos al final de la secuencia del arreglo de salida para no tener errores igual a 0\n",
    "  \n",
    "x = 0 # Calcular los valores de x para cada iteracion\n"
   ]
  },
  {
   "cell_type": "code",
   "execution_count": 16,
   "metadata": {
    "colab": {},
    "colab_type": "code",
    "id": "5U7xY9GmxIPg"
   },
   "outputs": [],
   "source": [
    "def fpi(g, x_0, n_iter):\n",
    "    losX = [x_0]\n",
    "    if g(x_0) == x_0:\n",
    "        return losX\n",
    "    for i in range(n_iter):\n",
    "        x_1 = g(x_0)\n",
    "        losX.append(x_1)\n",
    "        g_gx_0 = g(x_0)\n",
    "        g_gx_1 = g(x_1)\n",
    "        if abs(g_gx_1 - g_gx_0) <= 1e-16 or abs(g_gx_1) >= 1e101:\n",
    "            break\n",
    "        x_0 = x_1\n",
    "    return losX"
   ]
  },
  {
   "cell_type": "code",
   "execution_count": 17,
   "metadata": {},
   "outputs": [],
   "source": [
    "def ratios(losX):\n",
    "    tasa = [abs(losX[2]- losX[1]) / abs(losX[1] - losX[0])]\n",
    "    i = 2\n",
    "    while i < len(losX) - 1:\n",
    "        tasa.append(abs(losX[i + 1] - losX[i]) / abs(losX[i] - losX[i - 1]))\n",
    "        i += 1\n",
    "    return tasa"
   ]
  },
  {
   "cell_type": "code",
   "execution_count": 18,
   "metadata": {
    "colab": {},
    "colab_type": "code",
    "id": "0ug6PrYzKIaM"
   },
   "outputs": [],
   "source": [
    "def obtener_punto_fijo(g, a, b, n_iter):\n",
    "    f = lambda x: x - g(x)\n",
    "    xBiseccion = bisection(f, a, b, n_iter)\n",
    "    xFpi = fpi(g, a, n_iter)\n",
    "    #print(xBiseccion)\n",
    "    #print(xFpi)\n",
    "    tasa_biseccion = obtener_tasa(np.array(ratios(xBiseccion)))\n",
    "    tasa_punto_fijo = obtener_tasa(np.array(ratios(xFpi)))\n",
    "    #print(tasa_biseccion)\n",
    "    #print(tasa_punto_fijo)\n",
    "    resultado = [('biseccion', tasa_biseccion), ('punto fijo', tasa_punto_fijo)]\n",
    "    \n",
    "    x_sol = xBiseccion[-1] if tasa_biseccion < tasa_punto_fijo else xFpi[-1]\n",
    "    return x_sol, resultado"
   ]
  },
  {
   "cell_type": "code",
   "execution_count": 19,
   "metadata": {},
   "outputs": [
    {
     "data": {
      "text/plain": [
       "(-0.1122668652032043, [('biseccion', 0.50003), ('punto fijo', 0.00129)])"
      ]
     },
     "execution_count": 19,
     "metadata": {},
     "output_type": "execute_result"
    }
   ],
   "source": [
    "m = -5\n",
    "g12 = lambda x: np.cos(m*np.arccos(x))\n",
    "obtener_punto_fijo(g12,0.6,1,100)"
   ]
  },
  {
   "cell_type": "code",
   "execution_count": 20,
   "metadata": {},
   "outputs": [
    {
     "data": {
      "text/plain": [
       "(0.7390851332151605, [('biseccion', 0.50005), ('punto fijo', 0.67363)])"
      ]
     },
     "execution_count": 20,
     "metadata": {},
     "output_type": "execute_result"
    }
   ],
   "source": [
    "obtener_punto_fijo(g1, 0, 1, 100)"
   ]
  },
  {
   "cell_type": "code",
   "execution_count": 21,
   "metadata": {},
   "outputs": [
    {
     "data": {
      "text/plain": [
       "(-1.0, [('biseccion', 0.50005), ('punto fijo', 0.33332)])"
      ]
     },
     "execution_count": 21,
     "metadata": {},
     "output_type": "execute_result"
    }
   ],
   "source": [
    "obtener_punto_fijo(g2, -3, 0, 100)"
   ]
  },
  {
   "cell_type": "code",
   "execution_count": 22,
   "metadata": {},
   "outputs": [
    {
     "data": {
      "text/plain": [
       "(1.8555845286409378, [('biseccion', 0.50005), ('punto fijo', 0.03913)])"
      ]
     },
     "execution_count": 22,
     "metadata": {},
     "output_type": "execute_result"
    }
   ],
   "source": [
    "obtener_punto_fijo(g3, 0, 2, 100)"
   ]
  },
  {
   "cell_type": "code",
   "execution_count": 23,
   "metadata": {},
   "outputs": [
    {
     "data": {
      "text/plain": [
       "(3.0943834130492753, [('biseccion', 0.50005), ('punto fijo', 0.99997)])"
      ]
     },
     "execution_count": 23,
     "metadata": {},
     "output_type": "execute_result"
    }
   ],
   "source": [
    "obtener_punto_fijo(g4, -5, 5, 100)"
   ]
  },
  {
   "cell_type": "code",
   "execution_count": 24,
   "metadata": {},
   "outputs": [
    {
     "data": {
      "text/plain": [
       "(0.5177573636824582, [('biseccion', 0.50005), ('punto fijo', 0.81266)])"
      ]
     },
     "execution_count": 24,
     "metadata": {},
     "output_type": "execute_result"
    }
   ],
   "source": [
    "obtener_punto_fijo(g5, 0, 4, 100)"
   ]
  },
  {
   "cell_type": "code",
   "execution_count": 25,
   "metadata": {},
   "outputs": [
    {
     "data": {
      "text/plain": [
       "(-0.579158906050837, [('biseccion', 0.50005), ('punto fijo', 3e-05)])"
      ]
     },
     "execution_count": 25,
     "metadata": {},
     "output_type": "execute_result"
    }
   ],
   "source": [
    "obtener_punto_fijo(g6, -1, 0, 100)"
   ]
  },
  {
   "cell_type": "code",
   "execution_count": 26,
   "metadata": {},
   "outputs": [
    {
     "data": {
      "text/plain": [
       "(1.1154480172165406, [('biseccion', 0.50005), ('punto fijo', 0.12188)])"
      ]
     },
     "execution_count": 26,
     "metadata": {},
     "output_type": "execute_result"
    }
   ],
   "source": [
    "obtener_punto_fijo(g7, 0, 2, 100)"
   ]
  },
  {
   "cell_type": "code",
   "execution_count": 27,
   "metadata": {},
   "outputs": [
    {
     "data": {
      "text/plain": [
       "(1.0, [('biseccion', 0.50005), ('punto fijo', 0.49999)])"
      ]
     },
     "execution_count": 27,
     "metadata": {},
     "output_type": "execute_result"
    }
   ],
   "source": [
    "obtener_punto_fijo(g8, 0, 1, 100)"
   ]
  },
  {
   "cell_type": "code",
   "execution_count": 28,
   "metadata": {},
   "outputs": [
    {
     "data": {
      "text/plain": [
       "(2.094551481542327,\n",
       " [('biseccion', 0.50005), ('punto fijo', 8.553142073699613e+47)])"
      ]
     },
     "execution_count": 28,
     "metadata": {},
     "output_type": "execute_result"
    }
   ],
   "source": [
    "obtener_punto_fijo(g9, 2, 3, 100)"
   ]
  },
  {
   "cell_type": "code",
   "execution_count": 29,
   "metadata": {},
   "outputs": [
    {
     "data": {
      "text/plain": [
       "(1.9999999999999996, [('biseccion', 0.50005), ('punto fijo', 1.5)])"
      ]
     },
     "execution_count": 29,
     "metadata": {},
     "output_type": "execute_result"
    }
   ],
   "source": [
    "obtener_punto_fijo(g10, 0, 10, 100)"
   ]
  },
  {
   "cell_type": "code",
   "execution_count": 30,
   "metadata": {},
   "outputs": [
    {
     "data": {
      "text/plain": [
       "(-1.0000000000000004, [('biseccion', 0.50005), ('punto fijo', 1.7)])"
      ]
     },
     "execution_count": 30,
     "metadata": {},
     "output_type": "execute_result"
    }
   ],
   "source": [
    "obtener_punto_fijo(g11, -10, 10, 100)"
   ]
  }
 ],
 "metadata": {
  "colab": {
   "collapsed_sections": [],
   "name": "desafio_1.ipynb",
   "provenance": []
  },
  "kernelspec": {
   "display_name": "Python 3",
   "language": "python",
   "name": "python3"
  },
  "language_info": {
   "codemirror_mode": {
    "name": "ipython",
    "version": 3
   },
   "file_extension": ".py",
   "mimetype": "text/x-python",
   "name": "python",
   "nbconvert_exporter": "python",
   "pygments_lexer": "ipython3",
   "version": "3.6.8"
  }
 },
 "nbformat": 4,
 "nbformat_minor": 1
}
