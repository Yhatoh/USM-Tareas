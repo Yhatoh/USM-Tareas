{
 "cells": [
  {
   "cell_type": "markdown",
   "metadata": {
    "colab_type": "text",
    "id": "uPbvxarIuRu9"
   },
   "source": [
    "# Instrucciones\n",
    "\n",
    "- El desafío es individual, por lo cual se considera que todo el código entregado es de elaboración propia y no ha sido compartido de forma alguna.\n",
    "- Las consultas sobre el desafío se deben realizar por medio de la plataforma Aula. **No está permitido publicar código en consultas de Aula**.\n",
    "- El desafío debe ser realizado en Jupyter Notebook (Python3) utilizando este archivo como base.\n",
    "- Debe utilizar arreglos de ```NumPy``` junto a las funciones y bibliotecas que se ponen a disposición en este archivo.\n",
    "- Se debe respetar las firmas de las funciones, sus parámetros y retornos. Para eso se incluye un detalle de cada función tanto de las entregadas como las que deberá implementar. En caso de no seguir estas instrucciones, el desafío no podrá evaluarse.\n",
    "- Se evaluará la correcta utilización de librerias ```NumPy```, ```SciPy```, entre otras, así como la correcta implementación de algoritmos de forma vectorizada.\n",
    "- Evitar la impresión de mensajes salvo que se solicite en el enunciado.\n",
    "- El archivo de entrega debe denominarse **ROL-desafio-numero.ipynb**. **De no respetarse este formato existirá un descuento de 50 puntos**\n",
    "- La fecha de entrega es el **miércoles 27 de Mayo a las 10:00 hrs**,  posteriormente existirá un descuento lineal hasta las 11:00 hrs del mismo día."
   ]
  },
  {
   "cell_type": "code",
   "execution_count": 4,
   "metadata": {
    "colab": {},
    "colab_type": "code",
    "id": "VYPmwmXt7KBK"
   },
   "outputs": [],
   "source": [
    "# Libraries\n",
    "import time # For time profiling\n",
    "import numpy as np # Linear algebra and data structure\n",
    "import matplotlib.pyplot as plt # Plots\n",
    "from scipy import linalg as spla # Linear Algebra"
   ]
  },
  {
   "cell_type": "markdown",
   "metadata": {
    "colab_type": "text",
    "id": "QZCaaiXpY5bZ"
   },
   "source": [
    "# Introducción \n",
    "\n",
    "En el siguiente desafio estudiaremos la complejidad temporal de resolver sistemas de ecuaciones lineales utilizando: la matriz inversa, PALU, Cholesky, y el _solver_ de NumPy. \n",
    "Para poder obtener la complejidad temporal de forma experimental se deberá medir el tiempo que les toma a cada uno de los métodos en resolver un sistema de ecuaciones de tamaño $n \\times n$. \n",
    "\n",
    "## Recordatorio\n",
    "\n",
    "### Sistema de ecuaciones lineales\n",
    "\n",
    "\\begin{equation}\n",
    "  A \\mathbf{x} = \\mathbf{b}\n",
    "\\end{equation}\n",
    "\n",
    "### Algoritmo de resolución utilizando la inversa\n",
    "\n",
    "\n",
    "1. $B=A^{-1}$\n",
    "2. $\\mathbf{x} = B\\,\\mathbf{b}$\n",
    "3. Retornar $\\mathbf{x}$\n",
    "\n",
    "### Resolución utilizando $PA=LU$\n",
    "\n",
    "\\begin{equation}\n",
    "  \\begin{split}\n",
    "    A\\, \\mathbf{x} & = \\mathbf{b} \\\\\n",
    "    PA\\, \\mathbf{x} & = P\\,\\mathbf{b} \\\\\n",
    "    LU\\, \\mathbf{x} & = P\\, \\mathbf{b} \\\\\n",
    "    L\\, \\mathbf{c} & = P\\, \\mathbf{b}\n",
    "  \\end{split}\n",
    "\\end{equation}\n",
    "\n",
    "Algoritmo,\n",
    "1. Obtener descomposición PALU: $PA=LU$ \n",
    "2. Resolver para $\\mathbf{c}$: $L\\,\\mathbf{c} = P\\, \\mathbf{b}$\n",
    "3. Resolver para $\\mathbf{x}$: $U\\,\\mathbf{x} = \\mathbf{c}$\n",
    "4. Retornar $\\mathbf{x}$\n",
    "\n",
    "### Resolución utilizando Cholesky\n",
    "\n",
    "\\begin{equation}\n",
    "  \\begin{split}\n",
    "    A \\, \\mathbf{x} & = \\mathbf{b} \\\\\n",
    "    R^T\\,R \\,\\mathbf{x} & = \\mathbf{b}\n",
    "  \\end{split}\n",
    "\\end{equation}\n",
    "\n",
    "Algoritmo,\n",
    "1. Obtener descomposición de Cholesky: $A=R^T\\,R$\n",
    "2. Resolver para $\\mathbf{c}$: $R^T\\mathbf{c} = \\mathbf{b}$\n",
    "3. Resolver para $\\mathbf{x}$: $R\\,\\mathbf{x} = \\mathbf{c}$\n",
    "4. Retornar $\\mathbf{x}$\n"
   ]
  },
  {
   "cell_type": "markdown",
   "metadata": {
    "colab_type": "text",
    "id": "Flb_INxvuCEz"
   },
   "source": [
    "# Ejercicio"
   ]
  },
  {
   "cell_type": "markdown",
   "metadata": {
    "colab_type": "text",
    "id": "IJsGwhUx1leR"
   },
   "source": [
    "Midiendo el tiempo que demora la resolución de sistemas de ecuaciones lineales para distintos tamaños, se puede estimar la complejidad temporal en función de su tamaño, es decir $n$.\n",
    "\n",
    "Para generar sistemas de ecuaciones lineales, usted dispone de la función  ```generateLinearSystem(n)``` que recibe como argumento un número entero $n$ y retorna una matriz $A\\in\\mathbb{R}^{n\\times n}$ definida positiva y un vector $\\mathbf{b}\\in\\mathbb{R}^n$ aleatorio.\n",
    "A modo de referencia: ¿Qué propiedades tiene la matriz construida? ¿Cual sería la solución del sistema de ecuaciones lineales?"
   ]
  },
  {
   "cell_type": "code",
   "execution_count": 5,
   "metadata": {
    "colab": {},
    "colab_type": "code",
    "id": "-CyjYu1S8aUt"
   },
   "outputs": [],
   "source": [
    "def generateLinearSystem(n):\n",
    "    \"\"\"\n",
    "    Parameters\n",
    "    ----------\n",
    "    n       : int\n",
    "            System of linear equations size\n",
    "\n",
    "    Returns\n",
    "    -------\n",
    "    A       : (n, n) array\n",
    "            Positive definite matrix with random values\n",
    "    b       : (n, ) array\n",
    "            RHS vector\n",
    "    \"\"\"\n",
    "    # Matrix generation\n",
    "    A = np.random.rand(n, n)\n",
    "    A = np.dot(A.T, A) # Symmetric matrix\n",
    "    A += np.eye(n) # Diagonally dominant \n",
    "\n",
    "    # RHS generation\n",
    "    b = np.dot(A, np.ones(n))\n",
    "\n",
    "    return A, b"
   ]
  },
  {
   "cell_type": "markdown",
   "metadata": {
    "colab_type": "text",
    "id": "eMZSy34CsL-B"
   },
   "source": [
    "A continuación se entregan las funciones que implementan los 4 algoritmos mencionados anteriormente:"
   ]
  },
  {
   "cell_type": "code",
   "execution_count": 6,
   "metadata": {
    "colab": {},
    "colab_type": "code",
    "id": "CCuI1Q1NIHdb"
   },
   "outputs": [],
   "source": [
    "def solveInverse(A, b):\n",
    "    \"\"\"\n",
    "    Parameters\n",
    "    ----------\n",
    "    A       : (n, n) array\n",
    "            Positive definite matrix with random values\n",
    "    b       : (n, ) array\n",
    "            RHS vector\n",
    "\n",
    "    Returns\n",
    "    -------\n",
    "    x       : (n, ) array\n",
    "            System of linear equations solution\n",
    "    \"\"\"\n",
    "    # Inverse matrix\n",
    "    B = np.linalg.inv(A)\n",
    "\n",
    "    # Get solution\n",
    "    x = np.dot(B, b)\n",
    "\n",
    "    return x"
   ]
  },
  {
   "cell_type": "code",
   "execution_count": 7,
   "metadata": {
    "colab": {},
    "colab_type": "code",
    "id": "Q7995WqzA1v-"
   },
   "outputs": [],
   "source": [
    "def solvePALU(A, b):\n",
    "    \"\"\"\n",
    "    Parameters\n",
    "    ----------\n",
    "    A       : (n, n) array\n",
    "            Positive definite matrix with random values\n",
    "    b       : (n, ) array\n",
    "            RHS vector\n",
    "\n",
    "    Returns\n",
    "    -------\n",
    "    x       : (n, ) array\n",
    "            System of linear equations solution\n",
    "    \"\"\"\n",
    "    # PA=LU factorization\n",
    "    P, L, U = spla.lu(A)\n",
    "\n",
    "    # Vector permutation\n",
    "    Pb = np.dot(P, b)\n",
    "\n",
    "    # Forward substitution\n",
    "    c = spla.solve_triangular(L, Pb, lower=True)\n",
    "\n",
    "    # Backward substituion\n",
    "    x = spla.solve_triangular(U, c)\n",
    "\n",
    "    return x"
   ]
  },
  {
   "cell_type": "code",
   "execution_count": 8,
   "metadata": {
    "colab": {},
    "colab_type": "code",
    "id": "ranM1T-3BDUx"
   },
   "outputs": [],
   "source": [
    "def solveCholesky(A, b):\n",
    "    \"\"\"\n",
    "    Parameters\n",
    "    ----------\n",
    "    A       : (n, n) array\n",
    "            Positive definite matrix with random values\n",
    "    b       : (n, ) array\n",
    "            RHS vector\n",
    "\n",
    "    Returns\n",
    "    -------\n",
    "    x       : (n, ) array\n",
    "            System of linear equations solution\n",
    "    \"\"\"\n",
    "    # Cholesky decomposition\n",
    "    # Warning: R in Scipy is different from the classnotes, but it is the same idea.\n",
    "    R = np.linalg.cholesky(A)\n",
    "\n",
    "    # Forward substitution\n",
    "    c = spla.solve_triangular(R, b, lower=True)\n",
    "\n",
    "    # Backward substitution\n",
    "    x = spla.solve_triangular(R.T, c)\n",
    "\n",
    "    return x"
   ]
  },
  {
   "cell_type": "code",
   "execution_count": 9,
   "metadata": {
    "colab": {},
    "colab_type": "code",
    "id": "2BYABYpesAZz"
   },
   "outputs": [],
   "source": [
    "def solveDirect(A, b):\n",
    "    \"\"\"\n",
    "    Parameters\n",
    "    ----------\n",
    "    A       : (n, n) array\n",
    "            Positive definite matrix with random values\n",
    "    b       : (n, ) array\n",
    "            RHS vector\n",
    "\n",
    "    Returns\n",
    "    -------\n",
    "    x       : (n, ) array\n",
    "            System of linear equations solution\n",
    "    \"\"\"\n",
    "    x = np.linalg.solve(A, b)\n",
    "    return x"
   ]
  },
  {
   "cell_type": "markdown",
   "metadata": {
    "colab_type": "text",
    "id": "MBIhWWbhgcbG"
   },
   "source": [
    "A continuación, se entrega la función ```obtainComputationTimes(solver, Ns, Ne)```, la cual obtiene el tiempo de computación utilizado en la ejecución por el algoritmo ```solver``` en resolver un sistema de ecuaciones lineales de tamaño $Ns[i]\\times Ns[i]$, para todo $i$. Además se puede incluir un parámetro adicional, $N_e$, que define el número de veces que se repite el experimento para obtener una mejor aproximación y reducir los efectos de computaciones concurrentes que puedan afectar los tiempos de computación. Mientras mayor es $N_e$ mejor es la estimación pero toma mayor tiempo la ejecución."
   ]
  },
  {
   "cell_type": "code",
   "execution_count": 10,
   "metadata": {
    "colab": {},
    "colab_type": "code",
    "id": "rGlRXWVrE7Yn"
   },
   "outputs": [],
   "source": [
    "def obtainComputationTimes(solver, Ns, Ne=5):\n",
    "    \"\"\"\n",
    "    Parameters\n",
    "    ----------\n",
    "    solver            : function\n",
    "                      Function with linear system solver implementation\n",
    "    N                 : (n, ) array \n",
    "                      Array of integers with system size\n",
    "    Ne                : int\n",
    "                      Number of experiments\n",
    "\n",
    "    Returns\n",
    "    -------\n",
    "    times_solver      : (n, ) array\n",
    "                      Mean times using solver\n",
    "    \"\"\"\n",
    "    Nn = Ns.shape[-1]\n",
    "    times_solver = np.zeros(Nn)\n",
    "\n",
    "    for i in range(Nn):\n",
    "        # Generate system Ax=b\n",
    "        A, b = generateLinearSystem(Ns[i])\n",
    "\n",
    "        # Compute time\n",
    "        start = time.time()\n",
    "        # Repeating the computation \"Ne\" times to get more accurate results.\n",
    "        for e in range(Ne):\n",
    "            x_i = solver(A, b)\n",
    "        end = time.time()\n",
    "\n",
    "        # Get mean time\n",
    "        times_solver[i] = (end - start) / Ne\n",
    "\n",
    "    return times_solver"
   ]
  },
  {
   "cell_type": "markdown",
   "metadata": {
    "colab_type": "text",
    "id": "P1as3SO9joUq"
   },
   "source": [
    "Recordando que para la factorización PALU se determinó que su complejidad computacional era $\\sim \\dfrac{2}{3}n^3$, donde $n$ correspondía al tamaño del sistema de ecuaciones lineales. \n",
    "En este desafío se quiere estudiar la estimación experimental de tal complejidad, por ejemplo para un algoritmo denotado por ```solver``` podemos indicar que su complejidad computacional tiene la forma $\\sim c\\,n^p$, donde $c$ sería su coeficiente y $p$ su exponente, en el caso de PALU, $c=\\dfrac{2}{3}$ y $p=3$.\n",
    "En particular, podemos determinar el tiempo total de computación con la siguiente relación $\\text{totalTime}\\approx c\\,n^p\\,\\text{TOp}$, donde ```TOp``` se puede obtener como se explica a continuación.\n",
    "\n",
    "Mediante la función ```timeOperation()``` usted debe estimar el tiempo promedio de las $4$ operaciones elementales, el cual se denomina ```TOp```. **Debe considerar que el tiempo de ejecución de esta función no debe superar los $20$ segundos**.\n",
    "\n"
   ]
  },
  {
   "cell_type": "code",
   "execution_count": 11,
   "metadata": {
    "colab": {},
    "colab_type": "code",
    "id": "-IsdWB_KPv_N"
   },
   "outputs": [],
   "source": [
    "def timeOperation():\n",
    "    \"\"\"\n",
    "    Returns\n",
    "    -------\n",
    "    TOp       : float\n",
    "              Elementary operation estimation time\n",
    "    \"\"\"\n",
    "    n = 3000000\n",
    "    TOp = 0.0\n",
    "    \n",
    "    #Suma\n",
    "    start = time.time()\n",
    "    for i in range(n):\n",
    "        variable = 5.0 + 3.0\n",
    "    end = time.time()\n",
    "    tSuma = (end - start) / float(n)\n",
    "    \n",
    "    #Resta\n",
    "    start = time.time()\n",
    "    for i in range(n):\n",
    "        variable = 5.0 - 3.0\n",
    "    end = time.time()\n",
    "    tSub = (end - start) / float(n)\n",
    "    \n",
    "    #Mult\n",
    "    start = time.time()\n",
    "    for i in range(n):\n",
    "        variable = 5.0 * 3.0\n",
    "    end = time.time()\n",
    "    tMult = (end - start) / float(n)\n",
    "    \n",
    "    #div\n",
    "    start = time.time()\n",
    "    for i in range(n):\n",
    "        variable = 5.0 / 3.0\n",
    "    end = time.time()\n",
    "    tDiv = (end - start) / float(n)\n",
    "\n",
    "    TOp = (tSuma + tSub + tMult + tDiv) / 4.0\n",
    "    return TOp"
   ]
  },
  {
   "cell_type": "markdown",
   "metadata": {
    "colab_type": "text",
    "id": "8dCyIBpgWSSo"
   },
   "source": [
    "Además debe implementar la función ```findComplexity(Ns, times, TOp)``` donde ```Ns``` es el arreglo con el tamaño de los sistemas, ```times``` es el arreglo con los tiempos del algoritmo analizado y ```TOp``` es la estimación del tiempo que demora una operación elemental. Esta función debe retornar el coeficiente ```c``` y el exponente ```p``` indicados anteriormente.\n",
    "Utilice su algoritmo para determinar la complejidad experimental de  ```solveInverse```, ```solvePALU```, ```solveCholesky```, y ```solveDirect``` a modo de ejemplo. Su tarea será evaluada con otros algoritmos luego."
   ]
  },
  {
   "cell_type": "code",
   "execution_count": 12,
   "metadata": {
    "colab": {},
    "colab_type": "code",
    "id": "WPGYazbt8gbb"
   },
   "outputs": [],
   "source": [
    "def findComplexity(Ns, times, Top):\n",
    "    \"\"\"\n",
    "    Parameters\n",
    "    ----------\n",
    "    Ns                : (n, ) array \n",
    "                      Array with system size\n",
    "    times             : (n, ) array\n",
    "                      Mean times using a solver\n",
    "    TOp               : float\n",
    "                      Elementary operation estimation time\n",
    "\n",
    "    Returns\n",
    "    -------\n",
    "    c                 : float\n",
    "                      Complexity constant\n",
    "    p                 : float\n",
    "                      Complexity exponent\n",
    "    \"\"\"\n",
    "    # Algorithm\n",
    "    logNs = np.log2(Ns)\n",
    "    logTimes = np.log2(times)\n",
    "    \n",
    "    coef = np.polyfit(logNs, logTimes, 1)\n",
    "    \n",
    "    #log(times) = log(c*TOp) + p * log(n)\n",
    "    p = coef[0]\n",
    "    \n",
    "    #coef[1] = log(c*TOp)\n",
    "    c = (2**coef[1]) / Top\n",
    "    return c, p"
   ]
  }
 ],
 "metadata": {
  "colab": {
   "collapsed_sections": [],
   "name": "desafio_2.ipynb",
   "provenance": []
  },
  "kernelspec": {
   "display_name": "Python 3",
   "language": "python",
   "name": "python3"
  },
  "language_info": {
   "codemirror_mode": {
    "name": "ipython",
    "version": 3
   },
   "file_extension": ".py",
   "mimetype": "text/x-python",
   "name": "python",
   "nbconvert_exporter": "python",
   "pygments_lexer": "ipython3",
   "version": "3.6.8"
  }
 },
 "nbformat": 4,
 "nbformat_minor": 1
}
