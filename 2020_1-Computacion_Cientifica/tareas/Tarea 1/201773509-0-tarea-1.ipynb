{
 "cells": [
  {
   "cell_type": "markdown",
   "metadata": {
    "colab_type": "text",
    "id": "aBPGOpUM11V1"
   },
   "source": [
    "\n",
    "<center>\n",
    "    <h1> INF285/ILI285 Computación Científica </h1>\n",
    "    <h1> Tarea N°1, v1.00 </h1>\n",
    "    \n",
    "</center>\n",
    "\n",
    "<p>\n",
    "\n",
    "</p>"
   ]
  },
  {
   "cell_type": "markdown",
   "metadata": {},
   "source": [
    "Gabriel Carmona\n",
    "201773509-0"
   ]
  },
  {
   "cell_type": "markdown",
   "metadata": {
    "colab_type": "text",
    "id": "B7MCAVSDRk3l"
   },
   "source": [
    "## Instrucciones\n",
    "\n",
    "* La tarea es individual.\n",
    "* Las consultas sobre las tareas se deben realizar por medio de la plataforma Aula.\n",
    "* La tarea debe ser realizada en `Jupyter Notebook` (`Python3`).\n",
    "* Se evaluará la correcta utilización de librerias `NumPy`, `SciPy`, entre otras, así como la correcta implementación de algoritmos de forma vectorizada.\n",
    "*  **El archivo de entrega debe denominarse ROL-tarea-numero.ipynb**. _De no respetarse este formato existirá un descuento de **50 puntos**_\n",
    "* La fecha de entrega es el jueves 30 de Abril a las **18:00 hrs**.  Se aceptarán entregas hasta las 19:00 hrs sin descuento en caso de existir algun problema, posteriormente existirá un descuento lineal hasta las 20:00 hrs del mismo día.\n",
    "* Las tareas que sean entregadas antes del jueves a mediodía recibirán una bonificación de 10 puntos\n",
    "* Debe citar cualquier código ajeno utilizado (incluso si proviene de los Jupyter Notebooks del curso).\n",
    "\n",
    "\n"
   ]
  },
  {
   "cell_type": "code",
   "execution_count": 2,
   "metadata": {},
   "outputs": [],
   "source": [
    "from math import sqrt\n",
    "import numpy as np\n",
    "from scipy.special import legendre\n",
    "import scipy.special as sp"
   ]
  },
  {
   "cell_type": "markdown",
   "metadata": {
    "colab_type": "text",
    "id": "PNhvmtRq2Orx"
   },
   "source": [
    "## Introducción \n",
    "\n",
    "En esta primera tarea de INF/ILI-285, versión 2020-1, estudiaremos la importancia de los primeros temas estudiados en el curso, los cuales son: Representación de Punto Flotante, Pérdida de Significancia, Errores de Cancelación y Búsqueda de Ceros. El desarrollo de cada uno de esos temas se presenta en una serie de preguntas, donde ustedes deben ir decidiendo, pregunta a pregunta, como cada uno de los temas se aplica. En general, los temas no se analizan por separado, sino de manera acoplada. Es muy importante que cada uno de los problemas sea analizado teóricamente primero, para luego poner su conocimiento en acción. Cada problema puede ser desarrollado de diversas formas, sin embargo, es muy importante determinar al final si el camino elegido resuelve la pregunta presentada."
   ]
  },
  {
   "cell_type": "markdown",
   "metadata": {
    "colab_type": "text",
    "id": "lAtn1U0qRg2S"
   },
   "source": [
    "## Problemas"
   ]
  },
  {
   "cell_type": "markdown",
   "metadata": {
    "colab_type": "text",
    "id": "3znHUOxOUB0-"
   },
   "source": [
    "### 1. Simulador (50 ptos) \n",
    "\n",
    "Dada la familia de polinomios de grado 3 con la forma:\n",
    "\n",
    "\n",
    "\\begin{equation}\n",
    "f(x)=x^3 - A\\,x^2 + A\\,x - 1\n",
    "\\end{equation}\n",
    "\n",
    "\n",
    "Se pide implementar un algoritmo que reciba como parámetros el valor de $A$ (con $|A|>>1$) y la cantidad de bits que tiene en la mantisa un computador ficticio, el manejo del exponente debe considerarse de las misma forma que lo maneja _double precision_.\n",
    "Esta implementación debe calcular las raíces de $f$ sin perdida de significancia con la cantidad de bits disponibles para la mantisa.\n",
    "Para obtener las raíces de $f$ usted debe encontrar de forma algebraica sus raíces y luego proponer un algoritmo basado en las _fórmulas_ obtenidas.\n",
    "\n",
    "Considere que en ese computador ficticio cuenta con las operaciones matemáticas necesarias para obtener las raíces.  Considere el siguiente ejemplo:\n",
    "\n",
    "```python\n",
    "# Alg. Base\n",
    "a = 9819824,624837\n",
    "b = 148736.523476\n",
    "c = a+b\n",
    "\n",
    "# Alg. con Representación de Punto Flotante de 'bits_mant' bits en la mantisa.\n",
    "am = f_new_rep(9819824.624837,bits_mant) # Aproximar el input en la nueva representación.\n",
    "bm = f_new_rep(148736.523476,bits_mant) # Aproximar el input en la nueva representación.\n",
    "cm = f_new_rep(m,exp,am+bm) # Aproximar el output de la suma y cada operación en la nueva representación.\n",
    "```\n"
   ]
  },
  {
   "cell_type": "markdown",
   "metadata": {},
   "source": [
    "En una primera instancia se define el código para poder pasar cualquier número a la nueva representación.\n",
    "\n",
    "Primero, se utiliza la función partir_en_dos para obtener la parte entera y la parte decimal del número que me dieron. Lo que se hace es partir básicamente el número en 2 y devolver una lista donde la primera posición será la parte entera y la segunda posición será la parte decimal del númer. Esto se hace puesto que para pasar el a binario se utilizan métodos distintos para la parte entera y decimal."
   ]
  },
  {
   "cell_type": "code",
   "execution_count": 3,
   "metadata": {},
   "outputs": [],
   "source": [
    "\"\"\"\n",
    "input\n",
    "x      : (double) número a partir en dos\n",
    "output\n",
    "lista  : (lista) lista de dos elementos, la parte entera \n",
    "y parte decimal del número x\n",
    "\"\"\"\n",
    "def partir_en_dos(x):\n",
    "    if(\"e\" not in str(x)): #para verificar que no sea un número muy chico o muy grande\n",
    "        x = float(x)\n",
    "        return str(x).split(\".\")\n",
    "    else:\n",
    "        num, potencia = str(x).split(\"e\")\n",
    "        if(\".\" in num):\n",
    "            numEntero, numDecimal = num.split(\".\")\n",
    "        else:\n",
    "            numEntero = num\n",
    "            numDecimal = \"\"\n",
    "        if(\"-\" == potencia[0]):\n",
    "            i = 0\n",
    "            numToReturn = \"\"\n",
    "            while i < int(potencia[1:]):\n",
    "                if i < int(potencia[1:]) - 1:\n",
    "                    numToReturn += \"0\"\n",
    "                else:\n",
    "                    numToReturn = numToReturn + numEntero + numDecimal\n",
    "                i += 1\n",
    "            return [\"0\",numToReturn]\n",
    "        else:\n",
    "            i = 0\n",
    "            numToReturn = numEntero + numDecimal\n",
    "            \n",
    "            while i < int(potencia[1:]) - len(numDecimal):\n",
    "                numToReturn += \"0\"\n",
    "                i += 1 \n",
    "            return [numToReturn,\"0\"]"
   ]
  },
  {
   "cell_type": "markdown",
   "metadata": {},
   "source": [
    "Luego de recibir la parte entera y decimal utilizamos las siguientes dos funciones. Primero para pasar un entero a binario, el cual utiliza el método de preguntar si es el número es divisible por 2 o no [1]:\n",
    "\n",
    "1. Si es divisible agrego un 0\n",
    "2. Si no es divisible agrego un 1 \n",
    "\n",
    "\n",
    "Luego, se divide el número por 2 y se aplica el mismo proceso hasta que el número sea menor a 0.\n",
    "\n",
    "Finalmente se invierte la lista resultante y se une la lista para retorna el string del entero en binario. "
   ]
  },
  {
   "cell_type": "code",
   "execution_count": 4,
   "metadata": {},
   "outputs": [],
   "source": [
    "\"\"\"\n",
    "input\n",
    "x         : (int) número a pasar a binario\n",
    "output\n",
    "xBin      : (string) binario del numero dado\n",
    "\"\"\"\n",
    "def bin_int(x):\n",
    "    xBin = []\n",
    "    while x >= 1:\n",
    "        xBin.append(\"1\" if x % 2 else \"0\")\n",
    "        x = int(x / 2)\n",
    "    xBin.reverse()\n",
    "    xBin = \"\".join(xBin)\n",
    "    return xBin"
   ]
  },
  {
   "cell_type": "markdown",
   "metadata": {},
   "source": [
    "Para la parte decimal, lo que se realiza es multiplicar por 2 el número recibido, luego se pregunta si el número es mayor o menor 1. Si es mayor a 1, entonces se agrega un 1 al string resultante y solo nos quedamos con la parte decimal. Si es menor a 1, entonces se agrega un 0 al string resultado [1]. Este proceso se repite hasta que 2 situaciones pasen:\n",
    "\n",
    "\n",
    "1. Si el número da exactamente 1, entonces se agrega el bit 1 y se hace break.\n",
    "\n",
    "2. Si ya ha agregrado la cantidad de bits de mantisa que me dan, sigo iterando hasta que el número se vuelva 1 eventualmente o haya encontrado dos 1. Esto me va a servir para el redondeo sin tener que preocuparme por numeros infinitos.\n",
    "\n",
    "Luego de terminar este loop, retornamos el string resultante."
   ]
  },
  {
   "cell_type": "code",
   "execution_count": 5,
   "metadata": {},
   "outputs": [],
   "source": [
    "\"\"\"\n",
    "input\n",
    "x         : (double) número a pasar a binario\n",
    "bits_mant : (int) cantidad de bits de mantisa\n",
    "output\n",
    "xBin      : (string) binario del numero dado\n",
    "\"\"\"\n",
    "def bin_float(x, bits_mant):\n",
    "    xBin = \"\"\n",
    "    patronsito = []\n",
    "    iterador = 0\n",
    "    cantUnoPostMantisa = 0\n",
    "    encontreUno = 0\n",
    "    while x <= 1:\n",
    "        xBin += \"1\" if int(x * 2.0) else \"0\"\n",
    "        if(xBin[-1] == \"1\" and encontreUno == 0):\n",
    "            encontreUno = 1\n",
    "        elif(encontreUno):\n",
    "            iterador += 1\n",
    "        if(x * 2.0 == 1.0):\n",
    "            break\n",
    "        if(iterador > bits_mant):\n",
    "                if(xBin[-1] == \"1\"):\n",
    "                    cantUnoPostMantisa += 1\n",
    "                if(cantUnoPostMantisa > 1):\n",
    "                    break\n",
    "        x = x * 2.0\n",
    "        \n",
    "        if(\"e\" in str(x)):\n",
    "            x = float(\"0.\" + partir_en_dos(x)[1])\n",
    "        else:\n",
    "            x = float(\"0.\"+ str(x).split(\".\")[1])\n",
    "        \n",
    "    return xBin"
   ]
  },
  {
   "cell_type": "markdown",
   "metadata": {},
   "source": [
    "Luego de tener ambos binarios, los juntamos realizamos el shif correspondiente para dejarlo en notación cientifica y se le pasa a la función aproximar. Esta función básicamente sigue los estandares de la IEEE vistos en clases y mostrados por el libro [1] utilizando claramente la mantisa dada."
   ]
  },
  {
   "cell_type": "code",
   "execution_count": 6,
   "metadata": {},
   "outputs": [],
   "source": [
    "\"\"\"\n",
    "input\n",
    "xBin      : (string) binario a aproximar\n",
    "bits_mant : (int) cantidad de bits de mantisa\n",
    "output\n",
    "retorna el binario aproximado o n, en el caso \n",
    "de que el binario dado sea puros 1, para luego sumarle uno al exopnente\n",
    "\"\"\"\n",
    "def aproximar(xBin, bits_mant):\n",
    "    if(xBin[bits_mant] == \"0\"):\n",
    "        return \"\".join(xBin[0:bits_mant])\n",
    "    else:\n",
    "        if(len(xBin) == bits_mant + 1):\n",
    "            if xBin[len(xBin) - 1] == \"1\":\n",
    "                if \"0\" in xBin[0:bits_mant]:\n",
    "                    i = bits_mant\n",
    "                    xBinTemp = []\n",
    "                    for x in xBin:\n",
    "                        xBinTemp.append(x)\n",
    "                    xBin = xBinTemp\n",
    "                    while(i >= 0):\n",
    "                        if(xBin[i] == \"1\"):\n",
    "                            xBin[i] = \"0\"\n",
    "                        else:\n",
    "                            xBin[i] = \"1\"\n",
    "                            break\n",
    "                        i -= 1\n",
    "                    return \"\".join(xBin[0:bits_mant])\n",
    "                else:\n",
    "                    return \"n\"\n",
    "            return \"\".join(xBin[0:bits_mant])\n",
    "        else:\n",
    "            if \"0\" in xBin[0:bits_mant]:\n",
    "                i = bits_mant\n",
    "                xBinTemp = []\n",
    "                for x in xBin:\n",
    "                    xBinTemp.append(x)\n",
    "                xBin = xBinTemp\n",
    "                while i >= 0:\n",
    "                    if(xBin[i] == \"1\"):\n",
    "                        xBin[i] = \"0\"\n",
    "                    else:\n",
    "                        xBin[i] = \"1\"\n",
    "                        break\n",
    "                    i -= 1\n",
    "                return \"\".join(xBin[0:bits_mant])\n",
    "            else:\n",
    "                return \"n\""
   ]
  },
  {
   "cell_type": "markdown",
   "metadata": {},
   "source": [
    "Finalmente, se pasa el número de binario a número se aplica lo de $(2^0+2^{-1}+...+2^{-(bits\\_mant - 1)}+2^{-bits\\_mant})\\cdot 2^{exp}$ [1]. Y se retorna la suma."
   ]
  },
  {
   "cell_type": "code",
   "execution_count": 7,
   "metadata": {},
   "outputs": [],
   "source": [
    "\"\"\"\n",
    "input\n",
    "x      : (string) binario a pasar a número\n",
    "exp    : (int) exponente a multiplicar el binario\n",
    "output\n",
    "suma   : (double) suma resultante de pasar de binario a número\n",
    "\"\"\"\n",
    "def binario_a_numero(x, exp):\n",
    "    i = -1\n",
    "    suma = 1.0\n",
    "    for b in x:\n",
    "        suma += int(b) * 2 ** i\n",
    "        i -= 1\n",
    "    suma = suma * 2** exp\n",
    "    return suma"
   ]
  },
  {
   "cell_type": "markdown",
   "metadata": {},
   "source": [
    "Esta es la gran función que utiliza todoas las funciones anteriores y aplica el shift mencionado, dependiendo si existe parte entera o no."
   ]
  },
  {
   "cell_type": "code",
   "execution_count": 8,
   "metadata": {
    "colab": {},
    "colab_type": "code",
    "id": "2efm5YD2UBGD"
   },
   "outputs": [],
   "source": [
    "\"\"\"\n",
    "input\n",
    "x         : (double) valor a evaluar\n",
    "bits_mant : (int) cantidad de bits de la mantisa\n",
    "output\n",
    "eval      : (double) resultado obtenido\n",
    "\"\"\"\n",
    "\n",
    "def f_new_rep(x, bits_mant):\n",
    "    # Algoritmo de representación de punto flotante modificada.\n",
    "    if(x == 0.0):\n",
    "        return 0\n",
    "    # Obtener signo\n",
    "    xSigno = -1 if x < 0 else 1\n",
    "    x = abs(x)\n",
    "    # Obtener parte entera y parte decimal\n",
    "    xEntero, xDecimal = partir_en_dos(x)\n",
    "        \n",
    "    xEntero = int(xEntero)\n",
    "    xDecimal = float(\"0.\" + xDecimal)\n",
    "    #print(\"----Parte Entera:\", xEntero, \"ParteDecimal\", xDecimal)\n",
    "    \n",
    "    # Pasar a binarios ambos valores\n",
    "    xEntero = bin_int(xEntero)\n",
    "    #print(\"----Parte Entera Bin:\", xEntero)\n",
    "    xDecimal = bin_float(xDecimal, bits_mant) if xDecimal != 0.0 else \"0\"\n",
    "    #print(\"----Parte Decimal Bin:\", xDecimal)\n",
    "    print(xEntero +\".\"+xDecimal)\n",
    "    # Shiftear a notacion cientifica y obtener exponente\n",
    "    if len(xEntero) == 0:\n",
    "        i = 0\n",
    "        for x in xDecimal:\n",
    "            if(x == \"1\"):\n",
    "                break\n",
    "            i+=1\n",
    "        expo = 0 - (i + 1)\n",
    "        finalBin = xDecimal[i + 1:len(xDecimal)]\n",
    "    elif len(xEntero) == 1:\n",
    "        finalBin = xDecimal\n",
    "        expo = 0\n",
    "    else:\n",
    "        finalBin = xEntero[1:len(xEntero)] + xDecimal\n",
    "        expo = len(xEntero) - 1\n",
    "        \n",
    "    #print(\"----Shifteado\",finalBin)\n",
    "    \n",
    "    # Aproximar si la cantidad de bits es mayor a la de la mantisa\n",
    "    if(len(finalBin) > bits_mant):\n",
    "        finalBin = aproximar(finalBin, bits_mant)\n",
    "    if(finalBin == \"n\"):\n",
    "        expo += 1\n",
    "        finalBin = \"\"\n",
    "    #print(\"----Signo\", xSigno)\n",
    "    #print(\"----Exponente\", expo)\n",
    "    #print(\"----Final ahora si que si\", finalBin)\n",
    "    return xSigno * binario_a_numero(finalBin, expo)"
   ]
  },
  {
   "cell_type": "code",
   "execution_count": 13,
   "metadata": {},
   "outputs": [
    {
     "name": "stdout",
     "output_type": "stream",
     "text": [
      "10111.011\n"
     ]
    },
    {
     "data": {
      "text/plain": [
       "23.375"
      ]
     },
     "execution_count": 13,
     "metadata": {},
     "output_type": "execute_result"
    }
   ],
   "source": [
    "f_new_rep(23.375,64)"
   ]
  },
  {
   "cell_type": "markdown",
   "metadata": {},
   "source": [
    "La función del principio podemos ver que x = 1, entonces sabemos que podemos dividir (x-1) con la función f para poder terminar las otras raices, el cual nos entrega la siguiente cuadrática.\n",
    "\n",
    "\\begin{equation}\n",
    "f(x)=x^3 - A\\,x^2 + A\\,x - 1 = (x - 1)(x^2 + (1 - A)x + 1)\n",
    "\\end{equation}\n",
    "\n",
    "\\begin{equation}\n",
    "(x - 1)(x^2 + (1 - A)x + 1) = 0\n",
    "\\begin{cases}\n",
    "x_1 = 1\\\\\n",
    "x_2 = \\frac{A - 1 - \\sqrt{(1 - A)^2 - 4}}{2}\\\\\n",
    "x_3 = \\frac{A - 1 + \\sqrt{(1 - A)^2 - 4}}{2}\n",
    "\\end{cases}\n",
    "\\end{equation}\n",
    "\n",
    "Ahora para esta ecuación, hay que transformarla para poder evitar la perdida de significancia, esta transformación dependerá de si es que el A es negativo o es positivo. \n",
    "\n",
    "Para el caso donde el A es positivo, realizamos la transformación solo en $x_{2}$ puesto que en este valor sucede la resta, quedando lo siguiente:\n",
    "\n",
    "\\begin{equation}\n",
    "x_2 = \\frac{A - 1 - \\sqrt{(1 - A)^2 - 4}}{2}\\cdot \\frac{A - 1 + \\sqrt{(1 - A)^2 - 4}}{A - 1 + \\sqrt{(1 - A)^2 - 4}}\n",
    "\\end{equation}\n",
    "\\begin{equation}\n",
    "x_2 = \\frac{2}{A - 1 + \\sqrt{(A - 1)^2 - 4}}\n",
    "\\end{equation}\n",
    "\n",
    "\\begin{equation}\n",
    "x_3 = \\frac{A - 1 + \\sqrt{(A - 1)^2 - 4}}{2}\n",
    "\\end{equation}\n",
    "\n",
    "Ahora si es que el A es negativo, realizamos la transformación solo en $x_{3}$ puesto que en este valor sucederá la resta, quedando lo siguiente:\n",
    "\n",
    "\\begin{equation}\n",
    "x_2 = \\frac{A - 1 - \\sqrt{(1 - A)^2 - 4}}{2}\n",
    "\\end{equation}\n",
    "\n",
    "\\begin{equation}\n",
    "x_3 = \\frac{A - 1 + \\sqrt{(A - 1)^2 - 4}}{2}\\cdot \\frac{A - 1 - \\sqrt{(1 - A)^2 - 4}}{A - 1 - \\sqrt{(1 - A)^2 - 4}}\n",
    "\\end{equation}\n",
    "\\begin{equation}\n",
    "x_2 = \\frac{2}{A - 1 - \\sqrt{(A - 1)^2 - 4}}\n",
    "\\end{equation}\n",
    "\n",
    "Por cada operación realizada a almacenar, se pasa a la nueva representación."
   ]
  },
  {
   "cell_type": "code",
   "execution_count": 26,
   "metadata": {},
   "outputs": [],
   "source": [
    "def f_find_roots(A,bits_mant):\n",
    "    A = float(A)\n",
    "    # Algoritmo para encontrar raíces de f(x).\n",
    "    #print(\"Raiz 1:\",1)\n",
    "    #print()\n",
    "    x_roots = [1]\n",
    "    Aminus1 = f_new_rep(A - 1, bits_mant)\n",
    "    #print(\"A - 1\", Aminus1)\n",
    "    Aminus12 = f_new_rep(Aminus1 * Aminus1, bits_mant)\n",
    "    #print(\"(A - 1)^2\",Aminus12)\n",
    "    Aminus12minus4 = f_new_rep(Aminus12 - 4, bits_mant)\n",
    "    #print(\"(A - 1)^2 - 4\",Aminus12minus4)\n",
    "    raizAminus12minus4 = f_new_rep(sqrt(Aminus12minus4), bits_mant)\n",
    "    #print(\"raiz((A - 1)^2 - 4)\",raizAminus12minus4)\n",
    "    if(A > 0):\n",
    "        Aminus1plusRaiz = f_new_rep(Aminus1 + raizAminus12minus4, bits_mant)\n",
    "    #    print(\"A - 1 + raiz((A - 1)^2 - 4)\", Aminus1plusRaiz)\n",
    "        x_roots.append(f_new_rep(2.0 / Aminus1plusRaiz, bits_mant))\n",
    "    #    print(\"Raiz 2:\", x_roots[1])\n",
    "        x_roots.append(f_new_rep(Aminus1plusRaiz / 2.0, bits_mant))\n",
    "    #   print(\"Raiz 3:\", x_roots[2])\n",
    "    else:\n",
    "        Aminus1minusRaiz = f_new_rep(Aminus1 - raizAminus12minus4, bits_mant)\n",
    "    #    print(\"A - 1 - raiz((A - 1)^2 - 4)\", Aminus1minusRaiz)\n",
    "        x_roots.append(f_new_rep(Aminus1minusRaiz / 2.0, bits_mant))\n",
    "    #    print(\"Raiz 2:\", x_roots[1])\n",
    "        x_roots.append(f_new_rep(2.0 / Aminus1minusRaiz, bits_mant))\n",
    "    #    print(\"Raiz 3:\", x_roots[2])\n",
    "    return x_roots"
   ]
  },
  {
   "cell_type": "markdown",
   "metadata": {},
   "source": [
    "### Polinomios de Legendre (50 puntos)\n",
    "Dada la función compuesta $f$\n",
    "\\begin{equation}\n",
    "f_{n,m}(x) = L_n(C_m(x)),\n",
    "\\end{equation}\n",
    "donde $L_n$ es conocido como el polinomio de Legendre de grado $n$ definido de la siguiente forma:\n",
    "\\begin{equation}\n",
    "L_{n}(x)=\\frac{1}{2^{n}} \\sum_{k=0}^{n}\\left(\\begin{array}{l}\n",
    "n \\\\\n",
    "k\n",
    "\\end{array}\\right)^{2}(x-1)^{n-k}(x+1)^{k},\n",
    "\\end{equation}\n",
    "y $C_m$ es el polinomio de Chebyshev\n",
    "\\begin{equation}\n",
    "C_m(x) = \\cos(m \\cdot \\arccos(x)).\n",
    "\\end{equation}\n",
    "\n",
    "Utilizando el método de Bisección y Punto fijo se pide obtener la raíz de $f$ más cercana a $0.5$ dado un valor de $m$ y $n$\n",
    "\n",
    "\n",
    "\n",
    "*Hint: Las raíces de Legendre son conocidas*\n"
   ]
  },
  {
   "cell_type": "markdown",
   "metadata": {},
   "source": [
    "Definimos una función para determinar la raiz más cercana a 0.5, de un polinomio de legendre de grado n, esto nos servirá en el futuro para el método de iteración de punto fijo."
   ]
  },
  {
   "cell_type": "code",
   "execution_count": 27,
   "metadata": {},
   "outputs": [],
   "source": [
    "\"\"\"\n",
    "input\n",
    "n         : (int) el grado del polinomio al cual le voy a sacar las roots\n",
    "output\n",
    "masCercano: (double) retorna la raiz más cerca a 0.5 que tenga el polinomio \n",
    "de grado n\n",
    "\"\"\"\n",
    "def raiz_mas_cercana(n):\n",
    "    raices = sp.roots_legendre(n)[0]\n",
    "    masCercano = 1000\n",
    "    for x in raices:\n",
    "        if abs(x - 0.5) < abs(masCercano - 0.5):\n",
    "            masCercano = x\n",
    "    return masCercano"
   ]
  },
  {
   "cell_type": "markdown",
   "metadata": {},
   "source": [
    "En el método de bisección lo que hacemos en tomar r = 0.5, luego lo que hacemos es definir dos intervalos $[a_1,b_1]$ y $[a_2,b_2]$, siendo $b_1 = 0.5$ y $a_2 = 0.5$. Luego empezamos a sumar un intervalo pequeñito hasta que cambie de signo claramente saltandome las respectivas raices. Y luego aplicamos bisección así tal cual para ambos intervalos siguiendo los pasos del libro [1].\n",
    "\n",
    "Luego de obtener las dos posibles raices, vemos cual es la raiz más cercana a 0.5 y retornamos."
   ]
  },
  {
   "cell_type": "code",
   "execution_count": 28,
   "metadata": {},
   "outputs": [],
   "source": [
    "\"\"\"\n",
    "input\n",
    "n: (int) grado del polinomio de Legendre\n",
    "m: (int) grado del polinomio de Chebyshev\n",
    "tol: (double) tolerancia para la detención del algoritmo\n",
    "output\n",
    "root: (double) raiz obtenida\n",
    "\"\"\"\n",
    "def f_Biseccion(n, m, tol):\n",
    "    r = 0.5\n",
    "    \n",
    "    aSumar = 1 / (m * 1e3)\n",
    "    \n",
    "    if sp.legendre(n)(sp.chebyt(m)(r)) == 0.0:\n",
    "        return r\n",
    "    \n",
    "    aDer = r\n",
    "    bIzq = r\n",
    "    \n",
    "    while sp.legendre(n)(sp.chebyt(m)(bIzq)) * sp.legendre(n)(sp.chebyt(m)(r)) > 0:\n",
    "        r -= aSumar\n",
    "    aIzq = r\n",
    "    r = 0.5\n",
    "    while sp.legendre(n)(sp.chebyt(m)(aDer)) * sp.legendre(n)(sp.chebyt(m)(r)) > 0:\n",
    "        r += aSumar\n",
    "    bDer = r\n",
    "    \n",
    "    cDer = (aDer + bDer) / 2\n",
    "    while abs(sp.legendre(n)(sp.chebyt(m)(cDer))) >= tol:\n",
    "        if sp.legendre(n)(sp.chebyt(m)(cDer)) * sp.legendre(n)(sp.chebyt(m)(aDer)) < 0:\n",
    "            bDer = cDer\n",
    "        else:\n",
    "            aDer = cDer\n",
    "        cDer = (aDer + bDer) / 2\n",
    "    cIzq = (aIzq + bIzq) / 2\n",
    "    while abs(sp.legendre(n)(sp.chebyt(m)(cIzq))) >= tol:\n",
    "        if sp.legendre(n)(sp.chebyt(m)(cIzq)) * sp.legendre(n)(sp.chebyt(m)(aIzq)) < 0:\n",
    "            bIzq = cIzq\n",
    "        else:\n",
    "            aIzq = cIzq\n",
    "        cIzq = (aIzq + bIzq) / 2   \n",
    "    if abs(cIzq - 0.5) <  abs(cDer - 0.5):\n",
    "        return cIzq\n",
    "    else:\n",
    "        return cDer"
   ]
  },
  {
   "cell_type": "markdown",
   "metadata": {},
   "source": [
    "Como sabemos que las raices del polinomio de Legendre, sabemos que \n",
    "\n",
    "\\begin{equation}\n",
    "C_m(x) = r\n",
    "\\end{equation}\n",
    "\n",
    "Ahora bien, como siempre hay dos posibles raices cercanas a 0.5, a la izquierda y derecha de este definimos estas dos puntos de iteración:\n",
    "\n",
    "La primera para encontrar la raiz a la izquierda\n",
    "\n",
    "\\begin{equation}\n",
    "x = \\frac{\\log_{10}{(\\cos(m \\cdot \\arccos(x)) - r + 10^{m\\cdot x})}}{m}\n",
    "\\end{equation}\n",
    "\n",
    "La segunda para encontrar la raiz a la derecha\n",
    "\\begin{equation}\n",
    "x = \\frac{\\log_{10}{(r - \\cos(m \\cdot \\arccos(x)) + 10^{m\\cdot x})}}{m}\n",
    "\\end{equation}\n",
    "\n",
    "Como initial guess utlizaremos $x_0 = 0.5$"
   ]
  },
  {
   "cell_type": "code",
   "execution_count": 46,
   "metadata": {
    "scrolled": false
   },
   "outputs": [],
   "source": [
    "def f_FPI(n, m, tol):\n",
    "    r = raiz_mas_cercana(n)\n",
    "    f = lambda x: np.log10(r-np.cos(m * np.arccos(x)) + 10**(m*x))/(m)\n",
    "    f2 = lambda x: np.log10(np.cos(m * np.arccos(x)) - r + 10**(m*x))/(m)\n",
    "    \n",
    "    ig = 0.5\n",
    "    root1 = ig\n",
    "    print(\"ya\")\n",
    "    while 1:\n",
    "        newRoot1 = f(root1)\n",
    "        if abs(newRoot1 - root1) < tol:\n",
    "            break\n",
    "        root1 = newRoot1\n",
    "    root2 = ig\n",
    "    print(\"ya2\")\n",
    "    while 1:\n",
    "        newRoot2 = f2(root2)\n",
    "        if abs(newRoot2 - root2) < tol:\n",
    "            break\n",
    "        root2 = newRoot2\n",
    "    if abs(root1 - 0.5) <  abs(root2 - 0.5):\n",
    "        return root1\n",
    "    else:\n",
    "        return root2"
   ]
  },
  {
   "cell_type": "code",
   "execution_count": 47,
   "metadata": {},
   "outputs": [
    {
     "data": {
      "text/plain": [
       "0.48686708232334464"
      ]
     },
     "execution_count": 47,
     "metadata": {},
     "output_type": "execute_result"
    }
   ],
   "source": [
    "f_Biseccion(7,7,0.0000001)"
   ]
  },
  {
   "cell_type": "code",
   "execution_count": 50,
   "metadata": {},
   "outputs": [
    {
     "name": "stdout",
     "output_type": "stream",
     "text": [
      "8 5\n",
      "bis\n",
      "FPI\n",
      "ya\n",
      "ya2\n",
      "8 10\n",
      "bis\n",
      "FPI\n",
      "ya\n"
     ]
    },
    {
     "ename": "KeyboardInterrupt",
     "evalue": "",
     "output_type": "error",
     "traceback": [
      "\u001b[0;31m---------------------------------------------------------------------------\u001b[0m",
      "\u001b[0;31mKeyboardInterrupt\u001b[0m                         Traceback (most recent call last)",
      "\u001b[0;32m<ipython-input-50-890294e479c8>\u001b[0m in \u001b[0;36m<module>\u001b[0;34m()\u001b[0m\n\u001b[1;32m      8\u001b[0m         \u001b[0mf_Biseccion\u001b[0m\u001b[0;34m(\u001b[0m\u001b[0mn\u001b[0m\u001b[0;34m,\u001b[0m\u001b[0mm\u001b[0m\u001b[0;34m,\u001b[0m\u001b[0;36m1e-10\u001b[0m\u001b[0;34m)\u001b[0m\u001b[0;34m\u001b[0m\u001b[0;34m\u001b[0m\u001b[0m\n\u001b[1;32m      9\u001b[0m         \u001b[0mprint\u001b[0m\u001b[0;34m(\u001b[0m\u001b[0;34m\"FPI\"\u001b[0m\u001b[0;34m)\u001b[0m\u001b[0;34m\u001b[0m\u001b[0;34m\u001b[0m\u001b[0m\n\u001b[0;32m---> 10\u001b[0;31m         \u001b[0mf_FPI\u001b[0m\u001b[0;34m(\u001b[0m\u001b[0mn\u001b[0m\u001b[0;34m,\u001b[0m\u001b[0mm\u001b[0m\u001b[0;34m,\u001b[0m\u001b[0;36m1e-10\u001b[0m\u001b[0;34m)\u001b[0m\u001b[0;34m\u001b[0m\u001b[0;34m\u001b[0m\u001b[0m\n\u001b[0m",
      "\u001b[0;32m<ipython-input-46-046cb511634b>\u001b[0m in \u001b[0;36mf_FPI\u001b[0;34m(n, m, tol)\u001b[0m\n\u001b[1;32m      8\u001b[0m     \u001b[0mprint\u001b[0m\u001b[0;34m(\u001b[0m\u001b[0;34m\"ya\"\u001b[0m\u001b[0;34m)\u001b[0m\u001b[0;34m\u001b[0m\u001b[0;34m\u001b[0m\u001b[0m\n\u001b[1;32m      9\u001b[0m     \u001b[0;32mwhile\u001b[0m \u001b[0;36m1\u001b[0m\u001b[0;34m:\u001b[0m\u001b[0;34m\u001b[0m\u001b[0;34m\u001b[0m\u001b[0m\n\u001b[0;32m---> 10\u001b[0;31m         \u001b[0mnewRoot1\u001b[0m \u001b[0;34m=\u001b[0m \u001b[0mf\u001b[0m\u001b[0;34m(\u001b[0m\u001b[0mroot1\u001b[0m\u001b[0;34m)\u001b[0m\u001b[0;34m\u001b[0m\u001b[0;34m\u001b[0m\u001b[0m\n\u001b[0m\u001b[1;32m     11\u001b[0m         \u001b[0;32mif\u001b[0m \u001b[0mabs\u001b[0m\u001b[0;34m(\u001b[0m\u001b[0mnewRoot1\u001b[0m \u001b[0;34m-\u001b[0m \u001b[0mroot1\u001b[0m\u001b[0;34m)\u001b[0m \u001b[0;34m<\u001b[0m \u001b[0mtol\u001b[0m\u001b[0;34m:\u001b[0m\u001b[0;34m\u001b[0m\u001b[0;34m\u001b[0m\u001b[0m\n\u001b[1;32m     12\u001b[0m             \u001b[0;32mbreak\u001b[0m\u001b[0;34m\u001b[0m\u001b[0;34m\u001b[0m\u001b[0m\n",
      "\u001b[0;32m<ipython-input-46-046cb511634b>\u001b[0m in \u001b[0;36m<lambda>\u001b[0;34m(x)\u001b[0m\n\u001b[1;32m      1\u001b[0m \u001b[0;32mdef\u001b[0m \u001b[0mf_FPI\u001b[0m\u001b[0;34m(\u001b[0m\u001b[0mn\u001b[0m\u001b[0;34m,\u001b[0m \u001b[0mm\u001b[0m\u001b[0;34m,\u001b[0m \u001b[0mtol\u001b[0m\u001b[0;34m)\u001b[0m\u001b[0;34m:\u001b[0m\u001b[0;34m\u001b[0m\u001b[0;34m\u001b[0m\u001b[0m\n\u001b[1;32m      2\u001b[0m     \u001b[0mr\u001b[0m \u001b[0;34m=\u001b[0m \u001b[0mraiz_mas_cercana\u001b[0m\u001b[0;34m(\u001b[0m\u001b[0mn\u001b[0m\u001b[0;34m)\u001b[0m\u001b[0;34m\u001b[0m\u001b[0;34m\u001b[0m\u001b[0m\n\u001b[0;32m----> 3\u001b[0;31m     \u001b[0mf\u001b[0m \u001b[0;34m=\u001b[0m \u001b[0;32mlambda\u001b[0m \u001b[0mx\u001b[0m\u001b[0;34m:\u001b[0m \u001b[0mnp\u001b[0m\u001b[0;34m.\u001b[0m\u001b[0mlog10\u001b[0m\u001b[0;34m(\u001b[0m\u001b[0mr\u001b[0m\u001b[0;34m-\u001b[0m\u001b[0mnp\u001b[0m\u001b[0;34m.\u001b[0m\u001b[0mcos\u001b[0m\u001b[0;34m(\u001b[0m\u001b[0mm\u001b[0m \u001b[0;34m*\u001b[0m \u001b[0mnp\u001b[0m\u001b[0;34m.\u001b[0m\u001b[0marccos\u001b[0m\u001b[0;34m(\u001b[0m\u001b[0mx\u001b[0m\u001b[0;34m)\u001b[0m\u001b[0;34m)\u001b[0m \u001b[0;34m+\u001b[0m \u001b[0;36m10\u001b[0m\u001b[0;34m**\u001b[0m\u001b[0;34m(\u001b[0m\u001b[0mm\u001b[0m\u001b[0;34m*\u001b[0m\u001b[0mx\u001b[0m\u001b[0;34m)\u001b[0m\u001b[0;34m)\u001b[0m\u001b[0;34m/\u001b[0m\u001b[0;34m(\u001b[0m\u001b[0mm\u001b[0m\u001b[0;34m)\u001b[0m\u001b[0;34m\u001b[0m\u001b[0;34m\u001b[0m\u001b[0m\n\u001b[0m\u001b[1;32m      4\u001b[0m     \u001b[0mf2\u001b[0m \u001b[0;34m=\u001b[0m \u001b[0;32mlambda\u001b[0m \u001b[0mx\u001b[0m\u001b[0;34m:\u001b[0m \u001b[0mnp\u001b[0m\u001b[0;34m.\u001b[0m\u001b[0mlog10\u001b[0m\u001b[0;34m(\u001b[0m\u001b[0mnp\u001b[0m\u001b[0;34m.\u001b[0m\u001b[0mcos\u001b[0m\u001b[0;34m(\u001b[0m\u001b[0mm\u001b[0m \u001b[0;34m*\u001b[0m \u001b[0mnp\u001b[0m\u001b[0;34m.\u001b[0m\u001b[0marccos\u001b[0m\u001b[0;34m(\u001b[0m\u001b[0mx\u001b[0m\u001b[0;34m)\u001b[0m\u001b[0;34m)\u001b[0m \u001b[0;34m-\u001b[0m \u001b[0mr\u001b[0m \u001b[0;34m+\u001b[0m \u001b[0;36m10\u001b[0m\u001b[0;34m**\u001b[0m\u001b[0;34m(\u001b[0m\u001b[0mm\u001b[0m\u001b[0;34m*\u001b[0m\u001b[0mx\u001b[0m\u001b[0;34m)\u001b[0m\u001b[0;34m)\u001b[0m\u001b[0;34m/\u001b[0m\u001b[0;34m(\u001b[0m\u001b[0mm\u001b[0m\u001b[0;34m)\u001b[0m\u001b[0;34m\u001b[0m\u001b[0;34m\u001b[0m\u001b[0m\n\u001b[1;32m      5\u001b[0m \u001b[0;34m\u001b[0m\u001b[0m\n",
      "\u001b[0;31mKeyboardInterrupt\u001b[0m: "
     ]
    }
   ],
   "source": [
    "n_values=[8,10]\n",
    "m_values=[5,10]\n",
    "\n",
    "for n in n_values:\n",
    "    for m in m_values:\n",
    "        print(n,m)\n",
    "        print(\"bis\")\n",
    "        f_Biseccion(n,m,1e-10)\n",
    "        print(\"FPI\")\n",
    "        f_FPI(n,m,1e-10)"
   ]
  },
  {
   "cell_type": "markdown",
   "metadata": {},
   "source": [
    "Despues de varias pruebas, pude ver que la bisección me funciono bastante bien, aunque el punto fijo siempre estuvo cerca, pero jamás tan cerca a valor igual, pero igual encontraba raices cerca de 0.5, pero no las más cerca."
   ]
  },
  {
   "cell_type": "markdown",
   "metadata": {
    "colab_type": "text",
    "id": "sv7nBimeVOT2"
   },
   "source": [
    "###  Determinantes (20 puntos)"
   ]
  },
  {
   "cell_type": "markdown",
   "metadata": {
    "colab_type": "text",
    "id": "fZPW_hUvQTW_"
   },
   "source": [
    "Dada una matriz de dimensiones $ n \\times n$ de la forma:\n",
    "\\begin{equation}\n",
    "A\n",
    "=\n",
    "\\begin{pmatrix}\n",
    "a_{1,1} & a_{1,2}  & \\dots & a_{1,n} \\\\\n",
    "a_{2,1} & a_{2,2}  & \\dots & a_{2,n} \\\\\n",
    "\\vdots &  \\vdots   & \\ddots & \\vdots \\\\\n",
    "a_{n,1} & a_{n,2}  & \\dots & a_{n,n}\n",
    "\\end{pmatrix}\n",
    "=\n",
    "\\begin{pmatrix}\n",
    "\\mathbf{r}_1 \\\\\n",
    "\\mathbf{r}_2 \\\\\n",
    "\\vdots \\\\\n",
    "\\mathbf{r}_n \\\\\n",
    "\\end{pmatrix},\n",
    "\\end{equation}\n",
    "donde $\\mathbf{r}_k$ representa la $k$-ésima fila de la matriz $A$.\n",
    "Considere la siguiente matriz $C_{i,j}(\\alpha)$,\n",
    "\\begin{equation}\n",
    "C_{i,j}(\\alpha)\n",
    "=\n",
    "\\begin{pmatrix}\n",
    "\\mathbf{r}_1 \\\\\n",
    "\\vdots \\\\\n",
    "\\mathbf{r}_i\\,(1-\\alpha)+\\mathbf{r}_j\\,\\alpha \\\\\n",
    "\\vdots \\\\\n",
    "\\mathbf{r}_j\\,(1-\\alpha)+\\mathbf{r}_i\\,\\alpha \\\\\n",
    "\\vdots \\\\\n",
    "\\mathbf{r}_n \\\\\n",
    "\\end{pmatrix},\n",
    "\\end{equation}\n",
    "de lo cual sabemos que $C_{i,j}(0)=A$ y que $C_{i,j}(1)$ es la matriz $A$ donde se intercambiaron las filas $i$ y $j$, es decir:\n",
    "\\begin{equation}\n",
    "C_{i,j}(1)\n",
    "=\n",
    "\\begin{pmatrix}\n",
    "\\mathbf{r}_1 \\\\\n",
    "\\vdots \\\\\n",
    "\\mathbf{r}_j \\\\\n",
    "\\vdots \\\\\n",
    "\\mathbf{r}_i \\\\\n",
    "\\vdots \\\\\n",
    "\\mathbf{r}_n \\\\\n",
    "\\end{pmatrix}.\n",
    "\\end{equation}\n",
    "De las relaciones anteriores podemos concluir que el determinante de la matriz $A$, denominado $D=\\det(A)$, es igual al determinante de $C_{i,j}(0)$, es decir $\\det(C_{i,j}(0))=\\det(A)=D$.\n",
    "Por el otro lado, el determinante de $C_{i,j}(1)$ es $-D$, dado que es el intercambio de las filas $i$ y $j$ de la matriz $A$.\n",
    "Por lo cual podemos concluir que $-D\\leq \\det(C_{i,j}(\\alpha))\\leq D$.\n",
    "\n",
    "Utilizando el método de Bisección debe encontrar el valor de $\\alpha$ con $p$ decimales de precisión que permitan que, dado los índices de las filas $i$, $j$, y $i\\neq j$, el determinante de la matriz sea igual a $d$, donde $d\\in[-D,D]$. \n",
    "\n",
    "Para esto se debe implementar una función que reciba la matriz $A$, las filas $i$ y $j$, y $p$; y retorne $\\widehat{\\alpha}$ tal que $\\det(C_{i,j}(\\widehat{\\alpha}))=d$.\n"
   ]
  },
  {
   "cell_type": "markdown",
   "metadata": {},
   "source": [
    "Lo que se realiza en este problema, es el método de bisección clásico para buscar puntos fijos, donde nuestra función a evaluar sería $det(A(\\alpha))$ dado un alfa. Y luego se trata de la misma forma la busqueda de bisección, pero para el valor de $d-det(A(\\alpha))$. Esto permite responder al problema correctamente, con la precisión p que te dan (utilizandola como tolerancia)"
   ]
  },
  {
   "cell_type": "code",
   "execution_count": 31,
   "metadata": {},
   "outputs": [],
   "source": [
    "\"\"\"\n",
    "intput\n",
    "A               : (array n x n) matriz a aplicar alpha\n",
    "d               : (double) d buscado\n",
    "alpha           : (double) alpha a evaluar la matriz \n",
    "i               : (int) indice de la fila i\n",
    "j               : (int) indice de la fila j\n",
    "output\n",
    "d - det(A_copia): (double) valor de la diferencia entre d y el determinar de la \n",
    "matriz modificada\n",
    "\"\"\"\n",
    "def calcular_d_matriz(A, d, alpha, i, j):\n",
    "    A_copia = np.copy(A)\n",
    "    new = np.add(np.multiply(A_copia[i],(1 - alpha)), np.multiply(A_copia[j],alpha))\n",
    "    new2 = np.add(np.multiply(A_copia[j],(1 - alpha)), np.multiply(A_copia[i],alpha))\n",
    "    A_copia[i] = new\n",
    "    A_copia[j] = new2\n",
    "    return d - np.linalg.det(A_copia)"
   ]
  },
  {
   "cell_type": "code",
   "execution_count": 32,
   "metadata": {
    "colab": {},
    "colab_type": "code",
    "id": "ZewzBMC0WevO"
   },
   "outputs": [],
   "source": [
    "\"\"\"\n",
    "input\n",
    "A: (array n x n) matriz\n",
    "i: (int) índice de la fila \"i\".\n",
    "j: (int) índice de la fila \"j\".\n",
    "p: (int) cantidad de decimales de precision \n",
    "d: (double) valor requerido del determinante de $C_{i,j}(\\alpha)$, i.e. $\\det(C_{i,j}(\\widehat{\\alpha}))=d$.\n",
    "output\n",
    "alpha_hat: (double) alpha_hat tal que det(C_{i,j}(alpha_hat))=d.\n",
    "\"\"\"\n",
    "\n",
    "\n",
    "def find_alpha_hat(A,i,j,p,d):\n",
    "    # Algoritmo a desarrollar, note que usted debe definir el intervalo a utilizar en el método de la bisección.\n",
    "\n",
    "    if abs(np.linalg.det(A)) <= abs(d):    \n",
    "        return 1 if np.linalg.det(A) * d < 0 else 0\n",
    "    a = 0\n",
    "    b = 1\n",
    "    alpha_hat = (a + b) / 2\n",
    "    Dalpha = calcular_d_matriz(A, d, alpha_hat, i, j)\n",
    "    n_iter = (np.log2((1 / (0.5 * 10**-p))) - 1) + 1\n",
    "    h = 0\n",
    "    while abs(Dalpha) >= 10**(-p) and n_iter > h:\n",
    "        if(Dalpha * calcular_d_matriz(A, d, a, i, j) < 0):\n",
    "            b = alpha_hat\n",
    "        else:\n",
    "            a = alpha_hat\n",
    "        alpha_hat = (a + b) / 2.0\n",
    "        \n",
    "        Dalpha = calcular_d_matriz(A, d, alpha_hat, i, j)\n",
    "        h += 1\n",
    "    return round(alpha_hat, p)"
   ]
  },
  {
   "cell_type": "markdown",
   "metadata": {
    "colab_type": "text",
    "id": "gVOkWN_zrvR9"
   },
   "source": [
    "# Referencias\n",
    "\n",
    "1. Numerical Analysis Second Edition, Timothy Sauer, 2006 Pearson education."
   ]
  }
 ],
 "metadata": {
  "colab": {
   "collapsed_sections": [],
   "name": "Tarea1-CC.ipynb",
   "provenance": [],
   "toc_visible": true
  },
  "kernelspec": {
   "display_name": "Python 3",
   "language": "python",
   "name": "python3"
  },
  "language_info": {
   "codemirror_mode": {
    "name": "ipython",
    "version": 3
   },
   "file_extension": ".py",
   "mimetype": "text/x-python",
   "name": "python",
   "nbconvert_exporter": "python",
   "pygments_lexer": "ipython3",
   "version": "3.6.8"
  }
 },
 "nbformat": 4,
 "nbformat_minor": 1
}
