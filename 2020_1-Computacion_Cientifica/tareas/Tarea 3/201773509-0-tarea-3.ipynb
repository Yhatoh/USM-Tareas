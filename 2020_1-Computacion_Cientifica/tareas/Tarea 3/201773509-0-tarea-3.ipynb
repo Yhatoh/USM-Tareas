{
 "cells": [
  {
   "cell_type": "code",
   "execution_count": 3,
   "metadata": {},
   "outputs": [],
   "source": [
    "import numpy as np\n",
    "import sympy as sp\n",
    "from PIL import Image\n",
    "from scipy import interpolate\n",
    "import matplotlib.pyplot as plt\n",
    "from time import time\n",
    "from skimage.metrics import structural_similarity"
   ]
  },
  {
   "cell_type": "markdown",
   "metadata": {},
   "source": [
    "# Tarea 3:Interpolación Bicúbica"
   ]
  },
  {
   "cell_type": "markdown",
   "metadata": {},
   "source": [
    "## Instrucciones\n",
    "\n",
    "* La tarea es individual.\n",
    "* Las consultas sobre las tareas se deben realizar por medio de la plataforma Aula.\n",
    "* La tarea debe ser realizada en `Jupyter Notebook` (`Python3`).\n",
    "* Se evaluará la correcta utilización de librerias `NumPy`, `SciPy`, entre otras, así como la correcta implementación de algoritmos de forma vectorizada.\n",
    "*  **El archivo de entrega debe denominarse ROL-tarea-numero.ipynb**. _De no respetarse este formato existirá un descuento de **50 puntos**_\n",
    "* La fecha de entrega es el viernes 24 de Julio a las **18:00 hrs**.  Se aceptarán entregas hasta las 19:00 hrs sin descuento en caso de existir algun problema, posteriormente existirá un descuento lineal hasta las 20:00 hrs del mismo día.\n",
    "* Las tareas que sean entregadas antes del jueves a mediodía recibirán una bonificación de 10 puntos\n",
    "* Debe citar cualquier código ajeno utilizado (incluso si proviene de los Jupyter Notebooks del curso).\n"
   ]
  },
  {
   "cell_type": "markdown",
   "metadata": {},
   "source": [
    "## Introducción"
   ]
  },
  {
   "cell_type": "markdown",
   "metadata": {},
   "source": [
    "En la siguiente tarea estudiaremos un método de interpolación denominado **Interpolación Bicúbica**, utilizada frecuentemente sobre imágenes. Aplicaremos el método para aumentar la resolución de una imagen intentando preservar las propiedades de la versión original."
   ]
  },
  {
   "cell_type": "markdown",
   "metadata": {},
   "source": [
    "## Contexto"
   ]
  },
  {
   "cell_type": "markdown",
   "metadata": {},
   "source": [
    "Supongamos que usted conoce $f$ y las derivadas $f_x$, $f_y$ y $f_{xy}$ dentro de las coordenadas $(0,0),(0,1),(1,0)$ y $(1,1)$ de un cuadrado unitario. La superficie que interpola estos 4 puntos es:\n",
    "\n",
    "$$\n",
    "p(x,y) = \\sum\\limits_{i=0}^3 \\sum_{j=0}^3 a_{ij} x^i y^j.\n",
    "$$\n",
    "\n",
    "Como se puede observar el problema de interpolación se resume en determinar los 16 coeficientes $a_{ij}$ y para esto se genera un total de $16$ ecuaciones utilizando los valores conocidos de $f$,$f_x$,$f_y$ y $f_{xy}$. Por ejemplo, las primeras $4$ ecuaciones son:\n",
    "\n",
    "$$\n",
    "\\begin{aligned}\n",
    "f(0,0)&=p(0,0)=a_{00},\\\\\n",
    "f(1,0)&=p(1,0)=a_{00}+a_{10}+a_{20}+a_{30},\\\\\n",
    "f(0,1)&=p(0,1)=a_{00}+a_{01}+a_{02}+a_{03},\\\\\n",
    "f(1,1)&=p(1,1)=\\textstyle \\sum \\limits _{i=0}^{3}\\sum \\limits _{j=0}^{3}a_{ij}.\n",
    "\\end{aligned}\n",
    "$$\n",
    "\n",
    "Para las $12$ ecuaciones restantes se debe utilizar:\n",
    "\n",
    "$$\n",
    "\\begin{aligned}\n",
    "f_{x}(x,y)&=p_{x}(x,y)=\\textstyle \\sum \\limits _{i=1}^{3}\\sum \\limits _{j=0}^{3}a_{ij}ix^{i-1}y^{j},\\\\\n",
    "f_{y}(x,y)&=p_{y}(x,y)=\\textstyle \\sum \\limits _{i=0}^{3}\\sum \\limits _{j=1}^{3}a_{ij}x^{i}jy^{j-1},\\\\\n",
    "f_{xy}(x,y)&=p_{xy}(x,y)=\\textstyle \\sum \\limits _{i=1}^{3}\\sum \\limits _{j=1}^{3}a_{ij}ix^{i-1}jy^{j-1}.\n",
    "\\end{aligned}\n",
    "$$\n",
    "\n",
    "\n",
    "Una vez planteadas las ecuaciones, los coeficientes se pueden obtener al resolver el problema $A\\alpha=x$, donde $\\alpha=\\left[\\begin{smallmatrix}a_{00}&a_{10}&a_{20}&a_{30}&a_{01}&a_{11}&a_{21}&a_{31}&a_{02}&a_{12}&a_{22}&a_{32}&a_{03}&a_{13}&a_{23}&a_{33}\\end{smallmatrix}\\right]^T$ y ${\\displaystyle x=\\left[{\\begin{smallmatrix}f(0,0)&f(1,0)&f(0,1)&f(1,1)&f_{x}(0,0)&f_{x}(1,0)&f_{x}(0,1)&f_{x}(1,1)&f_{y}(0,0)&f_{y}(1,0)&f_{y}(0,1)&f_{y}(1,1)&f_{xy}(0,0)&f_{xy}(1,0)&f_{xy}(0,1)&f_{xy}(1,1)\\end{smallmatrix}}\\right]^{T}}$.\n"
   ]
  },
  {
   "cell_type": "markdown",
   "metadata": {},
   "source": [
    "En un contexto más aplicado, podemos hacer uso de la interpolación bicúbica para aumentar la resolución de una imagen. Supongamos que tenemos la siguiente imagen de tamaño $5 \\times 5$:"
   ]
  },
  {
   "cell_type": "markdown",
   "metadata": {},
   "source": [
    "<img src=\"img1.png\" width=\"20%\"/>"
   ]
  },
  {
   "cell_type": "markdown",
   "metadata": {},
   "source": [
    "Podemos ir tomando segmentos de la imagen de tamaño $2 \\times 2$ de la siguiente forma:"
   ]
  },
  {
   "cell_type": "markdown",
   "metadata": {},
   "source": [
    "<img src=\"img2.png\" width=\"50%\"/>"
   ]
  },
  {
   "cell_type": "markdown",
   "metadata": {},
   "source": [
    "Por cada segmento podemos generar una superficie interpoladora mediante el algoritmo de interpolación cubica. Para el ejemplo anterior estariamos generando $16$ superficies interpoladoras distintas. La idea es hacer uso de estas superficies para estimar los valores de los pixeles correspondienets a una imagen más grande. Por ejemplo, la imagen $5 \\times 5$ la podemos convertir a una imagen de $9 \\times 9$ agregando un pixel entre cada par de pixeles originales además de uno en el centro para que no quede un hueco."
   ]
  },
  {
   "cell_type": "markdown",
   "metadata": {},
   "source": [
    "<img src=\"img3.png\" width=\"50%\"/>"
   ]
  },
  {
   "cell_type": "markdown",
   "metadata": {},
   "source": [
    "Aca los pixeles verdes son los mismos que la imagen original y los azules son obtenidos de evaluar cada superficie interpoladora. Notar que existen pixeles azules que se pueden obtener a partir de dos superficies interpoladoras distintas, en esos casos se puede promediar el valor de los pixeles o simplemente dejar uno de los dos. \n",
    "\n",
    "Para trabajar con la interpolación bicubica necesitamos conocer los valores de $f_x$, $f_y$ y $f_{xy}$. En el caso de las imagenes solo tenemos acceso al valor de cada pixel por lo que deberemos estimar cual es el valor de estos. Para estimar $f_x$ haremos lo siguiente:"
   ]
  },
  {
   "cell_type": "markdown",
   "metadata": {},
   "source": [
    "Para estimar el valor de $f_x$ en cada pixel haremos una interpolación con los algoritmos conocidos, usando tres pixels en dirección de las filas, luego derivaremos el polinomio obtenido y finalmente evaluaremos en la posición de interes. La misma idea aplica para $f_y$ solo que ahora interpolaremos en dirección de las columnas."
   ]
  },
  {
   "cell_type": "markdown",
   "metadata": {},
   "source": [
    "<img src=\"img5.png\" width=\"60%\"/>"
   ]
  },
  {
   "cell_type": "markdown",
   "metadata": {},
   "source": [
    "Por ejemplo si queremos obtener el valor de $f_x$ en la posición $(0,0)$ (imagen de la izquierda) entonces haremos una interpolación de Lagrange utilizando los pixeles $(0,0),(0,1)$ y $(0,2)$. Derivaremos el polinomio interpolador y evaluaremos en $(0,0)$. Por otro lado si queremos obtener el valor de $f_y$ en la posición $(0,0)$ (imagen de la derecha) entonces interpolaremos los pixeles $(0,0),(1,0)$ y $(2,0)$. Luego derivaremos el polinomio interpolador y evaluaremos en $(0,0)$."
   ]
  },
  {
   "cell_type": "markdown",
   "metadata": {},
   "source": [
    "Para obtener $f_{xy}$ seguiremos la idea anterior. Solo que esta vez se utilizaran los valores de $f_y$ y se interpolaran estos en dirección de las filas."
   ]
  },
  {
   "cell_type": "markdown",
   "metadata": {},
   "source": [
    "# Preguntas"
   ]
  },
  {
   "cell_type": "code",
   "execution_count": 40,
   "metadata": {},
   "outputs": [
    {
     "data": {
      "image/png": "[encoded data removed]",
      "text/plain": [
       "<Figure size 432x288 with 1 Axes>"
      ]
     },
     "metadata": {},
     "output_type": "display_data"
    }
   ],
   "source": [
    "#Codigo para abrir y visualizar imágenes\n",
    "img = Image.open('./imagenes_prueba/gradient.png').convert('RGB')\n",
    "array = np.array(img)\n",
    "imgplot = plt.imshow(array)\n",
    "plt.show()"
   ]
  },
  {
   "cell_type": "markdown",
   "metadata": {},
   "source": [
    "## 1. Interpolación bicubica"
   ]
  },
  {
   "cell_type": "markdown",
   "metadata": {},
   "source": [
    "### 1.1  Obtener derivadas (30 puntos)\n",
    "\n",
    "Implemente la función `derivativeValues` que reciba como input un arreglo con valores, el método de interpolación y si es que se considera el uso de  los puntos de chebyshev . La función debe retornar un arreglo de igual dimensión con los valores de las derivadas de los puntos obtenidas\n",
    "\n",
    "Los métodos de interpolación serán representados por los siguientes valores\n",
    "\n",
    "* Interpolación de lagrange: `'lagrange'`\n",
    "* Diferencias divididas de Newton: `'newton'`\n",
    "* Spline cubica: `'spline3'`\n"
   ]
  },
  {
   "cell_type": "code",
   "execution_count": 41,
   "metadata": {},
   "outputs": [],
   "source": [
    "def equispacePoints(a, b):\n",
    "    \"\"\"\n",
    "    Parameters\n",
    "    ----------\n",
    "    a: (int) lado izquierdo del intervalo \n",
    "    b: (int) lado derecho del intervalo\n",
    "    \n",
    "    Returns\n",
    "    -------\n",
    "    points: (int array) puntos esquipaciados del intervalo [a, b]\n",
    "\n",
    "    \"\"\"\n",
    "    points = np.array(range(1, b + 1))\n",
    "    return points"
   ]
  },
  {
   "cell_type": "code",
   "execution_count": 42,
   "metadata": {},
   "outputs": [],
   "source": [
    "def chebyshevPoints(a, b, n):\n",
    "    \"\"\"\n",
    "    Parameters\n",
    "    ----------\n",
    "    a: (int) lado izquierdo del intervalo \n",
    "    b: (int) lado derecho del intervalo\n",
    "    n: (int) cantidad de puntos a crear\n",
    "    \n",
    "    Returns\n",
    "    -------\n",
    "    points: (int array) n puntos chebyshev del intervalo [a, b]\n",
    "\n",
    "    \"\"\"\n",
    "    points = []\n",
    "    for i in range(1, n + 1):\n",
    "        points.append((b + a) / 2.0 + ((b - a) / 2.0) * np.cos((2.0 * i - 1) * np.pi / (2.0 * n)))\n",
    "    points.sort()\n",
    "    return np.array(points)"
   ]
  },
  {
   "cell_type": "code",
   "execution_count": 43,
   "metadata": {},
   "outputs": [],
   "source": [
    "\"\"\"\n",
    "Divided_Diferrences y Newton son funciones obtenidas del github del profesor Torres.\n",
    "\"\"\"\n",
    "\n",
    "def Divided_Differences(x, y):\n",
    "    dd = np.array([y]).astype('double')\n",
    "    for i in range(len(x)-1):\n",
    "        ddi = []\n",
    "        for a in range(len(x)-i-1):\n",
    "            ddi.append((dd[i][a+1]-dd[i][a])/(x[a+i+1]-x[a]))\n",
    "        ddi = np.append(ddi,np.full((len(x)-len(ddi),),0.0))\n",
    "        dd = np.append(dd,[ddi],axis=0)\n",
    "    return np.array(dd)\n",
    "    \n",
    "def Newton(x, y, show=False):\n",
    "    # We calculate the divided differences and store them in a data structure\n",
    "    dd = Divided_Differences(x,y)\n",
    "    \n",
    "    # Finally, we return a data structure with our interpolating polynomial\n",
    "    D = {'M':'Newton',\n",
    "         'P':dd[:,0],\n",
    "         'x':x,\n",
    "         'y':y}\n",
    "    return D"
   ]
  },
  {
   "cell_type": "code",
   "execution_count": 44,
   "metadata": {},
   "outputs": [],
   "source": [
    "def derivativeValues(values, method, cheb):\n",
    "    \"\"\"\n",
    "    Parameters\n",
    "    ----------\n",
    "    values:\t(int array) points values\n",
    "    method:\t(string)\tinterpolation method\n",
    "    cheb:\t(boolean)\tif chebyshev points are used\n",
    "\n",
    "    Returns\n",
    "    -------\n",
    "    d:\t(float array) derivative value of interpolated points\n",
    "\n",
    "    \"\"\"\n",
    "    cantValues = len(values)\n",
    "    if cheb:\n",
    "        x = chebyshevPoints(0, cantValues - 1, cantValues)\n",
    "    else:\n",
    "        x = equispacePoints(0, cantValues)\n",
    "    d = []\n",
    "    if method == \"lagrange\":\n",
    "        poly = interpolate.lagrange(x, values)\n",
    "        poly = poly.deriv()\n",
    "        for val in x:\n",
    "            d.append(poly(val))\n",
    "    elif method == \"newton\":\n",
    "        poly = Newton(x, values)\n",
    "        for val in x:\n",
    "            y = poly['P'][1]\n",
    "            f = val - x[0]\n",
    "            f_deriv = 1\n",
    "            for i in range(2, len(poly['P']) - 1):\n",
    "                g = val - x[i - 1]\n",
    "                y += poly['P'][i] * (f + f_deriv * g)\n",
    "                f_deriv = f + f_deriv * g\n",
    "                f = f * g\n",
    "            d.append(y)\n",
    "    elif method == \"spline3\":\n",
    "        poly = interpolate.CubicSpline(x, values)\n",
    "        poly = poly.derivative()\n",
    "        for val in x:\n",
    "            d.append(poly(val))\n",
    "        \n",
    "    d = np.array(d)\n",
    "    return d"
   ]
  },
  {
   "cell_type": "markdown",
   "metadata": {},
   "source": [
    "\n",
    "### 1.2 Interpolación de imagen (50 puntos)\n",
    "Implemente la función `bicubicInterpolation` que reciba como input la matriz de la imagen y cuantos píxeles extra se quiere agregar entre los píxeles originales y el algoritmo de interpolación a utilizar. La función debe retornar la matriz con la imagen de dimensión nueva. Considere que se debe aplicar el método de interpolación en cada canal RGB por separado."
   ]
  },
  {
   "cell_type": "code",
   "execution_count": 45,
   "metadata": {},
   "outputs": [],
   "source": [
    "def p(x, y, a):\n",
    "    \"\"\"\n",
    "    Parameters\n",
    "    ----------\n",
    "    x: (float) coordenada x a evaluar la función p(x, y)\n",
    "    y: (float) coordenada y a evaluar la función p(x, y)\n",
    "    a: (float array) coeficientes a_ij para evaluar la función p(x, y)\n",
    "    \n",
    "    Returns\n",
    "    -------\n",
    "    res: (float) resultado de evaluar p(x, y) con los coeficientes a\n",
    "\n",
    "    \"\"\"\n",
    "    res = 0\n",
    "    for j in range(0, 4):\n",
    "        for i in range(0, 4):\n",
    "            res += a[4 * j + i] * y**j * x**i\n",
    "    return res"
   ]
  },
  {
   "cell_type": "code",
   "execution_count": 46,
   "metadata": {},
   "outputs": [],
   "source": [
    "def newCoords(p, i, j):\n",
    "    \"\"\"\n",
    "    Parameters\n",
    "    ----------\n",
    "    p: (int) cantidad de pixeles a agregar entre pixeles\n",
    "    i: (int) coordenada i de la matriz original\n",
    "    j: (int) coordenada j de la matriz original\n",
    "    \n",
    "    Returns\n",
    "    -------\n",
    "    tuple: (int tuple) los valores de las nuevas coordenas en la imagen con pixeles extras\n",
    "\n",
    "    \"\"\"\n",
    "    return p * i + i, p * j + j"
   ]
  },
  {
   "cell_type": "code",
   "execution_count": 47,
   "metadata": {},
   "outputs": [],
   "source": [
    "def bicubicInterpolation(image, interiorPixels, method, cheb):\n",
    "    \"\"\"\n",
    "    Parameters\n",
    "    ----------\n",
    "    image:\t(nxnx3 array) image array in RGB format\n",
    "    interiorPixels:\t(int)\tinterpolation method\n",
    "    method:\t(string)\tinterpolation method\n",
    "    cheb:\t(boolean)\tif chebyshev points are used\n",
    "\n",
    "\n",
    "    Returns\n",
    "    -------\n",
    "    newImage:\t(nxnx3 array) image array in RGB format\n",
    "\n",
    "    \"\"\"\n",
    "    eP = interiorPixels\n",
    "    \n",
    "    n = image.shape[0]\n",
    "\n",
    "    newN = n + eP * (n - 1)\n",
    "    newImage = np.zeros((newN, newN, 3))\n",
    "\n",
    "    fx = np.zeros((n, n, 3))\n",
    "    fy = np.zeros((n, n, 3))\n",
    "    fxy = np.zeros((n, n, 3))\n",
    "    \n",
    "    \n",
    "    for i in range(1, n - 1):\n",
    "        for j in range(0, n):\n",
    "            xr1, xr2, xr3 = [image[j][i - 1][0], image[j][i][0], image[j][i + 1][0]]\n",
    "            xg1, xg2, xg3 = [image[j][i - 1][1], image[j][i][1], image[j][i + 1][1]]\n",
    "            xb1, xb2, xb3 = [image[j][i - 1][2], image[j][i][2], image[j][i + 1][2]]\n",
    "            #print(\"Puntos\")\n",
    "            #print(xr1, xr2, xr3)\n",
    "            yr1, yr2, yr3 = [image[i - 1][j][0], image[i][j][0], image[i + 1][j][0]] \n",
    "            yg1, yg2, yg3 = [image[i - 1][j][1], image[i][j][1], image[i + 1][j][1]] \n",
    "            yb1, yb2, yb3 = [image[i - 1][j][2], image[i][j][2], image[i + 1][j][2]] \n",
    "\n",
    "            drx1, drx2, drx3 = derivativeValues(np.array([xr1, xr2, xr3]), method, cheb)\n",
    "            #print(\"Derivadas\")\n",
    "            #print(drx1, drx2, drx3)\n",
    "            dgx1, dgx2, dgx3 = derivativeValues(np.array([xg1, xg2, xg3]), method, cheb)\n",
    "            dbx1, dbx2, dbx3 = derivativeValues(np.array([xb1, xb2, xb3]), method, cheb)\n",
    "            \n",
    "            dry1, dry2, dry3 = derivativeValues(np.array([yr1, yr2, yr3]), method, cheb)\n",
    "            dgy1, dgy2, dgy3 = derivativeValues(np.array([yg1, yg2, yg3]), method, cheb)\n",
    "            dby1, dby2, dby3 = derivativeValues(np.array([yb1, yb2, yb3]), method, cheb)\n",
    "            if i == 1:\n",
    "                fx[j][i - 1][0] = drx1\n",
    "                fx[j][i - 1][1] = dgx1\n",
    "                fx[j][i - 1][2] = dbx1\n",
    "                fy[i - 1][j][0] = dry1\n",
    "                fy[i - 1][j][1] = dgy1\n",
    "                fy[i - 1][j][2] = dby1\n",
    "                \n",
    "            fx[j][i][0] = drx2\n",
    "            fx[j][i][1] = dgx2\n",
    "            fx[j][i][2] = dbx2\n",
    "            fy[i][j][0] = dry2\n",
    "            fy[i][j][1] = dgy2\n",
    "            fy[i][j][2] = dby2\n",
    "            \n",
    "            if i == n - 2:\n",
    "                fx[j][i + 1][0] = drx3\n",
    "                fx[j][i + 1][1] = dgx3\n",
    "                fx[j][i + 1][2] = dbx3\n",
    "                fy[i + 1][j][0] = dry3\n",
    "                fy[i + 1][j][1] = dgy3\n",
    "                fy[i + 1][j][2] = dby3\n",
    "\n",
    "    for i in range(1, n - 1):\n",
    "        for j in range(0, n):\n",
    "            \n",
    "            xr1, xr2, xr3 = [fy[j][i - 1][0], fy[j][i][0], fy[j][i + 1][0]]\n",
    "            xg1, xg2, xg3 = [fy[j][i - 1][1], fy[j][i][1], fy[j][i + 1][1]]\n",
    "            xb1, xb2, xb3 = [fy[j][i - 1][2], fy[j][i][2], fy[j][i + 1][2]]\n",
    "            \n",
    "            drx1, drx2, drx3 = derivativeValues(np.array([xr1, xr2, xr3]), method, cheb)\n",
    "            dgx1, dgx2, dgx3 = derivativeValues(np.array([xg1, xg2, xg3]), method, cheb)\n",
    "            dbx1, dbx2, dbx3 = derivativeValues(np.array([xb1, xb2, xb3]), method, cheb)\n",
    "            \n",
    "            if i == 1:\n",
    "                fxy[j][i - 1][0] = drx1\n",
    "                fxy[j][i - 1][1] = dgx1\n",
    "                fxy[j][i - 1][2] = dbx1\n",
    "                \n",
    "            fxy[j][i][0] = drx2\n",
    "            fxy[j][i][1] = dgx2\n",
    "            fxy[j][i][2] = dbx2\n",
    "            \n",
    "            if i == n - 2:\n",
    "                fxy[j][i + 1][0] = drx3\n",
    "                fxy[j][i + 1][1] = dgx3\n",
    "                fxy[j][i + 1][2] = dbx3\n",
    "\n",
    "        \n",
    "    A = [[1, 0, 0, 0, 0, 0, 0, 0, 0, 0, 0, 0, 0, 0, 0, 0],\n",
    "         [1, 1, 1, 1, 0, 0, 0, 0, 0, 0, 0, 0, 0, 0, 0, 0],\n",
    "         [1, 0, 0, 0, 1, 0, 0, 0, 1, 0, 0, 0, 1, 0, 0, 0],\n",
    "         [1, 1, 1, 1, 1, 1, 1, 1, 1, 1, 1, 1, 1, 1, 1, 1],\n",
    "         [0, 1, 0, 0, 0, 0, 0, 0, 0, 0, 0, 0, 0, 0, 0, 0],\n",
    "         [0, 1, 2, 3, 0, 0, 0, 0, 0, 0, 0, 0, 0, 0, 0, 0],\n",
    "         [0, 1, 0, 0, 0, 1, 0, 0, 0, 1, 0, 0, 0, 1, 0, 0],\n",
    "         [0, 1, 2, 3, 0, 1, 2, 3, 0, 1, 2, 3, 0, 1, 2, 3],\n",
    "         [0, 0, 0, 0, 1, 0, 0, 0, 0, 0, 0, 0, 0, 0, 0, 0],\n",
    "         [0, 0, 0, 0, 1, 1, 1, 1, 0, 0, 0, 0, 0, 0, 0, 0],\n",
    "         [0, 0, 0, 0, 1, 0, 0, 0, 2, 0, 0, 0, 3, 0, 0, 0],\n",
    "         [0, 0, 0, 0, 1, 1, 1, 1, 2, 2, 2, 2, 3, 3, 3, 3],\n",
    "         [0, 0, 0, 0, 0, 1, 0, 0, 0, 0, 0, 0, 0, 0, 0, 0],\n",
    "         [0, 0, 0, 0, 0, 1, 2, 3, 0, 0, 0, 0, 0, 0, 0, 0],\n",
    "         [0, 0, 0, 0, 0, 1, 0, 0, 0, 2, 0, 0, 0, 3, 0, 0],\n",
    "         [0, 0, 0, 0, 0, 1, 2, 3, 0, 2, 4, 6, 0, 3, 6, 9]]\n",
    "    A = np.linalg.inv(np.array(A))\n",
    "    for i in range(1, n):\n",
    "        for j in range(1, n):\n",
    "            \n",
    "            x = np.array([image[i - 1][j - 1][0], image[i][j - 1][0], image[i - 1][j][0], image[i][j][0],\n",
    "                          fx[i - 1][j - 1][0], fx[i][j - 1][0], fx[i - 1][j][0], fx[i][j][0],\n",
    "                          fy[i - 1][j - 1][0], fy[i][j - 1][0], fy[i - 1][j][0], fy[i][j][0],\n",
    "                          fxy[i - 1][j - 1][0], fxy[i][j - 1][0], fxy[i - 1][j][0], fxy[i][j][0]])\n",
    "            ar = np.dot(A, x)\n",
    "            x = np.array([image[i - 1][j - 1][1], image[i][j - 1][1], image[i - 1][j][1], image[i][j][1],\n",
    "                          fx[i - 1][j - 1][1], fx[i][j - 1][1], fx[i - 1][j][1], fx[i][j][1],\n",
    "                          fy[i - 1][j - 1][1], fy[i][j - 1][1], fy[i - 1][j][1], fy[i][j][1],\n",
    "                          fxy[i - 1][j - 1][1], fxy[i][j - 1][1], fxy[i - 1][j][1], fxy[i][j][1]])\n",
    "            ag = np.dot(A, x)\n",
    "            \n",
    "            x = np.array([image[i - 1][j - 1][2], image[i][j - 1][2], image[i - 1][j][2], image[i][j][2],\n",
    "                          fx[i - 1][j - 1][2], fx[i][j - 1][2], fx[i - 1][j][2], fx[i][j][2],\n",
    "                          fy[i - 1][j - 1][2], fy[i][j - 1][2], fy[i - 1][j][2], fy[i][j][2],\n",
    "                          fxy[i - 1][j - 1][2], fxy[i][j - 1][2], fxy[i - 1][j][2], fxy[i][j][2]])\n",
    "            ab = np.dot(A, x)\n",
    "            \n",
    "            newI, newJ = newCoords(eP, i - 1, j)\n",
    "            newImage[newI][newJ] = image[i - 1][j][:]\n",
    "            newI, newJ = newCoords(eP, i , j - 1)\n",
    "            newImage[newI][newJ] = image[i][j - 1][:]\n",
    "            newI, newJ = newCoords(eP, i, j)\n",
    "            newImage[newI][newJ] = image[i][j][:]\n",
    "            newI, newJ = newCoords(eP, i - 1, j - 1)\n",
    "            newImage[newI][newJ] = image[i - 1][j - 1][:]\n",
    "            points = np.linspace(0, 1, eP + 2)\n",
    "            \n",
    "            for k in range(0, eP + 2):\n",
    "                for l in range(0, eP + 2):\n",
    "                    if (k == 0 and l == 0) or (k == 0 and l == eP + 1):\n",
    "                        continue\n",
    "                    elif (k == eP + 1 and l == 0) or (k == eP + 1 and l == eP + 1):\n",
    "                        continue\n",
    "                    \n",
    "                    pixelValueR = p(points[k], points[l], ar)\n",
    "                    pixelValueG = p(points[k], points[l], ag)\n",
    "                    pixelValueB = p(points[k], points[l], ab)\n",
    "                    \n",
    "                    if pixelValueR > 255:\n",
    "                        newImage[newI + k][newJ + l][0] = 255\n",
    "                    elif pixelValueR < 0:\n",
    "                        newImage[newI + k][newJ + l][0] = 0\n",
    "                    else:\n",
    "                        newImage[newI + k][newJ + l][0] = pixelValueR\n",
    "                    if pixelValueB > 255:\n",
    "                        newImage[newI + k][newJ + l][1] = 255\n",
    "                    elif pixelValueB < 0:\n",
    "                        newImage[newI + k][newJ + l][1] = 0\n",
    "                    else:\n",
    "                        newImage[newI + k][newJ + l][1] = pixelValueG\n",
    "                    \n",
    "                    if pixelValueB > 255:\n",
    "                        newImage[newI + k][newJ + l][2] = 255\n",
    "                    elif pixelValueB < 0:\n",
    "                        newImage[newI + k][newJ + l][2] = 0\n",
    "                    else:\n",
    "                        newImage[newI + k][newJ + l][2] = pixelValueB\n",
    "    return newImage.astype('int32')"
   ]
  },
  {
   "cell_type": "markdown",
   "metadata": {},
   "source": [
    "## 2. Evaluacion de algoritmos\n",
    "\n"
   ]
  },
  {
   "cell_type": "markdown",
   "metadata": {},
   "source": [
    "### 2.1 Tiempo de ejecucion \n",
    "Implemente la funcion `timeInterpolation` que mida el tiempo de interpolacion de una imagen dado el algoritmo de interpolacion , en segundos.(5 puntos)"
   ]
  },
  {
   "cell_type": "code",
   "execution_count": 48,
   "metadata": {},
   "outputs": [],
   "source": [
    "def timeInterpolation(image, interiorPixels, method, cheb):\n",
    "    \"\"\"\n",
    "    Parameters\n",
    "    ----------\n",
    "    image:\t(nxnx3 array) image array in RGB format\n",
    "    interiorPixels:\t(int)\tinterpolation method\n",
    "    method:\t(string)\tinterpolation method\n",
    "    cheb:\t(boolean)\tif chebyshev points are used\n",
    "\n",
    "\n",
    "    Returns\n",
    "    -------\n",
    "    time:\t(float) time in seconds\n",
    "\n",
    "    \"\"\"\n",
    "    start = time()\n",
    "    bicubicInterpolation(image, interiorPixels, method, cheb)\n",
    "    end = time()\n",
    "    \n",
    "    return end - start"
   ]
  },
  {
   "cell_type": "markdown",
   "metadata": {},
   "source": [
    "***Pregunta: ¿Cual es el metodo que presenta mayor velocidad en general? (5 puntos)***"
   ]
  },
  {
   "cell_type": "markdown",
   "metadata": {},
   "source": [
    "El metodo que presenta mayor velocidad en general es el método de newton, luego lo sigue las splines y lagrange llega como el método más lento. \n",
    "\n",
    "Esto se realizo con el código más adelante el cual permite testear la imagen que hayan ingresado arriba, con interiorPixels entre 1 a 4"
   ]
  },
  {
   "cell_type": "markdown",
   "metadata": {},
   "source": [
    "### 2.2 Calculo de error\n",
    "Implemente la funcion `errorInterpolation` la cual debe obtener el error de la imagen obtenida comparandola con una de referencia. El error debe ser calculado utilizando el indice SSIM (Structural similarity) (5 puntos)"
   ]
  },
  {
   "cell_type": "code",
   "execution_count": 49,
   "metadata": {},
   "outputs": [],
   "source": [
    "def errorInterpolation(original, new):\n",
    "    \"\"\"\n",
    "    Parameters\n",
    "    ----------\n",
    "    image:    (nxn array) original image array in RGB format\n",
    "    new:    (nxn array) new image array in RGB format obtained from interpolation\n",
    "\n",
    "\n",
    "    Returns\n",
    "    -------\n",
    "    error:    (float) difference between images \n",
    "\n",
    "    \"\"\"\n",
    "    error = 1 - structural_similarity(original, new, multichannel=True, data_range=new.shape[0])\n",
    "    \n",
    "    return error"
   ]
  },
  {
   "cell_type": "markdown",
   "metadata": {},
   "source": [
    "***Pregunta: ¿Cual metodo presenta menor error? (5 puntos)***"
   ]
  },
  {
   "cell_type": "markdown",
   "metadata": {},
   "source": [
    "Utilizando las imagenes de gradiente con 1 pixel y 4 pixel, se pudo observar que los 3 métodos tienen errores bastante cercarnos entre ellos, donde sin puntos de chebyshev para la imagen con 1 pixel el menor error lo presentaba newton, y para la imagen con 4 pixeles el menor error lo presentaba la spline cubica. Pero con puntos de chebyshev para la imagen con 1 pixel el menor error lo presentaba la spline cúbica y  para la imagen con 4 pixeles el menor error lo presentaba lagrange."
   ]
  },
  {
   "cell_type": "markdown",
   "metadata": {},
   "source": [
    "# Consideraciones"
   ]
  },
  {
   "cell_type": "markdown",
   "metadata": {},
   "source": [
    "* Solo trabajaremos con imagenes cuadradas\n",
    "* En el caso que el valor interpolado de un punto sea mayor a 255 o menor a 0, este se trunca a 255 o 0 respectivamente\n",
    "* Esta permitido el uso de sympy para calcular derivadas y para construir el polinomio interpolador \n",
    "* El calculo de error puede ser calculado utilizando la imagen en escala de grises [(ejemplo)](https://scikit-image.org/docs/dev/auto_examples/transform/plot_ssim.html)"
   ]
  },
  {
   "cell_type": "markdown",
   "metadata": {},
   "source": [
    "## PD\n",
    "\n",
    "Aquí hay dos secciones que en los cuales se compara la imagen gradient (ingresada mucho más arriba) en tiempo con los diferentes métodos y cantidad de pixeles entre 1 y 4. Además se comparo los errores con las respectivas imaganes reales."
   ]
  },
  {
   "cell_type": "markdown",
   "metadata": {},
   "source": [
    "# Tiempos"
   ]
  },
  {
   "cell_type": "code",
   "execution_count": 50,
   "metadata": {},
   "outputs": [],
   "source": [
    "\"\"\"\n",
    "def times(array):\n",
    "    lagrageTime = []\n",
    "    newtonTime = []\n",
    "    splineTime = []\n",
    "    lagrageTimeCheb = []\n",
    "    newtonTimeCheb = []\n",
    "    splineTimeCheb = []\n",
    "    print(\"INICIANDO\")\n",
    "    i = 1\n",
    "    while(i <= 4):\n",
    "        print(i, \"CHARGING...\")\n",
    "        print(\"LAGRANGE NO CHEB CHARGING...\")\n",
    "        lagrageTime.append(timeInterpolation(array, i, \"lagrange\", False))\n",
    "        print(\"LAGRANGE NO CHEB READY!\")\n",
    "        print(\"LAGRANGE CHEB CHARGING...\")\n",
    "        lagrageTimeCheb.append(timeInterpolation(array, i, \"lagrange\", True))\n",
    "        print(\"LAGRANGE CHEB READY!\")\n",
    "        print(\"NEWTON NO CHEB CHARGING...\")\n",
    "        newtonTime.append(timeInterpolation(array, i, \"newton\", False))\n",
    "        print(\"NEWTON NO CHEB READY!\")\n",
    "        print(\"NEWTON CHEB CHARGING...\")\n",
    "        newtonTimeCheb.append(timeInterpolation(array, i, \"newton\", True))\n",
    "        print(\"NEWTON CHEB READY!\")\n",
    "        print(\"SPLINE NO CHEB CHARGING...\")\n",
    "        splineTime.append(timeInterpolation(array, i, \"spline3\", False))\n",
    "        print(\"SPLINE NO CHEB READY!\")\n",
    "        print(\"SPLINE CHEB CHARGING...\")\n",
    "        splineTimeCheb.append(timeInterpolation(array, i, \"spline3\", True))\n",
    "        print(\"SPLINE CHEB READY!\")\n",
    "        print(i, \"READY!\")\n",
    "        i += 1\n",
    "        \n",
    "    return np.array([1, 2, 3, 4]), lagrageTime, newtonTime, splineTime, lagrageTimeCheb, newtonTimeCheb, splineTimeCheb\n",
    "\"\"\""
   ]
  },
  {
   "cell_type": "code",
   "execution_count": 51,
   "metadata": {
    "scrolled": true
   },
   "outputs": [
    {
     "name": "stdout",
     "output_type": "stream",
     "text": [
      "INICIANDO\n",
      "1 CHARGING...\n",
      "LAGRANGE NO CHEB CHARGING...\n",
      "LAGRANGE NO CHEB READY!\n",
      "LAGRANGE CHEB CHARGING...\n",
      "LAGRANGE CHEB READY!\n",
      "NEWTON NO CHEB CHARGING...\n",
      "NEWTON NO CHEB READY!\n",
      "NEWTON CHEB CHARGING...\n",
      "NEWTON CHEB READY!\n",
      "SPLINE NO CHEB CHARGING...\n",
      "SPLINE NO CHEB READY!\n",
      "SPLINE CHEB CHARGING...\n",
      "SPLINE CHEB READY!\n",
      "1 READY!\n",
      "2 CHARGING...\n",
      "LAGRANGE NO CHEB CHARGING...\n",
      "LAGRANGE NO CHEB READY!\n",
      "LAGRANGE CHEB CHARGING...\n",
      "LAGRANGE CHEB READY!\n",
      "NEWTON NO CHEB CHARGING...\n",
      "NEWTON NO CHEB READY!\n",
      "NEWTON CHEB CHARGING...\n",
      "NEWTON CHEB READY!\n",
      "SPLINE NO CHEB CHARGING...\n",
      "SPLINE NO CHEB READY!\n",
      "SPLINE CHEB CHARGING...\n",
      "SPLINE CHEB READY!\n",
      "2 READY!\n",
      "3 CHARGING...\n",
      "LAGRANGE NO CHEB CHARGING...\n",
      "LAGRANGE NO CHEB READY!\n",
      "LAGRANGE CHEB CHARGING...\n",
      "LAGRANGE CHEB READY!\n",
      "NEWTON NO CHEB CHARGING...\n",
      "NEWTON NO CHEB READY!\n",
      "NEWTON CHEB CHARGING...\n",
      "NEWTON CHEB READY!\n",
      "SPLINE NO CHEB CHARGING...\n",
      "SPLINE NO CHEB READY!\n",
      "SPLINE CHEB CHARGING...\n",
      "SPLINE CHEB READY!\n",
      "3 READY!\n",
      "4 CHARGING...\n",
      "LAGRANGE NO CHEB CHARGING...\n",
      "LAGRANGE NO CHEB READY!\n",
      "LAGRANGE CHEB CHARGING...\n",
      "LAGRANGE CHEB READY!\n",
      "NEWTON NO CHEB CHARGING...\n",
      "NEWTON NO CHEB READY!\n",
      "NEWTON CHEB CHARGING...\n",
      "NEWTON CHEB READY!\n",
      "SPLINE NO CHEB CHARGING...\n",
      "SPLINE NO CHEB READY!\n",
      "SPLINE CHEB CHARGING...\n",
      "SPLINE CHEB READY!\n",
      "4 READY!\n"
     ]
    }
   ],
   "source": [
    "\"\"\"\n",
    "x, L, N, S, LC, NC, SC = times(array)\n",
    "\"\"\""
   ]
  },
  {
   "cell_type": "code",
   "execution_count": 52,
   "metadata": {},
   "outputs": [
    {
     "data": {
      "image/png": "[encoded data removed]",
      "text/plain": [
       "<Figure size 864x432 with 1 Axes>"
      ]
     },
     "metadata": {},
     "output_type": "display_data"
    }
   ],
   "source": [
    "\"\"\"\n",
    "plt.figure(figsize=(12, 6))\n",
    "plt.plot(x, L, 'b-.')\n",
    "plt.plot(x, N, 'y-.')\n",
    "plt.plot(x, S, 'r-.')\n",
    "plt.grid(True)\n",
    "plt.ylabel(\"Times\")\n",
    "plt.xlabel(\"Pixels\")\n",
    "plt.show()\n",
    "\"\"\""
   ]
  },
  {
   "cell_type": "code",
   "execution_count": 53,
   "metadata": {},
   "outputs": [
    {
     "data": {
      "image/png": "[encoded data removed]",
      "text/plain": [
       "<Figure size 864x432 with 1 Axes>"
      ]
     },
     "metadata": {},
     "output_type": "display_data"
    }
   ],
   "source": [
    "\"\"\"\n",
    "plt.figure(figsize=(12, 6))\n",
    "plt.plot(x, LC, 'b-.')\n",
    "plt.plot(x, NC, 'y-.')\n",
    "plt.plot(x, SC, 'r-.')\n",
    "plt.grid(True)\n",
    "plt.ylabel(\"Times\")\n",
    "plt.xlabel(\"Pixels\")\n",
    "plt.show()\n",
    "\"\"\""
   ]
  },
  {
   "cell_type": "markdown",
   "metadata": {},
   "source": [
    "# Errores"
   ]
  },
  {
   "cell_type": "code",
   "execution_count": 54,
   "metadata": {},
   "outputs": [],
   "source": [
    "\"\"\"\n",
    "#Codigo para abrir y visualizar imágenes\n",
    "original1 = Image.open('./imagenes_prueba/gradient_1pixel.png')\n",
    "original1 = np.array(original1)\n",
    "original4 = Image.open('./imagenes_prueba/gradient_4pixel.png')\n",
    "original4 = np.array(original4)\n",
    "\"\"\""
   ]
  },
  {
   "cell_type": "code",
   "execution_count": 55,
   "metadata": {},
   "outputs": [
    {
     "name": "stdout",
     "output_type": "stream",
     "text": [
      "1 pixel extra entre pixeles\n",
      "---------------------------\n",
      "No Cheb\n",
      "Lagrange 0.009002519666592601\n",
      "Newton 0.008932318625939017\n",
      "Spline 0.009002519666592601\n",
      "---------------------------\n",
      "Cheb\n",
      "Lagrange 0.009147845093798956\n",
      "Newton 0.0090639788331206\n",
      "Spline 0.009063399107622772\n",
      "4 pixel extra entre pixeles\n",
      "---------------------------\n",
      "No Cheb\n",
      "Lagrange 0.011020640340876686\n",
      "Newton 0.01115230028384373\n",
      "Spline 0.011020640340876686\n",
      "---------------------------\n",
      "Cheb\n",
      "Lagrange 0.012450496376305131\n",
      "Newton 0.012504434866652425\n",
      "Spline 0.012451890372618735\n"
     ]
    }
   ],
   "source": [
    "\"\"\"\n",
    "print(\"1 pixel extra entre pixeles\")\n",
    "print(\"---------------------------\")\n",
    "print(\"No Cheb\")\n",
    "newArray = bicubicInterpolation(array, 1, \"lagrange\", False)\n",
    "print(\"Lagrange\", errorInterpolation(original1, newArray))\n",
    "newArray = bicubicInterpolation(array, 1, \"newton\", False)\n",
    "print(\"Newton\", errorInterpolation(original1, newArray))\n",
    "newArray = bicubicInterpolation(array, 1, \"spline3\", False)\n",
    "print(\"Spline\", errorInterpolation(original1, newArray))\n",
    "print(\"---------------------------\")\n",
    "print(\"Cheb\")\n",
    "newArray = bicubicInterpolation(array, 1, \"lagrange\", True)\n",
    "print(\"Lagrange\", errorInterpolation(original1, newArray))\n",
    "newArray = bicubicInterpolation(array, 1, \"newton\", True)\n",
    "print(\"Newton\", errorInterpolation(original1, newArray))\n",
    "newArray = bicubicInterpolation(array, 1, \"spline3\", True)\n",
    "print(\"Spline\", errorInterpolation(original1, newArray))\n",
    "print(\"4 pixel extra entre pixeles\")\n",
    "print(\"---------------------------\")\n",
    "print(\"No Cheb\")\n",
    "newArray = bicubicInterpolation(array, 4, \"lagrange\", False)\n",
    "print(\"Lagrange\", errorInterpolation(original4, newArray))\n",
    "newArray = bicubicInterpolation(array, 4, \"newton\", False)\n",
    "print(\"Newton\", errorInterpolation(original4, newArray))\n",
    "newArray = bicubicInterpolation(array, 4, \"spline3\", False)\n",
    "print(\"Spline\", errorInterpolation(original4, newArray))\n",
    "print(\"---------------------------\")\n",
    "print(\"Cheb\")\n",
    "newArray = bicubicInterpolation(array, 4, \"lagrange\", True)\n",
    "print(\"Lagrange\", errorInterpolation(original4, newArray))\n",
    "newArray = bicubicInterpolation(array, 4, \"newton\", True)\n",
    "print(\"Newton\", errorInterpolation(original4, newArray))\n",
    "newArray = bicubicInterpolation(array, 4, \"spline3\", True)\n",
    "print(\"Spline\", errorInterpolation(original4, newArray))\n",
    "\"\"\""
   ]
  },
  {
   "cell_type": "code",
   "execution_count": 4,
   "metadata": {},
   "outputs": [],
   "source": [
    "A = [[1, 0, 0, 0, 0, 0, 0, 0, 0, 0, 0, 0, 0, 0, 0, 0],\n",
    "         [1, 1, 1, 1, 0, 0, 0, 0, 0, 0, 0, 0, 0, 0, 0, 0],\n",
    "         [1, 0, 0, 0, 1, 0, 0, 0, 1, 0, 0, 0, 1, 0, 0, 0],\n",
    "         [1, 1, 1, 1, 1, 1, 1, 1, 1, 1, 1, 1, 1, 1, 1, 1],\n",
    "         [0, 1, 0, 0, 0, 0, 0, 0, 0, 0, 0, 0, 0, 0, 0, 0],\n",
    "         [0, 1, 2, 3, 0, 0, 0, 0, 0, 0, 0, 0, 0, 0, 0, 0],\n",
    "         [0, 1, 0, 0, 0, 1, 0, 0, 0, 1, 0, 0, 0, 1, 0, 0],\n",
    "         [0, 1, 2, 3, 0, 1, 2, 3, 0, 1, 2, 3, 0, 1, 2, 3],\n",
    "         [0, 0, 0, 0, 1, 0, 0, 0, 0, 0, 0, 0, 0, 0, 0, 0],\n",
    "         [0, 0, 0, 0, 1, 1, 1, 1, 0, 0, 0, 0, 0, 0, 0, 0],\n",
    "         [0, 0, 0, 0, 1, 0, 0, 0, 2, 0, 0, 0, 3, 0, 0, 0],\n",
    "         [0, 0, 0, 0, 1, 1, 1, 1, 2, 2, 2, 2, 3, 3, 3, 3],\n",
    "         [0, 0, 0, 0, 0, 1, 0, 0, 0, 0, 0, 0, 0, 0, 0, 0],\n",
    "         [0, 0, 0, 0, 0, 1, 2, 3, 0, 0, 0, 0, 0, 0, 0, 0],\n",
    "         [0, 0, 0, 0, 0, 1, 0, 0, 0, 2, 0, 0, 0, 3, 0, 0],\n",
    "         [0, 0, 0, 0, 0, 1, 2, 3, 0, 2, 4, 6, 0, 3, 6, 9]]\n",
    "A = np.linalg.inv(np.array(A))"
   ]
  },
  {
   "cell_type": "code",
   "execution_count": 5,
   "metadata": {},
   "outputs": [
    {
     "name": "stdout",
     "output_type": "stream",
     "text": [
      "[[ 1.  0.  0.  0.  0.  0.  0.  0.  0.  0.  0.  0.  0.  0.  0.  0.]\n",
      " [ 0.  0.  0.  0.  1.  0.  0.  0.  0.  0.  0.  0.  0.  0.  0.  0.]\n",
      " [-3.  3. -0. -0. -2. -1. -0. -0. -0. -0. -0. -0. -0. -0. -0. -0.]\n",
      " [ 2. -2.  0.  0.  1.  1.  0.  0.  0.  0.  0.  0.  0.  0.  0.  0.]\n",
      " [ 0.  0.  0.  0.  0.  0.  0.  0.  1.  0.  0.  0.  0.  0.  0.  0.]\n",
      " [ 0.  0.  0.  0.  0.  0.  0.  0.  0.  0.  0.  0.  1.  0.  0.  0.]\n",
      " [-0. -0. -0. -0. -0. -0. -0. -0. -3.  3. -0. -0. -2. -1. -0. -0.]\n",
      " [ 0.  0.  0.  0.  0.  0.  0.  0.  2. -2.  0.  0.  1.  1.  0.  0.]\n",
      " [-3. -0.  3. -0. -0. -0. -0. -0. -2. -0. -1. -0. -0. -0. -0. -0.]\n",
      " [-0. -0. -0. -0. -3. -0.  3. -0. -0. -0. -0. -0. -2. -0. -1. -0.]\n",
      " [ 9. -9. -9.  9.  6.  3. -6. -3.  6. -6.  3. -3.  4.  2.  2.  1.]\n",
      " [-6.  6.  6. -6. -3. -3.  3.  3. -4.  4. -2.  2. -2. -2. -1. -1.]\n",
      " [ 2.  0. -2.  0.  0.  0.  0.  0.  1.  0.  1.  0.  0.  0.  0.  0.]\n",
      " [ 0.  0.  0.  0.  2.  0. -2.  0.  0.  0.  0.  0.  1.  0.  1.  0.]\n",
      " [-6.  6.  6. -6. -4. -2.  4.  2. -3.  3. -3.  3. -2. -1. -2. -1.]\n",
      " [ 4. -4. -4.  4.  2.  2. -2. -2.  2. -2.  2. -2.  1.  1.  1.  1.]]\n"
     ]
    }
   ],
   "source": [
    "print(A)\n"
   ]
  }
 ],
 "metadata": {
  "kernelspec": {
   "display_name": "Python 3",
   "language": "python",
   "name": "python3"
  },
  "language_info": {
   "codemirror_mode": {
    "name": "ipython",
    "version": 3
   },
   "file_extension": ".py",
   "mimetype": "text/x-python",
   "name": "python",
   "nbconvert_exporter": "python",
   "pygments_lexer": "ipython3",
   "version": "3.6.8"
  }
 },
 "nbformat": 4,
 "nbformat_minor": 4
}
