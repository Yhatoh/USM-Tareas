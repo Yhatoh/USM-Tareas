{
 "cells": [
  {
   "cell_type": "markdown",
   "metadata": {
    "colab_type": "text",
    "id": "tXFdqRn2MogS"
   },
   "source": [
    "# Tarea 4: Restauración de imagenes"
   ]
  },
  {
   "cell_type": "markdown",
   "metadata": {},
   "source": [
    "## Instrucciones\n",
    "\n",
    "* La tarea es individual.\n",
    "* Las consultas sobre las tareas se deben realizar por medio de la plataforma Aula.\n",
    "* La tarea debe ser realizada en `Jupyter Notebook` (`Python3`).\n",
    "* Se evaluará la correcta utilización de librerias `NumPy`, `SciPy`, entre otras, así como la correcta utilizacion de algoritmos de forma vectorizada.\n",
    "*  **El archivo de entrega debe denominarse ROL-tarea-numero.ipynb**. _De no respetarse este formato existirá un descuento de **50 puntos**_\n",
    "* La fecha de entrega es el viernes 31 de Julio a las **18:00 hrs**.  Se aceptarán entregas hasta las 19:00 hrs sin descuento en caso de existir algun problema, posteriormente existirá un descuento lineal hasta las 20:00 hrs del mismo día.\n",
    "* Las tareas que sean entregadas antes del jueves a mediodía recibirán una bonificación de 10 puntos\n",
    "* Debe citar cualquier código ajeno utilizado (incluso si proviene de los Jupyter Notebooks del curso)."
   ]
  },
  {
   "cell_type": "code",
   "execution_count": 1,
   "metadata": {},
   "outputs": [],
   "source": [
    "#Imports\n",
    "from skimage import data, img_as_float\n",
    "from skimage.metrics import structural_similarity as ssim\n",
    "from skimage.metrics import mean_squared_error\n",
    "from skimage import io\n",
    "from skimage import color\n",
    "import numpy as np\n",
    "from PIL import Image\n",
    "import matplotlib.pyplot as plt\n",
    "from scipy.optimize import minimize"
   ]
  },
  {
   "cell_type": "markdown",
   "metadata": {
    "colab_type": "text",
    "id": "vkmmJRIgzlT7"
   },
   "source": [
    "# Introducción"
   ]
  },
  {
   "cell_type": "markdown",
   "metadata": {
    "colab_type": "text",
    "id": "H_4hmMHbzpwx"
   },
   "source": [
    "Como se vio en la tarea anterior la interpolación bicúbica sirve para aumentar la dimensión de una imagen obteniendo valores de nuevos pixeles interiores. En esta tarea se verá otra aplicación a la interpolación bicúbica para la restauración de imágenes"
   ]
  },
  {
   "cell_type": "markdown",
   "metadata": {
    "colab_type": "text",
    "id": "k3aW0XcyLtAw"
   },
   "source": [
    "# Eliminación de ruido "
   ]
  },
  {
   "cell_type": "markdown",
   "metadata": {
    "colab_type": "text",
    "id": "Gf7AEXweLzMb"
   },
   "source": [
    "\n",
    "Supongamos que se tiene una imagen $X$ cuyos pixeles presentan valores $I_{xy}$ con ruido y se quiere volver a la imagen original\n"
   ]
  },
  {
   "cell_type": "code",
   "execution_count": 2,
   "metadata": {
    "colab": {
     "base_uri": "https://localhost:8080/",
     "height": 297
    },
    "colab_type": "code",
    "id": "U5WuO1Uo7coP",
    "outputId": "59bbe47f-4b5e-40b9-f53a-58b1feb38fa7"
   },
   "outputs": [
    {
     "data": {
      "image/png": "[encoded data removed]",
      "text/plain": [
       "<Figure size 720x288 with 2 Axes>"
      ]
     },
     "metadata": {},
     "output_type": "display_data"
    }
   ],
   "source": [
    "img = color.rgb2gray(io.imread('test.png'))\n",
    "\n",
    "img = img_as_float(img)\n",
    "\n",
    "rows, cols = img.shape\n",
    "\n",
    "\n",
    "noise = np.ones_like(img) * 0.2 * (img.max() - img.min())\n",
    "noise[np.random.random(size=noise.shape) > 0.5] *= -1\n",
    "\n",
    "img_noise = img + noise\n",
    "\n",
    "fig, axes = plt.subplots(nrows=1, ncols=2, figsize=(10, 4),\n",
    "                         sharex=True, sharey=True)\n",
    "ax = axes.ravel()\n",
    "\n",
    "\n",
    "ax[0].imshow(img, cmap=plt.cm.gray, vmin=0, vmax=1)\n",
    "\n",
    "ax[0].set_title('Original image')\n",
    "\n",
    "ax[1].imshow(img_noise, cmap=plt.cm.gray, vmin=0, vmax=1)\n",
    "ax[1].set_title('Image with noise')\n",
    "\n",
    "plt.tight_layout()\n",
    "plt.show()"
   ]
  },
  {
   "cell_type": "markdown",
   "metadata": {
    "colab_type": "text",
    "id": "xVk-5BppOteH"
   },
   "source": [
    "El método a implementar, será utilizando la interpolación bicúbica que viene representada por la siguiente spline\n",
    "\n",
    "$$\n",
    "p(x,y) = \\sum\\limits_{i=0}^3 \\sum_{j=0}^3 a_{ij} x^i y^j.\n",
    "$$\n",
    "Como se puede observar el problema de interpolación se resume en determinar los 16 coeficientes $a_{ij}$. Ya que la imagen presenta ruido no se puede despejar los coeficientes asumiendo que los valores de las derivadas $f_x$, $f_y$ y $f_{xy}$ son correctas. \n",
    "\n",
    "Para determinar los coeficientes se seleccionara secciones solapadas de la imagen de $5\\times5 $ pixeles y se determinará una función $p_i$ por cada sección, ejemplificando con una imagen de $9\\times 9$  las secciones quedarían de la siguiente manera:\n"
   ]
  },
  {
   "cell_type": "markdown",
   "metadata": {
    "colab_type": "text",
    "id": "4q3tGPEKzJWn"
   },
   "source": [
    "<img src=\"matriz_seccion.png\" width=\"50%\"/>"
   ]
  },
  {
   "cell_type": "markdown",
   "metadata": {
    "colab_type": "text",
    "id": "YsBNHSYhYLVa"
   },
   "source": [
    "Se busca la minimización del error cuadrático entre la spline generada $p_i$ y el punto de la imagen, en el caso del ejemplo anterior la función objetivo a minimizar es:\n",
    "\n",
    "$$(p_1(0,0)-I_{00})^2 + (p_1(0,1)-I_{01})^2 +\\dots+(p_1(4,4)-I_{44})^2 + (p_2(4,4)-I_{44})^2+ \\dots+(p_4(8,8)-I_{88})^2 $$\n"
   ]
  },
  {
   "cell_type": "markdown",
   "metadata": {
    "colab_type": "text",
    "id": "H8Btw8YKz3kO"
   },
   "source": [
    "Ya que la imagen debe presentar continuidad entre las secciones los pixeles que abarcan más de una deben presentar el mismo valor por lo tanto existen restricciones que se deben cumplir:"
   ]
  },
  {
   "cell_type": "markdown",
   "metadata": {},
   "source": [
    "$$p_1(0,4) = p_2(0,4)$$\n",
    "$$p_1(4,4) = p_2(4,4)$$\n",
    "$$p_1(4,0) = p_3(4,0)$$\n",
    "$$p_1(4,4) = p_3(4,4)$$\n",
    "$$\\vdots$$\n",
    "\n",
    "Es decir los valores de los pixeles de solamente las **esquinas** deben ser iguales en todas las secciones que coinciden "
   ]
  },
  {
   "cell_type": "markdown",
   "metadata": {},
   "source": [
    "Finalmente al obtener los valores de los coeficientes la nueva imagen será el resultado de la evaluación de todos los pixeles en su spline respectiva"
   ]
  },
  {
   "cell_type": "markdown",
   "metadata": {},
   "source": [
    "# Preguntas"
   ]
  },
  {
   "cell_type": "markdown",
   "metadata": {},
   "source": [
    "## 1.Restauración de imagenes"
   ]
  },
  {
   "cell_type": "markdown",
   "metadata": {},
   "source": [
    "### 1.1 Generar $p_i(x,y)$ (10 pts)\n",
    "\n",
    "Debe implementar la función `spline_evaluate` que reciba un arreglo con los valores de los coeficientes y el valor de la coordenada $x$ e $y$ del pixel y debe retornar el valor del pixel evaluado en la spline\n"
   ]
  },
  {
   "cell_type": "code",
   "execution_count": 3,
   "metadata": {
    "colab": {},
    "colab_type": "code",
    "id": "hQ-q7BDT0-LP"
   },
   "outputs": [],
   "source": [
    "def spline_evaluate(a,pos):\n",
    "    '''\n",
    "    a: (array 16) arreglo de coeficientes\n",
    "    pos: (tuple) tupla con forma (x,y) que representa la posicion del pixel\n",
    "    \n",
    "    return\n",
    "    value: (float) evaluacion del pixel\n",
    "      \n",
    "    '''\n",
    "    value = 0\n",
    "    for j in range(0, 4):\n",
    "        for i in range(0, 4):\n",
    "            value += a[4 * j + i] * pos[1]**j * pos[0]**i\n",
    "    return value"
   ]
  },
  {
   "cell_type": "markdown",
   "metadata": {},
   "source": [
    "### 1.2 Generar funcion a minimizar (25 pts)\n",
    "\n",
    "Debe implementar la función `objective_function` que reciba un arreglo con los valores de todos los coeficientes necesarios y la imagen con ruido, y debe retornar el error cuadrático entre el polinomio y el valor del pixel de la imagen.\n"
   ]
  },
  {
   "cell_type": "code",
   "execution_count": 4,
   "metadata": {},
   "outputs": [],
   "source": [
    "def objective_function(a,image):\n",
    "    '''\n",
    "    a: (array) array con todos los coeficientes \n",
    "    image: (array nxn) imagen que presenta ruido en sus datos\n",
    "    \n",
    "    return\n",
    "    error: suma total del error cuadratico entre la spline evaluada y el valor del pixel respectivo    \n",
    "    '''\n",
    "    cantSpline = int(a.shape[0] / 16)\n",
    "    n = image.shape[0]\n",
    "    down = 0\n",
    "    right = 0\n",
    "    error = 0\n",
    "    puntosEval = np.linspace(0, 1, 5)\n",
    "    for i in range(cantSpline):\n",
    "        for x in range(down, down + 5):\n",
    "            for y in range(right, right + 5):\n",
    "                evaluate = spline_evaluate(a[i * 16:i * 16 + 16], (puntosEval[x - down], puntosEval[y - right]))\n",
    "                error += (evaluate - image[x][y]) ** 2\n",
    "        \n",
    "        if right == n - 5:\n",
    "            right = 0\n",
    "            down += 4\n",
    "        else:\n",
    "            right += 4\n",
    "    return error"
   ]
  },
  {
   "cell_type": "markdown",
   "metadata": {},
   "source": [
    "### 1.3 Generar Restricciones (25 pts)\n",
    "\n",
    "Se debe implementar la función `create_constraints` que reciba la imagen y retorne una lista de diccionarios con las restricciones del problema. El diccionario debe tener la siguiente estructura:\n",
    "\n",
    "`{\"type: \"eq\", \"fun\": funcion_con_restriccion}`\n",
    "\n"
   ]
  },
  {
   "cell_type": "code",
   "execution_count": 5,
   "metadata": {},
   "outputs": [],
   "source": [
    "def create_constraints(image):\n",
    "    '''\n",
    "    image: (array nxn) imagen que presenta ruido en sus datos\n",
    "    \n",
    "    return\n",
    "    constraints: (list) lista de restricciones  \n",
    "    '''\n",
    "    n = image.shape[0]\n",
    "    \n",
    "    #Cant spline per arrow\n",
    "    CSPR = int((n - 5) / 4 + 1)\n",
    "    #Cant spline\n",
    "    CS = int(CSPR * CSPR)\n",
    "    constraints = []\n",
    "    spline1 = 0\n",
    "    spline2 = CS - CSPR\n",
    "    \n",
    "    for j in range(4, n - 1, 4):\n",
    "        sp = 16 * spline1\n",
    "        sp2 = 16 * (spline1 + 1)\n",
    "        constraints.append({\"type\":\"eq\", \n",
    "                            \"fun\": lambda x, sp = sp, sp2 = sp2: \n",
    "                            spline_evaluate(x[sp: sp + 16], (0, 1)) \n",
    "                            - spline_evaluate(x[sp2:sp2 + 16], (0, 0))})\n",
    "        sp = 16 * spline2\n",
    "        sp2 = 16 * (spline2 + 1)\n",
    "        constraints.append({\"type\":\"eq\", \n",
    "                            \"fun\": lambda x, sp = sp, sp2 = sp2: \n",
    "                            spline_evaluate(x[sp:sp + 16], (1, 1)) \n",
    "                            - spline_evaluate(x[sp2:sp2 + 16], (1, 0))})\n",
    "        spline1 += 1\n",
    "        spline2 += 1\n",
    "\n",
    "    spline1 = 0\n",
    "    spline2 = CSPR - 1\n",
    "    for j in range(4, n - 1, 4):\n",
    "        sp = 16 * spline1\n",
    "        sp2 = 16 * (spline1 + CSPR)\n",
    "        constraints.append({\"type\":\"eq\", \n",
    "                            \"fun\": lambda x, sp = sp, sp2 = sp2: \n",
    "                            spline_evaluate(x[sp:sp + 16], (1, 0)) \n",
    "                            - spline_evaluate(x[sp2:sp2 + 16], (0, 0))})\n",
    "        sp = 16 * spline2\n",
    "        sp2 = 16 * (spline2 + CSPR)\n",
    "        constraints.append({\"type\":\"eq\", \n",
    "                            \"fun\": lambda x, sp = sp, sp2 = sp2: \n",
    "                            spline_evaluate(x[sp:sp + 16], (1, 1)) \n",
    "                            - spline_evaluate(x[sp2:sp2 + 16], (0, 1))})\n",
    "        spline1 += CSPR\n",
    "        spline2 += CSPR\n",
    "    \n",
    "    spline = 0\n",
    "    splineCol = 0\n",
    "    for i in range(4, n - 1, 4):\n",
    "        for j in range(4, n - 1, 4):\n",
    "            sp = 16 * spline\n",
    "            sp2 = 16 * (spline + 1)\n",
    "            sp3 = 16 * (spline + CSPR)\n",
    "            sp4 = 16 * (spline + CSPR + 1)\n",
    "            #S_i S_i+1\n",
    "            constraints.append({\"type\":\"eq\",\n",
    "                                \"fun\": lambda x, sp = sp, sp2 = sp2:\n",
    "                                spline_evaluate(x[sp:sp + 16], (1, 1)) \n",
    "                             - spline_evaluate(x[sp2:sp2 + 16], (1, 0))})\n",
    "            #S_i+CSPR S_CSPR+1\n",
    "            constraints.append({\"type\":\"eq\",\n",
    "                                \"fun\": lambda x, sp3 = sp3, sp4 = sp4:\n",
    "                                spline_evaluate(x[sp3:sp3 + 16], (0, 1)) \n",
    "                             - spline_evaluate(x[sp4:sp4 + 16], (0, 0))})\n",
    "            #S_i S_i+CSPR\n",
    "            constraints.append({\"type\":\"eq\",\n",
    "                                \"fun\": lambda x, sp = sp, sp3 = sp3:\n",
    "                                spline_evaluate(x[sp:sp + 16], (1, 1)) \n",
    "                             - spline_evaluate(x[sp3:sp3 + 16], (0, 1))})\n",
    "            #S_i+1 S_i+CSPR+ 1\n",
    "            constraints.append({\"type\":\"eq\",\n",
    "                                \"fun\": lambda x, sp2 = sp2, sp4 = sp4:\n",
    "                                spline_evaluate(x[sp2:sp2 + 16], (1, 0)) \n",
    "                             - spline_evaluate(x[sp4:sp4 + 16], (0, 0))})\n",
    "            \n",
    "            #S_i S_i+CSPR+ 1\n",
    "            constraints.append({\"type\":\"eq\",\n",
    "                                \"fun\": lambda x, sp = sp, sp4 = sp4:\n",
    "                                spline_evaluate(x[sp:sp + 16], (1, 1)) \n",
    "                             - spline_evaluate(x[sp4:sp4 + 16], (0, 0))})\n",
    "            \n",
    "            #S_i+1 S_i+CSPR\n",
    "            constraints.append({\"type\":\"eq\",\n",
    "                                \"fun\": lambda x, sp2 = sp2, sp3 = sp3:\n",
    "                                spline_evaluate(x[sp2:sp2 + 16], (1, 0)) \n",
    "                             - spline_evaluate(x[sp3:sp3 + 16], (0, 1))})\n",
    "            spline += 1\n",
    "            \n",
    "        splineCol += CSPR\n",
    "        spline = splineCol\n",
    "        \n",
    "    return constraints"
   ]
  },
  {
   "cell_type": "markdown",
   "metadata": {},
   "source": [
    "### 1.4 Generar nueva imagen (30 pts)\n",
    "Se debe implementar la función `clean_image` que reciba un arreglo con una imagen en escala de grises y si es que se consideran las restricciones de continuidad. Debe retornar una nueva imagen con el ruido minimizado. \n",
    "Para realizar la minimización, debe utilizarse la función [minimize de la libreria de scipy](https://docs.scipy.org/doc/scipy/reference/generated/scipy.optimize.minimize.html)\n"
   ]
  },
  {
   "cell_type": "code",
   "execution_count": 6,
   "metadata": {},
   "outputs": [],
   "source": [
    "def clean_image(image,constraints):\n",
    "    '''\n",
    "    image: (array nxn) imagen con ruido\n",
    "    constraints: (bool) true si es que se consideran las restricciones\n",
    "    \n",
    "    return\n",
    "    new_iamge: (array nxn) imagen restaurada\n",
    "    '''\n",
    "    n = image.shape[0]\n",
    "    new_image = np.zeros((n, n))\n",
    "    CSPR = int((n - 5) / 4 + 1)\n",
    "    #Cant spline\n",
    "    CS = int(CSPR * CSPR)\n",
    "    \n",
    "    if constraints:\n",
    "        res = create_constraints(image)\n",
    "        newA = minimize(objective_function, \n",
    "                              np.zeros(16 * CS),\n",
    "                             (image), constraints=res)\n",
    "    else: \n",
    "        newA = minimize(objective_function, \n",
    "                          np.zeros(16 * CS),\n",
    "                         (image))\n",
    "    newA = newA.x\n",
    "    down = 0\n",
    "    right = 0\n",
    "    puntosEval = np.linspace(0, 1, 5)\n",
    "    for i in range(CS):\n",
    "        for x in range(down, down + 5):\n",
    "            for y in range(right, right + 5):\n",
    "                evaluate = spline_evaluate(newA[i * 16:i * 16 + 16], (puntosEval[x - down], puntosEval[y - right]))\n",
    "                new_image[x][y] = evaluate\n",
    "        if right == n - 5:\n",
    "            right = 0\n",
    "            down += 4\n",
    "        else:\n",
    "            right += 4\n",
    "        \n",
    "    return new_image"
   ]
  },
  {
   "cell_type": "markdown",
   "metadata": {},
   "source": [
    "## 2. Evaluar error (5 pts)\n",
    "\n",
    "Implemente la función `error_restore` la cual debe obtener el error de la imagen obtenida comparándola con una de referencia. El error debe ser calculado utilizando el índice SSIM (Structural similarity)"
   ]
  },
  {
   "cell_type": "code",
   "execution_count": 7,
   "metadata": {},
   "outputs": [],
   "source": [
    "def error_restore(original,new):\n",
    "    \"\"\"\n",
    "    Parameters\n",
    "    ----------\n",
    "    image:\t(nxn array) imagen original limpia\n",
    "    new:\t(nxn array) imagen restaurada\n",
    "\n",
    "\n",
    "    Returns\n",
    "    -------\n",
    "    error:\t(float) diferencia entre imagenes (1-ssim) \n",
    "\n",
    "    \"\"\"\n",
    "    error =  1 - ssim(original, new, multichannel=True, data_range=new.shape[0])\n",
    "    return error"
   ]
  },
  {
   "cell_type": "markdown",
   "metadata": {},
   "source": [
    "**Pregunta: ¿Como afecta el uso de restricciones en el error?** (5 pts)\n",
    "\n",
    "El uso de restricciones en el error afecta que el error aumenta, puesto que al tener restricciones existe una continuidad en la imagen haciendo que la image se vea como mejor, pero a la vez sea más alejada a la realidad."
   ]
  },
  {
   "cell_type": "markdown",
   "metadata": {},
   "source": [
    "# Consideraciones\n",
    "\n",
    "* Se trabajará con imágenes cuadradas en escala de grises\n",
    "* Las imágenes tendrán una dimensión adecuada para que no sobren o falten pixeles para la agrupación de $5\\times5$\n",
    "* Para los casos de los pixeles que no tienen restricción pero pueden ser evaluados por distintas splines considere el valor de la spline de la izquierda o superior\n"
   ]
  }
 ],
 "metadata": {
  "colab": {
   "name": "Untitled",
   "provenance": [],
   "toc_visible": true
  },
  "kernelspec": {
   "display_name": "Python 3",
   "language": "python",
   "name": "python3"
  },
  "language_info": {
   "codemirror_mode": {
    "name": "ipython",
    "version": 3
   },
   "file_extension": ".py",
   "mimetype": "text/x-python",
   "name": "python",
   "nbconvert_exporter": "python",
   "pygments_lexer": "ipython3",
   "version": "3.6.8"
  }
 },
 "nbformat": 4,
 "nbformat_minor": 4
}
