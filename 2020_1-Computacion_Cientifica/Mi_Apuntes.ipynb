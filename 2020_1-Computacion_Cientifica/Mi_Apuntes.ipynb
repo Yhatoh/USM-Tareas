{
 "cells": [
  {
   "cell_type": "markdown",
   "metadata": {},
   "source": [
    "# Imports"
   ]
  },
  {
   "cell_type": "code",
   "execution_count": 5,
   "metadata": {},
   "outputs": [],
   "source": [
    "import numpy as np"
   ]
  },
  {
   "cell_type": "markdown",
   "metadata": {},
   "source": [
    "# Useful function for testing"
   ]
  },
  {
   "cell_type": "code",
   "execution_count": 6,
   "metadata": {},
   "outputs": [],
   "source": [
    "\"\"\"\n",
    "Positive Definite Matrix (PDM)\n",
    "\n",
    "Objective: Create a random positive definite matrix to test\n",
    "\n",
    "Input:\n",
    "    Var | Type | Definition\n",
    "    n   | int  | size of the matrix\n",
    "    \n",
    "Output:\n",
    "    Var | Type       | Definition\n",
    "    A   | nxn array  | random matrix nxn\n",
    "\"\"\"\n",
    "def PDM(n):\n",
    "    A = np.random.rand(n, n)\n",
    "    A = np.dot(A, A.T) + np.eye(n)\n",
    "    return A"
   ]
  },
  {
   "cell_type": "code",
   "execution_count": 7,
   "metadata": {},
   "outputs": [],
   "source": [
    "\"\"\"\n",
    "Create Random System (CRS)\n",
    "\n",
    "Input:\n",
    "    Var       | Type | Definition\n",
    "    n         | int  | size of the matriz\n",
    "    randomize | bool | True if you want different values each time\n",
    "\n",
    "Output:\n",
    "    Var | Type      | Definition\n",
    "    A   | nxn array | Matrix of the system Ax = b\n",
    "    b   | nx1 array | Vector of the system Ax = b\n",
    "    x0  | nx1 array | initial guess\n",
    "\"\"\"\n",
    "def CRS(n, randomize=False):\n",
    "    if not randomize:\n",
    "        np.random.seed(42)\n",
    "    A = DPM(n)\n",
    "    b = np.random.rand(n)\n",
    "    x_0 = np.random.rand(n)\n",
    "    return A, b, x_0"
   ]
  },
  {
   "cell_type": "markdown",
   "metadata": {},
   "source": [
    "# Ceros de ecuaciones en 1D"
   ]
  },
  {
   "cell_type": "markdown",
   "metadata": {},
   "source": [
    "## Bisección"
   ]
  },
  {
   "cell_type": "code",
   "execution_count": null,
   "metadata": {},
   "outputs": [],
   "source": [
    "def bisection(f, a, b, tol):\n",
    "    if f(a) * f(b) > 0:\n",
    "        return \"I\"\n",
    "    \n",
    "    while (b - a) / 2 > tol:\n",
    "        c = (a + b) / 2\n",
    "        if f(c) = 0:\n",
    "            return c\n",
    "        if f(a) * f(c) < 0:\n",
    "            b = c\n",
    "        else:\n",
    "            a = c\n",
    "    return (a + b) / 2   "
   ]
  },
  {
   "cell_type": "markdown",
   "metadata": {},
   "source": [
    "## Punto Fijo"
   ]
  },
  {
   "cell_type": "code",
   "execution_count": null,
   "metadata": {},
   "outputs": [],
   "source": []
  },
  {
   "cell_type": "markdown",
   "metadata": {},
   "source": [
    "## Newton - Raphson"
   ]
  },
  {
   "cell_type": "code",
   "execution_count": null,
   "metadata": {},
   "outputs": [],
   "source": [
    "def newton(f, df, x_0, n):\n",
    "    x_i = x_0\n",
    "    for i in range(n):\n",
    "        x_i = x_i - f(x_i) / df(x_i)\n",
    "    return x_i"
   ]
  },
  {
   "cell_type": "markdown",
   "metadata": {},
   "source": [
    "## Secante"
   ]
  },
  {
   "cell_type": "code",
   "execution_count": null,
   "metadata": {},
   "outputs": [],
   "source": [
    "def secante(f, x_0, x_1, n):\n",
    "    x_i_1 = x_0\n",
    "    x_i = x_1\n",
    "    for i in range(n):\n",
    "        x_i = x_i - (f(x_i) * (x_i - x_i_1))/ (f(x_i) - f(x_i_1))\n",
    "    return x_i"
   ]
  },
  {
   "cell_type": "markdown",
   "metadata": {},
   "source": [
    "# Resolución Sistemas de Ecuaciones Lineales"
   ]
  },
  {
   "cell_type": "markdown",
   "metadata": {},
   "source": [
    "## Gradiente descendiente y Gradiente conjugado\n",
    "\n",
    "This algorithms works for matrix:\n",
    "\n",
    "* Symmetric\n",
    "* Positive-definite"
   ]
  },
  {
   "cell_type": "code",
   "execution_count": 8,
   "metadata": {},
   "outputs": [],
   "source": [
    "\"\"\"\n",
    "gradientDescent\n",
    "\n",
    "Input:\n",
    "    Var     | Type      | Definition\n",
    "    A       | nxn array | Matrix of the system Ax = b\n",
    "    b       | nx1 array | Vector of the system Ax = b\n",
    "    x0      | nx1 array | initial guess\n",
    "    n       | int       | iterations\n",
    "    allInfo | bool      | if you want all alpha, r and x \n",
    "                        | for each iteration. Default = False\n",
    "                  \n",
    "Output:\n",
    "    if allInfo is True:\n",
    "        Var    | Type      | Definition\n",
    "        alphas | 1xn array | alpha in each iteration\n",
    "        r_ks   | 1xn array | r_k in each iteration\n",
    "        xs     | 1xn array | x_k in each iteration\n",
    "    else:\n",
    "        Var | Type   | Definition\n",
    "        x_n | double | Answer of Ax = b\n",
    "\"\"\"\n",
    "def gradientDescent(A, b, x0, n, allInfo = False):\n",
    "    x_k = x0\n",
    "    if allInfo:\n",
    "        alphas = []\n",
    "        r_ks = []\n",
    "        xs = [x0]\n",
    "    for k in range(0, n):\n",
    "        r_k = b - np.dot(A, x_k)\n",
    "        alpha_k = np.dot(r_k, r_k) / np.dot(r_k, np.dot(A, r_k))\n",
    "        x_k = x_k + np.dot(alpha_k, r_k)\n",
    "        if allInfo:\n",
    "            alphas.append(alpha_k)\n",
    "            r_ks.append(r_k)\n",
    "            xs.append(x_k)\n",
    "    if allInfo:\n",
    "        return np.array(alphas), np.array(r_ks), np.array(xs)\n",
    "    else:\n",
    "        return x_k"
   ]
  },
  {
   "cell_type": "code",
   "execution_count": 9,
   "metadata": {},
   "outputs": [],
   "source": [
    "def conjugatedGradient(A, b, x0, n, allInfo = False):\n",
    "    r_k = b - np.dot(A, x0)\n",
    "    d_k = r_k\n",
    "    x_k = x0\n",
    "    if allInfo:\n",
    "        alphas = []\n",
    "        betas = []\n",
    "        ds = [d_k]\n",
    "        rs = [r_k]\n",
    "        xs = [x0]\n",
    "        \n",
    "    for k in range(0, n - 1):\n",
    "        alpha_k = np.dot(d_k, r_k) / np.dot(d_k, np.dot(A, d_k))\n",
    "        x_k = x_k + np.dot(alpha_k, d_k)\n",
    "        r_k = b - np.dot(A, x_k)\n",
    "        beta_k = np.dot(d_k, np.dot(A, r_k)) / np.dot(d_k, np.dot(A, d_k))\n",
    "        d_k = r_k - np.dot(beta_k, d_k)\n",
    "        if allInfo:\n",
    "            alphas.append(alpha_k)\n",
    "            betas.append(beta_k)\n",
    "            ds.append(d_k)\n",
    "            rs.append(r_k)\n",
    "            xs.append(x_k)\n",
    "    if allInfo:\n",
    "        return np.array(alphas), np.array(betas), np.array(ds) , np.array(rs), np.array(xs),\n",
    "    else:\n",
    "        return x_k"
   ]
  },
  {
   "cell_type": "markdown",
   "metadata": {},
   "source": [
    "# Interpolación"
   ]
  },
  {
   "cell_type": "markdown",
   "metadata": {},
   "source": [
    "## Vandermonde"
   ]
  },
  {
   "cell_type": "code",
   "execution_count": 10,
   "metadata": {},
   "outputs": [],
   "source": [
    "def matrix_vandermonde(x):\n",
    "    n = x.shape[0]\n",
    "    V = np.zeros((n, n))\n",
    "    for i in range(n):\n",
    "        x_i = x[i]\n",
    "        acum = 1\n",
    "        for j in range(n):\n",
    "            V[i][j] = acum\n",
    "            acum *= x_i\n",
    "    return V"
   ]
  },
  {
   "cell_type": "code",
   "execution_count": 11,
   "metadata": {},
   "outputs": [],
   "source": [
    "def solve_vandermonde(x, y):\n",
    "    V = matrix_vandermonde(x)\n",
    "    return np.linalg.solve(V, y)"
   ]
  },
  {
   "cell_type": "markdown",
   "metadata": {},
   "source": [
    "## Lagrange"
   ]
  },
  {
   "cell_type": "code",
   "execution_count": 12,
   "metadata": {},
   "outputs": [],
   "source": [
    "def lagrange(x_i, y_i):\n",
    "    n = x_i.shape[0]\n",
    "    L = lambda x: np.sum(np.array([y_i[i] * np.prod(x - np.delete(x_i, i)) \n",
    "                         / np.prod(x_i[i] - np.delete(x_i, i)) for i in range(n)]))\n",
    "    return np.vectorize(L)"
   ]
  },
  {
   "cell_type": "markdown",
   "metadata": {},
   "source": [
    "## Barycentric"
   ]
  },
  {
   "cell_type": "code",
   "execution_count": null,
   "metadata": {},
   "outputs": [],
   "source": [
    "def barycentric(x_i, y_i):\n",
    "    n = x_i.shape[0]\n",
    "    w = 1 / np.array([np.prod(x_i[i] - np.delete(x_i, i)) for i in range(n)]) \n",
    "    b1 = lambda x: y_i[np.where(np.in1d(x_i, x))] \n",
    "    numerator = lambda x: np.sum(np.array([y_i[i] * w[i] / (x - x_i[i]) for i in range(n)]))\n",
    "    denominator = lambda x: np.sum(np.array([w[i] / (x - x_i[i]) for i in range(n)]))\n",
    "    B = lambda x: b1(x) if x in x_i else numerator(x) / denominator(x)\n",
    "    return np.vectorize(B)"
   ]
  },
  {
   "cell_type": "markdown",
   "metadata": {},
   "source": [
    "# Test Area"
   ]
  }
 ],
 "metadata": {
  "kernelspec": {
   "display_name": "Python 3",
   "language": "python",
   "name": "python3"
  },
  "language_info": {
   "codemirror_mode": {
    "name": "ipython",
    "version": 3
   },
   "file_extension": ".py",
   "mimetype": "text/x-python",
   "name": "python",
   "nbconvert_exporter": "python",
   "pygments_lexer": "ipython3",
   "version": "3.6.8"
  }
 },
 "nbformat": 4,
 "nbformat_minor": 2
}
